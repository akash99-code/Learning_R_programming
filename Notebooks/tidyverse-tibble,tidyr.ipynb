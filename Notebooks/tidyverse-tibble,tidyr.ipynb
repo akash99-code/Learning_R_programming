{
 "cells": [
  {
   "cell_type": "code",
   "execution_count": 1,
   "id": "12a4af20",
   "metadata": {},
   "outputs": [
    {
     "name": "stderr",
     "output_type": "stream",
     "text": [
      "-- \u001b[1mAttaching packages\u001b[22m ------------------------------------------------------------------------------- tidyverse 1.3.1 --\n",
      "\n",
      "\u001b[32mv\u001b[39m \u001b[34mggplot2\u001b[39m 3.3.5     \u001b[32mv\u001b[39m \u001b[34mpurrr  \u001b[39m 0.3.4\n",
      "\u001b[32mv\u001b[39m \u001b[34mtibble \u001b[39m 3.1.6     \u001b[32mv\u001b[39m \u001b[34mdplyr  \u001b[39m 1.0.7\n",
      "\u001b[32mv\u001b[39m \u001b[34mtidyr  \u001b[39m 1.2.0     \u001b[32mv\u001b[39m \u001b[34mstringr\u001b[39m 1.4.0\n",
      "\u001b[32mv\u001b[39m \u001b[34mreadr  \u001b[39m 2.1.2     \u001b[32mv\u001b[39m \u001b[34mforcats\u001b[39m 0.5.1\n",
      "\n",
      "-- \u001b[1mConflicts\u001b[22m ---------------------------------------------------------------------------------- tidyverse_conflicts() --\n",
      "\u001b[31mx\u001b[39m \u001b[34mdplyr\u001b[39m::\u001b[32mfilter()\u001b[39m masks \u001b[34mstats\u001b[39m::filter()\n",
      "\u001b[31mx\u001b[39m \u001b[34mdplyr\u001b[39m::\u001b[32mlag()\u001b[39m    masks \u001b[34mstats\u001b[39m::lag()\n",
      "\n"
     ]
    }
   ],
   "source": [
    "library(tidyverse)"
   ]
  },
  {
   "cell_type": "code",
   "execution_count": 3,
   "id": "8098e3c5",
   "metadata": {
    "scrolled": true
   },
   "outputs": [
    {
     "data": {
      "text/html": [
       "<table class=\"dataframe\">\n",
       "<caption>A tibble: 5 × 3</caption>\n",
       "<thead>\n",
       "\t<tr><th scope=col>x</th><th scope=col>y</th><th scope=col>z</th></tr>\n",
       "\t<tr><th scope=col>&lt;int&gt;</th><th scope=col>&lt;dbl&gt;</th><th scope=col>&lt;dbl&gt;</th></tr>\n",
       "</thead>\n",
       "<tbody>\n",
       "\t<tr><td>1</td><td>1</td><td> 2</td></tr>\n",
       "\t<tr><td>2</td><td>1</td><td> 5</td></tr>\n",
       "\t<tr><td>3</td><td>1</td><td>10</td></tr>\n",
       "\t<tr><td>4</td><td>1</td><td>17</td></tr>\n",
       "\t<tr><td>5</td><td>1</td><td>26</td></tr>\n",
       "</tbody>\n",
       "</table>\n"
      ],
      "text/latex": [
       "A tibble: 5 × 3\n",
       "\\begin{tabular}{lll}\n",
       " x & y & z\\\\\n",
       " <int> & <dbl> & <dbl>\\\\\n",
       "\\hline\n",
       "\t 1 & 1 &  2\\\\\n",
       "\t 2 & 1 &  5\\\\\n",
       "\t 3 & 1 & 10\\\\\n",
       "\t 4 & 1 & 17\\\\\n",
       "\t 5 & 1 & 26\\\\\n",
       "\\end{tabular}\n"
      ],
      "text/markdown": [
       "\n",
       "A tibble: 5 × 3\n",
       "\n",
       "| x &lt;int&gt; | y &lt;dbl&gt; | z &lt;dbl&gt; |\n",
       "|---|---|---|\n",
       "| 1 | 1 |  2 |\n",
       "| 2 | 1 |  5 |\n",
       "| 3 | 1 | 10 |\n",
       "| 4 | 1 | 17 |\n",
       "| 5 | 1 | 26 |\n",
       "\n"
      ],
      "text/plain": [
       "  x y z \n",
       "1 1 1  2\n",
       "2 2 1  5\n",
       "3 3 1 10\n",
       "4 4 1 17\n",
       "5 5 1 26"
      ]
     },
     "metadata": {},
     "output_type": "display_data"
    }
   ],
   "source": [
    "## from vectors \n",
    "tibble(\n",
    "      x = 1:5,\n",
    "      y = 1,\n",
    "      z = x ^ 2 + y\n",
    "    )"
   ]
  },
  {
   "cell_type": "code",
   "execution_count": 4,
   "id": "62cfc6e3",
   "metadata": {
    "scrolled": true
   },
   "outputs": [
    {
     "data": {
      "text/html": [
       "<table class=\"dataframe\">\n",
       "<caption>A tibble: 150 × 5</caption>\n",
       "<thead>\n",
       "\t<tr><th scope=col>Sepal.Length</th><th scope=col>Sepal.Width</th><th scope=col>Petal.Length</th><th scope=col>Petal.Width</th><th scope=col>Species</th></tr>\n",
       "\t<tr><th scope=col>&lt;dbl&gt;</th><th scope=col>&lt;dbl&gt;</th><th scope=col>&lt;dbl&gt;</th><th scope=col>&lt;dbl&gt;</th><th scope=col>&lt;fct&gt;</th></tr>\n",
       "</thead>\n",
       "<tbody>\n",
       "\t<tr><td>5.1</td><td>3.5</td><td>1.4</td><td>0.2</td><td>setosa</td></tr>\n",
       "\t<tr><td>4.9</td><td>3.0</td><td>1.4</td><td>0.2</td><td>setosa</td></tr>\n",
       "\t<tr><td>4.7</td><td>3.2</td><td>1.3</td><td>0.2</td><td>setosa</td></tr>\n",
       "\t<tr><td>4.6</td><td>3.1</td><td>1.5</td><td>0.2</td><td>setosa</td></tr>\n",
       "\t<tr><td>5.0</td><td>3.6</td><td>1.4</td><td>0.2</td><td>setosa</td></tr>\n",
       "\t<tr><td>5.4</td><td>3.9</td><td>1.7</td><td>0.4</td><td>setosa</td></tr>\n",
       "\t<tr><td>4.6</td><td>3.4</td><td>1.4</td><td>0.3</td><td>setosa</td></tr>\n",
       "\t<tr><td>5.0</td><td>3.4</td><td>1.5</td><td>0.2</td><td>setosa</td></tr>\n",
       "\t<tr><td>4.4</td><td>2.9</td><td>1.4</td><td>0.2</td><td>setosa</td></tr>\n",
       "\t<tr><td>4.9</td><td>3.1</td><td>1.5</td><td>0.1</td><td>setosa</td></tr>\n",
       "\t<tr><td>5.4</td><td>3.7</td><td>1.5</td><td>0.2</td><td>setosa</td></tr>\n",
       "\t<tr><td>4.8</td><td>3.4</td><td>1.6</td><td>0.2</td><td>setosa</td></tr>\n",
       "\t<tr><td>4.8</td><td>3.0</td><td>1.4</td><td>0.1</td><td>setosa</td></tr>\n",
       "\t<tr><td>4.3</td><td>3.0</td><td>1.1</td><td>0.1</td><td>setosa</td></tr>\n",
       "\t<tr><td>5.8</td><td>4.0</td><td>1.2</td><td>0.2</td><td>setosa</td></tr>\n",
       "\t<tr><td>5.7</td><td>4.4</td><td>1.5</td><td>0.4</td><td>setosa</td></tr>\n",
       "\t<tr><td>5.4</td><td>3.9</td><td>1.3</td><td>0.4</td><td>setosa</td></tr>\n",
       "\t<tr><td>5.1</td><td>3.5</td><td>1.4</td><td>0.3</td><td>setosa</td></tr>\n",
       "\t<tr><td>5.7</td><td>3.8</td><td>1.7</td><td>0.3</td><td>setosa</td></tr>\n",
       "\t<tr><td>5.1</td><td>3.8</td><td>1.5</td><td>0.3</td><td>setosa</td></tr>\n",
       "\t<tr><td>5.4</td><td>3.4</td><td>1.7</td><td>0.2</td><td>setosa</td></tr>\n",
       "\t<tr><td>5.1</td><td>3.7</td><td>1.5</td><td>0.4</td><td>setosa</td></tr>\n",
       "\t<tr><td>4.6</td><td>3.6</td><td>1.0</td><td>0.2</td><td>setosa</td></tr>\n",
       "\t<tr><td>5.1</td><td>3.3</td><td>1.7</td><td>0.5</td><td>setosa</td></tr>\n",
       "\t<tr><td>4.8</td><td>3.4</td><td>1.9</td><td>0.2</td><td>setosa</td></tr>\n",
       "\t<tr><td>5.0</td><td>3.0</td><td>1.6</td><td>0.2</td><td>setosa</td></tr>\n",
       "\t<tr><td>5.0</td><td>3.4</td><td>1.6</td><td>0.4</td><td>setosa</td></tr>\n",
       "\t<tr><td>5.2</td><td>3.5</td><td>1.5</td><td>0.2</td><td>setosa</td></tr>\n",
       "\t<tr><td>5.2</td><td>3.4</td><td>1.4</td><td>0.2</td><td>setosa</td></tr>\n",
       "\t<tr><td>4.7</td><td>3.2</td><td>1.6</td><td>0.2</td><td>setosa</td></tr>\n",
       "\t<tr><td>...</td><td>...</td><td>...</td><td>...</td><td>...</td></tr>\n",
       "\t<tr><td>6.9</td><td>3.2</td><td>5.7</td><td>2.3</td><td>virginica</td></tr>\n",
       "\t<tr><td>5.6</td><td>2.8</td><td>4.9</td><td>2.0</td><td>virginica</td></tr>\n",
       "\t<tr><td>7.7</td><td>2.8</td><td>6.7</td><td>2.0</td><td>virginica</td></tr>\n",
       "\t<tr><td>6.3</td><td>2.7</td><td>4.9</td><td>1.8</td><td>virginica</td></tr>\n",
       "\t<tr><td>6.7</td><td>3.3</td><td>5.7</td><td>2.1</td><td>virginica</td></tr>\n",
       "\t<tr><td>7.2</td><td>3.2</td><td>6.0</td><td>1.8</td><td>virginica</td></tr>\n",
       "\t<tr><td>6.2</td><td>2.8</td><td>4.8</td><td>1.8</td><td>virginica</td></tr>\n",
       "\t<tr><td>6.1</td><td>3.0</td><td>4.9</td><td>1.8</td><td>virginica</td></tr>\n",
       "\t<tr><td>6.4</td><td>2.8</td><td>5.6</td><td>2.1</td><td>virginica</td></tr>\n",
       "\t<tr><td>7.2</td><td>3.0</td><td>5.8</td><td>1.6</td><td>virginica</td></tr>\n",
       "\t<tr><td>7.4</td><td>2.8</td><td>6.1</td><td>1.9</td><td>virginica</td></tr>\n",
       "\t<tr><td>7.9</td><td>3.8</td><td>6.4</td><td>2.0</td><td>virginica</td></tr>\n",
       "\t<tr><td>6.4</td><td>2.8</td><td>5.6</td><td>2.2</td><td>virginica</td></tr>\n",
       "\t<tr><td>6.3</td><td>2.8</td><td>5.1</td><td>1.5</td><td>virginica</td></tr>\n",
       "\t<tr><td>6.1</td><td>2.6</td><td>5.6</td><td>1.4</td><td>virginica</td></tr>\n",
       "\t<tr><td>7.7</td><td>3.0</td><td>6.1</td><td>2.3</td><td>virginica</td></tr>\n",
       "\t<tr><td>6.3</td><td>3.4</td><td>5.6</td><td>2.4</td><td>virginica</td></tr>\n",
       "\t<tr><td>6.4</td><td>3.1</td><td>5.5</td><td>1.8</td><td>virginica</td></tr>\n",
       "\t<tr><td>6.0</td><td>3.0</td><td>4.8</td><td>1.8</td><td>virginica</td></tr>\n",
       "\t<tr><td>6.9</td><td>3.1</td><td>5.4</td><td>2.1</td><td>virginica</td></tr>\n",
       "\t<tr><td>6.7</td><td>3.1</td><td>5.6</td><td>2.4</td><td>virginica</td></tr>\n",
       "\t<tr><td>6.9</td><td>3.1</td><td>5.1</td><td>2.3</td><td>virginica</td></tr>\n",
       "\t<tr><td>5.8</td><td>2.7</td><td>5.1</td><td>1.9</td><td>virginica</td></tr>\n",
       "\t<tr><td>6.8</td><td>3.2</td><td>5.9</td><td>2.3</td><td>virginica</td></tr>\n",
       "\t<tr><td>6.7</td><td>3.3</td><td>5.7</td><td>2.5</td><td>virginica</td></tr>\n",
       "\t<tr><td>6.7</td><td>3.0</td><td>5.2</td><td>2.3</td><td>virginica</td></tr>\n",
       "\t<tr><td>6.3</td><td>2.5</td><td>5.0</td><td>1.9</td><td>virginica</td></tr>\n",
       "\t<tr><td>6.5</td><td>3.0</td><td>5.2</td><td>2.0</td><td>virginica</td></tr>\n",
       "\t<tr><td>6.2</td><td>3.4</td><td>5.4</td><td>2.3</td><td>virginica</td></tr>\n",
       "\t<tr><td>5.9</td><td>3.0</td><td>5.1</td><td>1.8</td><td>virginica</td></tr>\n",
       "</tbody>\n",
       "</table>\n"
      ],
      "text/latex": [
       "A tibble: 150 × 5\n",
       "\\begin{tabular}{lllll}\n",
       " Sepal.Length & Sepal.Width & Petal.Length & Petal.Width & Species\\\\\n",
       " <dbl> & <dbl> & <dbl> & <dbl> & <fct>\\\\\n",
       "\\hline\n",
       "\t 5.1 & 3.5 & 1.4 & 0.2 & setosa\\\\\n",
       "\t 4.9 & 3.0 & 1.4 & 0.2 & setosa\\\\\n",
       "\t 4.7 & 3.2 & 1.3 & 0.2 & setosa\\\\\n",
       "\t 4.6 & 3.1 & 1.5 & 0.2 & setosa\\\\\n",
       "\t 5.0 & 3.6 & 1.4 & 0.2 & setosa\\\\\n",
       "\t 5.4 & 3.9 & 1.7 & 0.4 & setosa\\\\\n",
       "\t 4.6 & 3.4 & 1.4 & 0.3 & setosa\\\\\n",
       "\t 5.0 & 3.4 & 1.5 & 0.2 & setosa\\\\\n",
       "\t 4.4 & 2.9 & 1.4 & 0.2 & setosa\\\\\n",
       "\t 4.9 & 3.1 & 1.5 & 0.1 & setosa\\\\\n",
       "\t 5.4 & 3.7 & 1.5 & 0.2 & setosa\\\\\n",
       "\t 4.8 & 3.4 & 1.6 & 0.2 & setosa\\\\\n",
       "\t 4.8 & 3.0 & 1.4 & 0.1 & setosa\\\\\n",
       "\t 4.3 & 3.0 & 1.1 & 0.1 & setosa\\\\\n",
       "\t 5.8 & 4.0 & 1.2 & 0.2 & setosa\\\\\n",
       "\t 5.7 & 4.4 & 1.5 & 0.4 & setosa\\\\\n",
       "\t 5.4 & 3.9 & 1.3 & 0.4 & setosa\\\\\n",
       "\t 5.1 & 3.5 & 1.4 & 0.3 & setosa\\\\\n",
       "\t 5.7 & 3.8 & 1.7 & 0.3 & setosa\\\\\n",
       "\t 5.1 & 3.8 & 1.5 & 0.3 & setosa\\\\\n",
       "\t 5.4 & 3.4 & 1.7 & 0.2 & setosa\\\\\n",
       "\t 5.1 & 3.7 & 1.5 & 0.4 & setosa\\\\\n",
       "\t 4.6 & 3.6 & 1.0 & 0.2 & setosa\\\\\n",
       "\t 5.1 & 3.3 & 1.7 & 0.5 & setosa\\\\\n",
       "\t 4.8 & 3.4 & 1.9 & 0.2 & setosa\\\\\n",
       "\t 5.0 & 3.0 & 1.6 & 0.2 & setosa\\\\\n",
       "\t 5.0 & 3.4 & 1.6 & 0.4 & setosa\\\\\n",
       "\t 5.2 & 3.5 & 1.5 & 0.2 & setosa\\\\\n",
       "\t 5.2 & 3.4 & 1.4 & 0.2 & setosa\\\\\n",
       "\t 4.7 & 3.2 & 1.6 & 0.2 & setosa\\\\\n",
       "\t ... & ... & ... & ... & ...\\\\\n",
       "\t 6.9 & 3.2 & 5.7 & 2.3 & virginica\\\\\n",
       "\t 5.6 & 2.8 & 4.9 & 2.0 & virginica\\\\\n",
       "\t 7.7 & 2.8 & 6.7 & 2.0 & virginica\\\\\n",
       "\t 6.3 & 2.7 & 4.9 & 1.8 & virginica\\\\\n",
       "\t 6.7 & 3.3 & 5.7 & 2.1 & virginica\\\\\n",
       "\t 7.2 & 3.2 & 6.0 & 1.8 & virginica\\\\\n",
       "\t 6.2 & 2.8 & 4.8 & 1.8 & virginica\\\\\n",
       "\t 6.1 & 3.0 & 4.9 & 1.8 & virginica\\\\\n",
       "\t 6.4 & 2.8 & 5.6 & 2.1 & virginica\\\\\n",
       "\t 7.2 & 3.0 & 5.8 & 1.6 & virginica\\\\\n",
       "\t 7.4 & 2.8 & 6.1 & 1.9 & virginica\\\\\n",
       "\t 7.9 & 3.8 & 6.4 & 2.0 & virginica\\\\\n",
       "\t 6.4 & 2.8 & 5.6 & 2.2 & virginica\\\\\n",
       "\t 6.3 & 2.8 & 5.1 & 1.5 & virginica\\\\\n",
       "\t 6.1 & 2.6 & 5.6 & 1.4 & virginica\\\\\n",
       "\t 7.7 & 3.0 & 6.1 & 2.3 & virginica\\\\\n",
       "\t 6.3 & 3.4 & 5.6 & 2.4 & virginica\\\\\n",
       "\t 6.4 & 3.1 & 5.5 & 1.8 & virginica\\\\\n",
       "\t 6.0 & 3.0 & 4.8 & 1.8 & virginica\\\\\n",
       "\t 6.9 & 3.1 & 5.4 & 2.1 & virginica\\\\\n",
       "\t 6.7 & 3.1 & 5.6 & 2.4 & virginica\\\\\n",
       "\t 6.9 & 3.1 & 5.1 & 2.3 & virginica\\\\\n",
       "\t 5.8 & 2.7 & 5.1 & 1.9 & virginica\\\\\n",
       "\t 6.8 & 3.2 & 5.9 & 2.3 & virginica\\\\\n",
       "\t 6.7 & 3.3 & 5.7 & 2.5 & virginica\\\\\n",
       "\t 6.7 & 3.0 & 5.2 & 2.3 & virginica\\\\\n",
       "\t 6.3 & 2.5 & 5.0 & 1.9 & virginica\\\\\n",
       "\t 6.5 & 3.0 & 5.2 & 2.0 & virginica\\\\\n",
       "\t 6.2 & 3.4 & 5.4 & 2.3 & virginica\\\\\n",
       "\t 5.9 & 3.0 & 5.1 & 1.8 & virginica\\\\\n",
       "\\end{tabular}\n"
      ],
      "text/markdown": [
       "\n",
       "A tibble: 150 × 5\n",
       "\n",
       "| Sepal.Length &lt;dbl&gt; | Sepal.Width &lt;dbl&gt; | Petal.Length &lt;dbl&gt; | Petal.Width &lt;dbl&gt; | Species &lt;fct&gt; |\n",
       "|---|---|---|---|---|\n",
       "| 5.1 | 3.5 | 1.4 | 0.2 | setosa |\n",
       "| 4.9 | 3.0 | 1.4 | 0.2 | setosa |\n",
       "| 4.7 | 3.2 | 1.3 | 0.2 | setosa |\n",
       "| 4.6 | 3.1 | 1.5 | 0.2 | setosa |\n",
       "| 5.0 | 3.6 | 1.4 | 0.2 | setosa |\n",
       "| 5.4 | 3.9 | 1.7 | 0.4 | setosa |\n",
       "| 4.6 | 3.4 | 1.4 | 0.3 | setosa |\n",
       "| 5.0 | 3.4 | 1.5 | 0.2 | setosa |\n",
       "| 4.4 | 2.9 | 1.4 | 0.2 | setosa |\n",
       "| 4.9 | 3.1 | 1.5 | 0.1 | setosa |\n",
       "| 5.4 | 3.7 | 1.5 | 0.2 | setosa |\n",
       "| 4.8 | 3.4 | 1.6 | 0.2 | setosa |\n",
       "| 4.8 | 3.0 | 1.4 | 0.1 | setosa |\n",
       "| 4.3 | 3.0 | 1.1 | 0.1 | setosa |\n",
       "| 5.8 | 4.0 | 1.2 | 0.2 | setosa |\n",
       "| 5.7 | 4.4 | 1.5 | 0.4 | setosa |\n",
       "| 5.4 | 3.9 | 1.3 | 0.4 | setosa |\n",
       "| 5.1 | 3.5 | 1.4 | 0.3 | setosa |\n",
       "| 5.7 | 3.8 | 1.7 | 0.3 | setosa |\n",
       "| 5.1 | 3.8 | 1.5 | 0.3 | setosa |\n",
       "| 5.4 | 3.4 | 1.7 | 0.2 | setosa |\n",
       "| 5.1 | 3.7 | 1.5 | 0.4 | setosa |\n",
       "| 4.6 | 3.6 | 1.0 | 0.2 | setosa |\n",
       "| 5.1 | 3.3 | 1.7 | 0.5 | setosa |\n",
       "| 4.8 | 3.4 | 1.9 | 0.2 | setosa |\n",
       "| 5.0 | 3.0 | 1.6 | 0.2 | setosa |\n",
       "| 5.0 | 3.4 | 1.6 | 0.4 | setosa |\n",
       "| 5.2 | 3.5 | 1.5 | 0.2 | setosa |\n",
       "| 5.2 | 3.4 | 1.4 | 0.2 | setosa |\n",
       "| 4.7 | 3.2 | 1.6 | 0.2 | setosa |\n",
       "| ... | ... | ... | ... | ... |\n",
       "| 6.9 | 3.2 | 5.7 | 2.3 | virginica |\n",
       "| 5.6 | 2.8 | 4.9 | 2.0 | virginica |\n",
       "| 7.7 | 2.8 | 6.7 | 2.0 | virginica |\n",
       "| 6.3 | 2.7 | 4.9 | 1.8 | virginica |\n",
       "| 6.7 | 3.3 | 5.7 | 2.1 | virginica |\n",
       "| 7.2 | 3.2 | 6.0 | 1.8 | virginica |\n",
       "| 6.2 | 2.8 | 4.8 | 1.8 | virginica |\n",
       "| 6.1 | 3.0 | 4.9 | 1.8 | virginica |\n",
       "| 6.4 | 2.8 | 5.6 | 2.1 | virginica |\n",
       "| 7.2 | 3.0 | 5.8 | 1.6 | virginica |\n",
       "| 7.4 | 2.8 | 6.1 | 1.9 | virginica |\n",
       "| 7.9 | 3.8 | 6.4 | 2.0 | virginica |\n",
       "| 6.4 | 2.8 | 5.6 | 2.2 | virginica |\n",
       "| 6.3 | 2.8 | 5.1 | 1.5 | virginica |\n",
       "| 6.1 | 2.6 | 5.6 | 1.4 | virginica |\n",
       "| 7.7 | 3.0 | 6.1 | 2.3 | virginica |\n",
       "| 6.3 | 3.4 | 5.6 | 2.4 | virginica |\n",
       "| 6.4 | 3.1 | 5.5 | 1.8 | virginica |\n",
       "| 6.0 | 3.0 | 4.8 | 1.8 | virginica |\n",
       "| 6.9 | 3.1 | 5.4 | 2.1 | virginica |\n",
       "| 6.7 | 3.1 | 5.6 | 2.4 | virginica |\n",
       "| 6.9 | 3.1 | 5.1 | 2.3 | virginica |\n",
       "| 5.8 | 2.7 | 5.1 | 1.9 | virginica |\n",
       "| 6.8 | 3.2 | 5.9 | 2.3 | virginica |\n",
       "| 6.7 | 3.3 | 5.7 | 2.5 | virginica |\n",
       "| 6.7 | 3.0 | 5.2 | 2.3 | virginica |\n",
       "| 6.3 | 2.5 | 5.0 | 1.9 | virginica |\n",
       "| 6.5 | 3.0 | 5.2 | 2.0 | virginica |\n",
       "| 6.2 | 3.4 | 5.4 | 2.3 | virginica |\n",
       "| 5.9 | 3.0 | 5.1 | 1.8 | virginica |\n",
       "\n"
      ],
      "text/plain": [
       "    Sepal.Length Sepal.Width Petal.Length Petal.Width Species  \n",
       "1   5.1          3.5         1.4          0.2         setosa   \n",
       "2   4.9          3.0         1.4          0.2         setosa   \n",
       "3   4.7          3.2         1.3          0.2         setosa   \n",
       "4   4.6          3.1         1.5          0.2         setosa   \n",
       "5   5.0          3.6         1.4          0.2         setosa   \n",
       "6   5.4          3.9         1.7          0.4         setosa   \n",
       "7   4.6          3.4         1.4          0.3         setosa   \n",
       "8   5.0          3.4         1.5          0.2         setosa   \n",
       "9   4.4          2.9         1.4          0.2         setosa   \n",
       "10  4.9          3.1         1.5          0.1         setosa   \n",
       "11  5.4          3.7         1.5          0.2         setosa   \n",
       "12  4.8          3.4         1.6          0.2         setosa   \n",
       "13  4.8          3.0         1.4          0.1         setosa   \n",
       "14  4.3          3.0         1.1          0.1         setosa   \n",
       "15  5.8          4.0         1.2          0.2         setosa   \n",
       "16  5.7          4.4         1.5          0.4         setosa   \n",
       "17  5.4          3.9         1.3          0.4         setosa   \n",
       "18  5.1          3.5         1.4          0.3         setosa   \n",
       "19  5.7          3.8         1.7          0.3         setosa   \n",
       "20  5.1          3.8         1.5          0.3         setosa   \n",
       "21  5.4          3.4         1.7          0.2         setosa   \n",
       "22  5.1          3.7         1.5          0.4         setosa   \n",
       "23  4.6          3.6         1.0          0.2         setosa   \n",
       "24  5.1          3.3         1.7          0.5         setosa   \n",
       "25  4.8          3.4         1.9          0.2         setosa   \n",
       "26  5.0          3.0         1.6          0.2         setosa   \n",
       "27  5.0          3.4         1.6          0.4         setosa   \n",
       "28  5.2          3.5         1.5          0.2         setosa   \n",
       "29  5.2          3.4         1.4          0.2         setosa   \n",
       "30  4.7          3.2         1.6          0.2         setosa   \n",
       "... ...          ...         ...          ...         ...      \n",
       "121 6.9          3.2         5.7          2.3         virginica\n",
       "122 5.6          2.8         4.9          2.0         virginica\n",
       "123 7.7          2.8         6.7          2.0         virginica\n",
       "124 6.3          2.7         4.9          1.8         virginica\n",
       "125 6.7          3.3         5.7          2.1         virginica\n",
       "126 7.2          3.2         6.0          1.8         virginica\n",
       "127 6.2          2.8         4.8          1.8         virginica\n",
       "128 6.1          3.0         4.9          1.8         virginica\n",
       "129 6.4          2.8         5.6          2.1         virginica\n",
       "130 7.2          3.0         5.8          1.6         virginica\n",
       "131 7.4          2.8         6.1          1.9         virginica\n",
       "132 7.9          3.8         6.4          2.0         virginica\n",
       "133 6.4          2.8         5.6          2.2         virginica\n",
       "134 6.3          2.8         5.1          1.5         virginica\n",
       "135 6.1          2.6         5.6          1.4         virginica\n",
       "136 7.7          3.0         6.1          2.3         virginica\n",
       "137 6.3          3.4         5.6          2.4         virginica\n",
       "138 6.4          3.1         5.5          1.8         virginica\n",
       "139 6.0          3.0         4.8          1.8         virginica\n",
       "140 6.9          3.1         5.4          2.1         virginica\n",
       "141 6.7          3.1         5.6          2.4         virginica\n",
       "142 6.9          3.1         5.1          2.3         virginica\n",
       "143 5.8          2.7         5.1          1.9         virginica\n",
       "144 6.8          3.2         5.9          2.3         virginica\n",
       "145 6.7          3.3         5.7          2.5         virginica\n",
       "146 6.7          3.0         5.2          2.3         virginica\n",
       "147 6.3          2.5         5.0          1.9         virginica\n",
       "148 6.5          3.0         5.2          2.0         virginica\n",
       "149 6.2          3.4         5.4          2.3         virginica\n",
       "150 5.9          3.0         5.1          1.8         virginica"
      ]
     },
     "metadata": {},
     "output_type": "display_data"
    }
   ],
   "source": [
    "## data frame to tibble\n",
    "as_tibble(iris)"
   ]
  },
  {
   "cell_type": "code",
   "execution_count": 5,
   "id": "5dcfd353",
   "metadata": {
    "scrolled": true
   },
   "outputs": [
    {
     "data": {
      "text/html": [
       "<table class=\"dataframe\">\n",
       "<caption>A tibble: 1 × 3</caption>\n",
       "<thead>\n",
       "\t<tr><th scope=col>:)</th><th scope=col> </th><th scope=col>2000</th></tr>\n",
       "\t<tr><th scope=col>&lt;chr&gt;</th><th scope=col>&lt;chr&gt;</th><th scope=col>&lt;chr&gt;</th></tr>\n",
       "</thead>\n",
       "<tbody>\n",
       "\t<tr><td>smile</td><td>space</td><td>number</td></tr>\n",
       "</tbody>\n",
       "</table>\n"
      ],
      "text/latex": [
       "A tibble: 1 × 3\n",
       "\\begin{tabular}{lll}\n",
       " :) &   & 2000\\\\\n",
       " <chr> & <chr> & <chr>\\\\\n",
       "\\hline\n",
       "\t smile & space & number\\\\\n",
       "\\end{tabular}\n"
      ],
      "text/markdown": [
       "\n",
       "A tibble: 1 × 3\n",
       "\n",
       "| :) &lt;chr&gt; | <!----> &lt;chr&gt; | 2000 &lt;chr&gt; |\n",
       "|---|---|---|\n",
       "| smile | space | number |\n",
       "\n"
      ],
      "text/plain": [
       "  :)          2000  \n",
       "1 smile space number"
      ]
     },
     "metadata": {},
     "output_type": "display_data"
    }
   ],
   "source": [
    "## nonsyntactic column names\n",
    "tb <- tibble(\n",
    "        `:)` = \"smile\",\n",
    "        ` ` = \"space\",\n",
    "        `2000` = \"number\"\n",
    "      )\n",
    "    tb "
   ]
  },
  {
   "cell_type": "code",
   "execution_count": 6,
   "id": "310f9bc9",
   "metadata": {},
   "outputs": [
    {
     "data": {
      "text/html": [
       "<table class=\"dataframe\">\n",
       "<caption>A tibble: 2 × 3</caption>\n",
       "<thead>\n",
       "\t<tr><th scope=col>x</th><th scope=col>y</th><th scope=col>z</th></tr>\n",
       "\t<tr><th scope=col>&lt;chr&gt;</th><th scope=col>&lt;dbl&gt;</th><th scope=col>&lt;dbl&gt;</th></tr>\n",
       "</thead>\n",
       "<tbody>\n",
       "\t<tr><td>a</td><td>2</td><td>3.6</td></tr>\n",
       "\t<tr><td>b</td><td>1</td><td>8.5</td></tr>\n",
       "</tbody>\n",
       "</table>\n"
      ],
      "text/latex": [
       "A tibble: 2 × 3\n",
       "\\begin{tabular}{lll}\n",
       " x & y & z\\\\\n",
       " <chr> & <dbl> & <dbl>\\\\\n",
       "\\hline\n",
       "\t a & 2 & 3.6\\\\\n",
       "\t b & 1 & 8.5\\\\\n",
       "\\end{tabular}\n"
      ],
      "text/markdown": [
       "\n",
       "A tibble: 2 × 3\n",
       "\n",
       "| x &lt;chr&gt; | y &lt;dbl&gt; | z &lt;dbl&gt; |\n",
       "|---|---|---|\n",
       "| a | 2 | 3.6 |\n",
       "| b | 1 | 8.5 |\n",
       "\n"
      ],
      "text/plain": [
       "  x y z  \n",
       "1 a 2 3.6\n",
       "2 b 1 8.5"
      ]
     },
     "metadata": {},
     "output_type": "display_data"
    }
   ],
   "source": [
    "## tribble\n",
    "tribble(\n",
    "        ~x, ~y, ~z,\n",
    "        #--|--|----\n",
    "        \"a\", 2, 3.6,\n",
    "        \"b\", 1, 8.5\n",
    "      ) "
   ]
  },
  {
   "cell_type": "code",
   "execution_count": 7,
   "id": "eb25b398",
   "metadata": {
    "scrolled": true
   },
   "outputs": [
    {
     "data": {
      "text/html": [
       "<table class=\"dataframe\">\n",
       "<caption>A tibble: 1000 × 5</caption>\n",
       "<thead>\n",
       "\t<tr><th scope=col>a</th><th scope=col>b</th><th scope=col>c</th><th scope=col>d</th><th scope=col>e</th></tr>\n",
       "\t<tr><th scope=col>&lt;dttm&gt;</th><th scope=col>&lt;date&gt;</th><th scope=col>&lt;int&gt;</th><th scope=col>&lt;dbl&gt;</th><th scope=col>&lt;chr&gt;</th></tr>\n",
       "</thead>\n",
       "<tbody>\n",
       "\t<tr><td>2022-02-27 07:33:08</td><td>2022-03-08</td><td> 1</td><td>0.49843140</td><td>p</td></tr>\n",
       "\t<tr><td>2022-02-27 09:27:27</td><td>2022-02-28</td><td> 2</td><td>0.91328630</td><td>w</td></tr>\n",
       "\t<tr><td>2022-02-27 19:39:25</td><td>2022-03-12</td><td> 3</td><td>0.05629155</td><td>t</td></tr>\n",
       "\t<tr><td>2022-02-27 05:45:08</td><td>2022-03-23</td><td> 4</td><td>0.98028247</td><td>u</td></tr>\n",
       "\t<tr><td>2022-02-26 23:40:32</td><td>2022-02-28</td><td> 5</td><td>0.17196460</td><td>m</td></tr>\n",
       "\t<tr><td>2022-02-27 06:13:07</td><td>2022-03-12</td><td> 6</td><td>0.49235750</td><td>p</td></tr>\n",
       "\t<tr><td>2022-02-27 08:49:35</td><td>2022-03-20</td><td> 7</td><td>0.75670062</td><td>v</td></tr>\n",
       "\t<tr><td>2022-02-27 20:46:39</td><td>2022-03-10</td><td> 8</td><td>0.81590049</td><td>s</td></tr>\n",
       "\t<tr><td>2022-02-27 02:17:09</td><td>2022-03-02</td><td> 9</td><td>0.54480348</td><td>t</td></tr>\n",
       "\t<tr><td>2022-02-27 01:36:58</td><td>2022-03-13</td><td>10</td><td>0.96154112</td><td>c</td></tr>\n",
       "\t<tr><td>2022-02-27 04:01:27</td><td>2022-03-13</td><td>11</td><td>0.79311499</td><td>b</td></tr>\n",
       "\t<tr><td>2022-02-27 18:40:39</td><td>2022-03-09</td><td>12</td><td>0.07558915</td><td>b</td></tr>\n",
       "\t<tr><td>2022-02-27 18:23:25</td><td>2022-03-06</td><td>13</td><td>0.85721601</td><td>i</td></tr>\n",
       "\t<tr><td>2022-02-27 04:50:16</td><td>2022-03-08</td><td>14</td><td>0.65110058</td><td>p</td></tr>\n",
       "\t<tr><td>2022-02-27 11:27:46</td><td>2022-03-02</td><td>15</td><td>0.36186070</td><td>h</td></tr>\n",
       "\t<tr><td>2022-02-26 23:09:18</td><td>2022-03-01</td><td>16</td><td>0.42655639</td><td>u</td></tr>\n",
       "\t<tr><td>2022-02-27 15:07:20</td><td>2022-03-13</td><td>17</td><td>0.04052568</td><td>i</td></tr>\n",
       "\t<tr><td>2022-02-27 07:00:32</td><td>2022-03-15</td><td>18</td><td>0.08392871</td><td>c</td></tr>\n",
       "\t<tr><td>2022-02-27 17:12:21</td><td>2022-03-08</td><td>19</td><td>0.30953467</td><td>j</td></tr>\n",
       "\t<tr><td>2022-02-27 03:54:50</td><td>2022-03-26</td><td>20</td><td>0.78285556</td><td>w</td></tr>\n",
       "\t<tr><td>2022-02-27 10:16:49</td><td>2022-03-11</td><td>21</td><td>0.05176276</td><td>y</td></tr>\n",
       "\t<tr><td>2022-02-27 13:46:20</td><td>2022-03-06</td><td>22</td><td>0.35573285</td><td>o</td></tr>\n",
       "\t<tr><td>2022-02-27 10:09:41</td><td>2022-02-26</td><td>23</td><td>0.92054837</td><td>h</td></tr>\n",
       "\t<tr><td>2022-02-27 18:15:10</td><td>2022-03-13</td><td>24</td><td>0.43811486</td><td>i</td></tr>\n",
       "\t<tr><td>2022-02-27 02:54:38</td><td>2022-03-10</td><td>25</td><td>0.92586850</td><td>e</td></tr>\n",
       "\t<tr><td>2022-02-27 17:14:40</td><td>2022-03-17</td><td>26</td><td>0.17538769</td><td>a</td></tr>\n",
       "\t<tr><td>2022-02-27 12:49:05</td><td>2022-03-22</td><td>27</td><td>0.34325826</td><td>s</td></tr>\n",
       "\t<tr><td>2022-02-27 00:52:41</td><td>2022-03-17</td><td>28</td><td>0.69594227</td><td>k</td></tr>\n",
       "\t<tr><td>2022-02-26 23:59:22</td><td>2022-03-25</td><td>29</td><td>0.92660447</td><td>j</td></tr>\n",
       "\t<tr><td>2022-02-27 02:08:13</td><td>2022-03-23</td><td>30</td><td>0.69655239</td><td>y</td></tr>\n",
       "\t<tr><td>...</td><td>...</td><td>...</td><td>...</td><td>...</td></tr>\n",
       "\t<tr><td>2022-02-27 18:57:27</td><td>2022-03-08</td><td> 971</td><td>0.88095675</td><td>a</td></tr>\n",
       "\t<tr><td>2022-02-26 22:28:43</td><td>2022-03-22</td><td> 972</td><td>0.84021435</td><td>p</td></tr>\n",
       "\t<tr><td>2022-02-27 16:12:09</td><td>2022-03-22</td><td> 973</td><td>0.69570867</td><td>s</td></tr>\n",
       "\t<tr><td>2022-02-27 09:17:41</td><td>2022-03-25</td><td> 974</td><td>0.38811272</td><td>g</td></tr>\n",
       "\t<tr><td>2022-02-27 09:58:08</td><td>2022-03-10</td><td> 975</td><td>0.01115663</td><td>o</td></tr>\n",
       "\t<tr><td>2022-02-27 09:29:38</td><td>2022-03-17</td><td> 976</td><td>0.66681662</td><td>e</td></tr>\n",
       "\t<tr><td>2022-02-27 12:46:25</td><td>2022-03-01</td><td> 977</td><td>0.82961815</td><td>m</td></tr>\n",
       "\t<tr><td>2022-02-27 17:12:24</td><td>2022-03-24</td><td> 978</td><td>0.60781381</td><td>h</td></tr>\n",
       "\t<tr><td>2022-02-27 05:27:01</td><td>2022-03-02</td><td> 979</td><td>0.46787471</td><td>k</td></tr>\n",
       "\t<tr><td>2022-02-27 05:11:28</td><td>2022-03-23</td><td> 980</td><td>0.48104737</td><td>g</td></tr>\n",
       "\t<tr><td>2022-02-26 23:55:52</td><td>2022-03-27</td><td> 981</td><td>0.83709312</td><td>k</td></tr>\n",
       "\t<tr><td>2022-02-27 03:20:58</td><td>2022-03-12</td><td> 982</td><td>0.65188495</td><td>v</td></tr>\n",
       "\t<tr><td>2022-02-27 00:48:05</td><td>2022-03-18</td><td> 983</td><td>0.60202652</td><td>j</td></tr>\n",
       "\t<tr><td>2022-02-27 17:04:21</td><td>2022-03-09</td><td> 984</td><td>0.40305228</td><td>z</td></tr>\n",
       "\t<tr><td>2022-02-27 09:45:49</td><td>2022-03-07</td><td> 985</td><td>0.59768197</td><td>k</td></tr>\n",
       "\t<tr><td>2022-02-27 06:31:51</td><td>2022-03-19</td><td> 986</td><td>0.80327959</td><td>c</td></tr>\n",
       "\t<tr><td>2022-02-27 05:40:19</td><td>2022-03-11</td><td> 987</td><td>0.89857124</td><td>y</td></tr>\n",
       "\t<tr><td>2022-02-26 22:45:26</td><td>2022-03-05</td><td> 988</td><td>0.10897317</td><td>t</td></tr>\n",
       "\t<tr><td>2022-02-27 21:39:08</td><td>2022-03-15</td><td> 989</td><td>0.13662411</td><td>g</td></tr>\n",
       "\t<tr><td>2022-02-27 14:42:55</td><td>2022-03-05</td><td> 990</td><td>0.74186213</td><td>o</td></tr>\n",
       "\t<tr><td>2022-02-27 01:56:55</td><td>2022-03-12</td><td> 991</td><td>0.19582045</td><td>t</td></tr>\n",
       "\t<tr><td>2022-02-27 09:13:39</td><td>2022-03-11</td><td> 992</td><td>0.81890676</td><td>f</td></tr>\n",
       "\t<tr><td>2022-02-27 04:18:41</td><td>2022-03-24</td><td> 993</td><td>0.81300542</td><td>t</td></tr>\n",
       "\t<tr><td>2022-02-27 06:12:42</td><td>2022-03-02</td><td> 994</td><td>0.68618164</td><td>j</td></tr>\n",
       "\t<tr><td>2022-02-27 13:58:32</td><td>2022-03-21</td><td> 995</td><td>0.85212184</td><td>a</td></tr>\n",
       "\t<tr><td>2022-02-27 10:00:04</td><td>2022-03-24</td><td> 996</td><td>0.94618908</td><td>u</td></tr>\n",
       "\t<tr><td>2022-02-27 03:47:12</td><td>2022-03-04</td><td> 997</td><td>0.13154244</td><td>b</td></tr>\n",
       "\t<tr><td>2022-02-27 02:12:01</td><td>2022-03-10</td><td> 998</td><td>0.54683708</td><td>k</td></tr>\n",
       "\t<tr><td>2022-02-27 05:41:10</td><td>2022-02-28</td><td> 999</td><td>0.74888599</td><td>y</td></tr>\n",
       "\t<tr><td>2022-02-27 00:55:41</td><td>2022-03-16</td><td>1000</td><td>0.32744620</td><td>l</td></tr>\n",
       "</tbody>\n",
       "</table>\n"
      ],
      "text/latex": [
       "A tibble: 1000 × 5\n",
       "\\begin{tabular}{lllll}\n",
       " a & b & c & d & e\\\\\n",
       " <dttm> & <date> & <int> & <dbl> & <chr>\\\\\n",
       "\\hline\n",
       "\t 2022-02-27 07:33:08 & 2022-03-08 &  1 & 0.49843140 & p\\\\\n",
       "\t 2022-02-27 09:27:27 & 2022-02-28 &  2 & 0.91328630 & w\\\\\n",
       "\t 2022-02-27 19:39:25 & 2022-03-12 &  3 & 0.05629155 & t\\\\\n",
       "\t 2022-02-27 05:45:08 & 2022-03-23 &  4 & 0.98028247 & u\\\\\n",
       "\t 2022-02-26 23:40:32 & 2022-02-28 &  5 & 0.17196460 & m\\\\\n",
       "\t 2022-02-27 06:13:07 & 2022-03-12 &  6 & 0.49235750 & p\\\\\n",
       "\t 2022-02-27 08:49:35 & 2022-03-20 &  7 & 0.75670062 & v\\\\\n",
       "\t 2022-02-27 20:46:39 & 2022-03-10 &  8 & 0.81590049 & s\\\\\n",
       "\t 2022-02-27 02:17:09 & 2022-03-02 &  9 & 0.54480348 & t\\\\\n",
       "\t 2022-02-27 01:36:58 & 2022-03-13 & 10 & 0.96154112 & c\\\\\n",
       "\t 2022-02-27 04:01:27 & 2022-03-13 & 11 & 0.79311499 & b\\\\\n",
       "\t 2022-02-27 18:40:39 & 2022-03-09 & 12 & 0.07558915 & b\\\\\n",
       "\t 2022-02-27 18:23:25 & 2022-03-06 & 13 & 0.85721601 & i\\\\\n",
       "\t 2022-02-27 04:50:16 & 2022-03-08 & 14 & 0.65110058 & p\\\\\n",
       "\t 2022-02-27 11:27:46 & 2022-03-02 & 15 & 0.36186070 & h\\\\\n",
       "\t 2022-02-26 23:09:18 & 2022-03-01 & 16 & 0.42655639 & u\\\\\n",
       "\t 2022-02-27 15:07:20 & 2022-03-13 & 17 & 0.04052568 & i\\\\\n",
       "\t 2022-02-27 07:00:32 & 2022-03-15 & 18 & 0.08392871 & c\\\\\n",
       "\t 2022-02-27 17:12:21 & 2022-03-08 & 19 & 0.30953467 & j\\\\\n",
       "\t 2022-02-27 03:54:50 & 2022-03-26 & 20 & 0.78285556 & w\\\\\n",
       "\t 2022-02-27 10:16:49 & 2022-03-11 & 21 & 0.05176276 & y\\\\\n",
       "\t 2022-02-27 13:46:20 & 2022-03-06 & 22 & 0.35573285 & o\\\\\n",
       "\t 2022-02-27 10:09:41 & 2022-02-26 & 23 & 0.92054837 & h\\\\\n",
       "\t 2022-02-27 18:15:10 & 2022-03-13 & 24 & 0.43811486 & i\\\\\n",
       "\t 2022-02-27 02:54:38 & 2022-03-10 & 25 & 0.92586850 & e\\\\\n",
       "\t 2022-02-27 17:14:40 & 2022-03-17 & 26 & 0.17538769 & a\\\\\n",
       "\t 2022-02-27 12:49:05 & 2022-03-22 & 27 & 0.34325826 & s\\\\\n",
       "\t 2022-02-27 00:52:41 & 2022-03-17 & 28 & 0.69594227 & k\\\\\n",
       "\t 2022-02-26 23:59:22 & 2022-03-25 & 29 & 0.92660447 & j\\\\\n",
       "\t 2022-02-27 02:08:13 & 2022-03-23 & 30 & 0.69655239 & y\\\\\n",
       "\t ... & ... & ... & ... & ...\\\\\n",
       "\t 2022-02-27 18:57:27 & 2022-03-08 &  971 & 0.88095675 & a\\\\\n",
       "\t 2022-02-26 22:28:43 & 2022-03-22 &  972 & 0.84021435 & p\\\\\n",
       "\t 2022-02-27 16:12:09 & 2022-03-22 &  973 & 0.69570867 & s\\\\\n",
       "\t 2022-02-27 09:17:41 & 2022-03-25 &  974 & 0.38811272 & g\\\\\n",
       "\t 2022-02-27 09:58:08 & 2022-03-10 &  975 & 0.01115663 & o\\\\\n",
       "\t 2022-02-27 09:29:38 & 2022-03-17 &  976 & 0.66681662 & e\\\\\n",
       "\t 2022-02-27 12:46:25 & 2022-03-01 &  977 & 0.82961815 & m\\\\\n",
       "\t 2022-02-27 17:12:24 & 2022-03-24 &  978 & 0.60781381 & h\\\\\n",
       "\t 2022-02-27 05:27:01 & 2022-03-02 &  979 & 0.46787471 & k\\\\\n",
       "\t 2022-02-27 05:11:28 & 2022-03-23 &  980 & 0.48104737 & g\\\\\n",
       "\t 2022-02-26 23:55:52 & 2022-03-27 &  981 & 0.83709312 & k\\\\\n",
       "\t 2022-02-27 03:20:58 & 2022-03-12 &  982 & 0.65188495 & v\\\\\n",
       "\t 2022-02-27 00:48:05 & 2022-03-18 &  983 & 0.60202652 & j\\\\\n",
       "\t 2022-02-27 17:04:21 & 2022-03-09 &  984 & 0.40305228 & z\\\\\n",
       "\t 2022-02-27 09:45:49 & 2022-03-07 &  985 & 0.59768197 & k\\\\\n",
       "\t 2022-02-27 06:31:51 & 2022-03-19 &  986 & 0.80327959 & c\\\\\n",
       "\t 2022-02-27 05:40:19 & 2022-03-11 &  987 & 0.89857124 & y\\\\\n",
       "\t 2022-02-26 22:45:26 & 2022-03-05 &  988 & 0.10897317 & t\\\\\n",
       "\t 2022-02-27 21:39:08 & 2022-03-15 &  989 & 0.13662411 & g\\\\\n",
       "\t 2022-02-27 14:42:55 & 2022-03-05 &  990 & 0.74186213 & o\\\\\n",
       "\t 2022-02-27 01:56:55 & 2022-03-12 &  991 & 0.19582045 & t\\\\\n",
       "\t 2022-02-27 09:13:39 & 2022-03-11 &  992 & 0.81890676 & f\\\\\n",
       "\t 2022-02-27 04:18:41 & 2022-03-24 &  993 & 0.81300542 & t\\\\\n",
       "\t 2022-02-27 06:12:42 & 2022-03-02 &  994 & 0.68618164 & j\\\\\n",
       "\t 2022-02-27 13:58:32 & 2022-03-21 &  995 & 0.85212184 & a\\\\\n",
       "\t 2022-02-27 10:00:04 & 2022-03-24 &  996 & 0.94618908 & u\\\\\n",
       "\t 2022-02-27 03:47:12 & 2022-03-04 &  997 & 0.13154244 & b\\\\\n",
       "\t 2022-02-27 02:12:01 & 2022-03-10 &  998 & 0.54683708 & k\\\\\n",
       "\t 2022-02-27 05:41:10 & 2022-02-28 &  999 & 0.74888599 & y\\\\\n",
       "\t 2022-02-27 00:55:41 & 2022-03-16 & 1000 & 0.32744620 & l\\\\\n",
       "\\end{tabular}\n"
      ],
      "text/markdown": [
       "\n",
       "A tibble: 1000 × 5\n",
       "\n",
       "| a &lt;dttm&gt; | b &lt;date&gt; | c &lt;int&gt; | d &lt;dbl&gt; | e &lt;chr&gt; |\n",
       "|---|---|---|---|---|\n",
       "| 2022-02-27 07:33:08 | 2022-03-08 |  1 | 0.49843140 | p |\n",
       "| 2022-02-27 09:27:27 | 2022-02-28 |  2 | 0.91328630 | w |\n",
       "| 2022-02-27 19:39:25 | 2022-03-12 |  3 | 0.05629155 | t |\n",
       "| 2022-02-27 05:45:08 | 2022-03-23 |  4 | 0.98028247 | u |\n",
       "| 2022-02-26 23:40:32 | 2022-02-28 |  5 | 0.17196460 | m |\n",
       "| 2022-02-27 06:13:07 | 2022-03-12 |  6 | 0.49235750 | p |\n",
       "| 2022-02-27 08:49:35 | 2022-03-20 |  7 | 0.75670062 | v |\n",
       "| 2022-02-27 20:46:39 | 2022-03-10 |  8 | 0.81590049 | s |\n",
       "| 2022-02-27 02:17:09 | 2022-03-02 |  9 | 0.54480348 | t |\n",
       "| 2022-02-27 01:36:58 | 2022-03-13 | 10 | 0.96154112 | c |\n",
       "| 2022-02-27 04:01:27 | 2022-03-13 | 11 | 0.79311499 | b |\n",
       "| 2022-02-27 18:40:39 | 2022-03-09 | 12 | 0.07558915 | b |\n",
       "| 2022-02-27 18:23:25 | 2022-03-06 | 13 | 0.85721601 | i |\n",
       "| 2022-02-27 04:50:16 | 2022-03-08 | 14 | 0.65110058 | p |\n",
       "| 2022-02-27 11:27:46 | 2022-03-02 | 15 | 0.36186070 | h |\n",
       "| 2022-02-26 23:09:18 | 2022-03-01 | 16 | 0.42655639 | u |\n",
       "| 2022-02-27 15:07:20 | 2022-03-13 | 17 | 0.04052568 | i |\n",
       "| 2022-02-27 07:00:32 | 2022-03-15 | 18 | 0.08392871 | c |\n",
       "| 2022-02-27 17:12:21 | 2022-03-08 | 19 | 0.30953467 | j |\n",
       "| 2022-02-27 03:54:50 | 2022-03-26 | 20 | 0.78285556 | w |\n",
       "| 2022-02-27 10:16:49 | 2022-03-11 | 21 | 0.05176276 | y |\n",
       "| 2022-02-27 13:46:20 | 2022-03-06 | 22 | 0.35573285 | o |\n",
       "| 2022-02-27 10:09:41 | 2022-02-26 | 23 | 0.92054837 | h |\n",
       "| 2022-02-27 18:15:10 | 2022-03-13 | 24 | 0.43811486 | i |\n",
       "| 2022-02-27 02:54:38 | 2022-03-10 | 25 | 0.92586850 | e |\n",
       "| 2022-02-27 17:14:40 | 2022-03-17 | 26 | 0.17538769 | a |\n",
       "| 2022-02-27 12:49:05 | 2022-03-22 | 27 | 0.34325826 | s |\n",
       "| 2022-02-27 00:52:41 | 2022-03-17 | 28 | 0.69594227 | k |\n",
       "| 2022-02-26 23:59:22 | 2022-03-25 | 29 | 0.92660447 | j |\n",
       "| 2022-02-27 02:08:13 | 2022-03-23 | 30 | 0.69655239 | y |\n",
       "| ... | ... | ... | ... | ... |\n",
       "| 2022-02-27 18:57:27 | 2022-03-08 |  971 | 0.88095675 | a |\n",
       "| 2022-02-26 22:28:43 | 2022-03-22 |  972 | 0.84021435 | p |\n",
       "| 2022-02-27 16:12:09 | 2022-03-22 |  973 | 0.69570867 | s |\n",
       "| 2022-02-27 09:17:41 | 2022-03-25 |  974 | 0.38811272 | g |\n",
       "| 2022-02-27 09:58:08 | 2022-03-10 |  975 | 0.01115663 | o |\n",
       "| 2022-02-27 09:29:38 | 2022-03-17 |  976 | 0.66681662 | e |\n",
       "| 2022-02-27 12:46:25 | 2022-03-01 |  977 | 0.82961815 | m |\n",
       "| 2022-02-27 17:12:24 | 2022-03-24 |  978 | 0.60781381 | h |\n",
       "| 2022-02-27 05:27:01 | 2022-03-02 |  979 | 0.46787471 | k |\n",
       "| 2022-02-27 05:11:28 | 2022-03-23 |  980 | 0.48104737 | g |\n",
       "| 2022-02-26 23:55:52 | 2022-03-27 |  981 | 0.83709312 | k |\n",
       "| 2022-02-27 03:20:58 | 2022-03-12 |  982 | 0.65188495 | v |\n",
       "| 2022-02-27 00:48:05 | 2022-03-18 |  983 | 0.60202652 | j |\n",
       "| 2022-02-27 17:04:21 | 2022-03-09 |  984 | 0.40305228 | z |\n",
       "| 2022-02-27 09:45:49 | 2022-03-07 |  985 | 0.59768197 | k |\n",
       "| 2022-02-27 06:31:51 | 2022-03-19 |  986 | 0.80327959 | c |\n",
       "| 2022-02-27 05:40:19 | 2022-03-11 |  987 | 0.89857124 | y |\n",
       "| 2022-02-26 22:45:26 | 2022-03-05 |  988 | 0.10897317 | t |\n",
       "| 2022-02-27 21:39:08 | 2022-03-15 |  989 | 0.13662411 | g |\n",
       "| 2022-02-27 14:42:55 | 2022-03-05 |  990 | 0.74186213 | o |\n",
       "| 2022-02-27 01:56:55 | 2022-03-12 |  991 | 0.19582045 | t |\n",
       "| 2022-02-27 09:13:39 | 2022-03-11 |  992 | 0.81890676 | f |\n",
       "| 2022-02-27 04:18:41 | 2022-03-24 |  993 | 0.81300542 | t |\n",
       "| 2022-02-27 06:12:42 | 2022-03-02 |  994 | 0.68618164 | j |\n",
       "| 2022-02-27 13:58:32 | 2022-03-21 |  995 | 0.85212184 | a |\n",
       "| 2022-02-27 10:00:04 | 2022-03-24 |  996 | 0.94618908 | u |\n",
       "| 2022-02-27 03:47:12 | 2022-03-04 |  997 | 0.13154244 | b |\n",
       "| 2022-02-27 02:12:01 | 2022-03-10 |  998 | 0.54683708 | k |\n",
       "| 2022-02-27 05:41:10 | 2022-02-28 |  999 | 0.74888599 | y |\n",
       "| 2022-02-27 00:55:41 | 2022-03-16 | 1000 | 0.32744620 | l |\n",
       "\n"
      ],
      "text/plain": [
       "     a                   b          c    d          e  \n",
       "1    2022-02-27 07:33:08 2022-03-08  1   0.49843140 p  \n",
       "2    2022-02-27 09:27:27 2022-02-28  2   0.91328630 w  \n",
       "3    2022-02-27 19:39:25 2022-03-12  3   0.05629155 t  \n",
       "4    2022-02-27 05:45:08 2022-03-23  4   0.98028247 u  \n",
       "5    2022-02-26 23:40:32 2022-02-28  5   0.17196460 m  \n",
       "6    2022-02-27 06:13:07 2022-03-12  6   0.49235750 p  \n",
       "7    2022-02-27 08:49:35 2022-03-20  7   0.75670062 v  \n",
       "8    2022-02-27 20:46:39 2022-03-10  8   0.81590049 s  \n",
       "9    2022-02-27 02:17:09 2022-03-02  9   0.54480348 t  \n",
       "10   2022-02-27 01:36:58 2022-03-13 10   0.96154112 c  \n",
       "11   2022-02-27 04:01:27 2022-03-13 11   0.79311499 b  \n",
       "12   2022-02-27 18:40:39 2022-03-09 12   0.07558915 b  \n",
       "13   2022-02-27 18:23:25 2022-03-06 13   0.85721601 i  \n",
       "14   2022-02-27 04:50:16 2022-03-08 14   0.65110058 p  \n",
       "15   2022-02-27 11:27:46 2022-03-02 15   0.36186070 h  \n",
       "16   2022-02-26 23:09:18 2022-03-01 16   0.42655639 u  \n",
       "17   2022-02-27 15:07:20 2022-03-13 17   0.04052568 i  \n",
       "18   2022-02-27 07:00:32 2022-03-15 18   0.08392871 c  \n",
       "19   2022-02-27 17:12:21 2022-03-08 19   0.30953467 j  \n",
       "20   2022-02-27 03:54:50 2022-03-26 20   0.78285556 w  \n",
       "21   2022-02-27 10:16:49 2022-03-11 21   0.05176276 y  \n",
       "22   2022-02-27 13:46:20 2022-03-06 22   0.35573285 o  \n",
       "23   2022-02-27 10:09:41 2022-02-26 23   0.92054837 h  \n",
       "24   2022-02-27 18:15:10 2022-03-13 24   0.43811486 i  \n",
       "25   2022-02-27 02:54:38 2022-03-10 25   0.92586850 e  \n",
       "26   2022-02-27 17:14:40 2022-03-17 26   0.17538769 a  \n",
       "27   2022-02-27 12:49:05 2022-03-22 27   0.34325826 s  \n",
       "28   2022-02-27 00:52:41 2022-03-17 28   0.69594227 k  \n",
       "29   2022-02-26 23:59:22 2022-03-25 29   0.92660447 j  \n",
       "30   2022-02-27 02:08:13 2022-03-23 30   0.69655239 y  \n",
       "...  ...                 ...        ...  ...        ...\n",
       "971  2022-02-27 18:57:27 2022-03-08  971 0.88095675 a  \n",
       "972  2022-02-26 22:28:43 2022-03-22  972 0.84021435 p  \n",
       "973  2022-02-27 16:12:09 2022-03-22  973 0.69570867 s  \n",
       "974  2022-02-27 09:17:41 2022-03-25  974 0.38811272 g  \n",
       "975  2022-02-27 09:58:08 2022-03-10  975 0.01115663 o  \n",
       "976  2022-02-27 09:29:38 2022-03-17  976 0.66681662 e  \n",
       "977  2022-02-27 12:46:25 2022-03-01  977 0.82961815 m  \n",
       "978  2022-02-27 17:12:24 2022-03-24  978 0.60781381 h  \n",
       "979  2022-02-27 05:27:01 2022-03-02  979 0.46787471 k  \n",
       "980  2022-02-27 05:11:28 2022-03-23  980 0.48104737 g  \n",
       "981  2022-02-26 23:55:52 2022-03-27  981 0.83709312 k  \n",
       "982  2022-02-27 03:20:58 2022-03-12  982 0.65188495 v  \n",
       "983  2022-02-27 00:48:05 2022-03-18  983 0.60202652 j  \n",
       "984  2022-02-27 17:04:21 2022-03-09  984 0.40305228 z  \n",
       "985  2022-02-27 09:45:49 2022-03-07  985 0.59768197 k  \n",
       "986  2022-02-27 06:31:51 2022-03-19  986 0.80327959 c  \n",
       "987  2022-02-27 05:40:19 2022-03-11  987 0.89857124 y  \n",
       "988  2022-02-26 22:45:26 2022-03-05  988 0.10897317 t  \n",
       "989  2022-02-27 21:39:08 2022-03-15  989 0.13662411 g  \n",
       "990  2022-02-27 14:42:55 2022-03-05  990 0.74186213 o  \n",
       "991  2022-02-27 01:56:55 2022-03-12  991 0.19582045 t  \n",
       "992  2022-02-27 09:13:39 2022-03-11  992 0.81890676 f  \n",
       "993  2022-02-27 04:18:41 2022-03-24  993 0.81300542 t  \n",
       "994  2022-02-27 06:12:42 2022-03-02  994 0.68618164 j  \n",
       "995  2022-02-27 13:58:32 2022-03-21  995 0.85212184 a  \n",
       "996  2022-02-27 10:00:04 2022-03-24  996 0.94618908 u  \n",
       "997  2022-02-27 03:47:12 2022-03-04  997 0.13154244 b  \n",
       "998  2022-02-27 02:12:01 2022-03-10  998 0.54683708 k  \n",
       "999  2022-02-27 05:41:10 2022-02-28  999 0.74888599 y  \n",
       "1000 2022-02-27 00:55:41 2022-03-16 1000 0.32744620 l  "
      ]
     },
     "metadata": {},
     "output_type": "display_data"
    }
   ],
   "source": [
    "tibble(\n",
    "        a = lubridate::now() + runif(1e3) * 86400,\n",
    "        b = lubridate::today() + runif(1e3) * 30,\n",
    "        c = 1:1e3,\n",
    "        d = runif(1e3),\n",
    "        e = sample(letters, 1e3, replace = TRUE)\n",
    "      )"
   ]
  },
  {
   "cell_type": "code",
   "execution_count": 11,
   "id": "e5d16015",
   "metadata": {
    "scrolled": true
   },
   "outputs": [
    {
     "data": {
      "text/html": [
       "<style>\n",
       ".list-inline {list-style: none; margin:0; padding: 0}\n",
       ".list-inline>li {display: inline-block}\n",
       ".list-inline>li:not(:last-child)::after {content: \"\\00b7\"; padding: 0 .5ex}\n",
       "</style>\n",
       "<ol class=list-inline><li>0.780637384625152</li><li>0.302642908412963</li><li>0.0139935393817723</li><li>0.115753461606801</li><li>0.576494983863086</li></ol>\n"
      ],
      "text/latex": [
       "\\begin{enumerate*}\n",
       "\\item 0.780637384625152\n",
       "\\item 0.302642908412963\n",
       "\\item 0.0139935393817723\n",
       "\\item 0.115753461606801\n",
       "\\item 0.576494983863086\n",
       "\\end{enumerate*}\n"
      ],
      "text/markdown": [
       "1. 0.780637384625152\n",
       "2. 0.302642908412963\n",
       "3. 0.0139935393817723\n",
       "4. 0.115753461606801\n",
       "5. 0.576494983863086\n",
       "\n",
       "\n"
      ],
      "text/plain": [
       "[1] 0.78063738 0.30264291 0.01399354 0.11575346 0.57649498"
      ]
     },
     "metadata": {},
     "output_type": "display_data"
    },
    {
     "data": {
      "text/html": [
       "<style>\n",
       ".list-inline {list-style: none; margin:0; padding: 0}\n",
       ".list-inline>li {display: inline-block}\n",
       ".list-inline>li:not(:last-child)::after {content: \"\\00b7\"; padding: 0 .5ex}\n",
       "</style>\n",
       "<ol class=list-inline><li>0.780637384625152</li><li>0.302642908412963</li><li>0.0139935393817723</li><li>0.115753461606801</li><li>0.576494983863086</li></ol>\n"
      ],
      "text/latex": [
       "\\begin{enumerate*}\n",
       "\\item 0.780637384625152\n",
       "\\item 0.302642908412963\n",
       "\\item 0.0139935393817723\n",
       "\\item 0.115753461606801\n",
       "\\item 0.576494983863086\n",
       "\\end{enumerate*}\n"
      ],
      "text/markdown": [
       "1. 0.780637384625152\n",
       "2. 0.302642908412963\n",
       "3. 0.0139935393817723\n",
       "4. 0.115753461606801\n",
       "5. 0.576494983863086\n",
       "\n",
       "\n"
      ],
      "text/plain": [
       "[1] 0.78063738 0.30264291 0.01399354 0.11575346 0.57649498"
      ]
     },
     "metadata": {},
     "output_type": "display_data"
    },
    {
     "data": {
      "text/html": [
       "<style>\n",
       ".list-inline {list-style: none; margin:0; padding: 0}\n",
       ".list-inline>li {display: inline-block}\n",
       ".list-inline>li:not(:last-child)::after {content: \"\\00b7\"; padding: 0 .5ex}\n",
       "</style>\n",
       "<ol class=list-inline><li>0.780637384625152</li><li>0.302642908412963</li><li>0.0139935393817723</li><li>0.115753461606801</li><li>0.576494983863086</li></ol>\n"
      ],
      "text/latex": [
       "\\begin{enumerate*}\n",
       "\\item 0.780637384625152\n",
       "\\item 0.302642908412963\n",
       "\\item 0.0139935393817723\n",
       "\\item 0.115753461606801\n",
       "\\item 0.576494983863086\n",
       "\\end{enumerate*}\n"
      ],
      "text/markdown": [
       "1. 0.780637384625152\n",
       "2. 0.302642908412963\n",
       "3. 0.0139935393817723\n",
       "4. 0.115753461606801\n",
       "5. 0.576494983863086\n",
       "\n",
       "\n"
      ],
      "text/plain": [
       "[1] 0.78063738 0.30264291 0.01399354 0.11575346 0.57649498"
      ]
     },
     "metadata": {},
     "output_type": "display_data"
    },
    {
     "data": {
      "text/html": [
       "<style>\n",
       ".list-inline {list-style: none; margin:0; padding: 0}\n",
       ".list-inline>li {display: inline-block}\n",
       ".list-inline>li:not(:last-child)::after {content: \"\\00b7\"; padding: 0 .5ex}\n",
       "</style>\n",
       "<ol class=list-inline><li>0.780637384625152</li><li>0.302642908412963</li><li>0.0139935393817723</li><li>0.115753461606801</li><li>0.576494983863086</li></ol>\n"
      ],
      "text/latex": [
       "\\begin{enumerate*}\n",
       "\\item 0.780637384625152\n",
       "\\item 0.302642908412963\n",
       "\\item 0.0139935393817723\n",
       "\\item 0.115753461606801\n",
       "\\item 0.576494983863086\n",
       "\\end{enumerate*}\n"
      ],
      "text/markdown": [
       "1. 0.780637384625152\n",
       "2. 0.302642908412963\n",
       "3. 0.0139935393817723\n",
       "4. 0.115753461606801\n",
       "5. 0.576494983863086\n",
       "\n",
       "\n"
      ],
      "text/plain": [
       "[1] 0.78063738 0.30264291 0.01399354 0.11575346 0.57649498"
      ]
     },
     "metadata": {},
     "output_type": "display_data"
    },
    {
     "data": {
      "text/html": [
       "<style>\n",
       ".list-inline {list-style: none; margin:0; padding: 0}\n",
       ".list-inline>li {display: inline-block}\n",
       ".list-inline>li:not(:last-child)::after {content: \"\\00b7\"; padding: 0 .5ex}\n",
       "</style>\n",
       "<ol class=list-inline><li>0.780637384625152</li><li>0.302642908412963</li><li>0.0139935393817723</li><li>0.115753461606801</li><li>0.576494983863086</li></ol>\n"
      ],
      "text/latex": [
       "\\begin{enumerate*}\n",
       "\\item 0.780637384625152\n",
       "\\item 0.302642908412963\n",
       "\\item 0.0139935393817723\n",
       "\\item 0.115753461606801\n",
       "\\item 0.576494983863086\n",
       "\\end{enumerate*}\n"
      ],
      "text/markdown": [
       "1. 0.780637384625152\n",
       "2. 0.302642908412963\n",
       "3. 0.0139935393817723\n",
       "4. 0.115753461606801\n",
       "5. 0.576494983863086\n",
       "\n",
       "\n"
      ],
      "text/plain": [
       "[1] 0.78063738 0.30264291 0.01399354 0.11575346 0.57649498"
      ]
     },
     "metadata": {},
     "output_type": "display_data"
    }
   ],
   "source": [
    "df <- tibble(\n",
    "          x = runif(5),\n",
    "          y = rnorm(5)\n",
    "        )\n",
    "\n",
    "df$x\n",
    "df[[\"x\"]]   \n",
    "df[[1]] \n",
    "df %>% .$x\n",
    "df %>% .[[\"x\"]]  "
   ]
  },
  {
   "cell_type": "code",
   "execution_count": 12,
   "id": "6ca5c136",
   "metadata": {},
   "outputs": [
    {
     "data": {
      "text/html": [
       "'data.frame'"
      ],
      "text/latex": [
       "'data.frame'"
      ],
      "text/markdown": [
       "'data.frame'"
      ],
      "text/plain": [
       "[1] \"data.frame\""
      ]
     },
     "metadata": {},
     "output_type": "display_data"
    }
   ],
   "source": [
    "class(as.data.frame(tb))"
   ]
  },
  {
   "cell_type": "code",
   "execution_count": 16,
   "id": "de9597ff",
   "metadata": {},
   "outputs": [
    {
     "data": {
      "text/html": [
       "1"
      ],
      "text/latex": [
       "1"
      ],
      "text/markdown": [
       "1"
      ],
      "text/plain": [
       "[1] 1"
      ]
     },
     "metadata": {},
     "output_type": "display_data"
    },
    {
     "data": {
      "text/html": [
       "'a'"
      ],
      "text/latex": [
       "'a'"
      ],
      "text/markdown": [
       "'a'"
      ],
      "text/plain": [
       "[1] \"a\""
      ]
     },
     "metadata": {},
     "output_type": "display_data"
    },
    {
     "data": {
      "text/html": [
       "<table class=\"dataframe\">\n",
       "<caption>A data.frame: 1 × 2</caption>\n",
       "<thead>\n",
       "\t<tr><th scope=col>abc</th><th scope=col>xyz</th></tr>\n",
       "\t<tr><th scope=col>&lt;dbl&gt;</th><th scope=col>&lt;chr&gt;</th></tr>\n",
       "</thead>\n",
       "<tbody>\n",
       "\t<tr><td>1</td><td>a</td></tr>\n",
       "</tbody>\n",
       "</table>\n"
      ],
      "text/latex": [
       "A data.frame: 1 × 2\n",
       "\\begin{tabular}{ll}\n",
       " abc & xyz\\\\\n",
       " <dbl> & <chr>\\\\\n",
       "\\hline\n",
       "\t 1 & a\\\\\n",
       "\\end{tabular}\n"
      ],
      "text/markdown": [
       "\n",
       "A data.frame: 1 × 2\n",
       "\n",
       "| abc &lt;dbl&gt; | xyz &lt;chr&gt; |\n",
       "|---|---|\n",
       "| 1 | a |\n",
       "\n"
      ],
      "text/plain": [
       "  abc xyz\n",
       "1 1   a  "
      ]
     },
     "metadata": {},
     "output_type": "display_data"
    },
    {
     "data": {
      "text/html": [
       "'character'"
      ],
      "text/latex": [
       "'character'"
      ],
      "text/markdown": [
       "'character'"
      ],
      "text/plain": [
       "[1] \"character\""
      ]
     },
     "metadata": {},
     "output_type": "display_data"
    },
    {
     "data": {
      "text/html": [
       "'data.frame'"
      ],
      "text/latex": [
       "'data.frame'"
      ],
      "text/markdown": [
       "'data.frame'"
      ],
      "text/plain": [
       "[1] \"data.frame\""
      ]
     },
     "metadata": {},
     "output_type": "display_data"
    }
   ],
   "source": [
    "df <- data.frame(abc = 1, xyz = \"a\")\n",
    "df$a\n",
    "df[, \"xyz\"]\n",
    "df[, c(\"abc\", \"xyz\")]    \n",
    "class(df[, \"xyz\"])\n",
    "class(df[, c(\"abc\", \"xyz\")])\n",
    "          "
   ]
  },
  {
   "cell_type": "code",
   "execution_count": 17,
   "id": "02f93238",
   "metadata": {
    "scrolled": false
   },
   "outputs": [
    {
     "name": "stderr",
     "output_type": "stream",
     "text": [
      "Warning message:\n",
      "\"Unknown or uninitialised column: `x`.\"\n"
     ]
    },
    {
     "data": {
      "text/plain": [
       "NULL"
      ]
     },
     "metadata": {},
     "output_type": "display_data"
    },
    {
     "data": {
      "text/html": [
       "'a'"
      ],
      "text/latex": [
       "'a'"
      ],
      "text/markdown": [
       "'a'"
      ],
      "text/plain": [
       "[1] \"a\""
      ]
     },
     "metadata": {},
     "output_type": "display_data"
    },
    {
     "data": {
      "text/html": [
       "<table class=\"dataframe\">\n",
       "<caption>A tibble: 1 × 1</caption>\n",
       "<thead>\n",
       "\t<tr><th scope=col>xyz</th></tr>\n",
       "\t<tr><th scope=col>&lt;chr&gt;</th></tr>\n",
       "</thead>\n",
       "<tbody>\n",
       "\t<tr><td>a</td></tr>\n",
       "</tbody>\n",
       "</table>\n"
      ],
      "text/latex": [
       "A tibble: 1 × 1\n",
       "\\begin{tabular}{l}\n",
       " xyz\\\\\n",
       " <chr>\\\\\n",
       "\\hline\n",
       "\t a\\\\\n",
       "\\end{tabular}\n"
      ],
      "text/markdown": [
       "\n",
       "A tibble: 1 × 1\n",
       "\n",
       "| xyz &lt;chr&gt; |\n",
       "|---|\n",
       "| a |\n",
       "\n"
      ],
      "text/plain": [
       "  xyz\n",
       "1 a  "
      ]
     },
     "metadata": {},
     "output_type": "display_data"
    },
    {
     "data": {
      "text/html": [
       "<table class=\"dataframe\">\n",
       "<caption>A tibble: 1 × 2</caption>\n",
       "<thead>\n",
       "\t<tr><th scope=col>abc</th><th scope=col>xyz</th></tr>\n",
       "\t<tr><th scope=col>&lt;dbl&gt;</th><th scope=col>&lt;chr&gt;</th></tr>\n",
       "</thead>\n",
       "<tbody>\n",
       "\t<tr><td>1</td><td>a</td></tr>\n",
       "</tbody>\n",
       "</table>\n"
      ],
      "text/latex": [
       "A tibble: 1 × 2\n",
       "\\begin{tabular}{ll}\n",
       " abc & xyz\\\\\n",
       " <dbl> & <chr>\\\\\n",
       "\\hline\n",
       "\t 1 & a\\\\\n",
       "\\end{tabular}\n"
      ],
      "text/markdown": [
       "\n",
       "A tibble: 1 × 2\n",
       "\n",
       "| abc &lt;dbl&gt; | xyz &lt;chr&gt; |\n",
       "|---|---|\n",
       "| 1 | a |\n",
       "\n"
      ],
      "text/plain": [
       "  abc xyz\n",
       "1 1   a  "
      ]
     },
     "metadata": {},
     "output_type": "display_data"
    },
    {
     "data": {
      "text/html": [
       "<style>\n",
       ".list-inline {list-style: none; margin:0; padding: 0}\n",
       ".list-inline>li {display: inline-block}\n",
       ".list-inline>li:not(:last-child)::after {content: \"\\00b7\"; padding: 0 .5ex}\n",
       "</style>\n",
       "<ol class=list-inline><li>'tbl_df'</li><li>'tbl'</li><li>'data.frame'</li></ol>\n"
      ],
      "text/latex": [
       "\\begin{enumerate*}\n",
       "\\item 'tbl\\_df'\n",
       "\\item 'tbl'\n",
       "\\item 'data.frame'\n",
       "\\end{enumerate*}\n"
      ],
      "text/markdown": [
       "1. 'tbl_df'\n",
       "2. 'tbl'\n",
       "3. 'data.frame'\n",
       "\n",
       "\n"
      ],
      "text/plain": [
       "[1] \"tbl_df\"     \"tbl\"        \"data.frame\""
      ]
     },
     "metadata": {},
     "output_type": "display_data"
    },
    {
     "data": {
      "text/html": [
       "<style>\n",
       ".list-inline {list-style: none; margin:0; padding: 0}\n",
       ".list-inline>li {display: inline-block}\n",
       ".list-inline>li:not(:last-child)::after {content: \"\\00b7\"; padding: 0 .5ex}\n",
       "</style>\n",
       "<ol class=list-inline><li>'tbl_df'</li><li>'tbl'</li><li>'data.frame'</li></ol>\n"
      ],
      "text/latex": [
       "\\begin{enumerate*}\n",
       "\\item 'tbl\\_df'\n",
       "\\item 'tbl'\n",
       "\\item 'data.frame'\n",
       "\\end{enumerate*}\n"
      ],
      "text/markdown": [
       "1. 'tbl_df'\n",
       "2. 'tbl'\n",
       "3. 'data.frame'\n",
       "\n",
       "\n"
      ],
      "text/plain": [
       "[1] \"tbl_df\"     \"tbl\"        \"data.frame\""
      ]
     },
     "metadata": {},
     "output_type": "display_data"
    }
   ],
   "source": [
    "tb <- tibble(abc = 1, xyz = \"a\")          \n",
    "tb$x          \n",
    "tb$xyz\n",
    "tb[,\"xyz\"]          \n",
    "tb[, c(\"abc\", \"xyz\")]\n",
    "class(tb[,\"xyz\"])\n",
    "class(tb[, c(\"abc\", \"xyz\")])"
   ]
  },
  {
   "cell_type": "code",
   "execution_count": 4,
   "id": "5f3a8521",
   "metadata": {},
   "outputs": [
    {
     "data": {
      "text/html": [
       "<table class=\"dataframe\">\n",
       "<caption>A tibble: 6 × 4</caption>\n",
       "<thead>\n",
       "\t<tr><th scope=col>country</th><th scope=col>year</th><th scope=col>cases</th><th scope=col>population</th></tr>\n",
       "\t<tr><th scope=col>&lt;chr&gt;</th><th scope=col>&lt;int&gt;</th><th scope=col>&lt;int&gt;</th><th scope=col>&lt;int&gt;</th></tr>\n",
       "</thead>\n",
       "<tbody>\n",
       "\t<tr><td>Afghanistan</td><td>1999</td><td>   745</td><td>  19987071</td></tr>\n",
       "\t<tr><td>Afghanistan</td><td>2000</td><td>  2666</td><td>  20595360</td></tr>\n",
       "\t<tr><td>Brazil     </td><td>1999</td><td> 37737</td><td> 172006362</td></tr>\n",
       "\t<tr><td>Brazil     </td><td>2000</td><td> 80488</td><td> 174504898</td></tr>\n",
       "\t<tr><td>China      </td><td>1999</td><td>212258</td><td>1272915272</td></tr>\n",
       "\t<tr><td>China      </td><td>2000</td><td>213766</td><td>1280428583</td></tr>\n",
       "</tbody>\n",
       "</table>\n"
      ],
      "text/latex": [
       "A tibble: 6 × 4\n",
       "\\begin{tabular}{llll}\n",
       " country & year & cases & population\\\\\n",
       " <chr> & <int> & <int> & <int>\\\\\n",
       "\\hline\n",
       "\t Afghanistan & 1999 &    745 &   19987071\\\\\n",
       "\t Afghanistan & 2000 &   2666 &   20595360\\\\\n",
       "\t Brazil      & 1999 &  37737 &  172006362\\\\\n",
       "\t Brazil      & 2000 &  80488 &  174504898\\\\\n",
       "\t China       & 1999 & 212258 & 1272915272\\\\\n",
       "\t China       & 2000 & 213766 & 1280428583\\\\\n",
       "\\end{tabular}\n"
      ],
      "text/markdown": [
       "\n",
       "A tibble: 6 × 4\n",
       "\n",
       "| country &lt;chr&gt; | year &lt;int&gt; | cases &lt;int&gt; | population &lt;int&gt; |\n",
       "|---|---|---|---|\n",
       "| Afghanistan | 1999 |    745 |   19987071 |\n",
       "| Afghanistan | 2000 |   2666 |   20595360 |\n",
       "| Brazil      | 1999 |  37737 |  172006362 |\n",
       "| Brazil      | 2000 |  80488 |  174504898 |\n",
       "| China       | 1999 | 212258 | 1272915272 |\n",
       "| China       | 2000 | 213766 | 1280428583 |\n",
       "\n"
      ],
      "text/plain": [
       "  country     year cases  population\n",
       "1 Afghanistan 1999    745   19987071\n",
       "2 Afghanistan 2000   2666   20595360\n",
       "3 Brazil      1999  37737  172006362\n",
       "4 Brazil      2000  80488  174504898\n",
       "5 China       1999 212258 1272915272\n",
       "6 China       2000 213766 1280428583"
      ]
     },
     "metadata": {},
     "output_type": "display_data"
    },
    {
     "data": {
      "text/html": [
       "<table class=\"dataframe\">\n",
       "<caption>A tibble: 12 × 4</caption>\n",
       "<thead>\n",
       "\t<tr><th scope=col>country</th><th scope=col>year</th><th scope=col>type</th><th scope=col>count</th></tr>\n",
       "\t<tr><th scope=col>&lt;chr&gt;</th><th scope=col>&lt;int&gt;</th><th scope=col>&lt;chr&gt;</th><th scope=col>&lt;int&gt;</th></tr>\n",
       "</thead>\n",
       "<tbody>\n",
       "\t<tr><td>Afghanistan</td><td>1999</td><td>cases     </td><td>       745</td></tr>\n",
       "\t<tr><td>Afghanistan</td><td>1999</td><td>population</td><td>  19987071</td></tr>\n",
       "\t<tr><td>Afghanistan</td><td>2000</td><td>cases     </td><td>      2666</td></tr>\n",
       "\t<tr><td>Afghanistan</td><td>2000</td><td>population</td><td>  20595360</td></tr>\n",
       "\t<tr><td>Brazil     </td><td>1999</td><td>cases     </td><td>     37737</td></tr>\n",
       "\t<tr><td>Brazil     </td><td>1999</td><td>population</td><td> 172006362</td></tr>\n",
       "\t<tr><td>Brazil     </td><td>2000</td><td>cases     </td><td>     80488</td></tr>\n",
       "\t<tr><td>Brazil     </td><td>2000</td><td>population</td><td> 174504898</td></tr>\n",
       "\t<tr><td>China      </td><td>1999</td><td>cases     </td><td>    212258</td></tr>\n",
       "\t<tr><td>China      </td><td>1999</td><td>population</td><td>1272915272</td></tr>\n",
       "\t<tr><td>China      </td><td>2000</td><td>cases     </td><td>    213766</td></tr>\n",
       "\t<tr><td>China      </td><td>2000</td><td>population</td><td>1280428583</td></tr>\n",
       "</tbody>\n",
       "</table>\n"
      ],
      "text/latex": [
       "A tibble: 12 × 4\n",
       "\\begin{tabular}{llll}\n",
       " country & year & type & count\\\\\n",
       " <chr> & <int> & <chr> & <int>\\\\\n",
       "\\hline\n",
       "\t Afghanistan & 1999 & cases      &        745\\\\\n",
       "\t Afghanistan & 1999 & population &   19987071\\\\\n",
       "\t Afghanistan & 2000 & cases      &       2666\\\\\n",
       "\t Afghanistan & 2000 & population &   20595360\\\\\n",
       "\t Brazil      & 1999 & cases      &      37737\\\\\n",
       "\t Brazil      & 1999 & population &  172006362\\\\\n",
       "\t Brazil      & 2000 & cases      &      80488\\\\\n",
       "\t Brazil      & 2000 & population &  174504898\\\\\n",
       "\t China       & 1999 & cases      &     212258\\\\\n",
       "\t China       & 1999 & population & 1272915272\\\\\n",
       "\t China       & 2000 & cases      &     213766\\\\\n",
       "\t China       & 2000 & population & 1280428583\\\\\n",
       "\\end{tabular}\n"
      ],
      "text/markdown": [
       "\n",
       "A tibble: 12 × 4\n",
       "\n",
       "| country &lt;chr&gt; | year &lt;int&gt; | type &lt;chr&gt; | count &lt;int&gt; |\n",
       "|---|---|---|---|\n",
       "| Afghanistan | 1999 | cases      |        745 |\n",
       "| Afghanistan | 1999 | population |   19987071 |\n",
       "| Afghanistan | 2000 | cases      |       2666 |\n",
       "| Afghanistan | 2000 | population |   20595360 |\n",
       "| Brazil      | 1999 | cases      |      37737 |\n",
       "| Brazil      | 1999 | population |  172006362 |\n",
       "| Brazil      | 2000 | cases      |      80488 |\n",
       "| Brazil      | 2000 | population |  174504898 |\n",
       "| China       | 1999 | cases      |     212258 |\n",
       "| China       | 1999 | population | 1272915272 |\n",
       "| China       | 2000 | cases      |     213766 |\n",
       "| China       | 2000 | population | 1280428583 |\n",
       "\n"
      ],
      "text/plain": [
       "   country     year type       count     \n",
       "1  Afghanistan 1999 cases             745\n",
       "2  Afghanistan 1999 population   19987071\n",
       "3  Afghanistan 2000 cases            2666\n",
       "4  Afghanistan 2000 population   20595360\n",
       "5  Brazil      1999 cases           37737\n",
       "6  Brazil      1999 population  172006362\n",
       "7  Brazil      2000 cases           80488\n",
       "8  Brazil      2000 population  174504898\n",
       "9  China       1999 cases          212258\n",
       "10 China       1999 population 1272915272\n",
       "11 China       2000 cases          213766\n",
       "12 China       2000 population 1280428583"
      ]
     },
     "metadata": {},
     "output_type": "display_data"
    },
    {
     "data": {
      "text/html": [
       "<table class=\"dataframe\">\n",
       "<caption>A tibble: 6 × 3</caption>\n",
       "<thead>\n",
       "\t<tr><th></th><th scope=col>country</th><th scope=col>year</th><th scope=col>rate</th></tr>\n",
       "\t<tr><th></th><th scope=col>&lt;chr&gt;</th><th scope=col>&lt;int&gt;</th><th scope=col>&lt;chr&gt;</th></tr>\n",
       "</thead>\n",
       "<tbody>\n",
       "\t<tr><th scope=row>1</th><td>Afghanistan</td><td>1999</td><td>745/19987071     </td></tr>\n",
       "\t<tr><th scope=row>2</th><td>Afghanistan</td><td>2000</td><td>2666/20595360    </td></tr>\n",
       "\t<tr><th scope=row>3</th><td>Brazil     </td><td>1999</td><td>37737/172006362  </td></tr>\n",
       "\t<tr><th scope=row>4</th><td>Brazil     </td><td>2000</td><td>80488/174504898  </td></tr>\n",
       "\t<tr><th scope=row>5</th><td>China      </td><td>1999</td><td>212258/1272915272</td></tr>\n",
       "\t<tr><th scope=row>6</th><td>China      </td><td>2000</td><td>213766/1280428583</td></tr>\n",
       "</tbody>\n",
       "</table>\n"
      ],
      "text/latex": [
       "A tibble: 6 × 3\n",
       "\\begin{tabular}{r|lll}\n",
       "  & country & year & rate\\\\\n",
       "  & <chr> & <int> & <chr>\\\\\n",
       "\\hline\n",
       "\t1 & Afghanistan & 1999 & 745/19987071     \\\\\n",
       "\t2 & Afghanistan & 2000 & 2666/20595360    \\\\\n",
       "\t3 & Brazil      & 1999 & 37737/172006362  \\\\\n",
       "\t4 & Brazil      & 2000 & 80488/174504898  \\\\\n",
       "\t5 & China       & 1999 & 212258/1272915272\\\\\n",
       "\t6 & China       & 2000 & 213766/1280428583\\\\\n",
       "\\end{tabular}\n"
      ],
      "text/markdown": [
       "\n",
       "A tibble: 6 × 3\n",
       "\n",
       "| <!--/--> | country &lt;chr&gt; | year &lt;int&gt; | rate &lt;chr&gt; |\n",
       "|---|---|---|---|\n",
       "| 1 | Afghanistan | 1999 | 745/19987071      |\n",
       "| 2 | Afghanistan | 2000 | 2666/20595360     |\n",
       "| 3 | Brazil      | 1999 | 37737/172006362   |\n",
       "| 4 | Brazil      | 2000 | 80488/174504898   |\n",
       "| 5 | China       | 1999 | 212258/1272915272 |\n",
       "| 6 | China       | 2000 | 213766/1280428583 |\n",
       "\n"
      ],
      "text/plain": [
       "  country     year rate             \n",
       "1 Afghanistan 1999 745/19987071     \n",
       "2 Afghanistan 2000 2666/20595360    \n",
       "3 Brazil      1999 37737/172006362  \n",
       "4 Brazil      2000 80488/174504898  \n",
       "5 China       1999 212258/1272915272\n",
       "6 China       2000 213766/1280428583"
      ]
     },
     "metadata": {},
     "output_type": "display_data"
    },
    {
     "data": {
      "text/html": [
       "<table class=\"dataframe\">\n",
       "<caption>A tibble: 3 × 3</caption>\n",
       "<thead>\n",
       "\t<tr><th></th><th scope=col>country</th><th scope=col>1999</th><th scope=col>2000</th></tr>\n",
       "\t<tr><th></th><th scope=col>&lt;chr&gt;</th><th scope=col>&lt;int&gt;</th><th scope=col>&lt;int&gt;</th></tr>\n",
       "</thead>\n",
       "<tbody>\n",
       "\t<tr><th scope=row>1</th><td>Afghanistan</td><td>   745</td><td>  2666</td></tr>\n",
       "\t<tr><th scope=row>2</th><td>Brazil     </td><td> 37737</td><td> 80488</td></tr>\n",
       "\t<tr><th scope=row>3</th><td>China      </td><td>212258</td><td>213766</td></tr>\n",
       "</tbody>\n",
       "</table>\n"
      ],
      "text/latex": [
       "A tibble: 3 × 3\n",
       "\\begin{tabular}{r|lll}\n",
       "  & country & 1999 & 2000\\\\\n",
       "  & <chr> & <int> & <int>\\\\\n",
       "\\hline\n",
       "\t1 & Afghanistan &    745 &   2666\\\\\n",
       "\t2 & Brazil      &  37737 &  80488\\\\\n",
       "\t3 & China       & 212258 & 213766\\\\\n",
       "\\end{tabular}\n"
      ],
      "text/markdown": [
       "\n",
       "A tibble: 3 × 3\n",
       "\n",
       "| <!--/--> | country &lt;chr&gt; | 1999 &lt;int&gt; | 2000 &lt;int&gt; |\n",
       "|---|---|---|---|\n",
       "| 1 | Afghanistan |    745 |   2666 |\n",
       "| 2 | Brazil      |  37737 |  80488 |\n",
       "| 3 | China       | 212258 | 213766 |\n",
       "\n"
      ],
      "text/plain": [
       "  country     1999   2000  \n",
       "1 Afghanistan    745   2666\n",
       "2 Brazil       37737  80488\n",
       "3 China       212258 213766"
      ]
     },
     "metadata": {},
     "output_type": "display_data"
    },
    {
     "data": {
      "text/html": [
       "<table class=\"dataframe\">\n",
       "<caption>A tibble: 3 × 3</caption>\n",
       "<thead>\n",
       "\t<tr><th></th><th scope=col>country</th><th scope=col>1999</th><th scope=col>2000</th></tr>\n",
       "\t<tr><th></th><th scope=col>&lt;chr&gt;</th><th scope=col>&lt;int&gt;</th><th scope=col>&lt;int&gt;</th></tr>\n",
       "</thead>\n",
       "<tbody>\n",
       "\t<tr><th scope=row>1</th><td>Afghanistan</td><td>  19987071</td><td>  20595360</td></tr>\n",
       "\t<tr><th scope=row>2</th><td>Brazil     </td><td> 172006362</td><td> 174504898</td></tr>\n",
       "\t<tr><th scope=row>3</th><td>China      </td><td>1272915272</td><td>1280428583</td></tr>\n",
       "</tbody>\n",
       "</table>\n"
      ],
      "text/latex": [
       "A tibble: 3 × 3\n",
       "\\begin{tabular}{r|lll}\n",
       "  & country & 1999 & 2000\\\\\n",
       "  & <chr> & <int> & <int>\\\\\n",
       "\\hline\n",
       "\t1 & Afghanistan &   19987071 &   20595360\\\\\n",
       "\t2 & Brazil      &  172006362 &  174504898\\\\\n",
       "\t3 & China       & 1272915272 & 1280428583\\\\\n",
       "\\end{tabular}\n"
      ],
      "text/markdown": [
       "\n",
       "A tibble: 3 × 3\n",
       "\n",
       "| <!--/--> | country &lt;chr&gt; | 1999 &lt;int&gt; | 2000 &lt;int&gt; |\n",
       "|---|---|---|---|\n",
       "| 1 | Afghanistan |   19987071 |   20595360 |\n",
       "| 2 | Brazil      |  172006362 |  174504898 |\n",
       "| 3 | China       | 1272915272 | 1280428583 |\n",
       "\n"
      ],
      "text/plain": [
       "  country     1999       2000      \n",
       "1 Afghanistan   19987071   20595360\n",
       "2 Brazil       172006362  174504898\n",
       "3 China       1272915272 1280428583"
      ]
     },
     "metadata": {},
     "output_type": "display_data"
    },
    {
     "data": {
      "text/html": [
       "<table class=\"dataframe\">\n",
       "<caption>A tibble: 6 × 4</caption>\n",
       "<thead>\n",
       "\t<tr><th></th><th scope=col>country</th><th scope=col>century</th><th scope=col>year</th><th scope=col>rate</th></tr>\n",
       "\t<tr><th></th><th scope=col>&lt;chr&gt;</th><th scope=col>&lt;chr&gt;</th><th scope=col>&lt;chr&gt;</th><th scope=col>&lt;chr&gt;</th></tr>\n",
       "</thead>\n",
       "<tbody>\n",
       "\t<tr><th scope=row>1</th><td>Afghanistan</td><td>19</td><td>99</td><td>745/19987071     </td></tr>\n",
       "\t<tr><th scope=row>2</th><td>Afghanistan</td><td>20</td><td>00</td><td>2666/20595360    </td></tr>\n",
       "\t<tr><th scope=row>3</th><td>Brazil     </td><td>19</td><td>99</td><td>37737/172006362  </td></tr>\n",
       "\t<tr><th scope=row>4</th><td>Brazil     </td><td>20</td><td>00</td><td>80488/174504898  </td></tr>\n",
       "\t<tr><th scope=row>5</th><td>China      </td><td>19</td><td>99</td><td>212258/1272915272</td></tr>\n",
       "\t<tr><th scope=row>6</th><td>China      </td><td>20</td><td>00</td><td>213766/1280428583</td></tr>\n",
       "</tbody>\n",
       "</table>\n"
      ],
      "text/latex": [
       "A tibble: 6 × 4\n",
       "\\begin{tabular}{r|llll}\n",
       "  & country & century & year & rate\\\\\n",
       "  & <chr> & <chr> & <chr> & <chr>\\\\\n",
       "\\hline\n",
       "\t1 & Afghanistan & 19 & 99 & 745/19987071     \\\\\n",
       "\t2 & Afghanistan & 20 & 00 & 2666/20595360    \\\\\n",
       "\t3 & Brazil      & 19 & 99 & 37737/172006362  \\\\\n",
       "\t4 & Brazil      & 20 & 00 & 80488/174504898  \\\\\n",
       "\t5 & China       & 19 & 99 & 212258/1272915272\\\\\n",
       "\t6 & China       & 20 & 00 & 213766/1280428583\\\\\n",
       "\\end{tabular}\n"
      ],
      "text/markdown": [
       "\n",
       "A tibble: 6 × 4\n",
       "\n",
       "| <!--/--> | country &lt;chr&gt; | century &lt;chr&gt; | year &lt;chr&gt; | rate &lt;chr&gt; |\n",
       "|---|---|---|---|---|\n",
       "| 1 | Afghanistan | 19 | 99 | 745/19987071      |\n",
       "| 2 | Afghanistan | 20 | 00 | 2666/20595360     |\n",
       "| 3 | Brazil      | 19 | 99 | 37737/172006362   |\n",
       "| 4 | Brazil      | 20 | 00 | 80488/174504898   |\n",
       "| 5 | China       | 19 | 99 | 212258/1272915272 |\n",
       "| 6 | China       | 20 | 00 | 213766/1280428583 |\n",
       "\n"
      ],
      "text/plain": [
       "  country     century year rate             \n",
       "1 Afghanistan 19      99   745/19987071     \n",
       "2 Afghanistan 20      00   2666/20595360    \n",
       "3 Brazil      19      99   37737/172006362  \n",
       "4 Brazil      20      00   80488/174504898  \n",
       "5 China       19      99   212258/1272915272\n",
       "6 China       20      00   213766/1280428583"
      ]
     },
     "metadata": {},
     "output_type": "display_data"
    }
   ],
   "source": [
    "## example tibbles\n",
    "table1\n",
    "table2\n",
    "table3\n",
    "table4a\n",
    "table4b\n",
    "table5"
   ]
  },
  {
   "cell_type": "markdown",
   "id": "6d0be610",
   "metadata": {},
   "source": [
    "### Tidy dataset\n",
    "\n",
    "There are three interrelated rules which make a dataset tidy:\n",
    "1. Each variable must have its own column.\n",
    "2. Each observation must have its own row.\n",
    "3. Each value must have its own cell.\n",
    "\n",
    "These three rules are interrelated because it’s impossible to only satisfy two of the three. That interrelationship leads to an even simpler set of practical instructions:\n",
    "\n",
    "1. Put each dataset in a tibble.\n",
    "2. Put each variable in a column.\n",
    "\n",
    "Two main advantages:\n",
    "- There’s a general advantage to picking one consistent way of storing data. If you have a consistent data structure, it’s easier to learn the tools that work with it because they have an underlying uniformity.\n",
    "- There’s a specific advantage to placing variables in columns because it allows R’s vectorized nature to shine. Most built-in R functions work with vectors of values. That makes transforming tidy data feel particularly natural.\n",
    "\n",
    "dplyr, ggplot2, and all the other packages in the tidyverse are designed to work with tidy data."
   ]
  },
  {
   "cell_type": "code",
   "execution_count": 5,
   "id": "7c4b2cd2",
   "metadata": {},
   "outputs": [
    {
     "data": {
      "text/html": [
       "<table class=\"dataframe\">\n",
       "<caption>A tibble: 6 × 5</caption>\n",
       "<thead>\n",
       "\t<tr><th scope=col>country</th><th scope=col>year</th><th scope=col>cases</th><th scope=col>population</th><th scope=col>rate</th></tr>\n",
       "\t<tr><th scope=col>&lt;chr&gt;</th><th scope=col>&lt;int&gt;</th><th scope=col>&lt;int&gt;</th><th scope=col>&lt;int&gt;</th><th scope=col>&lt;dbl&gt;</th></tr>\n",
       "</thead>\n",
       "<tbody>\n",
       "\t<tr><td>Afghanistan</td><td>1999</td><td>   745</td><td>  19987071</td><td>0.0372741</td></tr>\n",
       "\t<tr><td>Afghanistan</td><td>2000</td><td>  2666</td><td>  20595360</td><td>0.1294466</td></tr>\n",
       "\t<tr><td>Brazil     </td><td>1999</td><td> 37737</td><td> 172006362</td><td>0.2193930</td></tr>\n",
       "\t<tr><td>Brazil     </td><td>2000</td><td> 80488</td><td> 174504898</td><td>0.4612363</td></tr>\n",
       "\t<tr><td>China      </td><td>1999</td><td>212258</td><td>1272915272</td><td>0.1667495</td></tr>\n",
       "\t<tr><td>China      </td><td>2000</td><td>213766</td><td>1280428583</td><td>0.1669488</td></tr>\n",
       "</tbody>\n",
       "</table>\n"
      ],
      "text/latex": [
       "A tibble: 6 × 5\n",
       "\\begin{tabular}{lllll}\n",
       " country & year & cases & population & rate\\\\\n",
       " <chr> & <int> & <int> & <int> & <dbl>\\\\\n",
       "\\hline\n",
       "\t Afghanistan & 1999 &    745 &   19987071 & 0.0372741\\\\\n",
       "\t Afghanistan & 2000 &   2666 &   20595360 & 0.1294466\\\\\n",
       "\t Brazil      & 1999 &  37737 &  172006362 & 0.2193930\\\\\n",
       "\t Brazil      & 2000 &  80488 &  174504898 & 0.4612363\\\\\n",
       "\t China       & 1999 & 212258 & 1272915272 & 0.1667495\\\\\n",
       "\t China       & 2000 & 213766 & 1280428583 & 0.1669488\\\\\n",
       "\\end{tabular}\n"
      ],
      "text/markdown": [
       "\n",
       "A tibble: 6 × 5\n",
       "\n",
       "| country &lt;chr&gt; | year &lt;int&gt; | cases &lt;int&gt; | population &lt;int&gt; | rate &lt;dbl&gt; |\n",
       "|---|---|---|---|---|\n",
       "| Afghanistan | 1999 |    745 |   19987071 | 0.0372741 |\n",
       "| Afghanistan | 2000 |   2666 |   20595360 | 0.1294466 |\n",
       "| Brazil      | 1999 |  37737 |  172006362 | 0.2193930 |\n",
       "| Brazil      | 2000 |  80488 |  174504898 | 0.4612363 |\n",
       "| China       | 1999 | 212258 | 1272915272 | 0.1667495 |\n",
       "| China       | 2000 | 213766 | 1280428583 | 0.1669488 |\n",
       "\n"
      ],
      "text/plain": [
       "  country     year cases  population rate     \n",
       "1 Afghanistan 1999    745   19987071 0.0372741\n",
       "2 Afghanistan 2000   2666   20595360 0.1294466\n",
       "3 Brazil      1999  37737  172006362 0.2193930\n",
       "4 Brazil      2000  80488  174504898 0.4612363\n",
       "5 China       1999 212258 1272915272 0.1667495\n",
       "6 China       2000 213766 1280428583 0.1669488"
      ]
     },
     "metadata": {},
     "output_type": "display_data"
    }
   ],
   "source": [
    "table1 %>%\n",
    "mutate(rate = cases/population *1000)"
   ]
  },
  {
   "cell_type": "code",
   "execution_count": 8,
   "id": "36d79339",
   "metadata": {},
   "outputs": [
    {
     "data": {
      "text/html": [
       "<table class=\"dataframe\">\n",
       "<caption>A tibble: 2 × 2</caption>\n",
       "<thead>\n",
       "\t<tr><th scope=col>year</th><th scope=col>n</th></tr>\n",
       "\t<tr><th scope=col>&lt;int&gt;</th><th scope=col>&lt;int&gt;</th></tr>\n",
       "</thead>\n",
       "<tbody>\n",
       "\t<tr><td>1999</td><td>250740</td></tr>\n",
       "\t<tr><td>2000</td><td>296920</td></tr>\n",
       "</tbody>\n",
       "</table>\n"
      ],
      "text/latex": [
       "A tibble: 2 × 2\n",
       "\\begin{tabular}{ll}\n",
       " year & n\\\\\n",
       " <int> & <int>\\\\\n",
       "\\hline\n",
       "\t 1999 & 250740\\\\\n",
       "\t 2000 & 296920\\\\\n",
       "\\end{tabular}\n"
      ],
      "text/markdown": [
       "\n",
       "A tibble: 2 × 2\n",
       "\n",
       "| year &lt;int&gt; | n &lt;int&gt; |\n",
       "|---|---|\n",
       "| 1999 | 250740 |\n",
       "| 2000 | 296920 |\n",
       "\n"
      ],
      "text/plain": [
       "  year n     \n",
       "1 1999 250740\n",
       "2 2000 296920"
      ]
     },
     "metadata": {},
     "output_type": "display_data"
    }
   ],
   "source": [
    "table1 %>%\n",
    "count(year, wt=cases)"
   ]
  },
  {
   "cell_type": "code",
   "execution_count": 16,
   "id": "6fe58eb8",
   "metadata": {},
   "outputs": [
    {
     "data": {
      "image/png": "[encoded data removed]",
      "text/plain": [
       "plot without title"
      ]
     },
     "metadata": {
      "image/png": {
       "height": 420,
       "width": 420
      }
     },
     "output_type": "display_data"
    }
   ],
   "source": [
    "ggplot(table1, aes(year, cases))+\n",
    "geom_line(aes(group=country), color=\"grey50\")+\n",
    "geom_point(aes(color=country))"
   ]
  },
  {
   "cell_type": "markdown",
   "id": "2cce8f33",
   "metadata": {},
   "source": [
    "#### Spreading and Gathering\n",
    "2 common problems:\n",
    "- one variable might be spread across multiple columns - to fix this we use tidyr: gather()\n",
    "- one observation might be scattered across multiple rows - to fix this we use tidyr: gather()\n"
   ]
  },
  {
   "cell_type": "code",
   "execution_count": 19,
   "id": "7a7f52bc",
   "metadata": {},
   "outputs": [
    {
     "data": {
      "text/html": [
       "<table class=\"dataframe\">\n",
       "<caption>A tibble: 3 × 3</caption>\n",
       "<thead>\n",
       "\t<tr><th></th><th scope=col>country</th><th scope=col>1999</th><th scope=col>2000</th></tr>\n",
       "\t<tr><th></th><th scope=col>&lt;chr&gt;</th><th scope=col>&lt;int&gt;</th><th scope=col>&lt;int&gt;</th></tr>\n",
       "</thead>\n",
       "<tbody>\n",
       "\t<tr><th scope=row>1</th><td>Afghanistan</td><td>   745</td><td>  2666</td></tr>\n",
       "\t<tr><th scope=row>2</th><td>Brazil     </td><td> 37737</td><td> 80488</td></tr>\n",
       "\t<tr><th scope=row>3</th><td>China      </td><td>212258</td><td>213766</td></tr>\n",
       "</tbody>\n",
       "</table>\n"
      ],
      "text/latex": [
       "A tibble: 3 × 3\n",
       "\\begin{tabular}{r|lll}\n",
       "  & country & 1999 & 2000\\\\\n",
       "  & <chr> & <int> & <int>\\\\\n",
       "\\hline\n",
       "\t1 & Afghanistan &    745 &   2666\\\\\n",
       "\t2 & Brazil      &  37737 &  80488\\\\\n",
       "\t3 & China       & 212258 & 213766\\\\\n",
       "\\end{tabular}\n"
      ],
      "text/markdown": [
       "\n",
       "A tibble: 3 × 3\n",
       "\n",
       "| <!--/--> | country &lt;chr&gt; | 1999 &lt;int&gt; | 2000 &lt;int&gt; |\n",
       "|---|---|---|---|\n",
       "| 1 | Afghanistan |    745 |   2666 |\n",
       "| 2 | Brazil      |  37737 |  80488 |\n",
       "| 3 | China       | 212258 | 213766 |\n",
       "\n"
      ],
      "text/plain": [
       "  country     1999   2000  \n",
       "1 Afghanistan    745   2666\n",
       "2 Brazil       37737  80488\n",
       "3 China       212258 213766"
      ]
     },
     "metadata": {},
     "output_type": "display_data"
    },
    {
     "data": {
      "text/html": [
       "<table class=\"dataframe\">\n",
       "<caption>A tibble: 6 × 3</caption>\n",
       "<thead>\n",
       "\t<tr><th scope=col>country</th><th scope=col>year</th><th scope=col>cases</th></tr>\n",
       "\t<tr><th scope=col>&lt;chr&gt;</th><th scope=col>&lt;chr&gt;</th><th scope=col>&lt;int&gt;</th></tr>\n",
       "</thead>\n",
       "<tbody>\n",
       "\t<tr><td>Afghanistan</td><td>1999</td><td>   745</td></tr>\n",
       "\t<tr><td>Brazil     </td><td>1999</td><td> 37737</td></tr>\n",
       "\t<tr><td>China      </td><td>1999</td><td>212258</td></tr>\n",
       "\t<tr><td>Afghanistan</td><td>2000</td><td>  2666</td></tr>\n",
       "\t<tr><td>Brazil     </td><td>2000</td><td> 80488</td></tr>\n",
       "\t<tr><td>China      </td><td>2000</td><td>213766</td></tr>\n",
       "</tbody>\n",
       "</table>\n"
      ],
      "text/latex": [
       "A tibble: 6 × 3\n",
       "\\begin{tabular}{lll}\n",
       " country & year & cases\\\\\n",
       " <chr> & <chr> & <int>\\\\\n",
       "\\hline\n",
       "\t Afghanistan & 1999 &    745\\\\\n",
       "\t Brazil      & 1999 &  37737\\\\\n",
       "\t China       & 1999 & 212258\\\\\n",
       "\t Afghanistan & 2000 &   2666\\\\\n",
       "\t Brazil      & 2000 &  80488\\\\\n",
       "\t China       & 2000 & 213766\\\\\n",
       "\\end{tabular}\n"
      ],
      "text/markdown": [
       "\n",
       "A tibble: 6 × 3\n",
       "\n",
       "| country &lt;chr&gt; | year &lt;chr&gt; | cases &lt;int&gt; |\n",
       "|---|---|---|\n",
       "| Afghanistan | 1999 |    745 |\n",
       "| Brazil      | 1999 |  37737 |\n",
       "| China       | 1999 | 212258 |\n",
       "| Afghanistan | 2000 |   2666 |\n",
       "| Brazil      | 2000 |  80488 |\n",
       "| China       | 2000 | 213766 |\n",
       "\n"
      ],
      "text/plain": [
       "  country     year cases \n",
       "1 Afghanistan 1999    745\n",
       "2 Brazil      1999  37737\n",
       "3 China       1999 212258\n",
       "4 Afghanistan 2000   2666\n",
       "5 Brazil      2000  80488\n",
       "6 China       2000 213766"
      ]
     },
     "metadata": {},
     "output_type": "display_data"
    }
   ],
   "source": [
    "## gathering\n",
    "\n",
    "table4a\n",
    "\n",
    "tidy4a <- table4a %>%\n",
    "gather('1999','2000', key='year', value='cases')\n",
    "\n",
    "tidy4a"
   ]
  },
  {
   "cell_type": "code",
   "execution_count": 21,
   "id": "58641276",
   "metadata": {},
   "outputs": [
    {
     "data": {
      "text/html": [
       "<table class=\"dataframe\">\n",
       "<caption>A tibble: 3 × 3</caption>\n",
       "<thead>\n",
       "\t<tr><th></th><th scope=col>country</th><th scope=col>1999</th><th scope=col>2000</th></tr>\n",
       "\t<tr><th></th><th scope=col>&lt;chr&gt;</th><th scope=col>&lt;int&gt;</th><th scope=col>&lt;int&gt;</th></tr>\n",
       "</thead>\n",
       "<tbody>\n",
       "\t<tr><th scope=row>1</th><td>Afghanistan</td><td>  19987071</td><td>  20595360</td></tr>\n",
       "\t<tr><th scope=row>2</th><td>Brazil     </td><td> 172006362</td><td> 174504898</td></tr>\n",
       "\t<tr><th scope=row>3</th><td>China      </td><td>1272915272</td><td>1280428583</td></tr>\n",
       "</tbody>\n",
       "</table>\n"
      ],
      "text/latex": [
       "A tibble: 3 × 3\n",
       "\\begin{tabular}{r|lll}\n",
       "  & country & 1999 & 2000\\\\\n",
       "  & <chr> & <int> & <int>\\\\\n",
       "\\hline\n",
       "\t1 & Afghanistan &   19987071 &   20595360\\\\\n",
       "\t2 & Brazil      &  172006362 &  174504898\\\\\n",
       "\t3 & China       & 1272915272 & 1280428583\\\\\n",
       "\\end{tabular}\n"
      ],
      "text/markdown": [
       "\n",
       "A tibble: 3 × 3\n",
       "\n",
       "| <!--/--> | country &lt;chr&gt; | 1999 &lt;int&gt; | 2000 &lt;int&gt; |\n",
       "|---|---|---|---|\n",
       "| 1 | Afghanistan |   19987071 |   20595360 |\n",
       "| 2 | Brazil      |  172006362 |  174504898 |\n",
       "| 3 | China       | 1272915272 | 1280428583 |\n",
       "\n"
      ],
      "text/plain": [
       "  country     1999       2000      \n",
       "1 Afghanistan   19987071   20595360\n",
       "2 Brazil       172006362  174504898\n",
       "3 China       1272915272 1280428583"
      ]
     },
     "metadata": {},
     "output_type": "display_data"
    },
    {
     "data": {
      "text/html": [
       "<table class=\"dataframe\">\n",
       "<caption>A tibble: 6 × 3</caption>\n",
       "<thead>\n",
       "\t<tr><th scope=col>country</th><th scope=col>year</th><th scope=col>population</th></tr>\n",
       "\t<tr><th scope=col>&lt;chr&gt;</th><th scope=col>&lt;chr&gt;</th><th scope=col>&lt;int&gt;</th></tr>\n",
       "</thead>\n",
       "<tbody>\n",
       "\t<tr><td>Afghanistan</td><td>1999</td><td>  19987071</td></tr>\n",
       "\t<tr><td>Brazil     </td><td>1999</td><td> 172006362</td></tr>\n",
       "\t<tr><td>China      </td><td>1999</td><td>1272915272</td></tr>\n",
       "\t<tr><td>Afghanistan</td><td>2000</td><td>  20595360</td></tr>\n",
       "\t<tr><td>Brazil     </td><td>2000</td><td> 174504898</td></tr>\n",
       "\t<tr><td>China      </td><td>2000</td><td>1280428583</td></tr>\n",
       "</tbody>\n",
       "</table>\n"
      ],
      "text/latex": [
       "A tibble: 6 × 3\n",
       "\\begin{tabular}{lll}\n",
       " country & year & population\\\\\n",
       " <chr> & <chr> & <int>\\\\\n",
       "\\hline\n",
       "\t Afghanistan & 1999 &   19987071\\\\\n",
       "\t Brazil      & 1999 &  172006362\\\\\n",
       "\t China       & 1999 & 1272915272\\\\\n",
       "\t Afghanistan & 2000 &   20595360\\\\\n",
       "\t Brazil      & 2000 &  174504898\\\\\n",
       "\t China       & 2000 & 1280428583\\\\\n",
       "\\end{tabular}\n"
      ],
      "text/markdown": [
       "\n",
       "A tibble: 6 × 3\n",
       "\n",
       "| country &lt;chr&gt; | year &lt;chr&gt; | population &lt;int&gt; |\n",
       "|---|---|---|\n",
       "| Afghanistan | 1999 |   19987071 |\n",
       "| Brazil      | 1999 |  172006362 |\n",
       "| China       | 1999 | 1272915272 |\n",
       "| Afghanistan | 2000 |   20595360 |\n",
       "| Brazil      | 2000 |  174504898 |\n",
       "| China       | 2000 | 1280428583 |\n",
       "\n"
      ],
      "text/plain": [
       "  country     year population\n",
       "1 Afghanistan 1999   19987071\n",
       "2 Brazil      1999  172006362\n",
       "3 China       1999 1272915272\n",
       "4 Afghanistan 2000   20595360\n",
       "5 Brazil      2000  174504898\n",
       "6 China       2000 1280428583"
      ]
     },
     "metadata": {},
     "output_type": "display_data"
    }
   ],
   "source": [
    "## gathering\n",
    "\n",
    "table4b\n",
    "\n",
    "tidy4b <- table4b %>%\n",
    "gather('1999','2000', key='year', value='population')\n",
    "\n",
    "tidy4b"
   ]
  },
  {
   "cell_type": "code",
   "execution_count": 23,
   "id": "42531471",
   "metadata": {},
   "outputs": [
    {
     "name": "stderr",
     "output_type": "stream",
     "text": [
      "Joining, by = c(\"country\", \"year\")\n",
      "\n"
     ]
    },
    {
     "data": {
      "text/html": [
       "<table class=\"dataframe\">\n",
       "<caption>A tibble: 6 × 4</caption>\n",
       "<thead>\n",
       "\t<tr><th scope=col>country</th><th scope=col>year</th><th scope=col>cases</th><th scope=col>population</th></tr>\n",
       "\t<tr><th scope=col>&lt;chr&gt;</th><th scope=col>&lt;chr&gt;</th><th scope=col>&lt;int&gt;</th><th scope=col>&lt;int&gt;</th></tr>\n",
       "</thead>\n",
       "<tbody>\n",
       "\t<tr><td>Afghanistan</td><td>1999</td><td>   745</td><td>  19987071</td></tr>\n",
       "\t<tr><td>Brazil     </td><td>1999</td><td> 37737</td><td> 172006362</td></tr>\n",
       "\t<tr><td>China      </td><td>1999</td><td>212258</td><td>1272915272</td></tr>\n",
       "\t<tr><td>Afghanistan</td><td>2000</td><td>  2666</td><td>  20595360</td></tr>\n",
       "\t<tr><td>Brazil     </td><td>2000</td><td> 80488</td><td> 174504898</td></tr>\n",
       "\t<tr><td>China      </td><td>2000</td><td>213766</td><td>1280428583</td></tr>\n",
       "</tbody>\n",
       "</table>\n"
      ],
      "text/latex": [
       "A tibble: 6 × 4\n",
       "\\begin{tabular}{llll}\n",
       " country & year & cases & population\\\\\n",
       " <chr> & <chr> & <int> & <int>\\\\\n",
       "\\hline\n",
       "\t Afghanistan & 1999 &    745 &   19987071\\\\\n",
       "\t Brazil      & 1999 &  37737 &  172006362\\\\\n",
       "\t China       & 1999 & 212258 & 1272915272\\\\\n",
       "\t Afghanistan & 2000 &   2666 &   20595360\\\\\n",
       "\t Brazil      & 2000 &  80488 &  174504898\\\\\n",
       "\t China       & 2000 & 213766 & 1280428583\\\\\n",
       "\\end{tabular}\n"
      ],
      "text/markdown": [
       "\n",
       "A tibble: 6 × 4\n",
       "\n",
       "| country &lt;chr&gt; | year &lt;chr&gt; | cases &lt;int&gt; | population &lt;int&gt; |\n",
       "|---|---|---|---|\n",
       "| Afghanistan | 1999 |    745 |   19987071 |\n",
       "| Brazil      | 1999 |  37737 |  172006362 |\n",
       "| China       | 1999 | 212258 | 1272915272 |\n",
       "| Afghanistan | 2000 |   2666 |   20595360 |\n",
       "| Brazil      | 2000 |  80488 |  174504898 |\n",
       "| China       | 2000 | 213766 | 1280428583 |\n",
       "\n"
      ],
      "text/plain": [
       "  country     year cases  population\n",
       "1 Afghanistan 1999    745   19987071\n",
       "2 Brazil      1999  37737  172006362\n",
       "3 China       1999 212258 1272915272\n",
       "4 Afghanistan 2000   2666   20595360\n",
       "5 Brazil      2000  80488  174504898\n",
       "6 China       2000 213766 1280428583"
      ]
     },
     "metadata": {},
     "output_type": "display_data"
    }
   ],
   "source": [
    "## joining tibbles\n",
    "\n",
    "left_join(tidy4a, tidy4b)"
   ]
  },
  {
   "cell_type": "code",
   "execution_count": 24,
   "id": "27aaae77",
   "metadata": {},
   "outputs": [
    {
     "data": {
      "text/html": [
       "<table class=\"dataframe\">\n",
       "<caption>A tibble: 12 × 4</caption>\n",
       "<thead>\n",
       "\t<tr><th scope=col>country</th><th scope=col>year</th><th scope=col>type</th><th scope=col>count</th></tr>\n",
       "\t<tr><th scope=col>&lt;chr&gt;</th><th scope=col>&lt;int&gt;</th><th scope=col>&lt;chr&gt;</th><th scope=col>&lt;int&gt;</th></tr>\n",
       "</thead>\n",
       "<tbody>\n",
       "\t<tr><td>Afghanistan</td><td>1999</td><td>cases     </td><td>       745</td></tr>\n",
       "\t<tr><td>Afghanistan</td><td>1999</td><td>population</td><td>  19987071</td></tr>\n",
       "\t<tr><td>Afghanistan</td><td>2000</td><td>cases     </td><td>      2666</td></tr>\n",
       "\t<tr><td>Afghanistan</td><td>2000</td><td>population</td><td>  20595360</td></tr>\n",
       "\t<tr><td>Brazil     </td><td>1999</td><td>cases     </td><td>     37737</td></tr>\n",
       "\t<tr><td>Brazil     </td><td>1999</td><td>population</td><td> 172006362</td></tr>\n",
       "\t<tr><td>Brazil     </td><td>2000</td><td>cases     </td><td>     80488</td></tr>\n",
       "\t<tr><td>Brazil     </td><td>2000</td><td>population</td><td> 174504898</td></tr>\n",
       "\t<tr><td>China      </td><td>1999</td><td>cases     </td><td>    212258</td></tr>\n",
       "\t<tr><td>China      </td><td>1999</td><td>population</td><td>1272915272</td></tr>\n",
       "\t<tr><td>China      </td><td>2000</td><td>cases     </td><td>    213766</td></tr>\n",
       "\t<tr><td>China      </td><td>2000</td><td>population</td><td>1280428583</td></tr>\n",
       "</tbody>\n",
       "</table>\n"
      ],
      "text/latex": [
       "A tibble: 12 × 4\n",
       "\\begin{tabular}{llll}\n",
       " country & year & type & count\\\\\n",
       " <chr> & <int> & <chr> & <int>\\\\\n",
       "\\hline\n",
       "\t Afghanistan & 1999 & cases      &        745\\\\\n",
       "\t Afghanistan & 1999 & population &   19987071\\\\\n",
       "\t Afghanistan & 2000 & cases      &       2666\\\\\n",
       "\t Afghanistan & 2000 & population &   20595360\\\\\n",
       "\t Brazil      & 1999 & cases      &      37737\\\\\n",
       "\t Brazil      & 1999 & population &  172006362\\\\\n",
       "\t Brazil      & 2000 & cases      &      80488\\\\\n",
       "\t Brazil      & 2000 & population &  174504898\\\\\n",
       "\t China       & 1999 & cases      &     212258\\\\\n",
       "\t China       & 1999 & population & 1272915272\\\\\n",
       "\t China       & 2000 & cases      &     213766\\\\\n",
       "\t China       & 2000 & population & 1280428583\\\\\n",
       "\\end{tabular}\n"
      ],
      "text/markdown": [
       "\n",
       "A tibble: 12 × 4\n",
       "\n",
       "| country &lt;chr&gt; | year &lt;int&gt; | type &lt;chr&gt; | count &lt;int&gt; |\n",
       "|---|---|---|---|\n",
       "| Afghanistan | 1999 | cases      |        745 |\n",
       "| Afghanistan | 1999 | population |   19987071 |\n",
       "| Afghanistan | 2000 | cases      |       2666 |\n",
       "| Afghanistan | 2000 | population |   20595360 |\n",
       "| Brazil      | 1999 | cases      |      37737 |\n",
       "| Brazil      | 1999 | population |  172006362 |\n",
       "| Brazil      | 2000 | cases      |      80488 |\n",
       "| Brazil      | 2000 | population |  174504898 |\n",
       "| China       | 1999 | cases      |     212258 |\n",
       "| China       | 1999 | population | 1272915272 |\n",
       "| China       | 2000 | cases      |     213766 |\n",
       "| China       | 2000 | population | 1280428583 |\n",
       "\n"
      ],
      "text/plain": [
       "   country     year type       count     \n",
       "1  Afghanistan 1999 cases             745\n",
       "2  Afghanistan 1999 population   19987071\n",
       "3  Afghanistan 2000 cases            2666\n",
       "4  Afghanistan 2000 population   20595360\n",
       "5  Brazil      1999 cases           37737\n",
       "6  Brazil      1999 population  172006362\n",
       "7  Brazil      2000 cases           80488\n",
       "8  Brazil      2000 population  174504898\n",
       "9  China       1999 cases          212258\n",
       "10 China       1999 population 1272915272\n",
       "11 China       2000 cases          213766\n",
       "12 China       2000 population 1280428583"
      ]
     },
     "metadata": {},
     "output_type": "display_data"
    },
    {
     "data": {
      "text/html": [
       "<table class=\"dataframe\">\n",
       "<caption>A tibble: 6 × 4</caption>\n",
       "<thead>\n",
       "\t<tr><th scope=col>country</th><th scope=col>year</th><th scope=col>cases</th><th scope=col>population</th></tr>\n",
       "\t<tr><th scope=col>&lt;chr&gt;</th><th scope=col>&lt;int&gt;</th><th scope=col>&lt;int&gt;</th><th scope=col>&lt;int&gt;</th></tr>\n",
       "</thead>\n",
       "<tbody>\n",
       "\t<tr><td>Afghanistan</td><td>1999</td><td>   745</td><td>  19987071</td></tr>\n",
       "\t<tr><td>Afghanistan</td><td>2000</td><td>  2666</td><td>  20595360</td></tr>\n",
       "\t<tr><td>Brazil     </td><td>1999</td><td> 37737</td><td> 172006362</td></tr>\n",
       "\t<tr><td>Brazil     </td><td>2000</td><td> 80488</td><td> 174504898</td></tr>\n",
       "\t<tr><td>China      </td><td>1999</td><td>212258</td><td>1272915272</td></tr>\n",
       "\t<tr><td>China      </td><td>2000</td><td>213766</td><td>1280428583</td></tr>\n",
       "</tbody>\n",
       "</table>\n"
      ],
      "text/latex": [
       "A tibble: 6 × 4\n",
       "\\begin{tabular}{llll}\n",
       " country & year & cases & population\\\\\n",
       " <chr> & <int> & <int> & <int>\\\\\n",
       "\\hline\n",
       "\t Afghanistan & 1999 &    745 &   19987071\\\\\n",
       "\t Afghanistan & 2000 &   2666 &   20595360\\\\\n",
       "\t Brazil      & 1999 &  37737 &  172006362\\\\\n",
       "\t Brazil      & 2000 &  80488 &  174504898\\\\\n",
       "\t China       & 1999 & 212258 & 1272915272\\\\\n",
       "\t China       & 2000 & 213766 & 1280428583\\\\\n",
       "\\end{tabular}\n"
      ],
      "text/markdown": [
       "\n",
       "A tibble: 6 × 4\n",
       "\n",
       "| country &lt;chr&gt; | year &lt;int&gt; | cases &lt;int&gt; | population &lt;int&gt; |\n",
       "|---|---|---|---|\n",
       "| Afghanistan | 1999 |    745 |   19987071 |\n",
       "| Afghanistan | 2000 |   2666 |   20595360 |\n",
       "| Brazil      | 1999 |  37737 |  172006362 |\n",
       "| Brazil      | 2000 |  80488 |  174504898 |\n",
       "| China       | 1999 | 212258 | 1272915272 |\n",
       "| China       | 2000 | 213766 | 1280428583 |\n",
       "\n"
      ],
      "text/plain": [
       "  country     year cases  population\n",
       "1 Afghanistan 1999    745   19987071\n",
       "2 Afghanistan 2000   2666   20595360\n",
       "3 Brazil      1999  37737  172006362\n",
       "4 Brazil      2000  80488  174504898\n",
       "5 China       1999 212258 1272915272\n",
       "6 China       2000 213766 1280428583"
      ]
     },
     "metadata": {},
     "output_type": "display_data"
    }
   ],
   "source": [
    "## Spreading - opposite of gathering\n",
    "\n",
    "table2\n",
    "\n",
    "table2 %>% spread(key=type, value=count)"
   ]
  },
  {
   "cell_type": "markdown",
   "id": "e4ac737b",
   "metadata": {},
   "source": [
    "- spread() and gather() have common key and value arguments. \n",
    "- gather() makes wide tables narrower and longer.\n",
    "- spread() makes long tables shorter and wider.\n",
    "\n"
   ]
  },
  {
   "cell_type": "code",
   "execution_count": 30,
   "id": "6ceb35f8",
   "metadata": {},
   "outputs": [
    {
     "data": {
      "text/html": [
       "<table class=\"dataframe\">\n",
       "<caption>A tibble: 4 × 3</caption>\n",
       "<thead>\n",
       "\t<tr><th scope=col>year</th><th scope=col>half</th><th scope=col>return</th></tr>\n",
       "\t<tr><th scope=col>&lt;dbl&gt;</th><th scope=col>&lt;dbl&gt;</th><th scope=col>&lt;dbl&gt;</th></tr>\n",
       "</thead>\n",
       "<tbody>\n",
       "\t<tr><td>2015</td><td>1</td><td>1.88</td></tr>\n",
       "\t<tr><td>2015</td><td>2</td><td>0.59</td></tr>\n",
       "\t<tr><td>2016</td><td>1</td><td>0.92</td></tr>\n",
       "\t<tr><td>2016</td><td>2</td><td>0.17</td></tr>\n",
       "</tbody>\n",
       "</table>\n"
      ],
      "text/latex": [
       "A tibble: 4 × 3\n",
       "\\begin{tabular}{lll}\n",
       " year & half & return\\\\\n",
       " <dbl> & <dbl> & <dbl>\\\\\n",
       "\\hline\n",
       "\t 2015 & 1 & 1.88\\\\\n",
       "\t 2015 & 2 & 0.59\\\\\n",
       "\t 2016 & 1 & 0.92\\\\\n",
       "\t 2016 & 2 & 0.17\\\\\n",
       "\\end{tabular}\n"
      ],
      "text/markdown": [
       "\n",
       "A tibble: 4 × 3\n",
       "\n",
       "| year &lt;dbl&gt; | half &lt;dbl&gt; | return &lt;dbl&gt; |\n",
       "|---|---|---|\n",
       "| 2015 | 1 | 1.88 |\n",
       "| 2015 | 2 | 0.59 |\n",
       "| 2016 | 1 | 0.92 |\n",
       "| 2016 | 2 | 0.17 |\n",
       "\n"
      ],
      "text/plain": [
       "  year half return\n",
       "1 2015 1    1.88  \n",
       "2 2015 2    0.59  \n",
       "3 2016 1    0.92  \n",
       "4 2016 2    0.17  "
      ]
     },
     "metadata": {},
     "output_type": "display_data"
    },
    {
     "data": {
      "text/html": [
       "<table class=\"dataframe\">\n",
       "<caption>A tibble: 2 × 3</caption>\n",
       "<thead>\n",
       "\t<tr><th scope=col>half</th><th scope=col>2015</th><th scope=col>2016</th></tr>\n",
       "\t<tr><th scope=col>&lt;dbl&gt;</th><th scope=col>&lt;dbl&gt;</th><th scope=col>&lt;dbl&gt;</th></tr>\n",
       "</thead>\n",
       "<tbody>\n",
       "\t<tr><td>1</td><td>1.88</td><td>0.92</td></tr>\n",
       "\t<tr><td>2</td><td>0.59</td><td>0.17</td></tr>\n",
       "</tbody>\n",
       "</table>\n"
      ],
      "text/latex": [
       "A tibble: 2 × 3\n",
       "\\begin{tabular}{lll}\n",
       " half & 2015 & 2016\\\\\n",
       " <dbl> & <dbl> & <dbl>\\\\\n",
       "\\hline\n",
       "\t 1 & 1.88 & 0.92\\\\\n",
       "\t 2 & 0.59 & 0.17\\\\\n",
       "\\end{tabular}\n"
      ],
      "text/markdown": [
       "\n",
       "A tibble: 2 × 3\n",
       "\n",
       "| half &lt;dbl&gt; | 2015 &lt;dbl&gt; | 2016 &lt;dbl&gt; |\n",
       "|---|---|---|\n",
       "| 1 | 1.88 | 0.92 |\n",
       "| 2 | 0.59 | 0.17 |\n",
       "\n"
      ],
      "text/plain": [
       "  half 2015 2016\n",
       "1 1    1.88 0.92\n",
       "2 2    0.59 0.17"
      ]
     },
     "metadata": {},
     "output_type": "display_data"
    },
    {
     "data": {
      "text/html": [
       "<table class=\"dataframe\">\n",
       "<caption>A tibble: 4 × 3</caption>\n",
       "<thead>\n",
       "\t<tr><th scope=col>half</th><th scope=col>year</th><th scope=col>return</th></tr>\n",
       "\t<tr><th scope=col>&lt;dbl&gt;</th><th scope=col>&lt;chr&gt;</th><th scope=col>&lt;dbl&gt;</th></tr>\n",
       "</thead>\n",
       "<tbody>\n",
       "\t<tr><td>1</td><td>2015</td><td>1.88</td></tr>\n",
       "\t<tr><td>2</td><td>2015</td><td>0.59</td></tr>\n",
       "\t<tr><td>1</td><td>2016</td><td>0.92</td></tr>\n",
       "\t<tr><td>2</td><td>2016</td><td>0.17</td></tr>\n",
       "</tbody>\n",
       "</table>\n"
      ],
      "text/latex": [
       "A tibble: 4 × 3\n",
       "\\begin{tabular}{lll}\n",
       " half & year & return\\\\\n",
       " <dbl> & <chr> & <dbl>\\\\\n",
       "\\hline\n",
       "\t 1 & 2015 & 1.88\\\\\n",
       "\t 2 & 2015 & 0.59\\\\\n",
       "\t 1 & 2016 & 0.92\\\\\n",
       "\t 2 & 2016 & 0.17\\\\\n",
       "\\end{tabular}\n"
      ],
      "text/markdown": [
       "\n",
       "A tibble: 4 × 3\n",
       "\n",
       "| half &lt;dbl&gt; | year &lt;chr&gt; | return &lt;dbl&gt; |\n",
       "|---|---|---|\n",
       "| 1 | 2015 | 1.88 |\n",
       "| 2 | 2015 | 0.59 |\n",
       "| 1 | 2016 | 0.92 |\n",
       "| 2 | 2016 | 0.17 |\n",
       "\n"
      ],
      "text/plain": [
       "  half year return\n",
       "1 1    2015 1.88  \n",
       "2 2    2015 0.59  \n",
       "3 1    2016 0.92  \n",
       "4 2    2016 0.17  "
      ]
     },
     "metadata": {},
     "output_type": "display_data"
    }
   ],
   "source": [
    "stocks <- tibble(\n",
    "year = c(2015, 2015, 2016, 2016),\n",
    "half = c( 1,2,1,2),\n",
    "return = c(1.88, 0.59, 0.92, 0.17)\n",
    ")\n",
    "stocks\n",
    "\n",
    "spread(stocks, year, return)\n",
    "gather(spread(stocks, year, return),\"year\",\"return\", '2015':'2016')"
   ]
  },
  {
   "cell_type": "code",
   "execution_count": 33,
   "id": "476d0f43",
   "metadata": {},
   "outputs": [
    {
     "data": {
      "text/html": [
       "<table class=\"dataframe\">\n",
       "<caption>A tibble: 4 × 3</caption>\n",
       "<thead>\n",
       "\t<tr><th scope=col>name</th><th scope=col>key</th><th scope=col>value</th></tr>\n",
       "\t<tr><th scope=col>&lt;chr&gt;</th><th scope=col>&lt;chr&gt;</th><th scope=col>&lt;dbl&gt;</th></tr>\n",
       "</thead>\n",
       "<tbody>\n",
       "\t<tr><td>Phillip Woods  </td><td>age   </td><td> 45</td></tr>\n",
       "\t<tr><td>Phillip Woods  </td><td>height</td><td>186</td></tr>\n",
       "\t<tr><td>Jessica Cordero</td><td>age   </td><td> 37</td></tr>\n",
       "\t<tr><td>Jessica Cordero</td><td>height</td><td>156</td></tr>\n",
       "</tbody>\n",
       "</table>\n"
      ],
      "text/latex": [
       "A tibble: 4 × 3\n",
       "\\begin{tabular}{lll}\n",
       " name & key & value\\\\\n",
       " <chr> & <chr> & <dbl>\\\\\n",
       "\\hline\n",
       "\t Phillip Woods   & age    &  45\\\\\n",
       "\t Phillip Woods   & height & 186\\\\\n",
       "\t Jessica Cordero & age    &  37\\\\\n",
       "\t Jessica Cordero & height & 156\\\\\n",
       "\\end{tabular}\n"
      ],
      "text/markdown": [
       "\n",
       "A tibble: 4 × 3\n",
       "\n",
       "| name &lt;chr&gt; | key &lt;chr&gt; | value &lt;dbl&gt; |\n",
       "|---|---|---|\n",
       "| Phillip Woods   | age    |  45 |\n",
       "| Phillip Woods   | height | 186 |\n",
       "| Jessica Cordero | age    |  37 |\n",
       "| Jessica Cordero | height | 156 |\n",
       "\n"
      ],
      "text/plain": [
       "  name            key    value\n",
       "1 Phillip Woods   age     45  \n",
       "2 Phillip Woods   height 186  \n",
       "3 Jessica Cordero age     37  \n",
       "4 Jessica Cordero height 156  "
      ]
     },
     "metadata": {},
     "output_type": "display_data"
    },
    {
     "data": {
      "text/html": [
       "<table class=\"dataframe\">\n",
       "<caption>A tibble: 2 × 3</caption>\n",
       "<thead>\n",
       "\t<tr><th scope=col>name</th><th scope=col>age</th><th scope=col>height</th></tr>\n",
       "\t<tr><th scope=col>&lt;chr&gt;</th><th scope=col>&lt;dbl&gt;</th><th scope=col>&lt;dbl&gt;</th></tr>\n",
       "</thead>\n",
       "<tbody>\n",
       "\t<tr><td>Jessica Cordero</td><td>37</td><td>156</td></tr>\n",
       "\t<tr><td>Phillip Woods  </td><td>45</td><td>186</td></tr>\n",
       "</tbody>\n",
       "</table>\n"
      ],
      "text/latex": [
       "A tibble: 2 × 3\n",
       "\\begin{tabular}{lll}\n",
       " name & age & height\\\\\n",
       " <chr> & <dbl> & <dbl>\\\\\n",
       "\\hline\n",
       "\t Jessica Cordero & 37 & 156\\\\\n",
       "\t Phillip Woods   & 45 & 186\\\\\n",
       "\\end{tabular}\n"
      ],
      "text/markdown": [
       "\n",
       "A tibble: 2 × 3\n",
       "\n",
       "| name &lt;chr&gt; | age &lt;dbl&gt; | height &lt;dbl&gt; |\n",
       "|---|---|---|\n",
       "| Jessica Cordero | 37 | 156 |\n",
       "| Phillip Woods   | 45 | 186 |\n",
       "\n"
      ],
      "text/plain": [
       "  name            age height\n",
       "1 Jessica Cordero 37  156   \n",
       "2 Phillip Woods   45  186   "
      ]
     },
     "metadata": {},
     "output_type": "display_data"
    }
   ],
   "source": [
    "people <- tribble(\n",
    "~name, ~key, ~value,\n",
    "#-----------------|--------|------\n",
    "\"Phillip Woods\", \"age\", 45,\n",
    "\"Phillip Woods\",\"height\", 186,\n",
    "  #\"Phillip Woods\", \"age\",50,\n",
    "\"Jessica Cordero\", \"age\",37,\n",
    "\"Jessica Cordero\", \"height\", 156\n",
    ")\n",
    "people\n",
    "\n",
    "people %>% spread(key, value)\n"
   ]
  },
  {
   "cell_type": "markdown",
   "id": "245ad397",
   "metadata": {},
   "source": [
    "#### Separating and Pulling\n",
    "\n",
    "- When we have one column contains multiple variables - to fix this we will use separate()\n",
    "- When a single variable is spread across multiple columns - to fix this we will use unite()"
   ]
  },
  {
   "cell_type": "code",
   "execution_count": 38,
   "id": "eb912b7c",
   "metadata": {},
   "outputs": [
    {
     "data": {
      "text/html": [
       "<table class=\"dataframe\">\n",
       "<caption>A tibble: 6 × 3</caption>\n",
       "<thead>\n",
       "\t<tr><th></th><th scope=col>country</th><th scope=col>year</th><th scope=col>rate</th></tr>\n",
       "\t<tr><th></th><th scope=col>&lt;chr&gt;</th><th scope=col>&lt;int&gt;</th><th scope=col>&lt;chr&gt;</th></tr>\n",
       "</thead>\n",
       "<tbody>\n",
       "\t<tr><th scope=row>1</th><td>Afghanistan</td><td>1999</td><td>745/19987071     </td></tr>\n",
       "\t<tr><th scope=row>2</th><td>Afghanistan</td><td>2000</td><td>2666/20595360    </td></tr>\n",
       "\t<tr><th scope=row>3</th><td>Brazil     </td><td>1999</td><td>37737/172006362  </td></tr>\n",
       "\t<tr><th scope=row>4</th><td>Brazil     </td><td>2000</td><td>80488/174504898  </td></tr>\n",
       "\t<tr><th scope=row>5</th><td>China      </td><td>1999</td><td>212258/1272915272</td></tr>\n",
       "\t<tr><th scope=row>6</th><td>China      </td><td>2000</td><td>213766/1280428583</td></tr>\n",
       "</tbody>\n",
       "</table>\n"
      ],
      "text/latex": [
       "A tibble: 6 × 3\n",
       "\\begin{tabular}{r|lll}\n",
       "  & country & year & rate\\\\\n",
       "  & <chr> & <int> & <chr>\\\\\n",
       "\\hline\n",
       "\t1 & Afghanistan & 1999 & 745/19987071     \\\\\n",
       "\t2 & Afghanistan & 2000 & 2666/20595360    \\\\\n",
       "\t3 & Brazil      & 1999 & 37737/172006362  \\\\\n",
       "\t4 & Brazil      & 2000 & 80488/174504898  \\\\\n",
       "\t5 & China       & 1999 & 212258/1272915272\\\\\n",
       "\t6 & China       & 2000 & 213766/1280428583\\\\\n",
       "\\end{tabular}\n"
      ],
      "text/markdown": [
       "\n",
       "A tibble: 6 × 3\n",
       "\n",
       "| <!--/--> | country &lt;chr&gt; | year &lt;int&gt; | rate &lt;chr&gt; |\n",
       "|---|---|---|---|\n",
       "| 1 | Afghanistan | 1999 | 745/19987071      |\n",
       "| 2 | Afghanistan | 2000 | 2666/20595360     |\n",
       "| 3 | Brazil      | 1999 | 37737/172006362   |\n",
       "| 4 | Brazil      | 2000 | 80488/174504898   |\n",
       "| 5 | China       | 1999 | 212258/1272915272 |\n",
       "| 6 | China       | 2000 | 213766/1280428583 |\n",
       "\n"
      ],
      "text/plain": [
       "  country     year rate             \n",
       "1 Afghanistan 1999 745/19987071     \n",
       "2 Afghanistan 2000 2666/20595360    \n",
       "3 Brazil      1999 37737/172006362  \n",
       "4 Brazil      2000 80488/174504898  \n",
       "5 China       1999 212258/1272915272\n",
       "6 China       2000 213766/1280428583"
      ]
     },
     "metadata": {},
     "output_type": "display_data"
    },
    {
     "name": "stdout",
     "output_type": "stream",
     "text": [
      "tibble [6 x 3] (S3: tbl_df/tbl/data.frame)\n",
      " $ country: chr [1:6] \"Afghanistan\" \"Afghanistan\" \"Brazil\" \"Brazil\" ...\n",
      " $ year   : int [1:6] 1999 2000 1999 2000 1999 2000\n",
      " $ rate   : chr [1:6] \"745/19987071\" \"2666/20595360\" \"37737/172006362\" \"80488/174504898\" ...\n"
     ]
    }
   ],
   "source": [
    "## separating\n",
    "\n",
    "table3\n",
    "str(table3)\n",
    "table3 %>% separate(rate, into=c(\"cases\",\"population\"))"
   ]
  },
  {
   "cell_type": "code",
   "execution_count": 39,
   "id": "b7e7826d",
   "metadata": {},
   "outputs": [
    {
     "data": {
      "text/html": [
       "<table class=\"dataframe\">\n",
       "<caption>A tibble: 6 × 4</caption>\n",
       "<thead>\n",
       "\t<tr><th scope=col>country</th><th scope=col>year</th><th scope=col>cases</th><th scope=col>population</th></tr>\n",
       "\t<tr><th scope=col>&lt;chr&gt;</th><th scope=col>&lt;int&gt;</th><th scope=col>&lt;chr&gt;</th><th scope=col>&lt;chr&gt;</th></tr>\n",
       "</thead>\n",
       "<tbody>\n",
       "\t<tr><td>Afghanistan</td><td>1999</td><td>745   </td><td>19987071  </td></tr>\n",
       "\t<tr><td>Afghanistan</td><td>2000</td><td>2666  </td><td>20595360  </td></tr>\n",
       "\t<tr><td>Brazil     </td><td>1999</td><td>37737 </td><td>172006362 </td></tr>\n",
       "\t<tr><td>Brazil     </td><td>2000</td><td>80488 </td><td>174504898 </td></tr>\n",
       "\t<tr><td>China      </td><td>1999</td><td>212258</td><td>1272915272</td></tr>\n",
       "\t<tr><td>China      </td><td>2000</td><td>213766</td><td>1280428583</td></tr>\n",
       "</tbody>\n",
       "</table>\n"
      ],
      "text/latex": [
       "A tibble: 6 × 4\n",
       "\\begin{tabular}{llll}\n",
       " country & year & cases & population\\\\\n",
       " <chr> & <int> & <chr> & <chr>\\\\\n",
       "\\hline\n",
       "\t Afghanistan & 1999 & 745    & 19987071  \\\\\n",
       "\t Afghanistan & 2000 & 2666   & 20595360  \\\\\n",
       "\t Brazil      & 1999 & 37737  & 172006362 \\\\\n",
       "\t Brazil      & 2000 & 80488  & 174504898 \\\\\n",
       "\t China       & 1999 & 212258 & 1272915272\\\\\n",
       "\t China       & 2000 & 213766 & 1280428583\\\\\n",
       "\\end{tabular}\n"
      ],
      "text/markdown": [
       "\n",
       "A tibble: 6 × 4\n",
       "\n",
       "| country &lt;chr&gt; | year &lt;int&gt; | cases &lt;chr&gt; | population &lt;chr&gt; |\n",
       "|---|---|---|---|\n",
       "| Afghanistan | 1999 | 745    | 19987071   |\n",
       "| Afghanistan | 2000 | 2666   | 20595360   |\n",
       "| Brazil      | 1999 | 37737  | 172006362  |\n",
       "| Brazil      | 2000 | 80488  | 174504898  |\n",
       "| China       | 1999 | 212258 | 1272915272 |\n",
       "| China       | 2000 | 213766 | 1280428583 |\n",
       "\n"
      ],
      "text/plain": [
       "  country     year cases  population\n",
       "1 Afghanistan 1999 745    19987071  \n",
       "2 Afghanistan 2000 2666   20595360  \n",
       "3 Brazil      1999 37737  172006362 \n",
       "4 Brazil      2000 80488  174504898 \n",
       "5 China       1999 212258 1272915272\n",
       "6 China       2000 213766 1280428583"
      ]
     },
     "metadata": {},
     "output_type": "display_data"
    }
   ],
   "source": [
    "## By default, separate() will split values wherever it sees a non-alphanumeric character.\n",
    "\n",
    "table3 %>% \n",
    "separate(rate, into=c(\"cases\",\"population\"), sep=\"/\") # explicit separator"
   ]
  },
  {
   "cell_type": "code",
   "execution_count": 43,
   "id": "23de2e7a",
   "metadata": {},
   "outputs": [
    {
     "data": {
      "text/html": [
       "<table class=\"dataframe\">\n",
       "<caption>A tibble: 6 × 4</caption>\n",
       "<thead>\n",
       "\t<tr><th scope=col>country</th><th scope=col>year</th><th scope=col>cases</th><th scope=col>population</th></tr>\n",
       "\t<tr><th scope=col>&lt;chr&gt;</th><th scope=col>&lt;int&gt;</th><th scope=col>&lt;int&gt;</th><th scope=col>&lt;int&gt;</th></tr>\n",
       "</thead>\n",
       "<tbody>\n",
       "\t<tr><td>Afghanistan</td><td>1999</td><td>   745</td><td>  19987071</td></tr>\n",
       "\t<tr><td>Afghanistan</td><td>2000</td><td>  2666</td><td>  20595360</td></tr>\n",
       "\t<tr><td>Brazil     </td><td>1999</td><td> 37737</td><td> 172006362</td></tr>\n",
       "\t<tr><td>Brazil     </td><td>2000</td><td> 80488</td><td> 174504898</td></tr>\n",
       "\t<tr><td>China      </td><td>1999</td><td>212258</td><td>1272915272</td></tr>\n",
       "\t<tr><td>China      </td><td>2000</td><td>213766</td><td>1280428583</td></tr>\n",
       "</tbody>\n",
       "</table>\n"
      ],
      "text/latex": [
       "A tibble: 6 × 4\n",
       "\\begin{tabular}{llll}\n",
       " country & year & cases & population\\\\\n",
       " <chr> & <int> & <int> & <int>\\\\\n",
       "\\hline\n",
       "\t Afghanistan & 1999 &    745 &   19987071\\\\\n",
       "\t Afghanistan & 2000 &   2666 &   20595360\\\\\n",
       "\t Brazil      & 1999 &  37737 &  172006362\\\\\n",
       "\t Brazil      & 2000 &  80488 &  174504898\\\\\n",
       "\t China       & 1999 & 212258 & 1272915272\\\\\n",
       "\t China       & 2000 & 213766 & 1280428583\\\\\n",
       "\\end{tabular}\n"
      ],
      "text/markdown": [
       "\n",
       "A tibble: 6 × 4\n",
       "\n",
       "| country &lt;chr&gt; | year &lt;int&gt; | cases &lt;int&gt; | population &lt;int&gt; |\n",
       "|---|---|---|---|\n",
       "| Afghanistan | 1999 |    745 |   19987071 |\n",
       "| Afghanistan | 2000 |   2666 |   20595360 |\n",
       "| Brazil      | 1999 |  37737 |  172006362 |\n",
       "| Brazil      | 2000 |  80488 |  174504898 |\n",
       "| China       | 1999 | 212258 | 1272915272 |\n",
       "| China       | 2000 | 213766 | 1280428583 |\n",
       "\n"
      ],
      "text/plain": [
       "  country     year cases  population\n",
       "1 Afghanistan 1999    745   19987071\n",
       "2 Afghanistan 2000   2666   20595360\n",
       "3 Brazil      1999  37737  172006362\n",
       "4 Brazil      2000  80488  174504898\n",
       "5 China       1999 212258 1272915272\n",
       "6 China       2000 213766 1280428583"
      ]
     },
     "metadata": {},
     "output_type": "display_data"
    }
   ],
   "source": [
    "## By default, separate() will leave the Type of the column as it is.\n",
    "\n",
    "table3 %>%\n",
    "separate(rate, into=c(\"cases\", \"population\"), convert=TRUE) # try to convert to better types"
   ]
  },
  {
   "cell_type": "code",
   "execution_count": 46,
   "id": "09646aa0",
   "metadata": {},
   "outputs": [
    {
     "data": {
      "text/html": [
       "<table class=\"dataframe\">\n",
       "<caption>A tibble: 6 × 4</caption>\n",
       "<thead>\n",
       "\t<tr><th scope=col>country</th><th scope=col>century</th><th scope=col>year</th><th scope=col>rate</th></tr>\n",
       "\t<tr><th scope=col>&lt;chr&gt;</th><th scope=col>&lt;chr&gt;</th><th scope=col>&lt;chr&gt;</th><th scope=col>&lt;chr&gt;</th></tr>\n",
       "</thead>\n",
       "<tbody>\n",
       "\t<tr><td>Afghanistan</td><td>19</td><td>99</td><td>745/19987071     </td></tr>\n",
       "\t<tr><td>Afghanistan</td><td>20</td><td>00</td><td>2666/20595360    </td></tr>\n",
       "\t<tr><td>Brazil     </td><td>19</td><td>99</td><td>37737/172006362  </td></tr>\n",
       "\t<tr><td>Brazil     </td><td>20</td><td>00</td><td>80488/174504898  </td></tr>\n",
       "\t<tr><td>China      </td><td>19</td><td>99</td><td>212258/1272915272</td></tr>\n",
       "\t<tr><td>China      </td><td>20</td><td>00</td><td>213766/1280428583</td></tr>\n",
       "</tbody>\n",
       "</table>\n"
      ],
      "text/latex": [
       "A tibble: 6 × 4\n",
       "\\begin{tabular}{llll}\n",
       " country & century & year & rate\\\\\n",
       " <chr> & <chr> & <chr> & <chr>\\\\\n",
       "\\hline\n",
       "\t Afghanistan & 19 & 99 & 745/19987071     \\\\\n",
       "\t Afghanistan & 20 & 00 & 2666/20595360    \\\\\n",
       "\t Brazil      & 19 & 99 & 37737/172006362  \\\\\n",
       "\t Brazil      & 20 & 00 & 80488/174504898  \\\\\n",
       "\t China       & 19 & 99 & 212258/1272915272\\\\\n",
       "\t China       & 20 & 00 & 213766/1280428583\\\\\n",
       "\\end{tabular}\n"
      ],
      "text/markdown": [
       "\n",
       "A tibble: 6 × 4\n",
       "\n",
       "| country &lt;chr&gt; | century &lt;chr&gt; | year &lt;chr&gt; | rate &lt;chr&gt; |\n",
       "|---|---|---|---|\n",
       "| Afghanistan | 19 | 99 | 745/19987071      |\n",
       "| Afghanistan | 20 | 00 | 2666/20595360     |\n",
       "| Brazil      | 19 | 99 | 37737/172006362   |\n",
       "| Brazil      | 20 | 00 | 80488/174504898   |\n",
       "| China       | 19 | 99 | 212258/1272915272 |\n",
       "| China       | 20 | 00 | 213766/1280428583 |\n",
       "\n"
      ],
      "text/plain": [
       "  country     century year rate             \n",
       "1 Afghanistan 19      99   745/19987071     \n",
       "2 Afghanistan 20      00   2666/20595360    \n",
       "3 Brazil      19      99   37737/172006362  \n",
       "4 Brazil      20      00   80488/174504898  \n",
       "5 China       19      99   212258/1272915272\n",
       "6 China       20      00   213766/1280428583"
      ]
     },
     "metadata": {},
     "output_type": "display_data"
    },
    {
     "data": {
      "text/html": [
       "<table class=\"dataframe\">\n",
       "<caption>A tibble: 6 × 4</caption>\n",
       "<thead>\n",
       "\t<tr><th scope=col>country</th><th scope=col>century</th><th scope=col>year</th><th scope=col>rate</th></tr>\n",
       "\t<tr><th scope=col>&lt;chr&gt;</th><th scope=col>&lt;chr&gt;</th><th scope=col>&lt;chr&gt;</th><th scope=col>&lt;chr&gt;</th></tr>\n",
       "</thead>\n",
       "<tbody>\n",
       "\t<tr><td>Afghanistan</td><td>19</td><td>99</td><td>745/19987071     </td></tr>\n",
       "\t<tr><td>Afghanistan</td><td>20</td><td>00</td><td>2666/20595360    </td></tr>\n",
       "\t<tr><td>Brazil     </td><td>19</td><td>99</td><td>37737/172006362  </td></tr>\n",
       "\t<tr><td>Brazil     </td><td>20</td><td>00</td><td>80488/174504898  </td></tr>\n",
       "\t<tr><td>China      </td><td>19</td><td>99</td><td>212258/1272915272</td></tr>\n",
       "\t<tr><td>China      </td><td>20</td><td>00</td><td>213766/1280428583</td></tr>\n",
       "</tbody>\n",
       "</table>\n"
      ],
      "text/latex": [
       "A tibble: 6 × 4\n",
       "\\begin{tabular}{llll}\n",
       " country & century & year & rate\\\\\n",
       " <chr> & <chr> & <chr> & <chr>\\\\\n",
       "\\hline\n",
       "\t Afghanistan & 19 & 99 & 745/19987071     \\\\\n",
       "\t Afghanistan & 20 & 00 & 2666/20595360    \\\\\n",
       "\t Brazil      & 19 & 99 & 37737/172006362  \\\\\n",
       "\t Brazil      & 20 & 00 & 80488/174504898  \\\\\n",
       "\t China       & 19 & 99 & 212258/1272915272\\\\\n",
       "\t China       & 20 & 00 & 213766/1280428583\\\\\n",
       "\\end{tabular}\n"
      ],
      "text/markdown": [
       "\n",
       "A tibble: 6 × 4\n",
       "\n",
       "| country &lt;chr&gt; | century &lt;chr&gt; | year &lt;chr&gt; | rate &lt;chr&gt; |\n",
       "|---|---|---|---|\n",
       "| Afghanistan | 19 | 99 | 745/19987071      |\n",
       "| Afghanistan | 20 | 00 | 2666/20595360     |\n",
       "| Brazil      | 19 | 99 | 37737/172006362   |\n",
       "| Brazil      | 20 | 00 | 80488/174504898   |\n",
       "| China       | 19 | 99 | 212258/1272915272 |\n",
       "| China       | 20 | 00 | 213766/1280428583 |\n",
       "\n"
      ],
      "text/plain": [
       "  country     century year rate             \n",
       "1 Afghanistan 19      99   745/19987071     \n",
       "2 Afghanistan 20      00   2666/20595360    \n",
       "3 Brazil      19      99   37737/172006362  \n",
       "4 Brazil      20      00   80488/174504898  \n",
       "5 China       19      99   212258/1272915272\n",
       "6 China       20      00   213766/1280428583"
      ]
     },
     "metadata": {},
     "output_type": "display_data"
    }
   ],
   "source": [
    "## separating by using vector of positions in the string\n",
    "\n",
    "table3 %>%\n",
    "separate(year, into=c(\"century\", \"year\"), sep=c(2))\n",
    "\n",
    "table3 %>%\n",
    "separate(year, into=c(\"century\", \"year\"), sep=c(-2))"
   ]
  },
  {
   "cell_type": "code",
   "execution_count": 49,
   "id": "387bcfb4",
   "metadata": {},
   "outputs": [
    {
     "data": {
      "text/html": [
       "<table class=\"dataframe\">\n",
       "<caption>A tibble: 6 × 4</caption>\n",
       "<thead>\n",
       "\t<tr><th></th><th scope=col>country</th><th scope=col>century</th><th scope=col>year</th><th scope=col>rate</th></tr>\n",
       "\t<tr><th></th><th scope=col>&lt;chr&gt;</th><th scope=col>&lt;chr&gt;</th><th scope=col>&lt;chr&gt;</th><th scope=col>&lt;chr&gt;</th></tr>\n",
       "</thead>\n",
       "<tbody>\n",
       "\t<tr><th scope=row>1</th><td>Afghanistan</td><td>19</td><td>99</td><td>745/19987071     </td></tr>\n",
       "\t<tr><th scope=row>2</th><td>Afghanistan</td><td>20</td><td>00</td><td>2666/20595360    </td></tr>\n",
       "\t<tr><th scope=row>3</th><td>Brazil     </td><td>19</td><td>99</td><td>37737/172006362  </td></tr>\n",
       "\t<tr><th scope=row>4</th><td>Brazil     </td><td>20</td><td>00</td><td>80488/174504898  </td></tr>\n",
       "\t<tr><th scope=row>5</th><td>China      </td><td>19</td><td>99</td><td>212258/1272915272</td></tr>\n",
       "\t<tr><th scope=row>6</th><td>China      </td><td>20</td><td>00</td><td>213766/1280428583</td></tr>\n",
       "</tbody>\n",
       "</table>\n"
      ],
      "text/latex": [
       "A tibble: 6 × 4\n",
       "\\begin{tabular}{r|llll}\n",
       "  & country & century & year & rate\\\\\n",
       "  & <chr> & <chr> & <chr> & <chr>\\\\\n",
       "\\hline\n",
       "\t1 & Afghanistan & 19 & 99 & 745/19987071     \\\\\n",
       "\t2 & Afghanistan & 20 & 00 & 2666/20595360    \\\\\n",
       "\t3 & Brazil      & 19 & 99 & 37737/172006362  \\\\\n",
       "\t4 & Brazil      & 20 & 00 & 80488/174504898  \\\\\n",
       "\t5 & China       & 19 & 99 & 212258/1272915272\\\\\n",
       "\t6 & China       & 20 & 00 & 213766/1280428583\\\\\n",
       "\\end{tabular}\n"
      ],
      "text/markdown": [
       "\n",
       "A tibble: 6 × 4\n",
       "\n",
       "| <!--/--> | country &lt;chr&gt; | century &lt;chr&gt; | year &lt;chr&gt; | rate &lt;chr&gt; |\n",
       "|---|---|---|---|---|\n",
       "| 1 | Afghanistan | 19 | 99 | 745/19987071      |\n",
       "| 2 | Afghanistan | 20 | 00 | 2666/20595360     |\n",
       "| 3 | Brazil      | 19 | 99 | 37737/172006362   |\n",
       "| 4 | Brazil      | 20 | 00 | 80488/174504898   |\n",
       "| 5 | China       | 19 | 99 | 212258/1272915272 |\n",
       "| 6 | China       | 20 | 00 | 213766/1280428583 |\n",
       "\n"
      ],
      "text/plain": [
       "  country     century year rate             \n",
       "1 Afghanistan 19      99   745/19987071     \n",
       "2 Afghanistan 20      00   2666/20595360    \n",
       "3 Brazil      19      99   37737/172006362  \n",
       "4 Brazil      20      00   80488/174504898  \n",
       "5 China       19      99   212258/1272915272\n",
       "6 China       20      00   213766/1280428583"
      ]
     },
     "metadata": {},
     "output_type": "display_data"
    },
    {
     "data": {
      "text/html": [
       "<table class=\"dataframe\">\n",
       "<caption>A tibble: 6 × 3</caption>\n",
       "<thead>\n",
       "\t<tr><th scope=col>country</th><th scope=col>new</th><th scope=col>rate</th></tr>\n",
       "\t<tr><th scope=col>&lt;chr&gt;</th><th scope=col>&lt;chr&gt;</th><th scope=col>&lt;chr&gt;</th></tr>\n",
       "</thead>\n",
       "<tbody>\n",
       "\t<tr><td>Afghanistan</td><td>19_99</td><td>745/19987071     </td></tr>\n",
       "\t<tr><td>Afghanistan</td><td>20_00</td><td>2666/20595360    </td></tr>\n",
       "\t<tr><td>Brazil     </td><td>19_99</td><td>37737/172006362  </td></tr>\n",
       "\t<tr><td>Brazil     </td><td>20_00</td><td>80488/174504898  </td></tr>\n",
       "\t<tr><td>China      </td><td>19_99</td><td>212258/1272915272</td></tr>\n",
       "\t<tr><td>China      </td><td>20_00</td><td>213766/1280428583</td></tr>\n",
       "</tbody>\n",
       "</table>\n"
      ],
      "text/latex": [
       "A tibble: 6 × 3\n",
       "\\begin{tabular}{lll}\n",
       " country & new & rate\\\\\n",
       " <chr> & <chr> & <chr>\\\\\n",
       "\\hline\n",
       "\t Afghanistan & 19\\_99 & 745/19987071     \\\\\n",
       "\t Afghanistan & 20\\_00 & 2666/20595360    \\\\\n",
       "\t Brazil      & 19\\_99 & 37737/172006362  \\\\\n",
       "\t Brazil      & 20\\_00 & 80488/174504898  \\\\\n",
       "\t China       & 19\\_99 & 212258/1272915272\\\\\n",
       "\t China       & 20\\_00 & 213766/1280428583\\\\\n",
       "\\end{tabular}\n"
      ],
      "text/markdown": [
       "\n",
       "A tibble: 6 × 3\n",
       "\n",
       "| country &lt;chr&gt; | new &lt;chr&gt; | rate &lt;chr&gt; |\n",
       "|---|---|---|\n",
       "| Afghanistan | 19_99 | 745/19987071      |\n",
       "| Afghanistan | 20_00 | 2666/20595360     |\n",
       "| Brazil      | 19_99 | 37737/172006362   |\n",
       "| Brazil      | 20_00 | 80488/174504898   |\n",
       "| China       | 19_99 | 212258/1272915272 |\n",
       "| China       | 20_00 | 213766/1280428583 |\n",
       "\n"
      ],
      "text/plain": [
       "  country     new   rate             \n",
       "1 Afghanistan 19_99 745/19987071     \n",
       "2 Afghanistan 20_00 2666/20595360    \n",
       "3 Brazil      19_99 37737/172006362  \n",
       "4 Brazil      20_00 80488/174504898  \n",
       "5 China       19_99 212258/1272915272\n",
       "6 China       20_00 213766/1280428583"
      ]
     },
     "metadata": {},
     "output_type": "display_data"
    },
    {
     "data": {
      "text/html": [
       "<table class=\"dataframe\">\n",
       "<caption>A tibble: 6 × 3</caption>\n",
       "<thead>\n",
       "\t<tr><th scope=col>country</th><th scope=col>new</th><th scope=col>rate</th></tr>\n",
       "\t<tr><th scope=col>&lt;chr&gt;</th><th scope=col>&lt;chr&gt;</th><th scope=col>&lt;chr&gt;</th></tr>\n",
       "</thead>\n",
       "<tbody>\n",
       "\t<tr><td>Afghanistan</td><td>1999</td><td>745/19987071     </td></tr>\n",
       "\t<tr><td>Afghanistan</td><td>2000</td><td>2666/20595360    </td></tr>\n",
       "\t<tr><td>Brazil     </td><td>1999</td><td>37737/172006362  </td></tr>\n",
       "\t<tr><td>Brazil     </td><td>2000</td><td>80488/174504898  </td></tr>\n",
       "\t<tr><td>China      </td><td>1999</td><td>212258/1272915272</td></tr>\n",
       "\t<tr><td>China      </td><td>2000</td><td>213766/1280428583</td></tr>\n",
       "</tbody>\n",
       "</table>\n"
      ],
      "text/latex": [
       "A tibble: 6 × 3\n",
       "\\begin{tabular}{lll}\n",
       " country & new & rate\\\\\n",
       " <chr> & <chr> & <chr>\\\\\n",
       "\\hline\n",
       "\t Afghanistan & 1999 & 745/19987071     \\\\\n",
       "\t Afghanistan & 2000 & 2666/20595360    \\\\\n",
       "\t Brazil      & 1999 & 37737/172006362  \\\\\n",
       "\t Brazil      & 2000 & 80488/174504898  \\\\\n",
       "\t China       & 1999 & 212258/1272915272\\\\\n",
       "\t China       & 2000 & 213766/1280428583\\\\\n",
       "\\end{tabular}\n"
      ],
      "text/markdown": [
       "\n",
       "A tibble: 6 × 3\n",
       "\n",
       "| country &lt;chr&gt; | new &lt;chr&gt; | rate &lt;chr&gt; |\n",
       "|---|---|---|\n",
       "| Afghanistan | 1999 | 745/19987071      |\n",
       "| Afghanistan | 2000 | 2666/20595360     |\n",
       "| Brazil      | 1999 | 37737/172006362   |\n",
       "| Brazil      | 2000 | 80488/174504898   |\n",
       "| China       | 1999 | 212258/1272915272 |\n",
       "| China       | 2000 | 213766/1280428583 |\n",
       "\n"
      ],
      "text/plain": [
       "  country     new  rate             \n",
       "1 Afghanistan 1999 745/19987071     \n",
       "2 Afghanistan 2000 2666/20595360    \n",
       "3 Brazil      1999 37737/172006362  \n",
       "4 Brazil      2000 80488/174504898  \n",
       "5 China       1999 212258/1272915272\n",
       "6 China       2000 213766/1280428583"
      ]
     },
     "metadata": {},
     "output_type": "display_data"
    }
   ],
   "source": [
    "## pulling\n",
    "\n",
    "table5\n",
    "\n",
    "table5 %>%\n",
    "unite(new, century, year)\n",
    "\n",
    "table5 %>%\n",
    "unite(new, century, year, sep=\"\")"
   ]
  },
  {
   "cell_type": "markdown",
   "id": "af2978d1",
   "metadata": {},
   "source": [
    "#### Handling Missing Values\n",
    "2 kinds of missing values:\n",
    "- Explicit - flagged with NA\n",
    "- Implicit - simply not present in the data"
   ]
  },
  {
   "cell_type": "code",
   "execution_count": 52,
   "id": "8f6d1ec6",
   "metadata": {},
   "outputs": [
    {
     "data": {
      "text/html": [
       "<table class=\"dataframe\">\n",
       "<caption>A tibble: 7 × 3</caption>\n",
       "<thead>\n",
       "\t<tr><th scope=col>year</th><th scope=col>qtr</th><th scope=col>return</th></tr>\n",
       "\t<tr><th scope=col>&lt;dbl&gt;</th><th scope=col>&lt;dbl&gt;</th><th scope=col>&lt;dbl&gt;</th></tr>\n",
       "</thead>\n",
       "<tbody>\n",
       "\t<tr><td>2015</td><td>1</td><td>1.88</td></tr>\n",
       "\t<tr><td>2015</td><td>2</td><td>0.59</td></tr>\n",
       "\t<tr><td>2015</td><td>3</td><td>0.35</td></tr>\n",
       "\t<tr><td>2015</td><td>4</td><td>  NA</td></tr>\n",
       "\t<tr><td>2016</td><td>2</td><td>0.92</td></tr>\n",
       "\t<tr><td>2016</td><td>3</td><td>0.17</td></tr>\n",
       "\t<tr><td>2016</td><td>4</td><td>2.66</td></tr>\n",
       "</tbody>\n",
       "</table>\n"
      ],
      "text/latex": [
       "A tibble: 7 × 3\n",
       "\\begin{tabular}{lll}\n",
       " year & qtr & return\\\\\n",
       " <dbl> & <dbl> & <dbl>\\\\\n",
       "\\hline\n",
       "\t 2015 & 1 & 1.88\\\\\n",
       "\t 2015 & 2 & 0.59\\\\\n",
       "\t 2015 & 3 & 0.35\\\\\n",
       "\t 2015 & 4 &   NA\\\\\n",
       "\t 2016 & 2 & 0.92\\\\\n",
       "\t 2016 & 3 & 0.17\\\\\n",
       "\t 2016 & 4 & 2.66\\\\\n",
       "\\end{tabular}\n"
      ],
      "text/markdown": [
       "\n",
       "A tibble: 7 × 3\n",
       "\n",
       "| year &lt;dbl&gt; | qtr &lt;dbl&gt; | return &lt;dbl&gt; |\n",
       "|---|---|---|\n",
       "| 2015 | 1 | 1.88 |\n",
       "| 2015 | 2 | 0.59 |\n",
       "| 2015 | 3 | 0.35 |\n",
       "| 2015 | 4 |   NA |\n",
       "| 2016 | 2 | 0.92 |\n",
       "| 2016 | 3 | 0.17 |\n",
       "| 2016 | 4 | 2.66 |\n",
       "\n"
      ],
      "text/plain": [
       "  year qtr return\n",
       "1 2015 1   1.88  \n",
       "2 2015 2   0.59  \n",
       "3 2015 3   0.35  \n",
       "4 2015 4     NA  \n",
       "5 2016 2   0.92  \n",
       "6 2016 3   0.17  \n",
       "7 2016 4   2.66  "
      ]
     },
     "metadata": {},
     "output_type": "display_data"
    }
   ],
   "source": [
    "stocks <- tibble(\n",
    "year= c(2015, 2015, 2015, 2015, 2016, 2016, 2016),  #Implicit missing value\n",
    "qtr = c(1,2,3,4,2,3,4),\n",
    "return = c(1.88, 0.59, 0.35, NA, 0.92, 0.17, 2.66)  #Explicit missing value\n",
    ")\n",
    "stocks"
   ]
  },
  {
   "cell_type": "code",
   "execution_count": 54,
   "id": "3b997aa1",
   "metadata": {},
   "outputs": [
    {
     "data": {
      "text/html": [
       "<table class=\"dataframe\">\n",
       "<caption>A tibble: 4 × 3</caption>\n",
       "<thead>\n",
       "\t<tr><th scope=col>qtr</th><th scope=col>2015</th><th scope=col>2016</th></tr>\n",
       "\t<tr><th scope=col>&lt;dbl&gt;</th><th scope=col>&lt;dbl&gt;</th><th scope=col>&lt;dbl&gt;</th></tr>\n",
       "</thead>\n",
       "<tbody>\n",
       "\t<tr><td>1</td><td>1.88</td><td>  NA</td></tr>\n",
       "\t<tr><td>2</td><td>0.59</td><td>0.92</td></tr>\n",
       "\t<tr><td>3</td><td>0.35</td><td>0.17</td></tr>\n",
       "\t<tr><td>4</td><td>  NA</td><td>2.66</td></tr>\n",
       "</tbody>\n",
       "</table>\n"
      ],
      "text/latex": [
       "A tibble: 4 × 3\n",
       "\\begin{tabular}{lll}\n",
       " qtr & 2015 & 2016\\\\\n",
       " <dbl> & <dbl> & <dbl>\\\\\n",
       "\\hline\n",
       "\t 1 & 1.88 &   NA\\\\\n",
       "\t 2 & 0.59 & 0.92\\\\\n",
       "\t 3 & 0.35 & 0.17\\\\\n",
       "\t 4 &   NA & 2.66\\\\\n",
       "\\end{tabular}\n"
      ],
      "text/markdown": [
       "\n",
       "A tibble: 4 × 3\n",
       "\n",
       "| qtr &lt;dbl&gt; | 2015 &lt;dbl&gt; | 2016 &lt;dbl&gt; |\n",
       "|---|---|---|\n",
       "| 1 | 1.88 |   NA |\n",
       "| 2 | 0.59 | 0.92 |\n",
       "| 3 | 0.35 | 0.17 |\n",
       "| 4 |   NA | 2.66 |\n",
       "\n"
      ],
      "text/plain": [
       "  qtr 2015 2016\n",
       "1 1   1.88   NA\n",
       "2 2   0.59 0.92\n",
       "3 3   0.35 0.17\n",
       "4 4     NA 2.66"
      ]
     },
     "metadata": {},
     "output_type": "display_data"
    },
    {
     "data": {
      "text/html": [
       "<table class=\"dataframe\">\n",
       "<caption>A tibble: 8 × 3</caption>\n",
       "<thead>\n",
       "\t<tr><th scope=col>qtr</th><th scope=col>year</th><th scope=col>return</th></tr>\n",
       "\t<tr><th scope=col>&lt;dbl&gt;</th><th scope=col>&lt;chr&gt;</th><th scope=col>&lt;dbl&gt;</th></tr>\n",
       "</thead>\n",
       "<tbody>\n",
       "\t<tr><td>1</td><td>2015</td><td>1.88</td></tr>\n",
       "\t<tr><td>2</td><td>2015</td><td>0.59</td></tr>\n",
       "\t<tr><td>3</td><td>2015</td><td>0.35</td></tr>\n",
       "\t<tr><td>4</td><td>2015</td><td>  NA</td></tr>\n",
       "\t<tr><td>1</td><td>2016</td><td>  NA</td></tr>\n",
       "\t<tr><td>2</td><td>2016</td><td>0.92</td></tr>\n",
       "\t<tr><td>3</td><td>2016</td><td>0.17</td></tr>\n",
       "\t<tr><td>4</td><td>2016</td><td>2.66</td></tr>\n",
       "</tbody>\n",
       "</table>\n"
      ],
      "text/latex": [
       "A tibble: 8 × 3\n",
       "\\begin{tabular}{lll}\n",
       " qtr & year & return\\\\\n",
       " <dbl> & <chr> & <dbl>\\\\\n",
       "\\hline\n",
       "\t 1 & 2015 & 1.88\\\\\n",
       "\t 2 & 2015 & 0.59\\\\\n",
       "\t 3 & 2015 & 0.35\\\\\n",
       "\t 4 & 2015 &   NA\\\\\n",
       "\t 1 & 2016 &   NA\\\\\n",
       "\t 2 & 2016 & 0.92\\\\\n",
       "\t 3 & 2016 & 0.17\\\\\n",
       "\t 4 & 2016 & 2.66\\\\\n",
       "\\end{tabular}\n"
      ],
      "text/markdown": [
       "\n",
       "A tibble: 8 × 3\n",
       "\n",
       "| qtr &lt;dbl&gt; | year &lt;chr&gt; | return &lt;dbl&gt; |\n",
       "|---|---|---|\n",
       "| 1 | 2015 | 1.88 |\n",
       "| 2 | 2015 | 0.59 |\n",
       "| 3 | 2015 | 0.35 |\n",
       "| 4 | 2015 |   NA |\n",
       "| 1 | 2016 |   NA |\n",
       "| 2 | 2016 | 0.92 |\n",
       "| 3 | 2016 | 0.17 |\n",
       "| 4 | 2016 | 2.66 |\n",
       "\n"
      ],
      "text/plain": [
       "  qtr year return\n",
       "1 1   2015 1.88  \n",
       "2 2   2015 0.59  \n",
       "3 3   2015 0.35  \n",
       "4 4   2015   NA  \n",
       "5 1   2016   NA  \n",
       "6 2   2016 0.92  \n",
       "7 3   2016 0.17  \n",
       "8 4   2016 2.66  "
      ]
     },
     "metadata": {},
     "output_type": "display_data"
    },
    {
     "data": {
      "text/html": [
       "<table class=\"dataframe\">\n",
       "<caption>A tibble: 6 × 3</caption>\n",
       "<thead>\n",
       "\t<tr><th scope=col>qtr</th><th scope=col>year</th><th scope=col>return</th></tr>\n",
       "\t<tr><th scope=col>&lt;dbl&gt;</th><th scope=col>&lt;chr&gt;</th><th scope=col>&lt;dbl&gt;</th></tr>\n",
       "</thead>\n",
       "<tbody>\n",
       "\t<tr><td>1</td><td>2015</td><td>1.88</td></tr>\n",
       "\t<tr><td>2</td><td>2015</td><td>0.59</td></tr>\n",
       "\t<tr><td>3</td><td>2015</td><td>0.35</td></tr>\n",
       "\t<tr><td>2</td><td>2016</td><td>0.92</td></tr>\n",
       "\t<tr><td>3</td><td>2016</td><td>0.17</td></tr>\n",
       "\t<tr><td>4</td><td>2016</td><td>2.66</td></tr>\n",
       "</tbody>\n",
       "</table>\n"
      ],
      "text/latex": [
       "A tibble: 6 × 3\n",
       "\\begin{tabular}{lll}\n",
       " qtr & year & return\\\\\n",
       " <dbl> & <chr> & <dbl>\\\\\n",
       "\\hline\n",
       "\t 1 & 2015 & 1.88\\\\\n",
       "\t 2 & 2015 & 0.59\\\\\n",
       "\t 3 & 2015 & 0.35\\\\\n",
       "\t 2 & 2016 & 0.92\\\\\n",
       "\t 3 & 2016 & 0.17\\\\\n",
       "\t 4 & 2016 & 2.66\\\\\n",
       "\\end{tabular}\n"
      ],
      "text/markdown": [
       "\n",
       "A tibble: 6 × 3\n",
       "\n",
       "| qtr &lt;dbl&gt; | year &lt;chr&gt; | return &lt;dbl&gt; |\n",
       "|---|---|---|\n",
       "| 1 | 2015 | 1.88 |\n",
       "| 2 | 2015 | 0.59 |\n",
       "| 3 | 2015 | 0.35 |\n",
       "| 2 | 2016 | 0.92 |\n",
       "| 3 | 2016 | 0.17 |\n",
       "| 4 | 2016 | 2.66 |\n",
       "\n"
      ],
      "text/plain": [
       "  qtr year return\n",
       "1 1   2015 1.88  \n",
       "2 2   2015 0.59  \n",
       "3 3   2015 0.35  \n",
       "4 2   2016 0.92  \n",
       "5 3   2016 0.17  \n",
       "6 4   2016 2.66  "
      ]
     },
     "metadata": {},
     "output_type": "display_data"
    }
   ],
   "source": [
    "stocks %>%\n",
    "spread(year, return)\n",
    "\n",
    "## turn implicit missing values explicit.\n",
    "stocks %>%\n",
    "spread(year, return) %>%\n",
    "gather(year, return, '2015':'2016')\n",
    "\n",
    "## turn explicit missing values implicit.\n",
    "stocks %>%\n",
    "spread(year, return) %>%\n",
    "gather(year, return, '2015':'2016', na.rm=TRUE)"
   ]
  },
  {
   "cell_type": "markdown",
   "id": "8a882d6f",
   "metadata": {},
   "source": [
    "**complete()** - takes a set of columns(categorical), and finds all their unique combinations. It then fill it up with all the combinations in the original dataset, filling in explicit NAs for missing entries."
   ]
  },
  {
   "cell_type": "code",
   "execution_count": 55,
   "id": "06deec52",
   "metadata": {},
   "outputs": [
    {
     "data": {
      "text/html": [
       "<table class=\"dataframe\">\n",
       "<caption>A tibble: 7 × 3</caption>\n",
       "<thead>\n",
       "\t<tr><th scope=col>year</th><th scope=col>qtr</th><th scope=col>return</th></tr>\n",
       "\t<tr><th scope=col>&lt;dbl&gt;</th><th scope=col>&lt;dbl&gt;</th><th scope=col>&lt;dbl&gt;</th></tr>\n",
       "</thead>\n",
       "<tbody>\n",
       "\t<tr><td>2015</td><td>1</td><td>1.88</td></tr>\n",
       "\t<tr><td>2015</td><td>2</td><td>0.59</td></tr>\n",
       "\t<tr><td>2015</td><td>3</td><td>0.35</td></tr>\n",
       "\t<tr><td>2015</td><td>4</td><td>  NA</td></tr>\n",
       "\t<tr><td>2016</td><td>2</td><td>0.92</td></tr>\n",
       "\t<tr><td>2016</td><td>3</td><td>0.17</td></tr>\n",
       "\t<tr><td>2016</td><td>4</td><td>2.66</td></tr>\n",
       "</tbody>\n",
       "</table>\n"
      ],
      "text/latex": [
       "A tibble: 7 × 3\n",
       "\\begin{tabular}{lll}\n",
       " year & qtr & return\\\\\n",
       " <dbl> & <dbl> & <dbl>\\\\\n",
       "\\hline\n",
       "\t 2015 & 1 & 1.88\\\\\n",
       "\t 2015 & 2 & 0.59\\\\\n",
       "\t 2015 & 3 & 0.35\\\\\n",
       "\t 2015 & 4 &   NA\\\\\n",
       "\t 2016 & 2 & 0.92\\\\\n",
       "\t 2016 & 3 & 0.17\\\\\n",
       "\t 2016 & 4 & 2.66\\\\\n",
       "\\end{tabular}\n"
      ],
      "text/markdown": [
       "\n",
       "A tibble: 7 × 3\n",
       "\n",
       "| year &lt;dbl&gt; | qtr &lt;dbl&gt; | return &lt;dbl&gt; |\n",
       "|---|---|---|\n",
       "| 2015 | 1 | 1.88 |\n",
       "| 2015 | 2 | 0.59 |\n",
       "| 2015 | 3 | 0.35 |\n",
       "| 2015 | 4 |   NA |\n",
       "| 2016 | 2 | 0.92 |\n",
       "| 2016 | 3 | 0.17 |\n",
       "| 2016 | 4 | 2.66 |\n",
       "\n"
      ],
      "text/plain": [
       "  year qtr return\n",
       "1 2015 1   1.88  \n",
       "2 2015 2   0.59  \n",
       "3 2015 3   0.35  \n",
       "4 2015 4     NA  \n",
       "5 2016 2   0.92  \n",
       "6 2016 3   0.17  \n",
       "7 2016 4   2.66  "
      ]
     },
     "metadata": {},
     "output_type": "display_data"
    },
    {
     "data": {
      "text/html": [
       "<table class=\"dataframe\">\n",
       "<caption>A tibble: 8 × 3</caption>\n",
       "<thead>\n",
       "\t<tr><th scope=col>year</th><th scope=col>qtr</th><th scope=col>return</th></tr>\n",
       "\t<tr><th scope=col>&lt;dbl&gt;</th><th scope=col>&lt;dbl&gt;</th><th scope=col>&lt;dbl&gt;</th></tr>\n",
       "</thead>\n",
       "<tbody>\n",
       "\t<tr><td>2015</td><td>1</td><td>1.88</td></tr>\n",
       "\t<tr><td>2015</td><td>2</td><td>0.59</td></tr>\n",
       "\t<tr><td>2015</td><td>3</td><td>0.35</td></tr>\n",
       "\t<tr><td>2015</td><td>4</td><td>  NA</td></tr>\n",
       "\t<tr><td>2016</td><td>1</td><td>  NA</td></tr>\n",
       "\t<tr><td>2016</td><td>2</td><td>0.92</td></tr>\n",
       "\t<tr><td>2016</td><td>3</td><td>0.17</td></tr>\n",
       "\t<tr><td>2016</td><td>4</td><td>2.66</td></tr>\n",
       "</tbody>\n",
       "</table>\n"
      ],
      "text/latex": [
       "A tibble: 8 × 3\n",
       "\\begin{tabular}{lll}\n",
       " year & qtr & return\\\\\n",
       " <dbl> & <dbl> & <dbl>\\\\\n",
       "\\hline\n",
       "\t 2015 & 1 & 1.88\\\\\n",
       "\t 2015 & 2 & 0.59\\\\\n",
       "\t 2015 & 3 & 0.35\\\\\n",
       "\t 2015 & 4 &   NA\\\\\n",
       "\t 2016 & 1 &   NA\\\\\n",
       "\t 2016 & 2 & 0.92\\\\\n",
       "\t 2016 & 3 & 0.17\\\\\n",
       "\t 2016 & 4 & 2.66\\\\\n",
       "\\end{tabular}\n"
      ],
      "text/markdown": [
       "\n",
       "A tibble: 8 × 3\n",
       "\n",
       "| year &lt;dbl&gt; | qtr &lt;dbl&gt; | return &lt;dbl&gt; |\n",
       "|---|---|---|\n",
       "| 2015 | 1 | 1.88 |\n",
       "| 2015 | 2 | 0.59 |\n",
       "| 2015 | 3 | 0.35 |\n",
       "| 2015 | 4 |   NA |\n",
       "| 2016 | 1 |   NA |\n",
       "| 2016 | 2 | 0.92 |\n",
       "| 2016 | 3 | 0.17 |\n",
       "| 2016 | 4 | 2.66 |\n",
       "\n"
      ],
      "text/plain": [
       "  year qtr return\n",
       "1 2015 1   1.88  \n",
       "2 2015 2   0.59  \n",
       "3 2015 3   0.35  \n",
       "4 2015 4     NA  \n",
       "5 2016 1     NA  \n",
       "6 2016 2   0.92  \n",
       "7 2016 3   0.17  \n",
       "8 2016 4   2.66  "
      ]
     },
     "metadata": {},
     "output_type": "display_data"
    }
   ],
   "source": [
    "stocks\n",
    "\n",
    "stocks %>%\n",
    "complete(year, qtr)"
   ]
  },
  {
   "cell_type": "markdown",
   "id": "dcd152d7",
   "metadata": {},
   "source": [
    "**fill()** - It takes a set of columns where you want missing values to be replaced by the most recent non-missing value."
   ]
  },
  {
   "cell_type": "code",
   "execution_count": 58,
   "id": "bd4f7e5a",
   "metadata": {},
   "outputs": [
    {
     "data": {
      "text/html": [
       "<table class=\"dataframe\">\n",
       "<caption>A tibble: 4 × 3</caption>\n",
       "<thead>\n",
       "\t<tr><th scope=col>person</th><th scope=col>treatment</th><th scope=col>response</th></tr>\n",
       "\t<tr><th scope=col>&lt;chr&gt;</th><th scope=col>&lt;dbl&gt;</th><th scope=col>&lt;dbl&gt;</th></tr>\n",
       "</thead>\n",
       "<tbody>\n",
       "\t<tr><td>Derrick Whitmore</td><td>1</td><td> 7</td></tr>\n",
       "\t<tr><td>NA              </td><td>2</td><td>10</td></tr>\n",
       "\t<tr><td>NA              </td><td>3</td><td> 9</td></tr>\n",
       "\t<tr><td>Katherine       </td><td>1</td><td> 4</td></tr>\n",
       "</tbody>\n",
       "</table>\n"
      ],
      "text/latex": [
       "A tibble: 4 × 3\n",
       "\\begin{tabular}{lll}\n",
       " person & treatment & response\\\\\n",
       " <chr> & <dbl> & <dbl>\\\\\n",
       "\\hline\n",
       "\t Derrick Whitmore & 1 &  7\\\\\n",
       "\t NA               & 2 & 10\\\\\n",
       "\t NA               & 3 &  9\\\\\n",
       "\t Katherine        & 1 &  4\\\\\n",
       "\\end{tabular}\n"
      ],
      "text/markdown": [
       "\n",
       "A tibble: 4 × 3\n",
       "\n",
       "| person &lt;chr&gt; | treatment &lt;dbl&gt; | response &lt;dbl&gt; |\n",
       "|---|---|---|\n",
       "| Derrick Whitmore | 1 |  7 |\n",
       "| NA               | 2 | 10 |\n",
       "| NA               | 3 |  9 |\n",
       "| Katherine        | 1 |  4 |\n",
       "\n"
      ],
      "text/plain": [
       "  person           treatment response\n",
       "1 Derrick Whitmore 1          7      \n",
       "2 NA               2         10      \n",
       "3 NA               3          9      \n",
       "4 Katherine        1          4      "
      ]
     },
     "metadata": {},
     "output_type": "display_data"
    },
    {
     "data": {
      "text/html": [
       "<table class=\"dataframe\">\n",
       "<caption>A tibble: 4 × 3</caption>\n",
       "<thead>\n",
       "\t<tr><th scope=col>person</th><th scope=col>treatment</th><th scope=col>response</th></tr>\n",
       "\t<tr><th scope=col>&lt;chr&gt;</th><th scope=col>&lt;dbl&gt;</th><th scope=col>&lt;dbl&gt;</th></tr>\n",
       "</thead>\n",
       "<tbody>\n",
       "\t<tr><td>Derrick Whitmore</td><td>1</td><td> 7</td></tr>\n",
       "\t<tr><td>Derrick Whitmore</td><td>2</td><td>10</td></tr>\n",
       "\t<tr><td>Derrick Whitmore</td><td>3</td><td> 9</td></tr>\n",
       "\t<tr><td>Katherine       </td><td>1</td><td> 4</td></tr>\n",
       "</tbody>\n",
       "</table>\n"
      ],
      "text/latex": [
       "A tibble: 4 × 3\n",
       "\\begin{tabular}{lll}\n",
       " person & treatment & response\\\\\n",
       " <chr> & <dbl> & <dbl>\\\\\n",
       "\\hline\n",
       "\t Derrick Whitmore & 1 &  7\\\\\n",
       "\t Derrick Whitmore & 2 & 10\\\\\n",
       "\t Derrick Whitmore & 3 &  9\\\\\n",
       "\t Katherine        & 1 &  4\\\\\n",
       "\\end{tabular}\n"
      ],
      "text/markdown": [
       "\n",
       "A tibble: 4 × 3\n",
       "\n",
       "| person &lt;chr&gt; | treatment &lt;dbl&gt; | response &lt;dbl&gt; |\n",
       "|---|---|---|\n",
       "| Derrick Whitmore | 1 |  7 |\n",
       "| Derrick Whitmore | 2 | 10 |\n",
       "| Derrick Whitmore | 3 |  9 |\n",
       "| Katherine        | 1 |  4 |\n",
       "\n"
      ],
      "text/plain": [
       "  person           treatment response\n",
       "1 Derrick Whitmore 1          7      \n",
       "2 Derrick Whitmore 2         10      \n",
       "3 Derrick Whitmore 3          9      \n",
       "4 Katherine        1          4      "
      ]
     },
     "metadata": {},
     "output_type": "display_data"
    }
   ],
   "source": [
    "treatment <- tribble(\n",
    "~ person,            ~ treatment,  ~response, \n",
    "\"Derrick Whitmore\",    1,           7,\n",
    "NA                ,    2,           10,\n",
    "NA                ,    3,           9,  # last observation carried forward dataset\n",
    "\"Katherine\"       ,    1,           4 )             \n",
    "treatment\n",
    "\n",
    "treatment %>%\n",
    "fill(person)"
   ]
  }
 ],
 "metadata": {
  "kernelspec": {
   "display_name": "R",
   "language": "R",
   "name": "ir"
  },
  "language_info": {
   "codemirror_mode": "r",
   "file_extension": ".r",
   "mimetype": "text/x-r-source",
   "name": "R",
   "pygments_lexer": "r",
   "version": "4.1.2"
  }
 },
 "nbformat": 4,
 "nbformat_minor": 5
}
