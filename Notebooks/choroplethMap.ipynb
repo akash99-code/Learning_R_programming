{
 "cells": [
  {
   "cell_type": "code",
   "execution_count": 2,
   "id": "4fb1a227",
   "metadata": {},
   "outputs": [
    {
     "name": "stderr",
     "output_type": "stream",
     "text": [
      "Installing package into 'C:/Users/ashok/Documents/R/win-library/4.1'\n",
      "(as 'lib' is unspecified)\n",
      "\n",
      "also installing the dependencies 'proxy', 'e1071', 'wk', 'classInt', 's2', 'units'\n",
      "\n",
      "\n"
     ]
    },
    {
     "name": "stdout",
     "output_type": "stream",
     "text": [
      "package 'proxy' successfully unpacked and MD5 sums checked\n",
      "package 'e1071' successfully unpacked and MD5 sums checked\n",
      "package 'wk' successfully unpacked and MD5 sums checked\n",
      "package 'classInt' successfully unpacked and MD5 sums checked\n",
      "package 's2' successfully unpacked and MD5 sums checked\n",
      "package 'units' successfully unpacked and MD5 sums checked\n",
      "package 'sf' successfully unpacked and MD5 sums checked\n",
      "\n",
      "The downloaded binary packages are in\n",
      "\tC:\\Users\\ashok\\AppData\\Local\\Temp\\RtmpormsGW\\downloaded_packages\n"
     ]
    }
   ],
   "source": [
    "install.packages('sf')"
   ]
  },
  {
   "cell_type": "code",
   "execution_count": 3,
   "id": "d6831196",
   "metadata": {},
   "outputs": [
    {
     "name": "stderr",
     "output_type": "stream",
     "text": [
      "-- \u001b[1mAttaching packages\u001b[22m ------------------------------------------------------------------------------- tidyverse 1.3.1 --\n",
      "\n",
      "\u001b[32mv\u001b[39m \u001b[34mggplot2\u001b[39m 3.3.5     \u001b[32mv\u001b[39m \u001b[34mpurrr  \u001b[39m 0.3.4\n",
      "\u001b[32mv\u001b[39m \u001b[34mtibble \u001b[39m 3.1.6     \u001b[32mv\u001b[39m \u001b[34mdplyr  \u001b[39m 1.0.7\n",
      "\u001b[32mv\u001b[39m \u001b[34mtidyr  \u001b[39m 1.2.0     \u001b[32mv\u001b[39m \u001b[34mstringr\u001b[39m 1.4.0\n",
      "\u001b[32mv\u001b[39m \u001b[34mreadr  \u001b[39m 2.1.2     \u001b[32mv\u001b[39m \u001b[34mforcats\u001b[39m 0.5.1\n",
      "\n",
      "-- \u001b[1mConflicts\u001b[22m ---------------------------------------------------------------------------------- tidyverse_conflicts() --\n",
      "\u001b[31mx\u001b[39m \u001b[34mdplyr\u001b[39m::\u001b[32mfilter()\u001b[39m masks \u001b[34mstats\u001b[39m::filter()\n",
      "\u001b[31mx\u001b[39m \u001b[34mdplyr\u001b[39m::\u001b[32mlag()\u001b[39m    masks \u001b[34mstats\u001b[39m::lag()\n",
      "\n",
      "Linking to GEOS 3.9.1, GDAL 3.2.1, PROJ 7.2.1; sf_use_s2() is TRUE\n",
      "\n"
     ]
    }
   ],
   "source": [
    "library(\"tidyverse\")\n",
    "library(\"sf\")"
   ]
  },
  {
   "cell_type": "code",
   "execution_count": 20,
   "id": "517be21c",
   "metadata": {},
   "outputs": [
    {
     "name": "stderr",
     "output_type": "stream",
     "text": [
      "ERROR while rich displaying an object: Error in loadNamespace(x): there is no package called 'geojsonio'\n",
      "\n",
      "Traceback:\n",
      "1. FUN(X[[i]], ...)\n",
      "2. tryCatch(withCallingHandlers({\n",
      " .     if (!mime %in% names(repr::mime2repr)) \n",
      " .         stop(\"No repr_* for mimetype \", mime, \" in repr::mime2repr\")\n",
      " .     rpr <- repr::mime2repr[[mime]](obj)\n",
      " .     if (is.null(rpr)) \n",
      " .         return(NULL)\n",
      " .     prepare_content(is.raw(rpr), rpr)\n",
      " . }, error = error_handler), error = outer_handler)\n",
      "3. tryCatchList(expr, classes, parentenv, handlers)\n",
      "4. tryCatchOne(expr, names, parentenv, handlers[[1L]])\n",
      "5. doTryCatch(return(expr), name, parentenv, handler)\n",
      "6. withCallingHandlers({\n",
      " .     if (!mime %in% names(repr::mime2repr)) \n",
      " .         stop(\"No repr_* for mimetype \", mime, \" in repr::mime2repr\")\n",
      " .     rpr <- repr::mime2repr[[mime]](obj)\n",
      " .     if (is.null(rpr)) \n",
      " .         return(NULL)\n",
      " .     prepare_content(is.raw(rpr), rpr)\n",
      " . }, error = error_handler)\n",
      "7. repr::mime2repr[[mime]](obj)\n",
      "8. repr_geojson.sf(obj)\n",
      "9. repr_geojson(geojsonio::geojson_list(obj), ...)\n",
      "10. loadNamespace(x)\n",
      "11. withRestarts(stop(cond), retry_loadNamespace = function() NULL)\n",
      "12. withOneRestart(expr, restarts[[1L]])\n",
      "13. doWithOneRestart(return(expr), restart)\n"
     ]
    },
    {
     "data": {
      "text/html": [
       "<table class=\"dataframe\">\n",
       "<caption>A sf: 4 × 8</caption>\n",
       "<thead>\n",
       "\t<tr><th scope=col>REGIONCE</th><th scope=col>AFFGEOID</th><th scope=col>GEOID</th><th scope=col>NAME</th><th scope=col>LSAD</th><th scope=col>ALAND</th><th scope=col>AWATER</th><th scope=col>geometry</th></tr>\n",
       "\t<tr><th scope=col>&lt;chr&gt;</th><th scope=col>&lt;chr&gt;</th><th scope=col>&lt;chr&gt;</th><th scope=col>&lt;chr&gt;</th><th scope=col>&lt;chr&gt;</th><th scope=col>&lt;dbl&gt;</th><th scope=col>&lt;dbl&gt;</th><th scope=col>&lt;MULTIPOLYGON [°]&gt;</th></tr>\n",
       "</thead>\n",
       "<tbody>\n",
       "\t<tr><td>1</td><td>0200000US1</td><td>1</td><td>Northeast</td><td>68</td><td>4.193578e+11</td><td> 50259300137</td><td>MULTIPOLYGON (((-68.27472 4...</td></tr>\n",
       "\t<tr><td>2</td><td>0200000US2</td><td>2</td><td>Midwest  </td><td>68</td><td>1.943997e+12</td><td>184273267512</td><td>MULTIPOLYGON (((-82.73571 4...</td></tr>\n",
       "\t<tr><td>4</td><td>0200000US4</td><td>4</td><td>West     </td><td>68</td><td>4.536202e+12</td><td>316587292459</td><td>MULTIPOLYGON (((179.4825 51...</td></tr>\n",
       "\t<tr><td>3</td><td>0200000US3</td><td>3</td><td>South    </td><td>68</td><td>2.249872e+12</td><td>134084610547</td><td>MULTIPOLYGON (((-75.56555 3...</td></tr>\n",
       "</tbody>\n",
       "</table>\n"
      ],
      "text/latex": [
       "A sf: 4 × 8\n",
       "\\begin{tabular}{llllllll}\n",
       " REGIONCE & AFFGEOID & GEOID & NAME & LSAD & ALAND & AWATER & geometry\\\\\n",
       " <chr> & <chr> & <chr> & <chr> & <chr> & <dbl> & <dbl> & <MULTIPOLYGON {[}°{]}>\\\\\n",
       "\\hline\n",
       "\t 1 & 0200000US1 & 1 & Northeast & 68 & 4.193578e+11 &  50259300137 & MULTIPOLYGON (((-68.27472 4...\\\\\n",
       "\t 2 & 0200000US2 & 2 & Midwest   & 68 & 1.943997e+12 & 184273267512 & MULTIPOLYGON (((-82.73571 4...\\\\\n",
       "\t 4 & 0200000US4 & 4 & West      & 68 & 4.536202e+12 & 316587292459 & MULTIPOLYGON (((179.4825 51...\\\\\n",
       "\t 3 & 0200000US3 & 3 & South     & 68 & 2.249872e+12 & 134084610547 & MULTIPOLYGON (((-75.56555 3...\\\\\n",
       "\\end{tabular}\n"
      ],
      "text/markdown": [
       "\n",
       "A sf: 4 × 8\n",
       "\n",
       "| REGIONCE &lt;chr&gt; | AFFGEOID &lt;chr&gt; | GEOID &lt;chr&gt; | NAME &lt;chr&gt; | LSAD &lt;chr&gt; | ALAND &lt;dbl&gt; | AWATER &lt;dbl&gt; | geometry &lt;MULTIPOLYGON [°]&gt; |\n",
       "|---|---|---|---|---|---|---|---|\n",
       "| 1 | 0200000US1 | 1 | Northeast | 68 | 4.193578e+11 |  50259300137 | MULTIPOLYGON (((-68.27472 4... |\n",
       "| 2 | 0200000US2 | 2 | Midwest   | 68 | 1.943997e+12 | 184273267512 | MULTIPOLYGON (((-82.73571 4... |\n",
       "| 4 | 0200000US4 | 4 | West      | 68 | 4.536202e+12 | 316587292459 | MULTIPOLYGON (((179.4825 51... |\n",
       "| 3 | 0200000US3 | 3 | South     | 68 | 2.249872e+12 | 134084610547 | MULTIPOLYGON (((-75.56555 3... |\n",
       "\n"
      ],
      "text/plain": [
       "  REGIONCE AFFGEOID   GEOID NAME      LSAD ALAND        AWATER      \n",
       "1 1        0200000US1 1     Northeast 68   4.193578e+11  50259300137\n",
       "2 2        0200000US2 2     Midwest   68   1.943997e+12 184273267512\n",
       "3 4        0200000US4 4     West      68   4.536202e+12 316587292459\n",
       "4 3        0200000US3 3     South     68   2.249872e+12 134084610547\n",
       "  geometry                      \n",
       "1 MULTIPOLYGON (((-68.27472 4...\n",
       "2 MULTIPOLYGON (((-82.73571 4...\n",
       "3 MULTIPOLYGON (((179.4825 51...\n",
       "4 MULTIPOLYGON (((-75.56555 3..."
      ]
     },
     "metadata": {},
     "output_type": "display_data"
    }
   ],
   "source": [
    "us_regions <- read_sf(\"cb_2018_us_region_500k/cb_2018_us_region_500k.shp\")\n",
    "us_regions"
   ]
  },
  {
   "cell_type": "code",
   "execution_count": 6,
   "id": "69563ddb",
   "metadata": {},
   "outputs": [
    {
     "data": {
      "image/png": "[encoded data removed]",
      "text/plain": [
       "plot without title"
      ]
     },
     "metadata": {
      "image/png": {
       "height": 420,
       "width": 420
      }
     },
     "output_type": "display_data"
    }
   ],
   "source": [
    "ggplot(us_regions) +\n",
    "  geom_sf()"
   ]
  },
  {
   "cell_type": "code",
   "execution_count": 7,
   "id": "ddf0a729",
   "metadata": {
    "scrolled": true
   },
   "outputs": [
    {
     "data": {
      "image/png": "[encoded data removed]",
      "text/plain": [
       "plot without title"
      ]
     },
     "metadata": {
      "image/png": {
       "height": 420,
       "width": 420
      }
     },
     "output_type": "display_data"
    }
   ],
   "source": [
    "ggplot(us_regions) +\n",
    "  geom_sf() +\n",
    "  coord_sf()"
   ]
  },
  {
   "cell_type": "code",
   "execution_count": 9,
   "id": "f621893a",
   "metadata": {
    "scrolled": true
   },
   "outputs": [
    {
     "ename": "ERROR",
     "evalue": "Error: Cannot open \"cb_2018_us_region_5m/cb_2018_us_region_5m.shp\"; The file doesn't seem to exist.\n",
     "output_type": "error",
     "traceback": [
      "Error: Cannot open \"cb_2018_us_region_5m/cb_2018_us_region_5m.shp\"; The file doesn't seem to exist.\nTraceback:\n",
      "1. read_sf(\"cb_2018_us_region_5m/cb_2018_us_region_5m.shp\")",
      "2. st_read(..., quiet = quiet, stringsAsFactors = stringsAsFactors, \n .     as_tibble = as_tibble)",
      "3. st_read.character(..., quiet = quiet, stringsAsFactors = stringsAsFactors, \n .     as_tibble = as_tibble)",
      "4. CPL_read_ogr(dsn, layer, query, as.character(options), quiet, \n .     type, fid_column_name, drivers, wkt_filter, promote_to_multi, \n .     int64_as_string, dsn_exists, dsn_isdb, getOption(\"width\"))"
     ]
    }
   ],
   "source": [
    "us_regions_5m <- read_sf(\"cb_2018_us_region_5m/cb_2018_us_region_5m.shp\")"
   ]
  },
  {
   "cell_type": "markdown",
   "id": "962f0de2",
   "metadata": {},
   "source": [
    "Prepare Data to be used with Shape file"
   ]
  },
  {
   "cell_type": "code",
   "execution_count": 10,
   "id": "4f0349aa",
   "metadata": {
    "scrolled": true
   },
   "outputs": [
    {
     "name": "stderr",
     "output_type": "stream",
     "text": [
      "\u001b[1mRows: \u001b[22m\u001b[34m1338\u001b[39m \u001b[1mColumns: \u001b[22m\u001b[34m7\u001b[39m\n",
      "\n",
      "\u001b[36m--\u001b[39m \u001b[1mColumn specification\u001b[22m \u001b[36m------------------------------------------------------------------------------------------------\u001b[39m\n",
      "\u001b[1mDelimiter:\u001b[22m \",\"\n",
      "\u001b[31mchr\u001b[39m (3): sex, smoker, region\n",
      "\u001b[32mdbl\u001b[39m (4): age, bmi, children, expenses\n",
      "\n",
      "\n",
      "\u001b[36mi\u001b[39m Use \u001b[30m\u001b[47m\u001b[30m\u001b[47m`spec()`\u001b[47m\u001b[30m\u001b[49m\u001b[39m to retrieve the full column specification for this data.\n",
      "\u001b[36mi\u001b[39m Specify the column types or set \u001b[30m\u001b[47m\u001b[30m\u001b[47m`show_col_types = FALSE`\u001b[47m\u001b[30m\u001b[49m\u001b[39m to quiet this message.\n",
      "\n"
     ]
    },
    {
     "data": {
      "text/html": [
       "<table class=\"dataframe\">\n",
       "<caption>A tibble: 6 × 7</caption>\n",
       "<thead>\n",
       "\t<tr><th scope=col>age</th><th scope=col>sex</th><th scope=col>bmi</th><th scope=col>children</th><th scope=col>smoker</th><th scope=col>region</th><th scope=col>expenses</th></tr>\n",
       "\t<tr><th scope=col>&lt;dbl&gt;</th><th scope=col>&lt;chr&gt;</th><th scope=col>&lt;dbl&gt;</th><th scope=col>&lt;dbl&gt;</th><th scope=col>&lt;chr&gt;</th><th scope=col>&lt;chr&gt;</th><th scope=col>&lt;dbl&gt;</th></tr>\n",
       "</thead>\n",
       "<tbody>\n",
       "\t<tr><td>19</td><td>female</td><td>27.9</td><td>0</td><td>yes</td><td>southwest</td><td>16884.92</td></tr>\n",
       "\t<tr><td>18</td><td>male  </td><td>33.8</td><td>1</td><td>no </td><td>southeast</td><td> 1725.55</td></tr>\n",
       "\t<tr><td>28</td><td>male  </td><td>33.0</td><td>3</td><td>no </td><td>southeast</td><td> 4449.46</td></tr>\n",
       "\t<tr><td>33</td><td>male  </td><td>22.7</td><td>0</td><td>no </td><td>northwest</td><td>21984.47</td></tr>\n",
       "\t<tr><td>32</td><td>male  </td><td>28.9</td><td>0</td><td>no </td><td>northwest</td><td> 3866.86</td></tr>\n",
       "\t<tr><td>31</td><td>female</td><td>25.7</td><td>0</td><td>no </td><td>southeast</td><td> 3756.62</td></tr>\n",
       "</tbody>\n",
       "</table>\n"
      ],
      "text/latex": [
       "A tibble: 6 × 7\n",
       "\\begin{tabular}{lllllll}\n",
       " age & sex & bmi & children & smoker & region & expenses\\\\\n",
       " <dbl> & <chr> & <dbl> & <dbl> & <chr> & <chr> & <dbl>\\\\\n",
       "\\hline\n",
       "\t 19 & female & 27.9 & 0 & yes & southwest & 16884.92\\\\\n",
       "\t 18 & male   & 33.8 & 1 & no  & southeast &  1725.55\\\\\n",
       "\t 28 & male   & 33.0 & 3 & no  & southeast &  4449.46\\\\\n",
       "\t 33 & male   & 22.7 & 0 & no  & northwest & 21984.47\\\\\n",
       "\t 32 & male   & 28.9 & 0 & no  & northwest &  3866.86\\\\\n",
       "\t 31 & female & 25.7 & 0 & no  & southeast &  3756.62\\\\\n",
       "\\end{tabular}\n"
      ],
      "text/markdown": [
       "\n",
       "A tibble: 6 × 7\n",
       "\n",
       "| age &lt;dbl&gt; | sex &lt;chr&gt; | bmi &lt;dbl&gt; | children &lt;dbl&gt; | smoker &lt;chr&gt; | region &lt;chr&gt; | expenses &lt;dbl&gt; |\n",
       "|---|---|---|---|---|---|---|\n",
       "| 19 | female | 27.9 | 0 | yes | southwest | 16884.92 |\n",
       "| 18 | male   | 33.8 | 1 | no  | southeast |  1725.55 |\n",
       "| 28 | male   | 33.0 | 3 | no  | southeast |  4449.46 |\n",
       "| 33 | male   | 22.7 | 0 | no  | northwest | 21984.47 |\n",
       "| 32 | male   | 28.9 | 0 | no  | northwest |  3866.86 |\n",
       "| 31 | female | 25.7 | 0 | no  | southeast |  3756.62 |\n",
       "\n"
      ],
      "text/plain": [
       "  age sex    bmi  children smoker region    expenses\n",
       "1 19  female 27.9 0        yes    southwest 16884.92\n",
       "2 18  male   33.8 1        no     southeast  1725.55\n",
       "3 28  male   33.0 3        no     southeast  4449.46\n",
       "4 33  male   22.7 0        no     northwest 21984.47\n",
       "5 32  male   28.9 0        no     northwest  3866.86\n",
       "6 31  female 25.7 0        no     southeast  3756.62"
      ]
     },
     "metadata": {},
     "output_type": "display_data"
    }
   ],
   "source": [
    "insurance_data <- read_csv(\"insurance.csv\")\n",
    "head(insurance_data)"
   ]
  },
  {
   "cell_type": "code",
   "execution_count": 11,
   "id": "c9f19c5a",
   "metadata": {},
   "outputs": [
    {
     "data": {
      "text/html": [
       "<style>\n",
       ".list-inline {list-style: none; margin:0; padding: 0}\n",
       ".list-inline>li {display: inline-block}\n",
       ".list-inline>li:not(:last-child)::after {content: \"\\00b7\"; padding: 0 .5ex}\n",
       "</style>\n",
       "<ol class=list-inline><li>'northeast'</li><li>'northwest'</li><li>'southeast'</li><li>'southwest'</li></ol>\n"
      ],
      "text/latex": [
       "\\begin{enumerate*}\n",
       "\\item 'northeast'\n",
       "\\item 'northwest'\n",
       "\\item 'southeast'\n",
       "\\item 'southwest'\n",
       "\\end{enumerate*}\n"
      ],
      "text/markdown": [
       "1. 'northeast'\n",
       "2. 'northwest'\n",
       "3. 'southeast'\n",
       "4. 'southwest'\n",
       "\n",
       "\n"
      ],
      "text/plain": [
       "[1] \"northeast\" \"northwest\" \"southeast\" \"southwest\""
      ]
     },
     "metadata": {},
     "output_type": "display_data"
    },
    {
     "data": {
      "text/html": [
       "<style>\n",
       ".list-inline {list-style: none; margin:0; padding: 0}\n",
       ".list-inline>li {display: inline-block}\n",
       ".list-inline>li:not(:last-child)::after {content: \"\\00b7\"; padding: 0 .5ex}\n",
       "</style>\n",
       "<ol class=list-inline><li>'female'</li><li>'male'</li></ol>\n"
      ],
      "text/latex": [
       "\\begin{enumerate*}\n",
       "\\item 'female'\n",
       "\\item 'male'\n",
       "\\end{enumerate*}\n"
      ],
      "text/markdown": [
       "1. 'female'\n",
       "2. 'male'\n",
       "\n",
       "\n"
      ],
      "text/plain": [
       "[1] \"female\" \"male\"  "
      ]
     },
     "metadata": {},
     "output_type": "display_data"
    },
    {
     "data": {
      "text/html": [
       "<style>\n",
       ".list-inline {list-style: none; margin:0; padding: 0}\n",
       ".list-inline>li {display: inline-block}\n",
       ".list-inline>li:not(:last-child)::after {content: \"\\00b7\"; padding: 0 .5ex}\n",
       "</style>\n",
       "<ol class=list-inline><li>'no'</li><li>'yes'</li></ol>\n"
      ],
      "text/latex": [
       "\\begin{enumerate*}\n",
       "\\item 'no'\n",
       "\\item 'yes'\n",
       "\\end{enumerate*}\n"
      ],
      "text/markdown": [
       "1. 'no'\n",
       "2. 'yes'\n",
       "\n",
       "\n"
      ],
      "text/plain": [
       "[1] \"no\"  \"yes\""
      ]
     },
     "metadata": {},
     "output_type": "display_data"
    }
   ],
   "source": [
    "insurance_data$region <- as.factor(insurance_data$region)\n",
    "insurance_data$sex <- as.factor(insurance_data$sex)\n",
    "insurance_data$smoker <- as.factor(insurance_data$smoker)\n",
    "levels(insurance_data$region)\n",
    "levels(insurance_data$sex)\n",
    "levels(insurance_data$smoker)"
   ]
  },
  {
   "cell_type": "code",
   "execution_count": 14,
   "id": "f5209e68",
   "metadata": {},
   "outputs": [
    {
     "data": {
      "text/html": [
       "<table class=\"dataframe\">\n",
       "<caption>A tibble: 4 × 2</caption>\n",
       "<thead>\n",
       "\t<tr><th scope=col>region</th><th scope=col>regionsum</th></tr>\n",
       "\t<tr><th scope=col>&lt;fct&gt;</th><th scope=col>&lt;dbl&gt;</th></tr>\n",
       "</thead>\n",
       "<tbody>\n",
       "\t<tr><td>northeast</td><td>4343669</td></tr>\n",
       "\t<tr><td>northwest</td><td>4035712</td></tr>\n",
       "\t<tr><td>southeast</td><td>5363690</td></tr>\n",
       "\t<tr><td>southwest</td><td>4012755</td></tr>\n",
       "</tbody>\n",
       "</table>\n"
      ],
      "text/latex": [
       "A tibble: 4 × 2\n",
       "\\begin{tabular}{ll}\n",
       " region & regionsum\\\\\n",
       " <fct> & <dbl>\\\\\n",
       "\\hline\n",
       "\t northeast & 4343669\\\\\n",
       "\t northwest & 4035712\\\\\n",
       "\t southeast & 5363690\\\\\n",
       "\t southwest & 4012755\\\\\n",
       "\\end{tabular}\n"
      ],
      "text/markdown": [
       "\n",
       "A tibble: 4 × 2\n",
       "\n",
       "| region &lt;fct&gt; | regionsum &lt;dbl&gt; |\n",
       "|---|---|\n",
       "| northeast | 4343669 |\n",
       "| northwest | 4035712 |\n",
       "| southeast | 5363690 |\n",
       "| southwest | 4012755 |\n",
       "\n"
      ],
      "text/plain": [
       "  region    regionsum\n",
       "1 northeast 4343669  \n",
       "2 northwest 4035712  \n",
       "3 southeast 5363690  \n",
       "4 southwest 4012755  "
      ]
     },
     "metadata": {},
     "output_type": "display_data"
    }
   ],
   "source": [
    "insurance_data_regions <- insurance_data %>%\n",
    "                            group_by(region)  %>%\n",
    "                               summarize(regionsum = sum(expenses))\n",
    "insurance_data_regions"
   ]
  },
  {
   "cell_type": "markdown",
   "id": "f3faa792",
   "metadata": {},
   "source": [
    "Merge Data with our Shape File Data"
   ]
  },
  {
   "cell_type": "code",
   "execution_count": 25,
   "id": "075216d1",
   "metadata": {},
   "outputs": [
    {
     "data": {
      "text/html": [
       "<style>\n",
       ".list-inline {list-style: none; margin:0; padding: 0}\n",
       ".list-inline>li {display: inline-block}\n",
       ".list-inline>li:not(:last-child)::after {content: \"\\00b7\"; padding: 0 .5ex}\n",
       "</style>\n",
       "<ol class=list-inline><li>'region'</li><li>'regionsum'</li><li>'REGIONCE'</li></ol>\n"
      ],
      "text/latex": [
       "\\begin{enumerate*}\n",
       "\\item 'region'\n",
       "\\item 'regionsum'\n",
       "\\item 'REGIONCE'\n",
       "\\end{enumerate*}\n"
      ],
      "text/markdown": [
       "1. 'region'\n",
       "2. 'regionsum'\n",
       "3. 'REGIONCE'\n",
       "\n",
       "\n"
      ],
      "text/plain": [
       "[1] \"region\"    \"regionsum\" \"REGIONCE\" "
      ]
     },
     "metadata": {},
     "output_type": "display_data"
    },
    {
     "data": {
      "text/html": [
       "<style>\n",
       ".list-inline {list-style: none; margin:0; padding: 0}\n",
       ".list-inline>li {display: inline-block}\n",
       ".list-inline>li:not(:last-child)::after {content: \"\\00b7\"; padding: 0 .5ex}\n",
       "</style>\n",
       "<ol class=list-inline><li>'REGIONCE'</li><li>'AFFGEOID'</li><li>'GEOID'</li><li>'NAME'</li><li>'LSAD'</li><li>'ALAND'</li><li>'AWATER'</li><li>'geometry'</li></ol>\n"
      ],
      "text/latex": [
       "\\begin{enumerate*}\n",
       "\\item 'REGIONCE'\n",
       "\\item 'AFFGEOID'\n",
       "\\item 'GEOID'\n",
       "\\item 'NAME'\n",
       "\\item 'LSAD'\n",
       "\\item 'ALAND'\n",
       "\\item 'AWATER'\n",
       "\\item 'geometry'\n",
       "\\end{enumerate*}\n"
      ],
      "text/markdown": [
       "1. 'REGIONCE'\n",
       "2. 'AFFGEOID'\n",
       "3. 'GEOID'\n",
       "4. 'NAME'\n",
       "5. 'LSAD'\n",
       "6. 'ALAND'\n",
       "7. 'AWATER'\n",
       "8. 'geometry'\n",
       "\n",
       "\n"
      ],
      "text/plain": [
       "[1] \"REGIONCE\" \"AFFGEOID\" \"GEOID\"    \"NAME\"     \"LSAD\"     \"ALAND\"    \"AWATER\"  \n",
       "[8] \"geometry\""
      ]
     },
     "metadata": {},
     "output_type": "display_data"
    },
    {
     "data": {
      "text/html": [
       "<table class=\"dataframe\">\n",
       "<caption>A tibble: 4 × 3</caption>\n",
       "<thead>\n",
       "\t<tr><th scope=col>region</th><th scope=col>regionsum</th><th scope=col>REGIONCE</th></tr>\n",
       "\t<tr><th scope=col>&lt;fct&gt;</th><th scope=col>&lt;dbl&gt;</th><th scope=col>&lt;dbl&gt;</th></tr>\n",
       "</thead>\n",
       "<tbody>\n",
       "\t<tr><td>northeast</td><td>4343669</td><td>1</td></tr>\n",
       "\t<tr><td>northwest</td><td>4035712</td><td>2</td></tr>\n",
       "\t<tr><td>southeast</td><td>5363690</td><td>3</td></tr>\n",
       "\t<tr><td>southwest</td><td>4012755</td><td>4</td></tr>\n",
       "</tbody>\n",
       "</table>\n"
      ],
      "text/latex": [
       "A tibble: 4 × 3\n",
       "\\begin{tabular}{lll}\n",
       " region & regionsum & REGIONCE\\\\\n",
       " <fct> & <dbl> & <dbl>\\\\\n",
       "\\hline\n",
       "\t northeast & 4343669 & 1\\\\\n",
       "\t northwest & 4035712 & 2\\\\\n",
       "\t southeast & 5363690 & 3\\\\\n",
       "\t southwest & 4012755 & 4\\\\\n",
       "\\end{tabular}\n"
      ],
      "text/markdown": [
       "\n",
       "A tibble: 4 × 3\n",
       "\n",
       "| region &lt;fct&gt; | regionsum &lt;dbl&gt; | REGIONCE &lt;dbl&gt; |\n",
       "|---|---|---|\n",
       "| northeast | 4343669 | 1 |\n",
       "| northwest | 4035712 | 2 |\n",
       "| southeast | 5363690 | 3 |\n",
       "| southwest | 4012755 | 4 |\n",
       "\n"
      ],
      "text/plain": [
       "  region    regionsum REGIONCE\n",
       "1 northeast 4343669   1       \n",
       "2 northwest 4035712   2       \n",
       "3 southeast 5363690   3       \n",
       "4 southwest 4012755   4       "
      ]
     },
     "metadata": {},
     "output_type": "display_data"
    },
    {
     "name": "stderr",
     "output_type": "stream",
     "text": [
      "ERROR while rich displaying an object: Error in loadNamespace(x): there is no package called 'geojsonio'\n",
      "\n",
      "Traceback:\n",
      "1. FUN(X[[i]], ...)\n",
      "2. tryCatch(withCallingHandlers({\n",
      " .     if (!mime %in% names(repr::mime2repr)) \n",
      " .         stop(\"No repr_* for mimetype \", mime, \" in repr::mime2repr\")\n",
      " .     rpr <- repr::mime2repr[[mime]](obj)\n",
      " .     if (is.null(rpr)) \n",
      " .         return(NULL)\n",
      " .     prepare_content(is.raw(rpr), rpr)\n",
      " . }, error = error_handler), error = outer_handler)\n",
      "3. tryCatchList(expr, classes, parentenv, handlers)\n",
      "4. tryCatchOne(expr, names, parentenv, handlers[[1L]])\n",
      "5. doTryCatch(return(expr), name, parentenv, handler)\n",
      "6. withCallingHandlers({\n",
      " .     if (!mime %in% names(repr::mime2repr)) \n",
      " .         stop(\"No repr_* for mimetype \", mime, \" in repr::mime2repr\")\n",
      " .     rpr <- repr::mime2repr[[mime]](obj)\n",
      " .     if (is.null(rpr)) \n",
      " .         return(NULL)\n",
      " .     prepare_content(is.raw(rpr), rpr)\n",
      " . }, error = error_handler)\n",
      "7. repr::mime2repr[[mime]](obj)\n",
      "8. repr_geojson.sf(obj)\n",
      "9. repr_geojson(geojsonio::geojson_list(obj), ...)\n",
      "10. loadNamespace(x)\n",
      "11. withRestarts(stop(cond), retry_loadNamespace = function() NULL)\n",
      "12. withOneRestart(expr, restarts[[1L]])\n",
      "13. doWithOneRestart(return(expr), restart)\n"
     ]
    },
    {
     "data": {
      "text/html": [
       "<table class=\"dataframe\">\n",
       "<caption>A sf: 4 × 8</caption>\n",
       "<thead>\n",
       "\t<tr><th scope=col>REGIONCE</th><th scope=col>AFFGEOID</th><th scope=col>GEOID</th><th scope=col>NAME</th><th scope=col>LSAD</th><th scope=col>ALAND</th><th scope=col>AWATER</th><th scope=col>geometry</th></tr>\n",
       "\t<tr><th scope=col>&lt;chr&gt;</th><th scope=col>&lt;chr&gt;</th><th scope=col>&lt;chr&gt;</th><th scope=col>&lt;chr&gt;</th><th scope=col>&lt;chr&gt;</th><th scope=col>&lt;dbl&gt;</th><th scope=col>&lt;dbl&gt;</th><th scope=col>&lt;MULTIPOLYGON [°]&gt;</th></tr>\n",
       "</thead>\n",
       "<tbody>\n",
       "\t<tr><td>1</td><td>0200000US1</td><td>1</td><td>Northeast</td><td>68</td><td>4.193578e+11</td><td> 50259300137</td><td>MULTIPOLYGON (((-68.27472 4...</td></tr>\n",
       "\t<tr><td>2</td><td>0200000US2</td><td>2</td><td>Midwest  </td><td>68</td><td>1.943997e+12</td><td>184273267512</td><td>MULTIPOLYGON (((-82.73571 4...</td></tr>\n",
       "\t<tr><td>4</td><td>0200000US4</td><td>4</td><td>West     </td><td>68</td><td>4.536202e+12</td><td>316587292459</td><td>MULTIPOLYGON (((179.4825 51...</td></tr>\n",
       "\t<tr><td>3</td><td>0200000US3</td><td>3</td><td>South    </td><td>68</td><td>2.249872e+12</td><td>134084610547</td><td>MULTIPOLYGON (((-75.56555 3...</td></tr>\n",
       "</tbody>\n",
       "</table>\n"
      ],
      "text/latex": [
       "A sf: 4 × 8\n",
       "\\begin{tabular}{llllllll}\n",
       " REGIONCE & AFFGEOID & GEOID & NAME & LSAD & ALAND & AWATER & geometry\\\\\n",
       " <chr> & <chr> & <chr> & <chr> & <chr> & <dbl> & <dbl> & <MULTIPOLYGON {[}°{]}>\\\\\n",
       "\\hline\n",
       "\t 1 & 0200000US1 & 1 & Northeast & 68 & 4.193578e+11 &  50259300137 & MULTIPOLYGON (((-68.27472 4...\\\\\n",
       "\t 2 & 0200000US2 & 2 & Midwest   & 68 & 1.943997e+12 & 184273267512 & MULTIPOLYGON (((-82.73571 4...\\\\\n",
       "\t 4 & 0200000US4 & 4 & West      & 68 & 4.536202e+12 & 316587292459 & MULTIPOLYGON (((179.4825 51...\\\\\n",
       "\t 3 & 0200000US3 & 3 & South     & 68 & 2.249872e+12 & 134084610547 & MULTIPOLYGON (((-75.56555 3...\\\\\n",
       "\\end{tabular}\n"
      ],
      "text/markdown": [
       "\n",
       "A sf: 4 × 8\n",
       "\n",
       "| REGIONCE &lt;chr&gt; | AFFGEOID &lt;chr&gt; | GEOID &lt;chr&gt; | NAME &lt;chr&gt; | LSAD &lt;chr&gt; | ALAND &lt;dbl&gt; | AWATER &lt;dbl&gt; | geometry &lt;MULTIPOLYGON [°]&gt; |\n",
       "|---|---|---|---|---|---|---|---|\n",
       "| 1 | 0200000US1 | 1 | Northeast | 68 | 4.193578e+11 |  50259300137 | MULTIPOLYGON (((-68.27472 4... |\n",
       "| 2 | 0200000US2 | 2 | Midwest   | 68 | 1.943997e+12 | 184273267512 | MULTIPOLYGON (((-82.73571 4... |\n",
       "| 4 | 0200000US4 | 4 | West      | 68 | 4.536202e+12 | 316587292459 | MULTIPOLYGON (((179.4825 51... |\n",
       "| 3 | 0200000US3 | 3 | South     | 68 | 2.249872e+12 | 134084610547 | MULTIPOLYGON (((-75.56555 3... |\n",
       "\n"
      ],
      "text/plain": [
       "  REGIONCE AFFGEOID   GEOID NAME      LSAD ALAND        AWATER      \n",
       "1 1        0200000US1 1     Northeast 68   4.193578e+11  50259300137\n",
       "2 2        0200000US2 2     Midwest   68   1.943997e+12 184273267512\n",
       "3 4        0200000US4 4     West      68   4.536202e+12 316587292459\n",
       "4 3        0200000US3 3     South     68   2.249872e+12 134084610547\n",
       "  geometry                      \n",
       "1 MULTIPOLYGON (((-68.27472 4...\n",
       "2 MULTIPOLYGON (((-82.73571 4...\n",
       "3 MULTIPOLYGON (((179.4825 51...\n",
       "4 MULTIPOLYGON (((-75.56555 3..."
      ]
     },
     "metadata": {},
     "output_type": "display_data"
    }
   ],
   "source": [
    "names(insurance_data_regions)\n",
    "names(us_regions)\n",
    "\n",
    "head(insurance_data_regions)\n",
    "head(us_regions)\n"
   ]
  },
  {
   "cell_type": "code",
   "execution_count": 17,
   "id": "8909d472",
   "metadata": {
    "scrolled": false
   },
   "outputs": [
    {
     "data": {
      "text/html": [
       "<table class=\"dataframe\">\n",
       "<caption>A tibble: 4 × 3</caption>\n",
       "<thead>\n",
       "\t<tr><th scope=col>region</th><th scope=col>regionsum</th><th scope=col>REGIONCE</th></tr>\n",
       "\t<tr><th scope=col>&lt;fct&gt;</th><th scope=col>&lt;dbl&gt;</th><th scope=col>&lt;dbl&gt;</th></tr>\n",
       "</thead>\n",
       "<tbody>\n",
       "\t<tr><td>northeast</td><td>4343669</td><td>1</td></tr>\n",
       "\t<tr><td>northwest</td><td>4035712</td><td>2</td></tr>\n",
       "\t<tr><td>southeast</td><td>5363690</td><td>3</td></tr>\n",
       "\t<tr><td>southwest</td><td>4012755</td><td>4</td></tr>\n",
       "</tbody>\n",
       "</table>\n"
      ],
      "text/latex": [
       "A tibble: 4 × 3\n",
       "\\begin{tabular}{lll}\n",
       " region & regionsum & REGIONCE\\\\\n",
       " <fct> & <dbl> & <dbl>\\\\\n",
       "\\hline\n",
       "\t northeast & 4343669 & 1\\\\\n",
       "\t northwest & 4035712 & 2\\\\\n",
       "\t southeast & 5363690 & 3\\\\\n",
       "\t southwest & 4012755 & 4\\\\\n",
       "\\end{tabular}\n"
      ],
      "text/markdown": [
       "\n",
       "A tibble: 4 × 3\n",
       "\n",
       "| region &lt;fct&gt; | regionsum &lt;dbl&gt; | REGIONCE &lt;dbl&gt; |\n",
       "|---|---|---|\n",
       "| northeast | 4343669 | 1 |\n",
       "| northwest | 4035712 | 2 |\n",
       "| southeast | 5363690 | 3 |\n",
       "| southwest | 4012755 | 4 |\n",
       "\n"
      ],
      "text/plain": [
       "  region    regionsum REGIONCE\n",
       "1 northeast 4343669   1       \n",
       "2 northwest 4035712   2       \n",
       "3 southeast 5363690   3       \n",
       "4 southwest 4012755   4       "
      ]
     },
     "metadata": {},
     "output_type": "display_data"
    },
    {
     "name": "stderr",
     "output_type": "stream",
     "text": [
      "ERROR while rich displaying an object: Error in loadNamespace(x): there is no package called 'geojsonio'\n",
      "\n",
      "Traceback:\n",
      "1. FUN(X[[i]], ...)\n",
      "2. tryCatch(withCallingHandlers({\n",
      " .     if (!mime %in% names(repr::mime2repr)) \n",
      " .         stop(\"No repr_* for mimetype \", mime, \" in repr::mime2repr\")\n",
      " .     rpr <- repr::mime2repr[[mime]](obj)\n",
      " .     if (is.null(rpr)) \n",
      " .         return(NULL)\n",
      " .     prepare_content(is.raw(rpr), rpr)\n",
      " . }, error = error_handler), error = outer_handler)\n",
      "3. tryCatchList(expr, classes, parentenv, handlers)\n",
      "4. tryCatchOne(expr, names, parentenv, handlers[[1L]])\n",
      "5. doTryCatch(return(expr), name, parentenv, handler)\n",
      "6. withCallingHandlers({\n",
      " .     if (!mime %in% names(repr::mime2repr)) \n",
      " .         stop(\"No repr_* for mimetype \", mime, \" in repr::mime2repr\")\n",
      " .     rpr <- repr::mime2repr[[mime]](obj)\n",
      " .     if (is.null(rpr)) \n",
      " .         return(NULL)\n",
      " .     prepare_content(is.raw(rpr), rpr)\n",
      " . }, error = error_handler)\n",
      "7. repr::mime2repr[[mime]](obj)\n",
      "8. repr_geojson.sf(obj)\n",
      "9. repr_geojson(geojsonio::geojson_list(obj), ...)\n",
      "10. loadNamespace(x)\n",
      "11. withRestarts(stop(cond), retry_loadNamespace = function() NULL)\n",
      "12. withOneRestart(expr, restarts[[1L]])\n",
      "13. doWithOneRestart(return(expr), restart)\n"
     ]
    },
    {
     "data": {
      "text/html": [
       "<table class=\"dataframe\">\n",
       "<caption>A sf: 4 × 10</caption>\n",
       "<thead>\n",
       "\t<tr><th scope=col>REGIONCE</th><th scope=col>AFFGEOID</th><th scope=col>GEOID</th><th scope=col>NAME</th><th scope=col>LSAD</th><th scope=col>ALAND</th><th scope=col>AWATER</th><th scope=col>region</th><th scope=col>regionsum</th><th scope=col>geometry</th></tr>\n",
       "\t<tr><th scope=col>&lt;chr&gt;</th><th scope=col>&lt;chr&gt;</th><th scope=col>&lt;chr&gt;</th><th scope=col>&lt;chr&gt;</th><th scope=col>&lt;chr&gt;</th><th scope=col>&lt;dbl&gt;</th><th scope=col>&lt;dbl&gt;</th><th scope=col>&lt;fct&gt;</th><th scope=col>&lt;dbl&gt;</th><th scope=col>&lt;MULTIPOLYGON [°]&gt;</th></tr>\n",
       "</thead>\n",
       "<tbody>\n",
       "\t<tr><td>1</td><td>0200000US1</td><td>1</td><td>Northeast</td><td>68</td><td>4.193578e+11</td><td> 50259300137</td><td>northeast</td><td>4343669</td><td>MULTIPOLYGON (((-68.27472 4...</td></tr>\n",
       "\t<tr><td>2</td><td>0200000US2</td><td>2</td><td>Midwest  </td><td>68</td><td>1.943997e+12</td><td>184273267512</td><td>northwest</td><td>4035712</td><td>MULTIPOLYGON (((-82.73571 4...</td></tr>\n",
       "\t<tr><td>3</td><td>0200000US3</td><td>3</td><td>South    </td><td>68</td><td>2.249872e+12</td><td>134084610547</td><td>southeast</td><td>5363690</td><td>MULTIPOLYGON (((-75.56555 3...</td></tr>\n",
       "\t<tr><td>4</td><td>0200000US4</td><td>4</td><td>West     </td><td>68</td><td>4.536202e+12</td><td>316587292459</td><td>southwest</td><td>4012755</td><td>MULTIPOLYGON (((179.4825 51...</td></tr>\n",
       "</tbody>\n",
       "</table>\n"
      ],
      "text/latex": [
       "A sf: 4 × 10\n",
       "\\begin{tabular}{llllllllll}\n",
       " REGIONCE & AFFGEOID & GEOID & NAME & LSAD & ALAND & AWATER & region & regionsum & geometry\\\\\n",
       " <chr> & <chr> & <chr> & <chr> & <chr> & <dbl> & <dbl> & <fct> & <dbl> & <MULTIPOLYGON {[}°{]}>\\\\\n",
       "\\hline\n",
       "\t 1 & 0200000US1 & 1 & Northeast & 68 & 4.193578e+11 &  50259300137 & northeast & 4343669 & MULTIPOLYGON (((-68.27472 4...\\\\\n",
       "\t 2 & 0200000US2 & 2 & Midwest   & 68 & 1.943997e+12 & 184273267512 & northwest & 4035712 & MULTIPOLYGON (((-82.73571 4...\\\\\n",
       "\t 3 & 0200000US3 & 3 & South     & 68 & 2.249872e+12 & 134084610547 & southeast & 5363690 & MULTIPOLYGON (((-75.56555 3...\\\\\n",
       "\t 4 & 0200000US4 & 4 & West      & 68 & 4.536202e+12 & 316587292459 & southwest & 4012755 & MULTIPOLYGON (((179.4825 51...\\\\\n",
       "\\end{tabular}\n"
      ],
      "text/markdown": [
       "\n",
       "A sf: 4 × 10\n",
       "\n",
       "| REGIONCE &lt;chr&gt; | AFFGEOID &lt;chr&gt; | GEOID &lt;chr&gt; | NAME &lt;chr&gt; | LSAD &lt;chr&gt; | ALAND &lt;dbl&gt; | AWATER &lt;dbl&gt; | region &lt;fct&gt; | regionsum &lt;dbl&gt; | geometry &lt;MULTIPOLYGON [°]&gt; |\n",
       "|---|---|---|---|---|---|---|---|---|---|\n",
       "| 1 | 0200000US1 | 1 | Northeast | 68 | 4.193578e+11 |  50259300137 | northeast | 4343669 | MULTIPOLYGON (((-68.27472 4... |\n",
       "| 2 | 0200000US2 | 2 | Midwest   | 68 | 1.943997e+12 | 184273267512 | northwest | 4035712 | MULTIPOLYGON (((-82.73571 4... |\n",
       "| 3 | 0200000US3 | 3 | South     | 68 | 2.249872e+12 | 134084610547 | southeast | 5363690 | MULTIPOLYGON (((-75.56555 3... |\n",
       "| 4 | 0200000US4 | 4 | West      | 68 | 4.536202e+12 | 316587292459 | southwest | 4012755 | MULTIPOLYGON (((179.4825 51... |\n",
       "\n"
      ],
      "text/plain": [
       "  REGIONCE AFFGEOID   GEOID NAME      LSAD ALAND        AWATER       region   \n",
       "1 1        0200000US1 1     Northeast 68   4.193578e+11  50259300137 northeast\n",
       "2 2        0200000US2 2     Midwest   68   1.943997e+12 184273267512 northwest\n",
       "3 3        0200000US3 3     South     68   2.249872e+12 134084610547 southeast\n",
       "4 4        0200000US4 4     West      68   4.536202e+12 316587292459 southwest\n",
       "  regionsum geometry                      \n",
       "1 4343669   MULTIPOLYGON (((-68.27472 4...\n",
       "2 4035712   MULTIPOLYGON (((-82.73571 4...\n",
       "3 5363690   MULTIPOLYGON (((-75.56555 3...\n",
       "4 4012755   MULTIPOLYGON (((179.4825 51..."
      ]
     },
     "metadata": {},
     "output_type": "display_data"
    }
   ],
   "source": [
    "insurance_data_regions$REGIONCE <- c(1,2,3,4)b\n",
    "merged_data <- merge(us_regions, insurance_data_regions, by.x=\"REGIONCE\", by.y=\"REGIONCE\")\n",
    "merged_data"
   ]
  },
  {
   "cell_type": "code",
   "execution_count": 19,
   "id": "ccd0637f",
   "metadata": {},
   "outputs": [
    {
     "data": {
      "image/png": "[encoded data removed]",
      "text/plain": [
       "plot without title"
      ]
     },
     "metadata": {
      "image/png": {
       "height": 420,
       "width": 420
      }
     },
     "output_type": "display_data"
    }
   ],
   "source": [
    "ggplot(merged_data) +\n",
    "  geom_sf(fill=merged_data$regionsum)"
   ]
  },
  {
   "cell_type": "markdown",
   "id": "618c1f0a",
   "metadata": {},
   "source": [
    "**Cartesian Coordinates**  \n",
    "Cartesian coordinates are coordinates that measure the position of a point from a defined origin along axes\n",
    "that are perpendicular in the represented two-dimensional or three-dimensional space.\n",
    "\n",
    "**Geodetic Coordinates (Geographic Coordinates)**  \n",
    "Geodetic coordinates (sometimes called geographic coordinates) are angular coordinates (longitude and latitude),\n",
    "closely related to spherical polar coordinates, and are defined relative to a particular Earth geodetic datum."
   ]
  },
  {
   "cell_type": "code",
   "execution_count": 24,
   "id": "6a7e485b",
   "metadata": {},
   "outputs": [
    {
     "name": "stderr",
     "output_type": "stream",
     "text": [
      "Installing package into 'C:/Users/ashok/Documents/R/win-library/4.1'\n",
      "(as 'lib' is unspecified)\n",
      "\n"
     ]
    },
    {
     "name": "stdout",
     "output_type": "stream",
     "text": [
      "package 'maps' successfully unpacked and MD5 sums checked\n",
      "\n",
      "The downloaded binary packages are in\n",
      "\tC:\\Users\\ashok\\AppData\\Local\\Temp\\RtmpormsGW\\downloaded_packages\n"
     ]
    }
   ],
   "source": [
    "install.packages('maps')"
   ]
  },
  {
   "cell_type": "code",
   "execution_count": 26,
   "id": "27e5d27f",
   "metadata": {},
   "outputs": [
    {
     "name": "stderr",
     "output_type": "stream",
     "text": [
      "\n",
      "Attaching package: 'maps'\n",
      "\n",
      "\n",
      "The following object is masked from 'package:purrr':\n",
      "\n",
      "    map\n",
      "\n",
      "\n",
      "ERROR while rich displaying an object: Error in loadNamespace(x): there is no package called 'geojsonio'\n",
      "\n",
      "Traceback:\n",
      "1. FUN(X[[i]], ...)\n",
      "2. tryCatch(withCallingHandlers({\n",
      " .     if (!mime %in% names(repr::mime2repr)) \n",
      " .         stop(\"No repr_* for mimetype \", mime, \" in repr::mime2repr\")\n",
      " .     rpr <- repr::mime2repr[[mime]](obj)\n",
      " .     if (is.null(rpr)) \n",
      " .         return(NULL)\n",
      " .     prepare_content(is.raw(rpr), rpr)\n",
      " . }, error = error_handler), error = outer_handler)\n",
      "3. tryCatchList(expr, classes, parentenv, handlers)\n",
      "4. tryCatchOne(expr, names, parentenv, handlers[[1L]])\n",
      "5. doTryCatch(return(expr), name, parentenv, handler)\n",
      "6. withCallingHandlers({\n",
      " .     if (!mime %in% names(repr::mime2repr)) \n",
      " .         stop(\"No repr_* for mimetype \", mime, \" in repr::mime2repr\")\n",
      " .     rpr <- repr::mime2repr[[mime]](obj)\n",
      " .     if (is.null(rpr)) \n",
      " .         return(NULL)\n",
      " .     prepare_content(is.raw(rpr), rpr)\n",
      " . }, error = error_handler)\n",
      "7. repr::mime2repr[[mime]](obj)\n",
      "8. repr_geojson.sf(obj)\n",
      "9. repr_geojson(geojsonio::geojson_list(obj), ...)\n",
      "10. loadNamespace(x)\n",
      "11. withRestarts(stop(cond), retry_loadNamespace = function() NULL)\n",
      "12. withOneRestart(expr, restarts[[1L]])\n",
      "13. doWithOneRestart(return(expr), restart)\n"
     ]
    },
    {
     "data": {
      "text/html": [
       "<table class=\"dataframe\">\n",
       "<caption>A sf: 6 × 2</caption>\n",
       "<thead>\n",
       "\t<tr><th></th><th scope=col>ID</th><th scope=col>geom</th></tr>\n",
       "\t<tr><th></th><th scope=col>&lt;chr&gt;</th><th scope=col>&lt;MULTIPOLYGON [°]&gt;</th></tr>\n",
       "</thead>\n",
       "<tbody>\n",
       "\t<tr><th scope=row>1</th><td>Aruba      </td><td>MULTIPOLYGON (((-69.89912 1...</td></tr>\n",
       "\t<tr><th scope=row>2</th><td>Afghanistan</td><td>MULTIPOLYGON (((74.89131 37...</td></tr>\n",
       "\t<tr><th scope=row>3</th><td>Angola     </td><td>MULTIPOLYGON (((23.9665 -10...</td></tr>\n",
       "\t<tr><th scope=row>4</th><td>Anguilla   </td><td>MULTIPOLYGON (((-63.00122 1...</td></tr>\n",
       "\t<tr><th scope=row>5</th><td>Albania    </td><td>MULTIPOLYGON (((20.06396 42...</td></tr>\n",
       "\t<tr><th scope=row>6</th><td>Finland    </td><td>MULTIPOLYGON (((20.61133 60...</td></tr>\n",
       "</tbody>\n",
       "</table>\n"
      ],
      "text/latex": [
       "A sf: 6 × 2\n",
       "\\begin{tabular}{r|ll}\n",
       "  & ID & geom\\\\\n",
       "  & <chr> & <MULTIPOLYGON {[}°{]}>\\\\\n",
       "\\hline\n",
       "\t1 & Aruba       & MULTIPOLYGON (((-69.89912 1...\\\\\n",
       "\t2 & Afghanistan & MULTIPOLYGON (((74.89131 37...\\\\\n",
       "\t3 & Angola      & MULTIPOLYGON (((23.9665 -10...\\\\\n",
       "\t4 & Anguilla    & MULTIPOLYGON (((-63.00122 1...\\\\\n",
       "\t5 & Albania     & MULTIPOLYGON (((20.06396 42...\\\\\n",
       "\t6 & Finland     & MULTIPOLYGON (((20.61133 60...\\\\\n",
       "\\end{tabular}\n"
      ],
      "text/markdown": [
       "\n",
       "A sf: 6 × 2\n",
       "\n",
       "| <!--/--> | ID &lt;chr&gt; | geom &lt;MULTIPOLYGON [°]&gt; |\n",
       "|---|---|---|\n",
       "| 1 | Aruba       | MULTIPOLYGON (((-69.89912 1... |\n",
       "| 2 | Afghanistan | MULTIPOLYGON (((74.89131 37... |\n",
       "| 3 | Angola      | MULTIPOLYGON (((23.9665 -10... |\n",
       "| 4 | Anguilla    | MULTIPOLYGON (((-63.00122 1... |\n",
       "| 5 | Albania     | MULTIPOLYGON (((20.06396 42... |\n",
       "| 6 | Finland     | MULTIPOLYGON (((20.61133 60... |\n",
       "\n"
      ],
      "text/plain": [
       "  ID          geom                          \n",
       "1 Aruba       MULTIPOLYGON (((-69.89912 1...\n",
       "2 Afghanistan MULTIPOLYGON (((74.89131 37...\n",
       "3 Angola      MULTIPOLYGON (((23.9665 -10...\n",
       "4 Anguilla    MULTIPOLYGON (((-63.00122 1...\n",
       "5 Albania     MULTIPOLYGON (((20.06396 42...\n",
       "6 Finland     MULTIPOLYGON (((20.61133 60..."
      ]
     },
     "metadata": {},
     "output_type": "display_data"
    }
   ],
   "source": [
    "library('maps')\n",
    "world1 <- sf::st_as_sf(map('world', plot = FALSE, fill = TRUE))\n",
    "head(world1)"
   ]
  },
  {
   "cell_type": "code",
   "execution_count": 27,
   "id": "a88c1f7b",
   "metadata": {},
   "outputs": [
    {
     "data": {
      "image/png": "[encoded data removed]",
      "text/plain": [
       "plot without title"
      ]
     },
     "metadata": {
      "image/png": {
       "height": 420,
       "width": 420
      }
     },
     "output_type": "display_data"
    }
   ],
   "source": [
    "ggplot() + geom_sf(data = world1)"
   ]
  },
  {
   "cell_type": "code",
   "execution_count": 33,
   "id": "68b9017b",
   "metadata": {},
   "outputs": [
    {
     "name": "stderr",
     "output_type": "stream",
     "text": [
      "Installing package into 'C:/Users/ashok/Documents/R/win-library/4.1'\n",
      "(as 'lib' is unspecified)\n",
      "\n"
     ]
    },
    {
     "name": "stdout",
     "output_type": "stream",
     "text": [
      "package 'ggmap' successfully unpacked and MD5 sums checked\n",
      "\n",
      "The downloaded binary packages are in\n",
      "\tC:\\Users\\ashok\\AppData\\Local\\Temp\\RtmpormsGW\\downloaded_packages\n"
     ]
    },
    {
     "name": "stderr",
     "output_type": "stream",
     "text": [
      "Google's Terms of Service: https://cloud.google.com/maps-platform/terms/.\n",
      "\n",
      "Please cite ggmap if you use it! See citation(\"ggmap\") for details.\n",
      "\n"
     ]
    }
   ],
   "source": [
    "install.packages(\"ggmap\")\n",
    "library(ggmap)"
   ]
  },
  {
   "cell_type": "code",
   "execution_count": 34,
   "id": "a2dd171e",
   "metadata": {},
   "outputs": [
    {
     "name": "stderr",
     "output_type": "stream",
     "text": [
      "ERROR while rich displaying an object: Error in loadNamespace(x): there is no package called 'geojsonio'\n",
      "\n",
      "Traceback:\n",
      "1. FUN(X[[i]], ...)\n",
      "2. tryCatch(withCallingHandlers({\n",
      " .     if (!mime %in% names(repr::mime2repr)) \n",
      " .         stop(\"No repr_* for mimetype \", mime, \" in repr::mime2repr\")\n",
      " .     rpr <- repr::mime2repr[[mime]](obj)\n",
      " .     if (is.null(rpr)) \n",
      " .         return(NULL)\n",
      " .     prepare_content(is.raw(rpr), rpr)\n",
      " . }, error = error_handler), error = outer_handler)\n",
      "3. tryCatchList(expr, classes, parentenv, handlers)\n",
      "4. tryCatchOne(expr, names, parentenv, handlers[[1L]])\n",
      "5. doTryCatch(return(expr), name, parentenv, handler)\n",
      "6. withCallingHandlers({\n",
      " .     if (!mime %in% names(repr::mime2repr)) \n",
      " .         stop(\"No repr_* for mimetype \", mime, \" in repr::mime2repr\")\n",
      " .     rpr <- repr::mime2repr[[mime]](obj)\n",
      " .     if (is.null(rpr)) \n",
      " .         return(NULL)\n",
      " .     prepare_content(is.raw(rpr), rpr)\n",
      " . }, error = error_handler)\n",
      "7. repr::mime2repr[[mime]](obj)\n",
      "8. repr_geojson.sf(obj)\n",
      "9. repr_geojson(geojsonio::geojson_list(obj), ...)\n",
      "10. loadNamespace(x)\n",
      "11. withRestarts(stop(cond), retry_loadNamespace = function() NULL)\n",
      "12. withOneRestart(expr, restarts[[1L]])\n",
      "13. doWithOneRestart(return(expr), restart)\n"
     ]
    },
    {
     "data": {
      "text/html": [
       "<table class=\"dataframe\">\n",
       "<caption>A sf: 6 × 2</caption>\n",
       "<thead>\n",
       "\t<tr><th></th><th scope=col>ID</th><th scope=col>geom</th></tr>\n",
       "\t<tr><th></th><th scope=col>&lt;chr&gt;</th><th scope=col>&lt;MULTIPOLYGON [°]&gt;</th></tr>\n",
       "</thead>\n",
       "<tbody>\n",
       "\t<tr><th scope=row>1</th><td>main             </td><td>MULTIPOLYGON (((-101.4078 2...</td></tr>\n",
       "\t<tr><th scope=row>2</th><td>martha's vineyard</td><td>MULTIPOLYGON (((-70.45089 4...</td></tr>\n",
       "\t<tr><th scope=row>3</th><td>nantucket island </td><td>MULTIPOLYGON (((-70.06128 4...</td></tr>\n",
       "\t<tr><th scope=row>4</th><td>manhattan        </td><td>MULTIPOLYGON (((-73.92874 4...</td></tr>\n",
       "\t<tr><th scope=row>5</th><td>staten island    </td><td>MULTIPOLYGON (((-74.27824 4...</td></tr>\n",
       "\t<tr><th scope=row>6</th><td>long island      </td><td>MULTIPOLYGON (((-72.49635 4...</td></tr>\n",
       "</tbody>\n",
       "</table>\n"
      ],
      "text/latex": [
       "A sf: 6 × 2\n",
       "\\begin{tabular}{r|ll}\n",
       "  & ID & geom\\\\\n",
       "  & <chr> & <MULTIPOLYGON {[}°{]}>\\\\\n",
       "\\hline\n",
       "\t1 & main              & MULTIPOLYGON (((-101.4078 2...\\\\\n",
       "\t2 & martha's vineyard & MULTIPOLYGON (((-70.45089 4...\\\\\n",
       "\t3 & nantucket island  & MULTIPOLYGON (((-70.06128 4...\\\\\n",
       "\t4 & manhattan         & MULTIPOLYGON (((-73.92874 4...\\\\\n",
       "\t5 & staten island     & MULTIPOLYGON (((-74.27824 4...\\\\\n",
       "\t6 & long island       & MULTIPOLYGON (((-72.49635 4...\\\\\n",
       "\\end{tabular}\n"
      ],
      "text/markdown": [
       "\n",
       "A sf: 6 × 2\n",
       "\n",
       "| <!--/--> | ID &lt;chr&gt; | geom &lt;MULTIPOLYGON [°]&gt; |\n",
       "|---|---|---|\n",
       "| 1 | main              | MULTIPOLYGON (((-101.4078 2... |\n",
       "| 2 | martha's vineyard | MULTIPOLYGON (((-70.45089 4... |\n",
       "| 3 | nantucket island  | MULTIPOLYGON (((-70.06128 4... |\n",
       "| 4 | manhattan         | MULTIPOLYGON (((-73.92874 4... |\n",
       "| 5 | staten island     | MULTIPOLYGON (((-74.27824 4... |\n",
       "| 6 | long island       | MULTIPOLYGON (((-72.49635 4... |\n",
       "\n"
      ],
      "text/plain": [
       "  ID                geom                          \n",
       "1 main              MULTIPOLYGON (((-101.4078 2...\n",
       "2 martha's vineyard MULTIPOLYGON (((-70.45089 4...\n",
       "3 nantucket island  MULTIPOLYGON (((-70.06128 4...\n",
       "4 manhattan         MULTIPOLYGON (((-73.92874 4...\n",
       "5 staten island     MULTIPOLYGON (((-74.27824 4...\n",
       "6 long island       MULTIPOLYGON (((-72.49635 4..."
      ]
     },
     "metadata": {},
     "output_type": "display_data"
    },
    {
     "data": {
      "image/png": "[encoded data removed]",
      "text/plain": [
       "plot without title"
      ]
     },
     "metadata": {
      "image/png": {
       "height": 420,
       "width": 420
      }
     },
     "output_type": "display_data"
    }
   ],
   "source": [
    "usa_map <- sf::st_as_sf(map('usa', plot = FALSE, fill = TRUE))\n",
    "ggplot() + geom_sf(data = usa_map)\n",
    "head(usa_map)\n"
   ]
  },
  {
   "cell_type": "code",
   "execution_count": 35,
   "id": "0d2c12d4",
   "metadata": {},
   "outputs": [
    {
     "data": {
      "image/png": "[encoded data removed]",
      "text/plain": [
       "plot without title"
      ]
     },
     "metadata": {
      "image/png": {
       "height": 420,
       "width": 420
      }
     },
     "output_type": "display_data"
    },
    {
     "data": {
      "image/png": "[encoded data removed]",
      "text/plain": [
       "plot without title"
      ]
     },
     "metadata": {
      "image/png": {
       "height": 420,
       "width": 420
      }
     },
     "output_type": "display_data"
    }
   ],
   "source": [
    "\n",
    "usa_map2 <- sf::st_as_sf(map('usa', plot = TRUE, fill = TRUE))\n",
    "ggplot() + geom_sf(data = usa_map2)"
   ]
  }
 ],
 "metadata": {
  "kernelspec": {
   "display_name": "R",
   "language": "R",
   "name": "ir"
  },
  "language_info": {
   "codemirror_mode": "r",
   "file_extension": ".r",
   "mimetype": "text/x-r-source",
   "name": "R",
   "pygments_lexer": "r",
   "version": "4.1.2"
  }
 },
 "nbformat": 4,
 "nbformat_minor": 5
}
