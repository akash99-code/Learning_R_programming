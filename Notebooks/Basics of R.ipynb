{
 "cells": [
  {
   "cell_type": "markdown",
   "id": "892c919c",
   "metadata": {},
   "source": [
    "# Basics of R\n",
    "------------------------"
   ]
  },
  {
   "cell_type": "markdown",
   "id": "8aaee95a",
   "metadata": {},
   "source": [
    "## Intro to R"
   ]
  },
  {
   "cell_type": "markdown",
   "id": "89f133b0",
   "metadata": {},
   "source": [
    "#### Arithmatic operations"
   ]
  },
  {
   "cell_type": "code",
   "execution_count": 6,
   "id": "e43b10a9",
   "metadata": {},
   "outputs": [
    {
     "data": {
      "text/html": [
       "-2.5"
      ],
      "text/latex": [
       "-2.5"
      ],
      "text/markdown": [
       "-2.5"
      ],
      "text/plain": [
       "[1] -2.5"
      ]
     },
     "metadata": {},
     "output_type": "display_data"
    },
    {
     "name": "stdout",
     "output_type": "stream",
     "text": [
      "[1] 15\n"
     ]
    }
   ],
   "source": [
    "(5*2)/(3 - 7)\n",
    "print(10+5)"
   ]
  },
  {
   "cell_type": "markdown",
   "id": "d87aa9f5",
   "metadata": {},
   "source": [
    "#### Variables"
   ]
  },
  {
   "cell_type": "code",
   "execution_count": 5,
   "id": "d79270e2",
   "metadata": {},
   "outputs": [
    {
     "data": {
      "text/html": [
       "30"
      ],
      "text/latex": [
       "30"
      ],
      "text/markdown": [
       "30"
      ],
      "text/plain": [
       "[1] 30"
      ]
     },
     "metadata": {},
     "output_type": "display_data"
    },
    {
     "name": "stdout",
     "output_type": "stream",
     "text": [
      "[1] 30\n"
     ]
    }
   ],
   "source": [
    "countOfApples <- 10\n",
    "countOfOranges <- 20\n",
    "countOfFruits <- countOfApples + countOfOranges\n",
    "countOfFruits\n",
    "print(countOfFruits)"
   ]
  },
  {
   "cell_type": "markdown",
   "id": "16413c27",
   "metadata": {},
   "source": [
    "#### Basic data types"
   ]
  },
  {
   "cell_type": "code",
   "execution_count": 3,
   "id": "512f17f3",
   "metadata": {},
   "outputs": [
    {
     "data": {
      "text/html": [
       "'numeric'"
      ],
      "text/latex": [
       "'numeric'"
      ],
      "text/markdown": [
       "'numeric'"
      ],
      "text/plain": [
       "[1] \"numeric\""
      ]
     },
     "metadata": {},
     "output_type": "display_data"
    },
    {
     "data": {
      "text/html": [
       "'numeric'"
      ],
      "text/latex": [
       "'numeric'"
      ],
      "text/markdown": [
       "'numeric'"
      ],
      "text/plain": [
       "[1] \"numeric\""
      ]
     },
     "metadata": {},
     "output_type": "display_data"
    }
   ],
   "source": [
    "## numeric\n",
    "a <- 10.5\n",
    "b <- 10\n",
    "\n",
    "class(a)  # datatype\n",
    "class(b)"
   ]
  },
  {
   "cell_type": "code",
   "execution_count": 7,
   "id": "4a3ae405",
   "metadata": {
    "scrolled": true
   },
   "outputs": [
    {
     "data": {
      "text/html": [
       "'character'"
      ],
      "text/latex": [
       "'character'"
      ],
      "text/markdown": [
       "'character'"
      ],
      "text/plain": [
       "[1] \"character\""
      ]
     },
     "metadata": {},
     "output_type": "display_data"
    }
   ],
   "source": [
    "## character\n",
    "a <- \"Sairam\"\n",
    "class(a)"
   ]
  },
  {
   "cell_type": "code",
   "execution_count": 10,
   "id": "fdf15eb1",
   "metadata": {},
   "outputs": [
    {
     "data": {
      "text/html": [
       "'logical'"
      ],
      "text/latex": [
       "'logical'"
      ],
      "text/markdown": [
       "'logical'"
      ],
      "text/plain": [
       "[1] \"logical\""
      ]
     },
     "metadata": {},
     "output_type": "display_data"
    },
    {
     "name": "stdout",
     "output_type": "stream",
     "text": [
      "[1] FALSE\n"
     ]
    }
   ],
   "source": [
    "## boolean/logical\n",
    "a <- TRUE\n",
    "class(a)\n",
    "print(!a)"
   ]
  },
  {
   "cell_type": "markdown",
   "id": "8bcf198c",
   "metadata": {},
   "source": [
    "#### R Vectors and objects "
   ]
  },
  {
   "cell_type": "code",
   "execution_count": 56,
   "id": "f18d58b8",
   "metadata": {
    "scrolled": true
   },
   "outputs": [
    {
     "data": {
      "text/html": [
       "<style>\n",
       ".list-inline {list-style: none; margin:0; padding: 0}\n",
       ".list-inline>li {display: inline-block}\n",
       ".list-inline>li:not(:last-child)::after {content: \"\\00b7\"; padding: 0 .5ex}\n",
       "</style>\n",
       "<ol class=list-inline><li>1</li><li>2</li></ol>\n"
      ],
      "text/latex": [
       "\\begin{enumerate*}\n",
       "\\item 1\n",
       "\\item 2\n",
       "\\end{enumerate*}\n"
      ],
      "text/markdown": [
       "1. 1\n",
       "2. 2\n",
       "\n",
       "\n"
      ],
      "text/plain": [
       "[1] 1 2"
      ]
     },
     "metadata": {},
     "output_type": "display_data"
    },
    {
     "data": {
      "text/html": [
       "'numeric'"
      ],
      "text/latex": [
       "'numeric'"
      ],
      "text/markdown": [
       "'numeric'"
      ],
      "text/plain": [
       "[1] \"numeric\""
      ]
     },
     "metadata": {},
     "output_type": "display_data"
    },
    {
     "name": "stdout",
     "output_type": "stream",
     "text": [
      " num [1:4] 1 2 3 5\n"
     ]
    },
    {
     "data": {
      "text/html": [
       "1"
      ],
      "text/latex": [
       "1"
      ],
      "text/markdown": [
       "1"
      ],
      "text/plain": [
       "[1] 1"
      ]
     },
     "metadata": {},
     "output_type": "display_data"
    },
    {
     "data": {
      "text/html": [
       "<style>\n",
       ".list-inline {list-style: none; margin:0; padding: 0}\n",
       ".list-inline>li {display: inline-block}\n",
       ".list-inline>li:not(:last-child)::after {content: \"\\00b7\"; padding: 0 .5ex}\n",
       "</style>\n",
       "<ol class=list-inline><li>2</li><li>4</li><li>6</li><li>10</li></ol>\n"
      ],
      "text/latex": [
       "\\begin{enumerate*}\n",
       "\\item 2\n",
       "\\item 4\n",
       "\\item 6\n",
       "\\item 10\n",
       "\\end{enumerate*}\n"
      ],
      "text/markdown": [
       "1. 2\n",
       "2. 4\n",
       "3. 6\n",
       "4. 10\n",
       "\n",
       "\n"
      ],
      "text/plain": [
       "[1]  2  4  6 10"
      ]
     },
     "metadata": {},
     "output_type": "display_data"
    }
   ],
   "source": [
    "## creating a numerical Vector\n",
    "x <- c(1,2,3,5)  #combine operator\n",
    "\n",
    "x[1:2]   # subvector\n",
    "\n",
    "class(x) \n",
    "str(x)\n",
    "\n",
    "x[1]   #first index is 1\n",
    "\n",
    "y <- x*2\n",
    "y"
   ]
  },
  {
   "cell_type": "code",
   "execution_count": 57,
   "id": "26dcefcd",
   "metadata": {},
   "outputs": [
    {
     "data": {
      "text/html": [
       "<style>\n",
       ".list-inline {list-style: none; margin:0; padding: 0}\n",
       ".list-inline>li {display: inline-block}\n",
       ".list-inline>li:not(:last-child)::after {content: \"\\00b7\"; padding: 0 .5ex}\n",
       "</style>\n",
       "<ol class=list-inline><li>-2</li><li>-1</li><li>0</li><li>1</li><li>2</li><li>3</li></ol>\n"
      ],
      "text/latex": [
       "\\begin{enumerate*}\n",
       "\\item -2\n",
       "\\item -1\n",
       "\\item 0\n",
       "\\item 1\n",
       "\\item 2\n",
       "\\item 3\n",
       "\\end{enumerate*}\n"
      ],
      "text/markdown": [
       "1. -2\n",
       "2. -1\n",
       "3. 0\n",
       "4. 1\n",
       "5. 2\n",
       "6. 3\n",
       "\n",
       "\n"
      ],
      "text/plain": [
       "[1] -2 -1  0  1  2  3"
      ]
     },
     "metadata": {},
     "output_type": "display_data"
    },
    {
     "data": {
      "text/html": [
       "<style>\n",
       ".list-inline {list-style: none; margin:0; padding: 0}\n",
       ".list-inline>li {display: inline-block}\n",
       ".list-inline>li:not(:last-child)::after {content: \"\\00b7\"; padding: 0 .5ex}\n",
       "</style>\n",
       "<ol class=list-inline><li>5</li><li>6</li><li>7</li><li>8</li><li>9</li><li>10</li></ol>\n"
      ],
      "text/latex": [
       "\\begin{enumerate*}\n",
       "\\item 5\n",
       "\\item 6\n",
       "\\item 7\n",
       "\\item 8\n",
       "\\item 9\n",
       "\\item 10\n",
       "\\end{enumerate*}\n"
      ],
      "text/markdown": [
       "1. 5\n",
       "2. 6\n",
       "3. 7\n",
       "4. 8\n",
       "5. 9\n",
       "6. 10\n",
       "\n",
       "\n"
      ],
      "text/plain": [
       "[1]  5  6  7  8  9 10"
      ]
     },
     "metadata": {},
     "output_type": "display_data"
    },
    {
     "data": {
      "text/html": [
       "<style>\n",
       ".list-inline {list-style: none; margin:0; padding: 0}\n",
       ".list-inline>li {display: inline-block}\n",
       ".list-inline>li:not(:last-child)::after {content: \"\\00b7\"; padding: 0 .5ex}\n",
       "</style>\n",
       "<ol class=list-inline><li>2.5</li><li>3</li><li>3.5</li><li>4</li><li>4.5</li><li>5</li></ol>\n"
      ],
      "text/latex": [
       "\\begin{enumerate*}\n",
       "\\item 2.5\n",
       "\\item 3\n",
       "\\item 3.5\n",
       "\\item 4\n",
       "\\item 4.5\n",
       "\\item 5\n",
       "\\end{enumerate*}\n"
      ],
      "text/markdown": [
       "1. 2.5\n",
       "2. 3\n",
       "3. 3.5\n",
       "4. 4\n",
       "5. 4.5\n",
       "6. 5\n",
       "\n",
       "\n"
      ],
      "text/plain": [
       "[1] 2.5 3.0 3.5 4.0 4.5 5.0"
      ]
     },
     "metadata": {},
     "output_type": "display_data"
    }
   ],
   "source": [
    "-2:3\n",
    "\n",
    "x <- 5:10\n",
    "x\n",
    "\n",
    "y <- x/2\n",
    "y"
   ]
  },
  {
   "cell_type": "code",
   "execution_count": 37,
   "id": "dede5546",
   "metadata": {
    "scrolled": true
   },
   "outputs": [
    {
     "data": {
      "text/html": [
       "2.75"
      ],
      "text/latex": [
       "2.75"
      ],
      "text/markdown": [
       "2.75"
      ],
      "text/plain": [
       "[1] 2.75"
      ]
     },
     "metadata": {},
     "output_type": "display_data"
    },
    {
     "data": {
      "text/html": [
       "1.70782512765993"
      ],
      "text/latex": [
       "1.70782512765993"
      ],
      "text/markdown": [
       "1.70782512765993"
      ],
      "text/plain": [
       "[1] 1.707825"
      ]
     },
     "metadata": {},
     "output_type": "display_data"
    }
   ],
   "source": [
    "## mean and standard deviation\n",
    "mean(x)\n",
    "sd(x)"
   ]
  },
  {
   "cell_type": "code",
   "execution_count": 53,
   "id": "a3d867d8",
   "metadata": {},
   "outputs": [],
   "source": [
    "## help system\n",
    "?mean\n",
    "help(\"sum\")"
   ]
  },
  {
   "cell_type": "code",
   "execution_count": 63,
   "id": "c018a64c",
   "metadata": {
    "scrolled": false
   },
   "outputs": [
    {
     "data": {
      "text/html": [
       "<style>\n",
       ".list-inline {list-style: none; margin:0; padding: 0}\n",
       ".list-inline>li {display: inline-block}\n",
       ".list-inline>li:not(:last-child)::after {content: \"\\00b7\"; padding: 0 .5ex}\n",
       "</style>\n",
       "<ol class=list-inline><li>'Sai'</li><li>'Ram'</li><li>'Sai'</li><li>'Shyam'</li></ol>\n"
      ],
      "text/latex": [
       "\\begin{enumerate*}\n",
       "\\item 'Sai'\n",
       "\\item 'Ram'\n",
       "\\item 'Sai'\n",
       "\\item 'Shyam'\n",
       "\\end{enumerate*}\n"
      ],
      "text/markdown": [
       "1. 'Sai'\n",
       "2. 'Ram'\n",
       "3. 'Sai'\n",
       "4. 'Shyam'\n",
       "\n",
       "\n"
      ],
      "text/plain": [
       "[1] \"Sai\"   \"Ram\"   \"Sai\"   \"Shyam\""
      ]
     },
     "metadata": {},
     "output_type": "display_data"
    },
    {
     "name": "stdout",
     "output_type": "stream",
     "text": [
      " chr [1:4] \"Sai\" \"Ram\" \"Sai\" \"Shyam\"\n"
     ]
    },
    {
     "data": {
      "text/html": [
       "4"
      ],
      "text/latex": [
       "4"
      ],
      "text/markdown": [
       "4"
      ],
      "text/plain": [
       "[1] 4"
      ]
     },
     "metadata": {},
     "output_type": "display_data"
    }
   ],
   "source": [
    "## Character vector\n",
    "names <- c(\"Sai\",\"Ram\",\"Sai\",\"Shyam\")\n",
    "\n",
    "names\n",
    "str(names)   # stringify objects\n",
    "length(names)    # length of vectors"
   ]
  },
  {
   "cell_type": "markdown",
   "id": "4bf75314",
   "metadata": {},
   "source": [
    "#### Matrix"
   ]
  },
  {
   "cell_type": "code",
   "execution_count": 94,
   "id": "4d9581b9",
   "metadata": {
    "scrolled": false
   },
   "outputs": [
    {
     "data": {
      "text/html": [
       "<table class=\"dataframe\">\n",
       "<caption>A matrix: 3 × 3 of type int</caption>\n",
       "<tbody>\n",
       "\t<tr><td>9</td><td>6</td><td>3</td></tr>\n",
       "\t<tr><td>8</td><td>5</td><td>2</td></tr>\n",
       "\t<tr><td>7</td><td>4</td><td>1</td></tr>\n",
       "</tbody>\n",
       "</table>\n"
      ],
      "text/latex": [
       "A matrix: 3 × 3 of type int\n",
       "\\begin{tabular}{lll}\n",
       "\t 9 & 6 & 3\\\\\n",
       "\t 8 & 5 & 2\\\\\n",
       "\t 7 & 4 & 1\\\\\n",
       "\\end{tabular}\n"
      ],
      "text/markdown": [
       "\n",
       "A matrix: 3 × 3 of type int\n",
       "\n",
       "| 9 | 6 | 3 |\n",
       "| 8 | 5 | 2 |\n",
       "| 7 | 4 | 1 |\n",
       "\n"
      ],
      "text/plain": [
       "     [,1] [,2] [,3]\n",
       "[1,] 9    6    3   \n",
       "[2,] 8    5    2   \n",
       "[3,] 7    4    1   "
      ]
     },
     "metadata": {},
     "output_type": "display_data"
    },
    {
     "data": {
      "text/html": [
       "<style>\n",
       ".list-inline {list-style: none; margin:0; padding: 0}\n",
       ".list-inline>li {display: inline-block}\n",
       ".list-inline>li:not(:last-child)::after {content: \"\\00b7\"; padding: 0 .5ex}\n",
       "</style>\n",
       "<ol class=list-inline><li>3</li><li>3</li></ol>\n"
      ],
      "text/latex": [
       "\\begin{enumerate*}\n",
       "\\item 3\n",
       "\\item 3\n",
       "\\end{enumerate*}\n"
      ],
      "text/markdown": [
       "1. 3\n",
       "2. 3\n",
       "\n",
       "\n"
      ],
      "text/plain": [
       "[1] 3 3"
      ]
     },
     "metadata": {},
     "output_type": "display_data"
    },
    {
     "data": {
      "text/html": [
       "5"
      ],
      "text/latex": [
       "5"
      ],
      "text/markdown": [
       "5"
      ],
      "text/plain": [
       "[1] 5"
      ]
     },
     "metadata": {},
     "output_type": "display_data"
    },
    {
     "data": {
      "text/html": [
       "<table class=\"dataframe\">\n",
       "<caption>A matrix: 2 × 2 of type int</caption>\n",
       "<tbody>\n",
       "\t<tr><td>8</td><td>2</td></tr>\n",
       "\t<tr><td>7</td><td>1</td></tr>\n",
       "</tbody>\n",
       "</table>\n"
      ],
      "text/latex": [
       "A matrix: 2 × 2 of type int\n",
       "\\begin{tabular}{ll}\n",
       "\t 8 & 2\\\\\n",
       "\t 7 & 1\\\\\n",
       "\\end{tabular}\n"
      ],
      "text/markdown": [
       "\n",
       "A matrix: 2 × 2 of type int\n",
       "\n",
       "| 8 | 2 |\n",
       "| 7 | 1 |\n",
       "\n"
      ],
      "text/plain": [
       "     [,1] [,2]\n",
       "[1,] 8    2   \n",
       "[2,] 7    1   "
      ]
     },
     "metadata": {},
     "output_type": "display_data"
    },
    {
     "data": {
      "text/html": [
       "<style>\n",
       ".list-inline {list-style: none; margin:0; padding: 0}\n",
       ".list-inline>li {display: inline-block}\n",
       ".list-inline>li:not(:last-child)::after {content: \"\\00b7\"; padding: 0 .5ex}\n",
       "</style>\n",
       "<ol class=list-inline><li>5</li><li>4</li></ol>\n"
      ],
      "text/latex": [
       "\\begin{enumerate*}\n",
       "\\item 5\n",
       "\\item 4\n",
       "\\end{enumerate*}\n"
      ],
      "text/markdown": [
       "1. 5\n",
       "2. 4\n",
       "\n",
       "\n"
      ],
      "text/plain": [
       "[1] 5 4"
      ]
     },
     "metadata": {},
     "output_type": "display_data"
    },
    {
     "data": {
      "text/html": [
       "<table class=\"dataframe\">\n",
       "<caption>A matrix: 2 × 2 of type dbl</caption>\n",
       "<tbody>\n",
       "\t<tr><td>1</td><td>3</td></tr>\n",
       "\t<tr><td>2</td><td>4</td></tr>\n",
       "</tbody>\n",
       "</table>\n"
      ],
      "text/latex": [
       "A matrix: 2 × 2 of type dbl\n",
       "\\begin{tabular}{ll}\n",
       "\t 1 & 3\\\\\n",
       "\t 2 & 4\\\\\n",
       "\\end{tabular}\n"
      ],
      "text/markdown": [
       "\n",
       "A matrix: 2 × 2 of type dbl\n",
       "\n",
       "| 1 | 3 |\n",
       "| 2 | 4 |\n",
       "\n"
      ],
      "text/plain": [
       "     [,1] [,2]\n",
       "[1,] 1    3   \n",
       "[2,] 2    4   "
      ]
     },
     "metadata": {},
     "output_type": "display_data"
    }
   ],
   "source": [
    "\n",
    "M1 <- matrix(9:1,3,3)  ##integer values \n",
    "\n",
    "M1\n",
    "dim(M1)  # dimension\n",
    "M1[2,2]  # indexing\n",
    "\n",
    "M1[-1,-2] # submatrix by dropping row and column\n",
    "\n",
    "M1[-1,2] # submatrix by dropping row and indexing column\n",
    "\n",
    "M2 <- matrix(c(1,2,3,4),2,2)  ##double(dbl) values\n",
    "M2\n"
   ]
  },
  {
   "cell_type": "code",
   "execution_count": 90,
   "id": "cfee9a80",
   "metadata": {},
   "outputs": [
    {
     "data": {
      "text/html": [
       "<style>\n",
       ".list-inline {list-style: none; margin:0; padding: 0}\n",
       ".list-inline>li {display: inline-block}\n",
       ".list-inline>li:not(:last-child)::after {content: \"\\00b7\"; padding: 0 .5ex}\n",
       "</style>\n",
       "<ol class=list-inline><li>1</li><li>2</li><li>3</li><li>4</li></ol>\n"
      ],
      "text/latex": [
       "\\begin{enumerate*}\n",
       "\\item 1\n",
       "\\item 2\n",
       "\\item 3\n",
       "\\item 4\n",
       "\\end{enumerate*}\n"
      ],
      "text/markdown": [
       "1. 1\n",
       "2. 2\n",
       "3. 3\n",
       "4. 4\n",
       "\n",
       "\n"
      ],
      "text/plain": [
       "[1] 1 2 3 4"
      ]
     },
     "metadata": {},
     "output_type": "display_data"
    }
   ],
   "source": [
    "## Sequence\n",
    "seq(5:8)"
   ]
  },
  {
   "cell_type": "markdown",
   "id": "ea50e509",
   "metadata": {},
   "source": [
    "#### List\n",
    "A special type of vector containing elements of different classes."
   ]
  },
  {
   "cell_type": "code",
   "execution_count": 98,
   "id": "c20ede88",
   "metadata": {
    "scrolled": true
   },
   "outputs": [
    {
     "data": {
      "text/html": [
       "<ol>\n",
       "\t<li><style>\n",
       ".list-inline {list-style: none; margin:0; padding: 0}\n",
       ".list-inline>li {display: inline-block}\n",
       ".list-inline>li:not(:last-child)::after {content: \"\\00b7\"; padding: 0 .5ex}\n",
       "</style>\n",
       "<ol class=list-inline><li>1</li><li>2</li><li>3</li></ol>\n",
       "</li>\n",
       "\t<li><style>\n",
       ".list-inline {list-style: none; margin:0; padding: 0}\n",
       ".list-inline>li {display: inline-block}\n",
       ".list-inline>li:not(:last-child)::after {content: \"\\00b7\"; padding: 0 .5ex}\n",
       "</style>\n",
       "<ol class=list-inline><li>3</li><li>2</li><li>1</li></ol>\n",
       "</li>\n",
       "\t<li><style>\n",
       ".list-inline {list-style: none; margin:0; padding: 0}\n",
       ".list-inline>li {display: inline-block}\n",
       ".list-inline>li:not(:last-child)::after {content: \"\\00b7\"; padding: 0 .5ex}\n",
       "</style>\n",
       "<ol class=list-inline><li>46</li><li>46</li><li>11</li><li>3</li><li>8</li></ol>\n",
       "</li>\n",
       "</ol>\n"
      ],
      "text/latex": [
       "\\begin{enumerate}\n",
       "\\item \\begin{enumerate*}\n",
       "\\item 1\n",
       "\\item 2\n",
       "\\item 3\n",
       "\\end{enumerate*}\n",
       "\n",
       "\\item \\begin{enumerate*}\n",
       "\\item 3\n",
       "\\item 2\n",
       "\\item 1\n",
       "\\end{enumerate*}\n",
       "\n",
       "\\item \\begin{enumerate*}\n",
       "\\item 46\n",
       "\\item 46\n",
       "\\item 11\n",
       "\\item 3\n",
       "\\item 8\n",
       "\\end{enumerate*}\n",
       "\n",
       "\\end{enumerate}\n"
      ],
      "text/markdown": [
       "1. 1. 1\n",
       "2. 2\n",
       "3. 3\n",
       "\n",
       "\n",
       "\n",
       "2. 1. 3\n",
       "2. 2\n",
       "3. 1\n",
       "\n",
       "\n",
       "\n",
       "3. 1. 46\n",
       "2. 46\n",
       "3. 11\n",
       "4. 3\n",
       "5. 8\n",
       "\n",
       "\n",
       "\n",
       "\n",
       "\n"
      ],
      "text/plain": [
       "[[1]]\n",
       "[1] 1 2 3\n",
       "\n",
       "[[2]]\n",
       "[1] 3 2 1\n",
       "\n",
       "[[3]]\n",
       "[1] 46 46 11  3  8\n"
      ]
     },
     "metadata": {},
     "output_type": "display_data"
    },
    {
     "data": {
      "text/html": [
       "<style>\n",
       ".list-inline {list-style: none; margin:0; padding: 0}\n",
       ".list-inline>li {display: inline-block}\n",
       ".list-inline>li:not(:last-child)::after {content: \"\\00b7\"; padding: 0 .5ex}\n",
       "</style>\n",
       "<ol class=list-inline><li>3</li><li>2</li><li>1</li></ol>\n"
      ],
      "text/latex": [
       "\\begin{enumerate*}\n",
       "\\item 3\n",
       "\\item 2\n",
       "\\item 1\n",
       "\\end{enumerate*}\n"
      ],
      "text/markdown": [
       "1. 3\n",
       "2. 2\n",
       "3. 1\n",
       "\n",
       "\n"
      ],
      "text/plain": [
       "[1] 3 2 1"
      ]
     },
     "metadata": {},
     "output_type": "display_data"
    },
    {
     "data": {
      "text/html": [
       "<ol>\n",
       "\t<li>1</li>\n",
       "\t<li>'p'</li>\n",
       "\t<li>TRUE</li>\n",
       "\t<li>2+4i</li>\n",
       "</ol>\n"
      ],
      "text/latex": [
       "\\begin{enumerate}\n",
       "\\item 1\n",
       "\\item 'p'\n",
       "\\item TRUE\n",
       "\\item 2+4i\n",
       "\\end{enumerate}\n"
      ],
      "text/markdown": [
       "1. 1\n",
       "2. 'p'\n",
       "3. TRUE\n",
       "4. 2+4i\n",
       "\n",
       "\n"
      ],
      "text/plain": [
       "[[1]]\n",
       "[1] 1\n",
       "\n",
       "[[2]]\n",
       "[1] \"p\"\n",
       "\n",
       "[[3]]\n",
       "[1] TRUE\n",
       "\n",
       "[[4]]\n",
       "[1] 2+4i\n"
      ]
     },
     "metadata": {},
     "output_type": "display_data"
    }
   ],
   "source": [
    "\n",
    "listA <- list(1:3, 3:1, c(46,46,11,3,8))\n",
    "listA\n",
    "\n",
    "listA[[2]]\n",
    "\n",
    "x9 <- list(1,\"p\", TRUE, 2+4i)\n",
    "x9"
   ]
  },
  {
   "cell_type": "markdown",
   "id": "3c365772",
   "metadata": {},
   "source": [
    "#### Factor\n",
    "Represents categorical data. Can be ordered or unordered"
   ]
  },
  {
   "cell_type": "code",
   "execution_count": 105,
   "id": "87451cc2",
   "metadata": {
    "scrolled": false
   },
   "outputs": [
    {
     "data": {
      "text/html": [
       "<style>\n",
       ".list-inline {list-style: none; margin:0; padding: 0}\n",
       ".list-inline>li {display: inline-block}\n",
       ".list-inline>li:not(:last-child)::after {content: \"\\00b7\"; padding: 0 .5ex}\n",
       "</style>\n",
       "<ol class=list-inline><li>low</li><li>high</li><li>medium</li><li>high</li><li>low</li></ol>\n",
       "\n",
       "<details>\n",
       "\t<summary style=display:list-item;cursor:pointer>\n",
       "\t\t<strong>Levels</strong>:\n",
       "\t</summary>\n",
       "\t<style>\n",
       "\t.list-inline {list-style: none; margin:0; padding: 0}\n",
       "\t.list-inline>li {display: inline-block}\n",
       "\t.list-inline>li:not(:last-child)::after {content: \"\\00b7\"; padding: 0 .5ex}\n",
       "\t</style>\n",
       "\t<ol class=list-inline><li>'low'</li><li>'medium'</li><li>'high'</li></ol>\n",
       "</details>"
      ],
      "text/latex": [
       "\\begin{enumerate*}\n",
       "\\item low\n",
       "\\item high\n",
       "\\item medium\n",
       "\\item high\n",
       "\\item low\n",
       "\\end{enumerate*}\n",
       "\n",
       "\\emph{Levels}: \\begin{enumerate*}\n",
       "\\item 'low'\n",
       "\\item 'medium'\n",
       "\\item 'high'\n",
       "\\end{enumerate*}\n"
      ],
      "text/markdown": [
       "1. low\n",
       "2. high\n",
       "3. medium\n",
       "4. high\n",
       "5. low\n",
       "\n",
       "\n",
       "\n",
       "**Levels**: 1. 'low'\n",
       "2. 'medium'\n",
       "3. 'high'\n",
       "\n",
       "\n"
      ],
      "text/plain": [
       "[1] low    high   medium high   low   \n",
       "Levels: low < medium < high"
      ]
     },
     "metadata": {},
     "output_type": "display_data"
    },
    {
     "data": {
      "text/html": [
       "<style>\n",
       ".list-inline {list-style: none; margin:0; padding: 0}\n",
       ".list-inline>li {display: inline-block}\n",
       ".list-inline>li:not(:last-child)::after {content: \"\\00b7\"; padding: 0 .5ex}\n",
       "</style>\n",
       "<ol class=list-inline><li>low</li><li>high</li><li>medium</li><li>high</li><li>low</li></ol>\n",
       "\n",
       "<details>\n",
       "\t<summary style=display:list-item;cursor:pointer>\n",
       "\t\t<strong>Levels</strong>:\n",
       "\t</summary>\n",
       "\t<style>\n",
       "\t.list-inline {list-style: none; margin:0; padding: 0}\n",
       "\t.list-inline>li {display: inline-block}\n",
       "\t.list-inline>li:not(:last-child)::after {content: \"\\00b7\"; padding: 0 .5ex}\n",
       "\t</style>\n",
       "\t<ol class=list-inline><li>'high'</li><li>'low'</li><li>'medium'</li></ol>\n",
       "</details>"
      ],
      "text/latex": [
       "\\begin{enumerate*}\n",
       "\\item low\n",
       "\\item high\n",
       "\\item medium\n",
       "\\item high\n",
       "\\item low\n",
       "\\end{enumerate*}\n",
       "\n",
       "\\emph{Levels}: \\begin{enumerate*}\n",
       "\\item 'high'\n",
       "\\item 'low'\n",
       "\\item 'medium'\n",
       "\\end{enumerate*}\n"
      ],
      "text/markdown": [
       "1. low\n",
       "2. high\n",
       "3. medium\n",
       "4. high\n",
       "5. low\n",
       "\n",
       "\n",
       "\n",
       "**Levels**: 1. 'high'\n",
       "2. 'low'\n",
       "3. 'medium'\n",
       "\n",
       "\n"
      ],
      "text/plain": [
       "[1] low    high   medium high   low   \n",
       "Levels: high low medium"
      ]
     },
     "metadata": {},
     "output_type": "display_data"
    }
   ],
   "source": [
    "\n",
    "status <- c(\"low\", \"high\", \"medium\", \"high\", \"low\")\n",
    "\n",
    "factor(status,ordered=TRUE, levels=c(\"low\",\"medium\",\"high\")) # ordinal categories\n",
    "\n",
    "factor(status) # nominal categories"
   ]
  },
  {
   "cell_type": "markdown",
   "id": "ca5c50ac",
   "metadata": {},
   "source": [
    "#### Data Frames \n",
    "Used to store tabular data. Can contain di???erent classes"
   ]
  },
  {
   "cell_type": "code",
   "execution_count": 108,
   "id": "6486fd09",
   "metadata": {},
   "outputs": [
    {
     "data": {
      "text/html": [
       "<table class=\"dataframe\">\n",
       "<caption>A data.frame: 3 × 3</caption>\n",
       "<thead>\n",
       "\t<tr><th scope=col>c.1..2..3.</th><th scope=col>c..Ram....Sai....Krishna..</th><th scope=col>c.2.4..23.5..6.8.</th></tr>\n",
       "\t<tr><th scope=col>&lt;dbl&gt;</th><th scope=col>&lt;chr&gt;</th><th scope=col>&lt;dbl&gt;</th></tr>\n",
       "</thead>\n",
       "<tbody>\n",
       "\t<tr><td>1</td><td>Ram    </td><td> 2.4</td></tr>\n",
       "\t<tr><td>2</td><td>Sai    </td><td>23.5</td></tr>\n",
       "\t<tr><td>3</td><td>Krishna</td><td> 6.8</td></tr>\n",
       "</tbody>\n",
       "</table>\n"
      ],
      "text/latex": [
       "A data.frame: 3 × 3\n",
       "\\begin{tabular}{lll}\n",
       " c.1..2..3. & c..Ram....Sai....Krishna.. & c.2.4..23.5..6.8.\\\\\n",
       " <dbl> & <chr> & <dbl>\\\\\n",
       "\\hline\n",
       "\t 1 & Ram     &  2.4\\\\\n",
       "\t 2 & Sai     & 23.5\\\\\n",
       "\t 3 & Krishna &  6.8\\\\\n",
       "\\end{tabular}\n"
      ],
      "text/markdown": [
       "\n",
       "A data.frame: 3 × 3\n",
       "\n",
       "| c.1..2..3. &lt;dbl&gt; | c..Ram....Sai....Krishna.. &lt;chr&gt; | c.2.4..23.5..6.8. &lt;dbl&gt; |\n",
       "|---|---|---|\n",
       "| 1 | Ram     |  2.4 |\n",
       "| 2 | Sai     | 23.5 |\n",
       "| 3 | Krishna |  6.8 |\n",
       "\n"
      ],
      "text/plain": [
       "  c.1..2..3. c..Ram....Sai....Krishna.. c.2.4..23.5..6.8.\n",
       "1 1          Ram                         2.4             \n",
       "2 2          Sai                        23.5             \n",
       "3 3          Krishna                     6.8             "
      ]
     },
     "metadata": {},
     "output_type": "display_data"
    },
    {
     "data": {
      "text/html": [
       "<table class=\"dataframe\">\n",
       "<caption>A data.frame: 3 × 3</caption>\n",
       "<thead>\n",
       "\t<tr><th scope=col>SLNo</th><th scope=col>Name</th><th scope=col>Val</th></tr>\n",
       "\t<tr><th scope=col>&lt;dbl&gt;</th><th scope=col>&lt;chr&gt;</th><th scope=col>&lt;dbl&gt;</th></tr>\n",
       "</thead>\n",
       "<tbody>\n",
       "\t<tr><td>1</td><td>Ram    </td><td> 2.4</td></tr>\n",
       "\t<tr><td>2</td><td>Sai    </td><td>23.5</td></tr>\n",
       "\t<tr><td>3</td><td>Krishna</td><td> 6.8</td></tr>\n",
       "</tbody>\n",
       "</table>\n"
      ],
      "text/latex": [
       "A data.frame: 3 × 3\n",
       "\\begin{tabular}{lll}\n",
       " SLNo & Name & Val\\\\\n",
       " <dbl> & <chr> & <dbl>\\\\\n",
       "\\hline\n",
       "\t 1 & Ram     &  2.4\\\\\n",
       "\t 2 & Sai     & 23.5\\\\\n",
       "\t 3 & Krishna &  6.8\\\\\n",
       "\\end{tabular}\n"
      ],
      "text/markdown": [
       "\n",
       "A data.frame: 3 × 3\n",
       "\n",
       "| SLNo &lt;dbl&gt; | Name &lt;chr&gt; | Val &lt;dbl&gt; |\n",
       "|---|---|---|\n",
       "| 1 | Ram     |  2.4 |\n",
       "| 2 | Sai     | 23.5 |\n",
       "| 3 | Krishna |  6.8 |\n",
       "\n"
      ],
      "text/plain": [
       "  SLNo Name    Val \n",
       "1 1    Ram      2.4\n",
       "2 2    Sai     23.5\n",
       "3 3    Krishna  6.8"
      ]
     },
     "metadata": {},
     "output_type": "display_data"
    }
   ],
   "source": [
    "\n",
    "dframe <- data.frame(c(1,2,3), c(\"Ram\",\"Sai\",\"Krishna\"), c(2.4,23.5,6.8))\n",
    "dframe\n",
    "\n",
    "dframe <- data.frame(SLNo=c(1,2,3), Name=c(\"Ram\",\"Sai\",\"Krishna\"), Val=c(2.4,23.5,6.8))\n",
    "dframe"
   ]
  },
  {
   "cell_type": "code",
   "execution_count": 114,
   "id": "12c89f8e",
   "metadata": {
    "scrolled": true
   },
   "outputs": [
    {
     "data": {
      "text/html": [
       "<table class=\"dataframe\">\n",
       "<caption>A data.frame: 2 × 3</caption>\n",
       "<thead>\n",
       "\t<tr><th></th><th scope=col>SLNo</th><th scope=col>Name</th><th scope=col>Val</th></tr>\n",
       "\t<tr><th></th><th scope=col>&lt;dbl&gt;</th><th scope=col>&lt;chr&gt;</th><th scope=col>&lt;dbl&gt;</th></tr>\n",
       "</thead>\n",
       "<tbody>\n",
       "\t<tr><th scope=row>1</th><td>1</td><td>Ram</td><td> 2.4</td></tr>\n",
       "\t<tr><th scope=row>2</th><td>2</td><td>Sai</td><td>23.5</td></tr>\n",
       "</tbody>\n",
       "</table>\n"
      ],
      "text/latex": [
       "A data.frame: 2 × 3\n",
       "\\begin{tabular}{r|lll}\n",
       "  & SLNo & Name & Val\\\\\n",
       "  & <dbl> & <chr> & <dbl>\\\\\n",
       "\\hline\n",
       "\t1 & 1 & Ram &  2.4\\\\\n",
       "\t2 & 2 & Sai & 23.5\\\\\n",
       "\\end{tabular}\n"
      ],
      "text/markdown": [
       "\n",
       "A data.frame: 2 × 3\n",
       "\n",
       "| <!--/--> | SLNo &lt;dbl&gt; | Name &lt;chr&gt; | Val &lt;dbl&gt; |\n",
       "|---|---|---|---|\n",
       "| 1 | 1 | Ram |  2.4 |\n",
       "| 2 | 2 | Sai | 23.5 |\n",
       "\n"
      ],
      "text/plain": [
       "  SLNo Name Val \n",
       "1 1    Ram   2.4\n",
       "2 2    Sai  23.5"
      ]
     },
     "metadata": {},
     "output_type": "display_data"
    },
    {
     "data": {
      "text/html": [
       "<table class=\"dataframe\">\n",
       "<caption>A data.frame: 3 × 2</caption>\n",
       "<thead>\n",
       "\t<tr><th scope=col>Name</th><th scope=col>Val</th></tr>\n",
       "\t<tr><th scope=col>&lt;chr&gt;</th><th scope=col>&lt;dbl&gt;</th></tr>\n",
       "</thead>\n",
       "<tbody>\n",
       "\t<tr><td>Ram    </td><td> 2.4</td></tr>\n",
       "\t<tr><td>Sai    </td><td>23.5</td></tr>\n",
       "\t<tr><td>Krishna</td><td> 6.8</td></tr>\n",
       "</tbody>\n",
       "</table>\n"
      ],
      "text/latex": [
       "A data.frame: 3 × 2\n",
       "\\begin{tabular}{ll}\n",
       " Name & Val\\\\\n",
       " <chr> & <dbl>\\\\\n",
       "\\hline\n",
       "\t Ram     &  2.4\\\\\n",
       "\t Sai     & 23.5\\\\\n",
       "\t Krishna &  6.8\\\\\n",
       "\\end{tabular}\n"
      ],
      "text/markdown": [
       "\n",
       "A data.frame: 3 × 2\n",
       "\n",
       "| Name &lt;chr&gt; | Val &lt;dbl&gt; |\n",
       "|---|---|\n",
       "| Ram     |  2.4 |\n",
       "| Sai     | 23.5 |\n",
       "| Krishna |  6.8 |\n",
       "\n"
      ],
      "text/plain": [
       "  Name    Val \n",
       "1 Ram      2.4\n",
       "2 Sai     23.5\n",
       "3 Krishna  6.8"
      ]
     },
     "metadata": {},
     "output_type": "display_data"
    },
    {
     "data": {
      "text/html": [
       "<style>\n",
       ".list-inline {list-style: none; margin:0; padding: 0}\n",
       ".list-inline>li {display: inline-block}\n",
       ".list-inline>li:not(:last-child)::after {content: \"\\00b7\"; padding: 0 .5ex}\n",
       "</style>\n",
       "<ol class=list-inline><li>3</li><li>6</li><li>9</li></ol>\n"
      ],
      "text/latex": [
       "\\begin{enumerate*}\n",
       "\\item 3\n",
       "\\item 6\n",
       "\\item 9\n",
       "\\end{enumerate*}\n"
      ],
      "text/markdown": [
       "1. 3\n",
       "2. 6\n",
       "3. 9\n",
       "\n",
       "\n"
      ],
      "text/plain": [
       "[1] 3 6 9"
      ]
     },
     "metadata": {},
     "output_type": "display_data"
    }
   ],
   "source": [
    "dframe[1:2,1:3]\n",
    "\n",
    "dframe[,2:3]\n",
    "\n",
    "dframe[,1]*3"
   ]
  },
  {
   "cell_type": "code",
   "execution_count": 115,
   "id": "ce6bee58",
   "metadata": {
    "scrolled": false
   },
   "outputs": [
    {
     "data": {
      "text/html": [
       "<style>\n",
       ".list-inline {list-style: none; margin:0; padding: 0}\n",
       ".list-inline>li {display: inline-block}\n",
       ".list-inline>li:not(:last-child)::after {content: \"\\00b7\"; padding: 0 .5ex}\n",
       "</style>\n",
       "<ol class=list-inline><li>'Ram'</li><li>'Sai'</li><li>'Krishna'</li></ol>\n"
      ],
      "text/latex": [
       "\\begin{enumerate*}\n",
       "\\item 'Ram'\n",
       "\\item 'Sai'\n",
       "\\item 'Krishna'\n",
       "\\end{enumerate*}\n"
      ],
      "text/markdown": [
       "1. 'Ram'\n",
       "2. 'Sai'\n",
       "3. 'Krishna'\n",
       "\n",
       "\n"
      ],
      "text/plain": [
       "[1] \"Ram\"     \"Sai\"     \"Krishna\""
      ]
     },
     "metadata": {},
     "output_type": "display_data"
    },
    {
     "data": {
      "text/html": [
       "3"
      ],
      "text/latex": [
       "3"
      ],
      "text/markdown": [
       "3"
      ],
      "text/plain": [
       "[1] 3"
      ]
     },
     "metadata": {},
     "output_type": "display_data"
    },
    {
     "data": {
      "text/html": [
       "3"
      ],
      "text/latex": [
       "3"
      ],
      "text/markdown": [
       "3"
      ],
      "text/plain": [
       "[1] 3"
      ]
     },
     "metadata": {},
     "output_type": "display_data"
    },
    {
     "data": {
      "text/html": [
       "<style>\n",
       ".list-inline {list-style: none; margin:0; padding: 0}\n",
       ".list-inline>li {display: inline-block}\n",
       ".list-inline>li:not(:last-child)::after {content: \"\\00b7\"; padding: 0 .5ex}\n",
       "</style>\n",
       "<ol class=list-inline><li>'SLNo'</li><li>'Name'</li><li>'Val'</li></ol>\n"
      ],
      "text/latex": [
       "\\begin{enumerate*}\n",
       "\\item 'SLNo'\n",
       "\\item 'Name'\n",
       "\\item 'Val'\n",
       "\\end{enumerate*}\n"
      ],
      "text/markdown": [
       "1. 'SLNo'\n",
       "2. 'Name'\n",
       "3. 'Val'\n",
       "\n",
       "\n"
      ],
      "text/plain": [
       "[1] \"SLNo\" \"Name\" \"Val\" "
      ]
     },
     "metadata": {},
     "output_type": "display_data"
    }
   ],
   "source": [
    "dframe$Name  #Accessing column of dataframe\n",
    "nrow(dframe) # no. of rows in the data\n",
    "ncol(dframe) # no. of cols in the data\n",
    "names(dframe) # col names of data"
   ]
  },
  {
   "cell_type": "code",
   "execution_count": 117,
   "id": "106ec0d8",
   "metadata": {
    "scrolled": true
   },
   "outputs": [
    {
     "data": {
      "text/html": [
       "<table class=\"dataframe\">\n",
       "<caption>A data.frame: 3 × 4</caption>\n",
       "<thead>\n",
       "\t<tr><th scope=col>X</th><th scope=col>SLNo</th><th scope=col>Name</th><th scope=col>Val</th></tr>\n",
       "\t<tr><th scope=col>&lt;int&gt;</th><th scope=col>&lt;int&gt;</th><th scope=col>&lt;chr&gt;</th><th scope=col>&lt;dbl&gt;</th></tr>\n",
       "</thead>\n",
       "<tbody>\n",
       "\t<tr><td>1</td><td>1</td><td>Ram    </td><td> 2.4</td></tr>\n",
       "\t<tr><td>2</td><td>2</td><td>Sai    </td><td>23.5</td></tr>\n",
       "\t<tr><td>3</td><td>3</td><td>Krishna</td><td> 6.8</td></tr>\n",
       "</tbody>\n",
       "</table>\n"
      ],
      "text/latex": [
       "A data.frame: 3 × 4\n",
       "\\begin{tabular}{llll}\n",
       " X & SLNo & Name & Val\\\\\n",
       " <int> & <int> & <chr> & <dbl>\\\\\n",
       "\\hline\n",
       "\t 1 & 1 & Ram     &  2.4\\\\\n",
       "\t 2 & 2 & Sai     & 23.5\\\\\n",
       "\t 3 & 3 & Krishna &  6.8\\\\\n",
       "\\end{tabular}\n"
      ],
      "text/markdown": [
       "\n",
       "A data.frame: 3 × 4\n",
       "\n",
       "| X &lt;int&gt; | SLNo &lt;int&gt; | Name &lt;chr&gt; | Val &lt;dbl&gt; |\n",
       "|---|---|---|---|\n",
       "| 1 | 1 | Ram     |  2.4 |\n",
       "| 2 | 2 | Sai     | 23.5 |\n",
       "| 3 | 3 | Krishna |  6.8 |\n",
       "\n"
      ],
      "text/plain": [
       "  X SLNo Name    Val \n",
       "1 1 1    Ram      2.4\n",
       "2 2 2    Sai     23.5\n",
       "3 3 3    Krishna  6.8"
      ]
     },
     "metadata": {},
     "output_type": "display_data"
    },
    {
     "data": {
      "text/html": [
       "<table class=\"dataframe\">\n",
       "<caption>A data.frame: 3 × 3</caption>\n",
       "<thead>\n",
       "\t<tr><th scope=col>SLNo</th><th scope=col>Name</th><th scope=col>Val</th></tr>\n",
       "\t<tr><th scope=col>&lt;int&gt;</th><th scope=col>&lt;chr&gt;</th><th scope=col>&lt;dbl&gt;</th></tr>\n",
       "</thead>\n",
       "<tbody>\n",
       "\t<tr><td>1</td><td>Ram    </td><td> 2.4</td></tr>\n",
       "\t<tr><td>2</td><td>Sai    </td><td>23.5</td></tr>\n",
       "\t<tr><td>3</td><td>Krishna</td><td> 6.8</td></tr>\n",
       "</tbody>\n",
       "</table>\n"
      ],
      "text/latex": [
       "A data.frame: 3 × 3\n",
       "\\begin{tabular}{lll}\n",
       " SLNo & Name & Val\\\\\n",
       " <int> & <chr> & <dbl>\\\\\n",
       "\\hline\n",
       "\t 1 & Ram     &  2.4\\\\\n",
       "\t 2 & Sai     & 23.5\\\\\n",
       "\t 3 & Krishna &  6.8\\\\\n",
       "\\end{tabular}\n"
      ],
      "text/markdown": [
       "\n",
       "A data.frame: 3 × 3\n",
       "\n",
       "| SLNo &lt;int&gt; | Name &lt;chr&gt; | Val &lt;dbl&gt; |\n",
       "|---|---|---|\n",
       "| 1 | Ram     |  2.4 |\n",
       "| 2 | Sai     | 23.5 |\n",
       "| 3 | Krishna |  6.8 |\n",
       "\n"
      ],
      "text/plain": [
       "  SLNo Name    Val \n",
       "1 1    Ram      2.4\n",
       "2 2    Sai     23.5\n",
       "3 3    Krishna  6.8"
      ]
     },
     "metadata": {},
     "output_type": "display_data"
    }
   ],
   "source": [
    "## read/write to file\n",
    "write.csv(dframe, file=\"temp.csv\")\n",
    "read.csv(\"temp.csv\")\n",
    "\n",
    "write.csv(dframe, file=\"temp.csv\", row.names = FALSE)\n",
    "read.csv(\"temp.csv\")\n"
   ]
  },
  {
   "cell_type": "markdown",
   "id": "661a9959",
   "metadata": {},
   "source": [
    "## R Variables"
   ]
  },
  {
   "cell_type": "markdown",
   "id": "1b993d13",
   "metadata": {},
   "source": [
    "* A valid variable name consists of letters, numbers, the dot, underline characters\n",
    "* A valid variable name starts with a letter with a dot not followed by a number \n",
    "* R reserved words:  \n",
    "    *if,else, repeat, while, function, for, in, next, break*   \n",
    "    *TRUE, FALSE, NULL, Inf, NaN, NA, NA_integer_, NA_real_ ,NA_complex_, NA_character_*"
   ]
  },
  {
   "cell_type": "code",
   "execution_count": 159,
   "id": "3bc1b0e5",
   "metadata": {
    "scrolled": true
   },
   "outputs": [
    {
     "data": {
      "text/html": [
       "'numeric'"
      ],
      "text/latex": [
       "'numeric'"
      ],
      "text/markdown": [
       "'numeric'"
      ],
      "text/plain": [
       "[1] \"numeric\""
      ]
     },
     "metadata": {},
     "output_type": "display_data"
    },
    {
     "data": {
      "text/html": [
       "'double'"
      ],
      "text/latex": [
       "'double'"
      ],
      "text/markdown": [
       "'double'"
      ],
      "text/plain": [
       "[1] \"double\""
      ]
     },
     "metadata": {},
     "output_type": "display_data"
    },
    {
     "data": {
      "text/html": [
       "62"
      ],
      "text/latex": [
       "62"
      ],
      "text/markdown": [
       "62"
      ],
      "text/plain": [
       "[1] 62"
      ]
     },
     "metadata": {},
     "output_type": "display_data"
    },
    {
     "data": {
      "text/html": [
       "'character'"
      ],
      "text/latex": [
       "'character'"
      ],
      "text/markdown": [
       "'character'"
      ],
      "text/plain": [
       "[1] \"character\""
      ]
     },
     "metadata": {},
     "output_type": "display_data"
    },
    {
     "data": {
      "text/html": [
       "'character'"
      ],
      "text/latex": [
       "'character'"
      ],
      "text/markdown": [
       "'character'"
      ],
      "text/plain": [
       "[1] \"character\""
      ]
     },
     "metadata": {},
     "output_type": "display_data"
    },
    {
     "data": {
      "text/html": [
       "<style>\n",
       ".list-inline {list-style: none; margin:0; padding: 0}\n",
       ".list-inline>li {display: inline-block}\n",
       ".list-inline>li:not(:last-child)::after {content: \"\\00b7\"; padding: 0 .5ex}\n",
       "</style>\n",
       "<ol class=list-inline><li>'2'</li><li>'25'</li><li>'gd'</li></ol>\n"
      ],
      "text/latex": [
       "\\begin{enumerate*}\n",
       "\\item '2'\n",
       "\\item '25'\n",
       "\\item 'gd'\n",
       "\\end{enumerate*}\n"
      ],
      "text/markdown": [
       "1. '2'\n",
       "2. '25'\n",
       "3. 'gd'\n",
       "\n",
       "\n"
      ],
      "text/plain": [
       "[1] \"2\"  \"25\" \"gd\""
      ]
     },
     "metadata": {},
     "output_type": "display_data"
    }
   ],
   "source": [
    "## Data Types \n",
    "## class() - kind of objects(high-level); typeof() - kind of object's data type(low-level)\n",
    "\n",
    "x <- 62\n",
    "class(x)\n",
    "typeof(x)\n",
    "x\n",
    "\n",
    "x <- c(2,25,\"gd\")\n",
    "class(x)\n",
    "typeof(x)\n",
    "x"
   ]
  },
  {
   "cell_type": "code",
   "execution_count": 160,
   "id": "ed5d0b88",
   "metadata": {
    "scrolled": true
   },
   "outputs": [
    {
     "data": {
      "text/html": [
       "<style>\n",
       ".list-inline {list-style: none; margin:0; padding: 0}\n",
       ".list-inline>li {display: inline-block}\n",
       ".list-inline>li:not(:last-child)::after {content: \"\\00b7\"; padding: 0 .5ex}\n",
       "</style>\n",
       "<ol class=list-inline><li>70</li><li>80</li><li>90</li><li>0</li><li>1</li></ol>\n"
      ],
      "text/latex": [
       "\\begin{enumerate*}\n",
       "\\item 70\n",
       "\\item 80\n",
       "\\item 90\n",
       "\\item 0\n",
       "\\item 1\n",
       "\\end{enumerate*}\n"
      ],
      "text/markdown": [
       "1. 70\n",
       "2. 80\n",
       "3. 90\n",
       "4. 0\n",
       "5. 1\n",
       "\n",
       "\n"
      ],
      "text/plain": [
       "[1] 70 80 90  0  1"
      ]
     },
     "metadata": {},
     "output_type": "display_data"
    },
    {
     "name": "stdout",
     "output_type": "stream",
     "text": [
      "[1]  TRUE FALSE\n"
     ]
    }
   ],
   "source": [
    "## Assignment\n",
    "\n",
    "semester.marks1 = c(70,80,90,FALSE,TRUE)\n",
    "semester.marks1\n",
    "\n",
    "semester.marks2 <- c(TRUE, FALSE)\n",
    "print(semester.marks2)"
   ]
  },
  {
   "cell_type": "markdown",
   "id": "f991ff64",
   "metadata": {},
   "source": [
    "'<-' declares variables in user workspace  \n",
    "'=' when used to set arguments in function call, it is declared in scope of function"
   ]
  },
  {
   "cell_type": "code",
   "execution_count": 161,
   "id": "0a5ff4e6",
   "metadata": {
    "scrolled": true
   },
   "outputs": [
    {
     "name": "stdout",
     "output_type": "stream",
     "text": [
      "1st var is 70 80 90 0 1 \n"
     ]
    }
   ],
   "source": [
    "## print with strings concat\n",
    "cat(\"1st var is\", semester.marks1, \"\\n\")"
   ]
  },
  {
   "cell_type": "code",
   "execution_count": 162,
   "id": "230cd81b",
   "metadata": {
    "scrolled": true
   },
   "outputs": [
    {
     "data": {
      "text/html": [
       "<style>\n",
       ".list-inline {list-style: none; margin:0; padding: 0}\n",
       ".list-inline>li {display: inline-block}\n",
       ".list-inline>li:not(:last-child)::after {content: \"\\00b7\"; padding: 0 .5ex}\n",
       "</style>\n",
       "<ol class=list-inline><li>FALSE</li><li>FALSE</li></ol>\n"
      ],
      "text/latex": [
       "\\begin{enumerate*}\n",
       "\\item FALSE\n",
       "\\item FALSE\n",
       "\\end{enumerate*}\n"
      ],
      "text/markdown": [
       "1. FALSE\n",
       "2. FALSE\n",
       "\n",
       "\n"
      ],
      "text/plain": [
       "[1] FALSE FALSE"
      ]
     },
     "metadata": {},
     "output_type": "display_data"
    },
    {
     "data": {
      "text/html": [
       "<style>\n",
       ".list-inline {list-style: none; margin:0; padding: 0}\n",
       ".list-inline>li {display: inline-block}\n",
       ".list-inline>li:not(:last-child)::after {content: \"\\00b7\"; padding: 0 .5ex}\n",
       "</style>\n",
       "<ol class=list-inline><li>70</li><li>51</li></ol>\n"
      ],
      "text/latex": [
       "\\begin{enumerate*}\n",
       "\\item 70\n",
       "\\item 51\n",
       "\\end{enumerate*}\n"
      ],
      "text/markdown": [
       "1. 70\n",
       "2. 51\n",
       "\n",
       "\n"
      ],
      "text/plain": [
       "[1] 70 51"
      ]
     },
     "metadata": {},
     "output_type": "display_data"
    },
    {
     "name": "stdout",
     "output_type": "stream",
     "text": [
      " num [1:2] 70 51\n"
     ]
    }
   ],
   "source": [
    "## vector\n",
    "empid = vector(length=2) #we need to declare before using empid[i]\n",
    "empid\n",
    "\n",
    "empid[1] <- 70\n",
    "empid[2] <- 51\n",
    "empid\n",
    "str(empid)"
   ]
  },
  {
   "cell_type": "code",
   "execution_count": 163,
   "id": "26ee7b88",
   "metadata": {
    "scrolled": false
   },
   "outputs": [
    {
     "data": {
      "text/html": [
       "<style>\n",
       ".list-inline {list-style: none; margin:0; padding: 0}\n",
       ".list-inline>li {display: inline-block}\n",
       ".list-inline>li:not(:last-child)::after {content: \"\\00b7\"; padding: 0 .5ex}\n",
       "</style>\n",
       "<ol class=list-inline><li>'empid'</li><li>'semester.marks1'</li><li>'semester.marks2'</li><li>'x'</li></ol>\n"
      ],
      "text/latex": [
       "\\begin{enumerate*}\n",
       "\\item 'empid'\n",
       "\\item 'semester.marks1'\n",
       "\\item 'semester.marks2'\n",
       "\\item 'x'\n",
       "\\end{enumerate*}\n"
      ],
      "text/markdown": [
       "1. 'empid'\n",
       "2. 'semester.marks1'\n",
       "3. 'semester.marks2'\n",
       "4. 'x'\n",
       "\n",
       "\n"
      ],
      "text/plain": [
       "[1] \"empid\"           \"semester.marks1\" \"semester.marks2\" \"x\"              "
      ]
     },
     "metadata": {},
     "output_type": "display_data"
    },
    {
     "name": "stdout",
     "output_type": "stream",
     "text": [
      "character(0)\n"
     ]
    }
   ],
   "source": [
    "## Variables in memory\n",
    "\n",
    "# Display all the variables in the current environment\n",
    "ls() \n",
    "\n",
    "# remove all the variables in the current environment\n",
    "rm(list = ls())\n",
    "print(ls())"
   ]
  },
  {
   "cell_type": "markdown",
   "id": "586e4870",
   "metadata": {},
   "source": [
    "## Operators  \n"
   ]
  },
  {
   "cell_type": "code",
   "execution_count": 4,
   "id": "22ac1c26",
   "metadata": {},
   "outputs": [
    {
     "data": {
      "text/html": [
       "6"
      ],
      "text/latex": [
       "6"
      ],
      "text/markdown": [
       "6"
      ],
      "text/plain": [
       "[1] 6"
      ]
     },
     "metadata": {},
     "output_type": "display_data"
    },
    {
     "data": {
      "text/html": [
       "2"
      ],
      "text/latex": [
       "2"
      ],
      "text/markdown": [
       "2"
      ],
      "text/plain": [
       "[1] 2"
      ]
     },
     "metadata": {},
     "output_type": "display_data"
    },
    {
     "data": {
      "text/html": [
       "8"
      ],
      "text/latex": [
       "8"
      ],
      "text/markdown": [
       "8"
      ],
      "text/plain": [
       "[1] 8"
      ]
     },
     "metadata": {},
     "output_type": "display_data"
    },
    {
     "data": {
      "text/html": [
       "2"
      ],
      "text/latex": [
       "2"
      ],
      "text/markdown": [
       "2"
      ],
      "text/plain": [
       "[1] 2"
      ]
     },
     "metadata": {},
     "output_type": "display_data"
    },
    {
     "data": {
      "text/html": [
       "16"
      ],
      "text/latex": [
       "16"
      ],
      "text/markdown": [
       "16"
      ],
      "text/plain": [
       "[1] 16"
      ]
     },
     "metadata": {},
     "output_type": "display_data"
    },
    {
     "data": {
      "text/html": [
       "0"
      ],
      "text/latex": [
       "0"
      ],
      "text/markdown": [
       "0"
      ],
      "text/plain": [
       "[1] 0"
      ]
     },
     "metadata": {},
     "output_type": "display_data"
    },
    {
     "data": {
      "text/html": [
       "2"
      ],
      "text/latex": [
       "2"
      ],
      "text/markdown": [
       "2"
      ],
      "text/plain": [
       "[1] 2"
      ]
     },
     "metadata": {},
     "output_type": "display_data"
    },
    {
     "data": {
      "text/html": [
       "FALSE"
      ],
      "text/latex": [
       "FALSE"
      ],
      "text/markdown": [
       "FALSE"
      ],
      "text/plain": [
       "[1] FALSE"
      ]
     },
     "metadata": {},
     "output_type": "display_data"
    },
    {
     "data": {
      "text/html": [
       "FALSE"
      ],
      "text/latex": [
       "FALSE"
      ],
      "text/markdown": [
       "FALSE"
      ],
      "text/plain": [
       "[1] FALSE"
      ]
     },
     "metadata": {},
     "output_type": "display_data"
    },
    {
     "data": {
      "text/html": [
       "TRUE"
      ],
      "text/latex": [
       "TRUE"
      ],
      "text/markdown": [
       "TRUE"
      ],
      "text/plain": [
       "[1] TRUE"
      ]
     },
     "metadata": {},
     "output_type": "display_data"
    },
    {
     "data": {
      "text/html": [
       "TRUE"
      ],
      "text/latex": [
       "TRUE"
      ],
      "text/markdown": [
       "TRUE"
      ],
      "text/plain": [
       "[1] TRUE"
      ]
     },
     "metadata": {},
     "output_type": "display_data"
    },
    {
     "data": {
      "text/html": [
       "TRUE"
      ],
      "text/latex": [
       "TRUE"
      ],
      "text/markdown": [
       "TRUE"
      ],
      "text/plain": [
       "[1] TRUE"
      ]
     },
     "metadata": {},
     "output_type": "display_data"
    },
    {
     "data": {
      "text/html": [
       "TRUE"
      ],
      "text/latex": [
       "TRUE"
      ],
      "text/markdown": [
       "TRUE"
      ],
      "text/plain": [
       "[1] TRUE"
      ]
     },
     "metadata": {},
     "output_type": "display_data"
    },
    {
     "data": {
      "text/html": [
       "TRUE"
      ],
      "text/latex": [
       "TRUE"
      ],
      "text/markdown": [
       "TRUE"
      ],
      "text/plain": [
       "[1] TRUE"
      ]
     },
     "metadata": {},
     "output_type": "display_data"
    },
    {
     "data": {
      "text/html": [
       "FALSE"
      ],
      "text/latex": [
       "FALSE"
      ],
      "text/markdown": [
       "FALSE"
      ],
      "text/plain": [
       "[1] FALSE"
      ]
     },
     "metadata": {},
     "output_type": "display_data"
    }
   ],
   "source": [
    "x=4\n",
    "y=2\n",
    "\n",
    "x+y  # addition\n",
    "x-y  # subtraction\n",
    "x*y  # multiplication\n",
    "x/y  # division\n",
    "x^y  # Exponentiation\n",
    "x%%y # Modular arithmatic\n",
    "x%/%y # Integer division\n",
    "x==y  # Equality test\n",
    "x<=y  # Less than test\n",
    "x>=y  # Greater than test\n",
    "x&&y  # Boolean AND for scalars\n",
    "x||y  # Boolean OR\n",
    "x&y   # Boolean AND for vectors\n",
    "x|y   # Boolean OR for vectors\n",
    "!x    # Boolean negation\n"
   ]
  },
  {
   "cell_type": "code",
   "execution_count": 13,
   "id": "13269481",
   "metadata": {},
   "outputs": [
    {
     "name": "stdout",
     "output_type": "stream",
     "text": [
      "[1]  TRUE FALSE  TRUE FALSE\n",
      "[1] FALSE\n",
      "[1] FALSE FALSE FALSE  TRUE\n",
      "[1] TRUE\n",
      "[1]  TRUE  TRUE FALSE  TRUE\n",
      "[1] TRUE\n",
      "[1] FALSE\n"
     ]
    }
   ],
   "source": [
    "a=c(TRUE,FALSE,0,6)\n",
    "b=c(FALSE,TRUE,FALSE,TRUE)\n",
    "\n",
    "print(!b)\n",
    "\n",
    "print(a[1]&b[1])\n",
    "print(a&b)   # element wise operator\n",
    "\n",
    "print(a[1]|b[1])\n",
    "print(a|b)   # element wise operator\n",
    "\n",
    "print(a&&a)\n",
    "print(a&&b)\n"
   ]
  },
  {
   "cell_type": "code",
   "execution_count": 21,
   "id": "3a264ae9",
   "metadata": {
    "scrolled": true
   },
   "outputs": [
    {
     "data": {
      "text/html": [
       "FALSE"
      ],
      "text/latex": [
       "FALSE"
      ],
      "text/markdown": [
       "FALSE"
      ],
      "text/plain": [
       "[1] FALSE"
      ]
     },
     "metadata": {},
     "output_type": "display_data"
    },
    {
     "data": {
      "text/html": [
       "TRUE"
      ],
      "text/latex": [
       "TRUE"
      ],
      "text/markdown": [
       "TRUE"
      ],
      "text/plain": [
       "[1] TRUE"
      ]
     },
     "metadata": {},
     "output_type": "display_data"
    },
    {
     "data": {
      "text/html": [
       "TRUE"
      ],
      "text/latex": [
       "TRUE"
      ],
      "text/markdown": [
       "TRUE"
      ],
      "text/plain": [
       "[1] TRUE"
      ]
     },
     "metadata": {},
     "output_type": "display_data"
    }
   ],
   "source": [
    "x>5\n",
    "isTRUE(x<5)"
   ]
  },
  {
   "cell_type": "markdown",
   "id": "4b5bc09f",
   "metadata": {},
   "source": [
    "###### Missing Data"
   ]
  },
  {
   "cell_type": "code",
   "execution_count": 25,
   "id": "100b4c2e",
   "metadata": {},
   "outputs": [
    {
     "data": {
      "text/html": [
       "TRUE"
      ],
      "text/latex": [
       "TRUE"
      ],
      "text/markdown": [
       "TRUE"
      ],
      "text/plain": [
       "[1] TRUE"
      ]
     },
     "metadata": {},
     "output_type": "display_data"
    },
    {
     "name": "stdout",
     "output_type": "stream",
     "text": [
      "[1] \"logical\"\n",
      "[1] \"logical\"\n",
      " logi NA\n",
      "NULL\n"
     ]
    }
   ],
   "source": [
    "## NA -not available\n",
    "x=NA\n",
    "is.na(x)\n",
    "\n",
    "print(class(NA))\n",
    "print(typeof(NA))\n",
    "print(str(NA))\n"
   ]
  },
  {
   "cell_type": "code",
   "execution_count": 29,
   "id": "0b65bc91",
   "metadata": {},
   "outputs": [
    {
     "data": {
      "text/html": [
       "<style>\n",
       ".list-inline {list-style: none; margin:0; padding: 0}\n",
       ".list-inline>li {display: inline-block}\n",
       ".list-inline>li:not(:last-child)::after {content: \"\\00b7\"; padding: 0 .5ex}\n",
       "</style>\n",
       "<ol class=list-inline><li>21</li><li>22</li><li>&lt;NA&gt;</li><li>24</li></ol>\n"
      ],
      "text/latex": [
       "\\begin{enumerate*}\n",
       "\\item 21\n",
       "\\item 22\n",
       "\\item <NA>\n",
       "\\item 24\n",
       "\\end{enumerate*}\n"
      ],
      "text/markdown": [
       "1. 21\n",
       "2. 22\n",
       "3. &lt;NA&gt;\n",
       "4. 24\n",
       "\n",
       "\n"
      ],
      "text/plain": [
       "[1] 21 22 NA 24"
      ]
     },
     "metadata": {},
     "output_type": "display_data"
    },
    {
     "data": {
      "text/html": [
       "<style>\n",
       ".list-inline {list-style: none; margin:0; padding: 0}\n",
       ".list-inline>li {display: inline-block}\n",
       ".list-inline>li:not(:last-child)::after {content: \"\\00b7\"; padding: 0 .5ex}\n",
       "</style>\n",
       "<ol class=list-inline><li>FALSE</li><li>FALSE</li><li>TRUE</li><li>FALSE</li></ol>\n"
      ],
      "text/latex": [
       "\\begin{enumerate*}\n",
       "\\item FALSE\n",
       "\\item FALSE\n",
       "\\item TRUE\n",
       "\\item FALSE\n",
       "\\end{enumerate*}\n"
      ],
      "text/markdown": [
       "1. FALSE\n",
       "2. FALSE\n",
       "3. TRUE\n",
       "4. FALSE\n",
       "\n",
       "\n"
      ],
      "text/plain": [
       "[1] FALSE FALSE  TRUE FALSE"
      ]
     },
     "metadata": {},
     "output_type": "display_data"
    },
    {
     "data": {
      "text/html": [
       "&lt;NA&gt;"
      ],
      "text/latex": [
       "<NA>"
      ],
      "text/markdown": [
       "&lt;NA&gt;"
      ],
      "text/plain": [
       "[1] NA"
      ]
     },
     "metadata": {},
     "output_type": "display_data"
    },
    {
     "data": {
      "text/html": [
       "22.3333333333333"
      ],
      "text/latex": [
       "22.3333333333333"
      ],
      "text/markdown": [
       "22.3333333333333"
      ],
      "text/plain": [
       "[1] 22.33333"
      ]
     },
     "metadata": {},
     "output_type": "display_data"
    }
   ],
   "source": [
    "x <- c(21,22,NA,24)\n",
    "x\n",
    "\n",
    "is.na(x)\n",
    "mean(x)\n",
    "mean(x,na.rm=TRUE)\n"
   ]
  },
  {
   "cell_type": "markdown",
   "id": "143778ae",
   "metadata": {},
   "source": [
    "## Control Structures"
   ]
  },
  {
   "cell_type": "code",
   "execution_count": 36,
   "id": "d896c16b",
   "metadata": {},
   "outputs": [
    {
     "name": "stdout",
     "output_type": "stream",
     "text": [
      "[1] 1\n"
     ]
    }
   ],
   "source": [
    "## if else\n",
    "test=4\n",
    "if (test == 4){\n",
    "    x=1\n",
    "}else{\n",
    "    x=3\n",
    "}\n",
    "print(x)"
   ]
  },
  {
   "cell_type": "code",
   "execution_count": 37,
   "id": "0f713e63",
   "metadata": {},
   "outputs": [
    {
     "data": {
      "text/html": [
       "'b'"
      ],
      "text/latex": [
       "'b'"
      ],
      "text/markdown": [
       "'b'"
      ],
      "text/plain": [
       "[1] \"b\""
      ]
     },
     "metadata": {},
     "output_type": "display_data"
    }
   ],
   "source": [
    "## switch\n",
    "switch(2, \"a\",\"b\",\"c\")   # switch (expression, list) "
   ]
  },
  {
   "cell_type": "code",
   "execution_count": 58,
   "id": "44fd25aa",
   "metadata": {
    "scrolled": true
   },
   "outputs": [
    {
     "name": "stdout",
     "output_type": "stream",
     "text": [
      "[1] 25\n",
      "[1] 144\n",
      "[1] 169\n",
      "[1] \"\"\n",
      "[1] 1\n",
      "[1] 4\n",
      "[1] 9\n",
      "[1] 16\n",
      "[1] 25\n"
     ]
    }
   ],
   "source": [
    "## for loop\n",
    "\n",
    "x <- c(5,12,13)\n",
    "for (n in x){\n",
    "    print(n^2)\n",
    "}\n",
    "print('')\n",
    "\n",
    "for(i in 1:5){\n",
    "    print(i^2)\n",
    "}"
   ]
  },
  {
   "cell_type": "code",
   "execution_count": 1,
   "id": "fda3300f",
   "metadata": {},
   "outputs": [
    {
     "name": "stdout",
     "output_type": "stream",
     "text": [
      "[1] 1\n",
      "[1] 9\n"
     ]
    }
   ],
   "source": [
    "## while loop\n",
    "\n",
    "j = 1\n",
    "while (j < 5)\n",
    "{\n",
    "  print(j^2)\n",
    "  j = j +2 \n",
    "}"
   ]
  },
  {
   "cell_type": "code",
   "execution_count": 3,
   "id": "00352d8f",
   "metadata": {},
   "outputs": [
    {
     "name": "stdout",
     "output_type": "stream",
     "text": [
      "[1] 1\n",
      "[1] 9\n",
      "[1] 25\n",
      "[1] 49\n",
      "[1] 81\n"
     ]
    }
   ],
   "source": [
    "## repeat loop\n",
    "\n",
    "m=1\n",
    "repeat{\n",
    "    print(m^2)\n",
    "    m=m+2\n",
    "    if(m>10){\n",
    "        break\n",
    "    }\n",
    "}"
   ]
  }
 ],
 "metadata": {
  "kernelspec": {
   "display_name": "R",
   "language": "R",
   "name": "ir"
  },
  "language_info": {
   "codemirror_mode": "r",
   "file_extension": ".r",
   "mimetype": "text/x-r-source",
   "name": "R",
   "pygments_lexer": "r",
   "version": "4.1.2"
  }
 },
 "nbformat": 4,
 "nbformat_minor": 5
}
