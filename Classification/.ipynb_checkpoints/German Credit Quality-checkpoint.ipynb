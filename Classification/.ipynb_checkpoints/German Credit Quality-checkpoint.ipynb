{
 "cells": [
  {
   "cell_type": "markdown",
   "id": "a31831b5",
   "metadata": {},
   "source": [
    "# German Credit Classification"
   ]
  },
  {
   "cell_type": "code",
   "execution_count": 1,
   "id": "36f3f2c3",
   "metadata": {},
   "outputs": [
    {
     "name": "stderr",
     "output_type": "stream",
     "text": [
      "Warning message:\n",
      "\"package 'glmnet' was built under R version 4.1.3\"\n",
      "Loading required package: Matrix\n",
      "\n",
      "Loaded glmnet 4.1-4\n",
      "\n",
      "Warning message:\n",
      "\"package 'MASS' was built under R version 4.1.3\"\n",
      "Warning message:\n",
      "\"package 'BBmisc' was built under R version 4.1.3\"\n",
      "\n",
      "Attaching package: 'BBmisc'\n",
      "\n",
      "\n",
      "The following object is masked from 'package:base':\n",
      "\n",
      "    isFALSE\n",
      "\n",
      "\n",
      "Warning message:\n",
      "\"package 'fastDummies' was built under R version 4.1.3\"\n",
      "Warning message:\n",
      "\"package 'caret' was built under R version 4.1.3\"\n",
      "Loading required package: ggplot2\n",
      "\n",
      "Loading required package: lattice\n",
      "\n",
      "Warning message:\n",
      "\"package 'pscl' was built under R version 4.1.3\"\n",
      "Classes and Methods for R developed in the\n",
      "Political Science Computational Laboratory\n",
      "Department of Political Science\n",
      "Stanford University\n",
      "Simon Jackman\n",
      "hurdle and zeroinfl functions by Achim Zeileis\n",
      "\n"
     ]
    }
   ],
   "source": [
    "library(glmnet) # logistic regression\n",
    "library(MASS)   # stepAIC\n",
    "library(BBmisc) ## Normalization\n",
    "library(fastDummies) ## \n",
    "library(stringr)\n",
    "library(caret)\n",
    "library(pscl)  # for Mcfaden statistic\n",
    "library(e1071)\n",
    "library (ROCR)"
   ]
  },
  {
   "cell_type": "code",
   "execution_count": 22,
   "id": "5f56b7cd",
   "metadata": {
    "scrolled": false
   },
   "outputs": [
    {
     "data": {
      "text/html": [
       "<style>\n",
       ".list-inline {list-style: none; margin:0; padding: 0}\n",
       ".list-inline>li {display: inline-block}\n",
       ".list-inline>li:not(:last-child)::after {content: \"\\00b7\"; padding: 0 .5ex}\n",
       "</style>\n",
       "<ol class=list-inline><li>1000</li><li>28</li></ol>\n"
      ],
      "text/latex": [
       "\\begin{enumerate*}\n",
       "\\item 1000\n",
       "\\item 28\n",
       "\\end{enumerate*}\n"
      ],
      "text/markdown": [
       "1. 1000\n",
       "2. 28\n",
       "\n",
       "\n"
      ],
      "text/plain": [
       "[1] 1000   28"
      ]
     },
     "metadata": {},
     "output_type": "display_data"
    },
    {
     "name": "stdout",
     "output_type": "stream",
     "text": [
      "'data.frame':\t1000 obs. of  28 variables:\n",
      " $ X                                 : int  1 2 3 4 5 6 7 8 9 10 ...\n",
      " $ months_loan_duration              : num  0.0294 0.6471 0.1176 0.5588 0.2941 ...\n",
      " $ amount                            : num  0.0506 0.3137 0.1016 0.4199 0.2542 ...\n",
      " $ installment_rate                  : num  1 0.333 0.333 0.333 0.667 ...\n",
      " $ age                               : num  0.8571 0.0536 0.5357 0.4643 0.6071 ...\n",
      " $ default                           : int  0 1 0 0 1 0 0 0 0 1 ...\n",
      " $ checking_balance_.0DM             : int  1 0 0 1 1 0 0 0 0 0 ...\n",
      " $ checking_balance__200DM           : int  0 0 0 0 0 0 0 0 0 0 ...\n",
      " $ checking_balance_1.200DM          : int  0 1 0 0 0 0 0 1 0 1 ...\n",
      " $ credit_history_critical           : int  1 0 1 0 0 0 0 0 0 1 ...\n",
      " $ credit_history_fullyrepaid        : int  0 0 0 0 0 0 0 0 0 0 ...\n",
      " $ credit_history_fullyrepaidthisbank: int  0 0 0 0 0 0 0 0 0 0 ...\n",
      " $ purpose_business                  : int  0 0 0 0 0 0 0 0 0 0 ...\n",
      " $ purpose_car.new.                  : int  0 0 0 0 1 0 0 0 0 1 ...\n",
      " $ purpose_education                 : int  0 0 1 0 0 1 0 0 0 0 ...\n",
      " $ purpose_furniture                 : int  0 0 0 1 0 0 1 0 0 0 ...\n",
      " $ purpose_radio.tv                  : int  1 1 0 0 0 0 0 0 1 0 ...\n",
      " $ purpose_repairs                   : int  0 0 0 0 0 0 0 0 0 0 ...\n",
      " $ savings_balance_.100DM            : int  0 1 1 1 1 0 0 1 0 1 ...\n",
      " $ savings_balance_101.500DM         : int  0 0 0 0 0 0 0 0 0 0 ...\n",
      " $ employment_length_4.7yrs          : int  0 0 1 1 0 0 0 0 1 0 ...\n",
      " $ personal_status_divorcedmale      : int  0 0 0 0 0 0 0 0 1 0 ...\n",
      " $ personal_status_female            : int  0 1 0 0 0 0 0 0 0 0 ...\n",
      " $ other_debtors_guarantor           : int  0 0 0 1 0 0 0 0 0 0 ...\n",
      " $ installment_plan_none             : int  1 1 1 1 1 1 1 1 1 1 ...\n",
      " $ housing_own                       : int  1 1 1 0 0 0 1 0 1 1 ...\n",
      " $ telephone_none                    : int  0 1 1 1 1 0 1 0 1 1 ...\n",
      " $ foreign_worker_no                 : int  0 0 0 0 0 0 0 0 0 0 ...\n"
     ]
    },
    {
     "data": {
      "text/plain": [
       "       X          months_loan_duration     amount        installment_rate\n",
       " Min.   :   1.0   Min.   :0.0000       Min.   :0.00000   Min.   :0.0000  \n",
       " 1st Qu.: 250.8   1st Qu.:0.1176       1st Qu.:0.06138   1st Qu.:0.3333  \n",
       " Median : 500.5   Median :0.2059       Median :0.11387   Median :0.6667  \n",
       " Mean   : 500.5   Mean   :0.2486       Mean   :0.16624   Mean   :0.6577  \n",
       " 3rd Qu.: 750.2   3rd Qu.:0.2941       3rd Qu.:0.20481   3rd Qu.:1.0000  \n",
       " Max.   :1000.0   Max.   :1.0000       Max.   :1.00000   Max.   :1.0000  \n",
       "      age            default    checking_balance_.0DM checking_balance__200DM\n",
       " Min.   :0.0000   Min.   :0.0   Min.   :0.000         Min.   :0.000          \n",
       " 1st Qu.:0.1429   1st Qu.:0.0   1st Qu.:0.000         1st Qu.:0.000          \n",
       " Median :0.2500   Median :0.0   Median :0.000         Median :0.000          \n",
       " Mean   :0.2955   Mean   :0.3   Mean   :0.274         Mean   :0.063          \n",
       " 3rd Qu.:0.4107   3rd Qu.:1.0   3rd Qu.:1.000         3rd Qu.:0.000          \n",
       " Max.   :1.0000   Max.   :1.0   Max.   :1.000         Max.   :1.000          \n",
       " checking_balance_1.200DM credit_history_critical credit_history_fullyrepaid\n",
       " Min.   :0.000            Min.   :0.000           Min.   :0.00              \n",
       " 1st Qu.:0.000            1st Qu.:0.000           1st Qu.:0.00              \n",
       " Median :0.000            Median :0.000           Median :0.00              \n",
       " Mean   :0.269            Mean   :0.293           Mean   :0.04              \n",
       " 3rd Qu.:1.000            3rd Qu.:1.000           3rd Qu.:0.00              \n",
       " Max.   :1.000            Max.   :1.000           Max.   :1.00              \n",
       " credit_history_fullyrepaidthisbank purpose_business purpose_car.new.\n",
       " Min.   :0.000                      Min.   :0.000    Min.   :0.000   \n",
       " 1st Qu.:0.000                      1st Qu.:0.000    1st Qu.:0.000   \n",
       " Median :0.000                      Median :0.000    Median :0.000   \n",
       " Mean   :0.049                      Mean   :0.097    Mean   :0.234   \n",
       " 3rd Qu.:0.000                      3rd Qu.:0.000    3rd Qu.:0.000   \n",
       " Max.   :1.000                      Max.   :1.000    Max.   :1.000   \n",
       " purpose_education purpose_furniture purpose_radio.tv purpose_repairs\n",
       " Min.   :0.00      Min.   :0.000     Min.   :0.00     Min.   :0.000  \n",
       " 1st Qu.:0.00      1st Qu.:0.000     1st Qu.:0.00     1st Qu.:0.000  \n",
       " Median :0.00      Median :0.000     Median :0.00     Median :0.000  \n",
       " Mean   :0.05      Mean   :0.181     Mean   :0.28     Mean   :0.022  \n",
       " 3rd Qu.:0.00      3rd Qu.:0.000     3rd Qu.:1.00     3rd Qu.:0.000  \n",
       " Max.   :1.00      Max.   :1.000     Max.   :1.00     Max.   :1.000  \n",
       " savings_balance_.100DM savings_balance_101.500DM employment_length_4.7yrs\n",
       " Min.   :0.000          Min.   :0.000             Min.   :0.000           \n",
       " 1st Qu.:0.000          1st Qu.:0.000             1st Qu.:0.000           \n",
       " Median :1.000          Median :0.000             Median :0.000           \n",
       " Mean   :0.603          Mean   :0.103             Mean   :0.174           \n",
       " 3rd Qu.:1.000          3rd Qu.:0.000             3rd Qu.:0.000           \n",
       " Max.   :1.000          Max.   :1.000             Max.   :1.000           \n",
       " personal_status_divorcedmale personal_status_female other_debtors_guarantor\n",
       " Min.   :0.00                 Min.   :0.00           Min.   :0.000          \n",
       " 1st Qu.:0.00                 1st Qu.:0.00           1st Qu.:0.000          \n",
       " Median :0.00                 Median :0.00           Median :0.000          \n",
       " Mean   :0.05                 Mean   :0.31           Mean   :0.052          \n",
       " 3rd Qu.:0.00                 3rd Qu.:1.00           3rd Qu.:0.000          \n",
       " Max.   :1.00                 Max.   :1.00           Max.   :1.000          \n",
       " installment_plan_none  housing_own    telephone_none  foreign_worker_no\n",
       " Min.   :0.000         Min.   :0.000   Min.   :0.000   Min.   :0.000    \n",
       " 1st Qu.:1.000         1st Qu.:0.000   1st Qu.:0.000   1st Qu.:0.000    \n",
       " Median :1.000         Median :1.000   Median :1.000   Median :0.000    \n",
       " Mean   :0.814         Mean   :0.713   Mean   :0.596   Mean   :0.037    \n",
       " 3rd Qu.:1.000         3rd Qu.:1.000   3rd Qu.:1.000   3rd Qu.:0.000    \n",
       " Max.   :1.000         Max.   :1.000   Max.   :1.000   Max.   :1.000    "
      ]
     },
     "metadata": {},
     "output_type": "display_data"
    },
    {
     "name": "stdout",
     "output_type": "stream",
     "text": [
      "'data.frame':\t1000 obs. of  27 variables:\n",
      " $ months_loan_duration              : num  0.0294 0.6471 0.1176 0.5588 0.2941 ...\n",
      " $ amount                            : num  0.0506 0.3137 0.1016 0.4199 0.2542 ...\n",
      " $ installment_rate                  : num  1 0.333 0.333 0.333 0.667 ...\n",
      " $ age                               : num  0.8571 0.0536 0.5357 0.4643 0.6071 ...\n",
      " $ default                           : int  0 1 0 0 1 0 0 0 0 1 ...\n",
      " $ checking_balance_.0DM             : int  1 0 0 1 1 0 0 0 0 0 ...\n",
      " $ checking_balance__200DM           : int  0 0 0 0 0 0 0 0 0 0 ...\n",
      " $ checking_balance_1.200DM          : int  0 1 0 0 0 0 0 1 0 1 ...\n",
      " $ credit_history_critical           : int  1 0 1 0 0 0 0 0 0 1 ...\n",
      " $ credit_history_fullyrepaid        : int  0 0 0 0 0 0 0 0 0 0 ...\n",
      " $ credit_history_fullyrepaidthisbank: int  0 0 0 0 0 0 0 0 0 0 ...\n",
      " $ purpose_business                  : int  0 0 0 0 0 0 0 0 0 0 ...\n",
      " $ purpose_car.new.                  : int  0 0 0 0 1 0 0 0 0 1 ...\n",
      " $ purpose_education                 : int  0 0 1 0 0 1 0 0 0 0 ...\n",
      " $ purpose_furniture                 : int  0 0 0 1 0 0 1 0 0 0 ...\n",
      " $ purpose_radio.tv                  : int  1 1 0 0 0 0 0 0 1 0 ...\n",
      " $ purpose_repairs                   : int  0 0 0 0 0 0 0 0 0 0 ...\n",
      " $ savings_balance_.100DM            : int  0 1 1 1 1 0 0 1 0 1 ...\n",
      " $ savings_balance_101.500DM         : int  0 0 0 0 0 0 0 0 0 0 ...\n",
      " $ employment_length_4.7yrs          : int  0 0 1 1 0 0 0 0 1 0 ...\n",
      " $ personal_status_divorcedmale      : int  0 0 0 0 0 0 0 0 1 0 ...\n",
      " $ personal_status_female            : int  0 1 0 0 0 0 0 0 0 0 ...\n",
      " $ other_debtors_guarantor           : int  0 0 0 1 0 0 0 0 0 0 ...\n",
      " $ installment_plan_none             : int  1 1 1 1 1 1 1 1 1 1 ...\n",
      " $ housing_own                       : int  1 1 1 0 0 0 1 0 1 1 ...\n",
      " $ telephone_none                    : int  0 1 1 1 1 0 1 0 1 1 ...\n",
      " $ foreign_worker_no                 : int  0 0 0 0 0 0 0 0 0 0 ...\n"
     ]
    }
   ],
   "source": [
    "creditqualityimp_df <- read.csv(\"../datasets/German_Credit.csv\",stringsAsFactors = TRUE)\n",
    "dim(creditqualityimp_df)\n",
    "str(creditqualityimp_df)\n",
    "summary(creditqualityimp_df)\n",
    "creditqualityimp_df <- creditqualityimp_df[,-1]\n",
    "str(creditqualityimp_df)\n"
   ]
  },
  {
   "cell_type": "code",
   "execution_count": 8,
   "id": "8c8101ab",
   "metadata": {},
   "outputs": [
    {
     "data": {
      "text/html": [
       "<style>\n",
       ".list-inline {list-style: none; margin:0; padding: 0}\n",
       ".list-inline>li {display: inline-block}\n",
       ".list-inline>li:not(:last-child)::after {content: \"\\00b7\"; padding: 0 .5ex}\n",
       "</style>\n",
       "<ol class=list-inline><li>0</li><li>1</li><li>0</li><li>0</li><li>1</li><li>0</li></ol>\n"
      ],
      "text/latex": [
       "\\begin{enumerate*}\n",
       "\\item 0\n",
       "\\item 1\n",
       "\\item 0\n",
       "\\item 0\n",
       "\\item 1\n",
       "\\item 0\n",
       "\\end{enumerate*}\n"
      ],
      "text/markdown": [
       "1. 0\n",
       "2. 1\n",
       "3. 0\n",
       "4. 0\n",
       "5. 1\n",
       "6. 0\n",
       "\n",
       "\n"
      ],
      "text/plain": [
       "[1] 0 1 0 0 1 0"
      ]
     },
     "metadata": {},
     "output_type": "display_data"
    }
   ],
   "source": [
    "## Y variable should have values 0 and 1 \n",
    "head(creditqualityimp_df$default)\n",
    "# Caret Library needs Y variable to be a factor\n",
    "creditqualityimp_df$default <- as.factor(creditqualityimp_df$default)"
   ]
  },
  {
   "cell_type": "code",
   "execution_count": 9,
   "id": "db72363d",
   "metadata": {},
   "outputs": [],
   "source": [
    "## Create Data Partition\n",
    "Train <- createDataPartition(creditqualityimp_df$default, p=0.8, list=FALSE)\n",
    "training <- creditqualityimp_df[ Train, ]\n",
    "testing <- creditqualityimp_df[ -Train, ]\n",
    "\n"
   ]
  },
  {
   "cell_type": "code",
   "execution_count": 10,
   "id": "9d0d98be",
   "metadata": {},
   "outputs": [],
   "source": [
    "fitControl <- trainControl(## 10-fold CV\n",
    "     method = \"cv\",\n",
    "     number = 10)"
   ]
  },
  {
   "cell_type": "code",
   "execution_count": 11,
   "id": "a5149bf1",
   "metadata": {},
   "outputs": [
    {
     "data": {
      "text/plain": [
       "\n",
       "Call:\n",
       "NULL\n",
       "\n",
       "Deviance Residuals: \n",
       "    Min       1Q   Median       3Q      Max  \n",
       "-2.0975  -0.7136  -0.3770   0.7374   2.6788  \n",
       "\n",
       "Coefficients:\n",
       "                                   Estimate Std. Error z value Pr(>|z|)    \n",
       "(Intercept)                         -3.7995     0.6044  -6.287 3.25e-10 ***\n",
       "months_loan_duration                 1.3508     0.6561   2.059 0.039516 *  \n",
       "amount                               2.3596     0.8118   2.907 0.003655 ** \n",
       "installment_rate                     0.9374     0.2792   3.358 0.000786 ***\n",
       "age                                 -1.1153     0.5207  -2.142 0.032195 *  \n",
       "checking_balance_.0DM                1.7636     0.2562   6.883 5.85e-12 ***\n",
       "checking_balance__200DM              0.2586     0.4693   0.551 0.581587    \n",
       "checking_balance_1.200DM             1.3104     0.2518   5.204 1.95e-07 ***\n",
       "credit_history_critical             -0.7131     0.2337  -3.051 0.002282 ** \n",
       "credit_history_fullyrepaid           0.9464     0.4236   2.234 0.025453 *  \n",
       "credit_history_fullyrepaidthisbank   0.5824     0.4079   1.428 0.153348    \n",
       "purpose_business                     0.8271     0.4314   1.917 0.055224 .  \n",
       "purpose_car.new.                     1.7281     0.3626   4.766 1.88e-06 ***\n",
       "purpose_education                    1.9970     0.5003   3.991 6.57e-05 ***\n",
       "purpose_furniture                    1.1348     0.3796   2.989 0.002795 ** \n",
       "purpose_radio.tv                     0.8757     0.3773   2.321 0.020292 *  \n",
       "purpose_repairs                      1.2158     0.7844   1.550 0.121130    \n",
       "savings_balance_.100DM               0.7753     0.2370   3.271 0.001070 ** \n",
       "savings_balance_101.500DM            0.5683     0.3565   1.594 0.110937    \n",
       "employment_length_4.7yrs            -0.7810     0.2763  -2.827 0.004695 ** \n",
       "personal_status_divorcedmale         0.9674     0.3884   2.491 0.012748 *  \n",
       "personal_status_female               0.5341     0.2082   2.566 0.010300 *  \n",
       "other_debtors_guarantor             -0.8752     0.4754  -1.841 0.065618 .  \n",
       "installment_plan_none               -0.7594     0.2390  -3.177 0.001486 ** \n",
       "housing_own                         -0.3491     0.2074  -1.684 0.092259 .  \n",
       "telephone_none                       0.1198     0.2052   0.584 0.559262    \n",
       "foreign_worker_no                   -0.7985     0.6642  -1.202 0.229301    \n",
       "---\n",
       "Signif. codes:  0 '***' 0.001 '**' 0.01 '*' 0.05 '.' 0.1 ' ' 1\n",
       "\n",
       "(Dispersion parameter for binomial family taken to be 1)\n",
       "\n",
       "    Null deviance: 977.38  on 799  degrees of freedom\n",
       "Residual deviance: 723.28  on 773  degrees of freedom\n",
       "AIC: 777.28\n",
       "\n",
       "Number of Fisher Scoring iterations: 5\n"
      ]
     },
     "metadata": {},
     "output_type": "display_data"
    }
   ],
   "source": [
    "# Caret CQ model\n",
    "caret_CQ_model <- train(default ~ . ,data=training,method=\"glm\", family=\"binomial\", trControl = fitControl)\n",
    "summary(caret_CQ_model)"
   ]
  },
  {
   "cell_type": "code",
   "execution_count": 12,
   "id": "54674e88",
   "metadata": {},
   "outputs": [
    {
     "data": {
      "text/html": [
       "<table class=\"dataframe\">\n",
       "<caption>A data.frame: 6 × 2</caption>\n",
       "<thead>\n",
       "\t<tr><th></th><th scope=col>0</th><th scope=col>1</th></tr>\n",
       "\t<tr><th></th><th scope=col>&lt;dbl&gt;</th><th scope=col>&lt;dbl&gt;</th></tr>\n",
       "</thead>\n",
       "<tbody>\n",
       "\t<tr><th scope=row>8</th><td>0.7259419</td><td>0.2740581</td></tr>\n",
       "\t<tr><th scope=row>12</th><td>0.1998409</td><td>0.8001591</td></tr>\n",
       "\t<tr><th scope=row>14</th><td>0.6440604</td><td>0.3559396</td></tr>\n",
       "\t<tr><th scope=row>18</th><td>0.2255952</td><td>0.7744048</td></tr>\n",
       "\t<tr><th scope=row>23</th><td>0.8680257</td><td>0.1319743</td></tr>\n",
       "\t<tr><th scope=row>26</th><td>0.6520136</td><td>0.3479864</td></tr>\n",
       "</tbody>\n",
       "</table>\n"
      ],
      "text/latex": [
       "A data.frame: 6 × 2\n",
       "\\begin{tabular}{r|ll}\n",
       "  & 0 & 1\\\\\n",
       "  & <dbl> & <dbl>\\\\\n",
       "\\hline\n",
       "\t8 & 0.7259419 & 0.2740581\\\\\n",
       "\t12 & 0.1998409 & 0.8001591\\\\\n",
       "\t14 & 0.6440604 & 0.3559396\\\\\n",
       "\t18 & 0.2255952 & 0.7744048\\\\\n",
       "\t23 & 0.8680257 & 0.1319743\\\\\n",
       "\t26 & 0.6520136 & 0.3479864\\\\\n",
       "\\end{tabular}\n"
      ],
      "text/markdown": [
       "\n",
       "A data.frame: 6 × 2\n",
       "\n",
       "| <!--/--> | 0 &lt;dbl&gt; | 1 &lt;dbl&gt; |\n",
       "|---|---|---|\n",
       "| 8 | 0.7259419 | 0.2740581 |\n",
       "| 12 | 0.1998409 | 0.8001591 |\n",
       "| 14 | 0.6440604 | 0.3559396 |\n",
       "| 18 | 0.2255952 | 0.7744048 |\n",
       "| 23 | 0.8680257 | 0.1319743 |\n",
       "| 26 | 0.6520136 | 0.3479864 |\n",
       "\n"
      ],
      "text/plain": [
       "   0         1        \n",
       "8  0.7259419 0.2740581\n",
       "12 0.1998409 0.8001591\n",
       "14 0.6440604 0.3559396\n",
       "18 0.2255952 0.7744048\n",
       "23 0.8680257 0.1319743\n",
       "26 0.6520136 0.3479864"
      ]
     },
     "metadata": {},
     "output_type": "display_data"
    }
   ],
   "source": [
    "### Predict the values for test data unexposed to the model\n",
    "cq_test_pred.probs <- predict(caret_CQ_model,newdata=testing,type = \"prob\")\n",
    "head(cq_test_pred.probs)"
   ]
  },
  {
   "cell_type": "code",
   "execution_count": 14,
   "id": "43983c44",
   "metadata": {},
   "outputs": [],
   "source": [
    "## We need to convert the probabilities\n",
    "cq_test_pred.probs.default <- cq_test_pred.probs$`1`\n",
    "cq_test.pred.default <- ifelse(cq_test_pred.probs.default > 0.5, 1,0)"
   ]
  },
  {
   "cell_type": "code",
   "execution_count": 15,
   "id": "e8f058dd",
   "metadata": {},
   "outputs": [
    {
     "data": {
      "text/plain": [
       "\n",
       "  0   1 \n",
       "140  60 "
      ]
     },
     "metadata": {},
     "output_type": "display_data"
    },
    {
     "data": {
      "text/plain": [
       "cq_test.pred.default\n",
       "  0   1 \n",
       "162  38 "
      ]
     },
     "metadata": {},
     "output_type": "display_data"
    }
   ],
   "source": [
    "# Display the Number of Defaulters (1) and Non-defaulters (0)\n",
    "table(testing$default)\n",
    "table(cq_test.pred.default)"
   ]
  },
  {
   "cell_type": "code",
   "execution_count": 16,
   "id": "17359216",
   "metadata": {},
   "outputs": [
    {
     "data": {
      "text/plain": [
       "   cq_test.pred.default\n",
       "      0   1\n",
       "  0 128  12\n",
       "  1  34  26"
      ]
     },
     "metadata": {},
     "output_type": "display_data"
    }
   ],
   "source": [
    "## Get the confusion matrix - predicted vs Actual\n",
    "table(testing$default,cq_test.pred.default)"
   ]
  },
  {
   "cell_type": "code",
   "execution_count": 17,
   "id": "38cfeb6a",
   "metadata": {},
   "outputs": [
    {
     "data": {
      "text/html": [
       "200"
      ],
      "text/latex": [
       "200"
      ],
      "text/markdown": [
       "200"
      ],
      "text/plain": [
       "[1] 200"
      ]
     },
     "metadata": {},
     "output_type": "display_data"
    }
   ],
   "source": [
    "#Accuracy calculations\n",
    "cm = as.matrix(table(testing$default,cq_test.pred.default))\n",
    "#Total number of elements\n",
    "n = sum(cm)\n",
    "n"
   ]
  },
  {
   "cell_type": "code",
   "execution_count": 18,
   "id": "80e94e65",
   "metadata": {},
   "outputs": [
    {
     "data": {
      "text/html": [
       "0.77"
      ],
      "text/latex": [
       "0.77"
      ],
      "text/markdown": [
       "0.77"
      ],
      "text/plain": [
       "[1] 0.77"
      ]
     },
     "metadata": {},
     "output_type": "display_data"
    }
   ],
   "source": [
    "#diagonal elements - correctly classified\n",
    "diag = diag(cm)\n",
    "#Accuracy\n",
    "accuracy = sum(diag) / n\n",
    "#Print accuracy\n",
    "accuracy"
   ]
  },
  {
   "cell_type": "code",
   "execution_count": 23,
   "id": "34a330e2",
   "metadata": {},
   "outputs": [],
   "source": [
    "pred <- ROCR::prediction(cq_test.pred.default, testing$default);"
   ]
  },
  {
   "cell_type": "code",
   "execution_count": 24,
   "id": "d1dcf477",
   "metadata": {},
   "outputs": [
    {
     "data": {
      "image/png": "[encoded data removed]",
      "text/plain": [
       "plot without title"
      ]
     },
     "metadata": {
      "image/png": {
       "height": 420,
       "width": 420
      }
     },
     "output_type": "display_data"
    }
   ],
   "source": [
    "# Recall-Precision curve             \n",
    "RP.perf <- ROCR::performance(pred, \"prec\", \"rec\");\n",
    "plot (RP.perf);"
   ]
  },
  {
   "cell_type": "code",
   "execution_count": 27,
   "id": "88670b09",
   "metadata": {},
   "outputs": [
    {
     "data": {
      "image/png": "[encoded data removed]",
      "text/plain": [
       "plot without title"
      ]
     },
     "metadata": {
      "image/png": {
       "height": 420,
       "width": 420
      }
     },
     "output_type": "display_data"
    }
   ],
   "source": [
    "# ROC curve\n",
    "ROC.perf <- ROCR::performance(pred, \"tpr\", \"fpr\");\n",
    "plot (ROC.perf,col = \"dark red\");\n",
    "abline(a=0.0,b=1,col = \"blue\")"
   ]
  },
  {
   "cell_type": "code",
   "execution_count": 28,
   "id": "dc0f8693",
   "metadata": {},
   "outputs": [
    {
     "data": {
      "text/html": [
       "0.673809523809524"
      ],
      "text/latex": [
       "0.673809523809524"
      ],
      "text/markdown": [
       "0.673809523809524"
      ],
      "text/plain": [
       "[1] 0.6738095"
      ]
     },
     "metadata": {},
     "output_type": "display_data"
    },
    {
     "data": {
      "text/plain": [
       "Confusion Matrix and Statistics\n",
       "\n",
       "          Reference\n",
       "Prediction   0   1\n",
       "         0 128  34\n",
       "         1  12  26\n",
       "                                          \n",
       "               Accuracy : 0.77            \n",
       "                 95% CI : (0.7054, 0.8264)\n",
       "    No Information Rate : 0.7             \n",
       "    P-Value [Acc > NIR] : 0.01687         \n",
       "                                          \n",
       "                  Kappa : 0.3883          \n",
       "                                          \n",
       " Mcnemar's Test P-Value : 0.00196         \n",
       "                                          \n",
       "            Sensitivity : 0.9143          \n",
       "            Specificity : 0.4333          \n",
       "         Pos Pred Value : 0.7901          \n",
       "         Neg Pred Value : 0.6842          \n",
       "              Precision : 0.7901          \n",
       "                 Recall : 0.9143          \n",
       "                     F1 : 0.8477          \n",
       "             Prevalence : 0.7000          \n",
       "         Detection Rate : 0.6400          \n",
       "   Detection Prevalence : 0.8100          \n",
       "      Balanced Accuracy : 0.6738          \n",
       "                                          \n",
       "       'Positive' Class : 0               \n",
       "                                          "
      ]
     },
     "metadata": {},
     "output_type": "display_data"
    }
   ],
   "source": [
    "# ROC area under the curve\n",
    "auc.tmp <- ROCR::performance(pred,\"auc\");\n",
    "auc <- as.numeric(auc.tmp@y.values)\n",
    "auc\n",
    "confusionMatrix(as.factor(cq_test.pred.default), testing$default,mode=\"everything\")"
   ]
  },
  {
   "cell_type": "code",
   "execution_count": null,
   "id": "c0607b22",
   "metadata": {},
   "outputs": [],
   "source": []
  }
 ],
 "metadata": {
  "kernelspec": {
   "display_name": "R",
   "language": "R",
   "name": "ir"
  },
  "language_info": {
   "codemirror_mode": "r",
   "file_extension": ".r",
   "mimetype": "text/x-r-source",
   "name": "R",
   "pygments_lexer": "r",
   "version": "4.1.2"
  }
 },
 "nbformat": 4,
 "nbformat_minor": 5
}
