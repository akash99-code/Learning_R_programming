{
 "cells": [
  {
   "cell_type": "markdown",
   "id": "123a2d6f",
   "metadata": {},
   "source": [
    "# Statistics"
   ]
  },
  {
   "cell_type": "markdown",
   "id": "c7d0b389",
   "metadata": {},
   "source": [
    "### Descriptive statistics"
   ]
  },
  {
   "cell_type": "markdown",
   "id": "11c799bd",
   "metadata": {},
   "source": [
    "\n",
    "**Whale dataset** - the yearly number of whales beached in Texas during the period 1990 to 1999 is 74 122 235 111 292 111 211 133 156 79"
   ]
  },
  {
   "cell_type": "code",
   "execution_count": 1,
   "id": "9037d92d",
   "metadata": {},
   "outputs": [
    {
     "data": {
      "text/html": [
       "<style>\n",
       ".list-inline {list-style: none; margin:0; padding: 0}\n",
       ".list-inline>li {display: inline-block}\n",
       ".list-inline>li:not(:last-child)::after {content: \"\\00b7\"; padding: 0 .5ex}\n",
       "</style>\n",
       "<ol class=list-inline><li>74</li><li>122</li><li>235</li><li>111</li><li>292</li><li>111</li><li>211</li><li>133</li><li>156</li><li>79</li></ol>\n"
      ],
      "text/latex": [
       "\\begin{enumerate*}\n",
       "\\item 74\n",
       "\\item 122\n",
       "\\item 235\n",
       "\\item 111\n",
       "\\item 292\n",
       "\\item 111\n",
       "\\item 211\n",
       "\\item 133\n",
       "\\item 156\n",
       "\\item 79\n",
       "\\end{enumerate*}\n"
      ],
      "text/markdown": [
       "1. 74\n",
       "2. 122\n",
       "3. 235\n",
       "4. 111\n",
       "5. 292\n",
       "6. 111\n",
       "7. 211\n",
       "8. 133\n",
       "9. 156\n",
       "10. 79\n",
       "\n",
       "\n"
      ],
      "text/plain": [
       " [1]  74 122 235 111 292 111 211 133 156  79"
      ]
     },
     "metadata": {},
     "output_type": "display_data"
    }
   ],
   "source": [
    "whaledata = c(74, 122, 235, 111, 292, 111, 211, 133, 156, 79)\n",
    "whaledata"
   ]
  },
  {
   "cell_type": "code",
   "execution_count": 2,
   "id": "bdf9bd31",
   "metadata": {},
   "outputs": [
    {
     "data": {
      "text/html": [
       "152.4"
      ],
      "text/latex": [
       "152.4"
      ],
      "text/markdown": [
       "152.4"
      ],
      "text/plain": [
       "[1] 152.4"
      ]
     },
     "metadata": {},
     "output_type": "display_data"
    }
   ],
   "source": [
    "## mean\n",
    "mean(whaledata)"
   ]
  },
  {
   "cell_type": "code",
   "execution_count": 3,
   "id": "53b19b53",
   "metadata": {},
   "outputs": [
    {
     "data": {
      "text/html": [
       "5113.37777777778"
      ],
      "text/latex": [
       "5113.37777777778"
      ],
      "text/markdown": [
       "5113.37777777778"
      ],
      "text/plain": [
       "[1] 5113.378"
      ]
     },
     "metadata": {},
     "output_type": "display_data"
    }
   ],
   "source": [
    "## variance\n",
    "var(whaledata)"
   ]
  },
  {
   "cell_type": "code",
   "execution_count": 6,
   "id": "25bacb0e",
   "metadata": {},
   "outputs": [
    {
     "data": {
      "text/html": [
       "71.5078861229849"
      ],
      "text/latex": [
       "71.5078861229849"
      ],
      "text/markdown": [
       "71.5078861229849"
      ],
      "text/plain": [
       "[1] 71.50789"
      ]
     },
     "metadata": {},
     "output_type": "display_data"
    },
    {
     "data": {
      "text/html": [
       "71.5078861229849"
      ],
      "text/latex": [
       "71.5078861229849"
      ],
      "text/markdown": [
       "71.5078861229849"
      ],
      "text/plain": [
       "[1] 71.50789"
      ]
     },
     "metadata": {},
     "output_type": "display_data"
    }
   ],
   "source": [
    "## standard deviation\n",
    "sqrt(var(whaledata))\n",
    "sd(whaledata)"
   ]
  },
  {
   "cell_type": "markdown",
   "id": "6716f2a1",
   "metadata": {},
   "source": [
    "### Normal Distributions"
   ]
  },
  {
   "cell_type": "code",
   "execution_count": 17,
   "id": "b4c3310b",
   "metadata": {},
   "outputs": [
    {
     "data": {
      "text/html": [
       "<style>\n",
       ".list-inline {list-style: none; margin:0; padding: 0}\n",
       ".list-inline>li {display: inline-block}\n",
       ".list-inline>li:not(:last-child)::after {content: \"\\00b7\"; padding: 0 .5ex}\n",
       "</style>\n",
       "<ol class=list-inline><li>-0.499949265518474</li><li>-0.528012040084107</li><li>-0.0158350767726993</li><li>0.579063392036984</li><li>0.210936661317897</li><li>1.59778499732465</li><li>1.92460010977489</li><li>-2.15207560391438</li><li>-0.0912146010283662</li><li>1.1410391830029</li><li>-0.854439845223219</li><li>0.0305586792994197</li><li>1.06732976350831</li><li>0.578134674409814</li><li>0.176753596585109</li><li>-0.630707332134892</li><li>-0.806994535090687</li><li>1.48774676248807</li><li>0.791743254231284</li><li>-0.160138888000497</li><li>0.61282384060934</li><li>-0.745170638060977</li><li>-1.33094445037336</li><li>-0.960910106197323</li><li>0.271732142381515</li><li>-0.357117380734008</li><li>1.261624749817</li><li>-0.943547473555515</li><li>-0.423582341976442</li><li>-0.561164816861263</li><li>-1.03123956325543</li><li>0.675492599948877</li><li>0.265231664335381</li><li>1.63677522291601</li><li>0.163021105323888</li><li>-0.43554443717195</li><li>1.08107819192882</li><li>0.477392268506413</li><li>0.137067319968358</li><li>-2.40051889700505</li><li>1.02643977357141</li><li>1.49946046600731</li><li>0.17972799265176</li><li>-0.0269426064282877</li><li>0.28894307434509</li><li>-0.942585479025663</li><li>0.499070656386326</li><li>1.01278903384929</li><li>-0.610859173847691</li><li>1.83802120768565</li><li>-1.14509772241282</li><li>0.778842677808416</li><li>1.8086436960902</li><li>0.273849864301975</li><li>1.94437621660202</li><li>-0.51909270471785</li><li>0.405831971522829</li><li>-0.836949549251828</li><li>-1.12955244687014</li><li>0.117051020428867</li><li>0.275749610435867</li><li>-1.68176528637729</li><li>1.24473597910016</li><li>1.22981085789944</li><li>-0.576370045879777</li><li>0.630793965947286</li><li>-0.53053169889236</li><li>-1.06183739960598</li><li>0.530515412282029</li><li>-1.62705230605953</li><li>-0.336234793228036</li><li>0.3128734009317</li><li>0.198701287008969</li><li>-1.46717385827448</li><li>-1.88155937753148</li><li>-1.17377218558043</li><li>0.88137435030047</li><li>-0.271102824512816</li><li>1.29384848188801</li><li>0.265824857024749</li><li>0.122852282753617</li><li>-1.19040009399629</li><li>-0.378597874915782</li><li>0.639455770951322</li><li>1.12238345304416</li><li>-0.415776044182715</li><li>-1.57013276260569</li><li>0.510562397272841</li><li>0.689198585867852</li><li>0.0129314054225793</li><li>-1.00354024084628</li><li>-1.09193754994084</li><li>0.0135196148629246</li><li>1.04428429191365</li><li>-0.485143735393213</li><li>-2.23926423245065</li><li>0.255490571517335</li><li>0.979976533832993</li><li>0.200459759433167</li><li>-1.3863084617705</li></ol>\n"
      ],
      "text/latex": [
       "\\begin{enumerate*}\n",
       "\\item -0.499949265518474\n",
       "\\item -0.528012040084107\n",
       "\\item -0.0158350767726993\n",
       "\\item 0.579063392036984\n",
       "\\item 0.210936661317897\n",
       "\\item 1.59778499732465\n",
       "\\item 1.92460010977489\n",
       "\\item -2.15207560391438\n",
       "\\item -0.0912146010283662\n",
       "\\item 1.1410391830029\n",
       "\\item -0.854439845223219\n",
       "\\item 0.0305586792994197\n",
       "\\item 1.06732976350831\n",
       "\\item 0.578134674409814\n",
       "\\item 0.176753596585109\n",
       "\\item -0.630707332134892\n",
       "\\item -0.806994535090687\n",
       "\\item 1.48774676248807\n",
       "\\item 0.791743254231284\n",
       "\\item -0.160138888000497\n",
       "\\item 0.61282384060934\n",
       "\\item -0.745170638060977\n",
       "\\item -1.33094445037336\n",
       "\\item -0.960910106197323\n",
       "\\item 0.271732142381515\n",
       "\\item -0.357117380734008\n",
       "\\item 1.261624749817\n",
       "\\item -0.943547473555515\n",
       "\\item -0.423582341976442\n",
       "\\item -0.561164816861263\n",
       "\\item -1.03123956325543\n",
       "\\item 0.675492599948877\n",
       "\\item 0.265231664335381\n",
       "\\item 1.63677522291601\n",
       "\\item 0.163021105323888\n",
       "\\item -0.43554443717195\n",
       "\\item 1.08107819192882\n",
       "\\item 0.477392268506413\n",
       "\\item 0.137067319968358\n",
       "\\item -2.40051889700505\n",
       "\\item 1.02643977357141\n",
       "\\item 1.49946046600731\n",
       "\\item 0.17972799265176\n",
       "\\item -0.0269426064282877\n",
       "\\item 0.28894307434509\n",
       "\\item -0.942585479025663\n",
       "\\item 0.499070656386326\n",
       "\\item 1.01278903384929\n",
       "\\item -0.610859173847691\n",
       "\\item 1.83802120768565\n",
       "\\item -1.14509772241282\n",
       "\\item 0.778842677808416\n",
       "\\item 1.8086436960902\n",
       "\\item 0.273849864301975\n",
       "\\item 1.94437621660202\n",
       "\\item -0.51909270471785\n",
       "\\item 0.405831971522829\n",
       "\\item -0.836949549251828\n",
       "\\item -1.12955244687014\n",
       "\\item 0.117051020428867\n",
       "\\item 0.275749610435867\n",
       "\\item -1.68176528637729\n",
       "\\item 1.24473597910016\n",
       "\\item 1.22981085789944\n",
       "\\item -0.576370045879777\n",
       "\\item 0.630793965947286\n",
       "\\item -0.53053169889236\n",
       "\\item -1.06183739960598\n",
       "\\item 0.530515412282029\n",
       "\\item -1.62705230605953\n",
       "\\item -0.336234793228036\n",
       "\\item 0.3128734009317\n",
       "\\item 0.198701287008969\n",
       "\\item -1.46717385827448\n",
       "\\item -1.88155937753148\n",
       "\\item -1.17377218558043\n",
       "\\item 0.88137435030047\n",
       "\\item -0.271102824512816\n",
       "\\item 1.29384848188801\n",
       "\\item 0.265824857024749\n",
       "\\item 0.122852282753617\n",
       "\\item -1.19040009399629\n",
       "\\item -0.378597874915782\n",
       "\\item 0.639455770951322\n",
       "\\item 1.12238345304416\n",
       "\\item -0.415776044182715\n",
       "\\item -1.57013276260569\n",
       "\\item 0.510562397272841\n",
       "\\item 0.689198585867852\n",
       "\\item 0.0129314054225793\n",
       "\\item -1.00354024084628\n",
       "\\item -1.09193754994084\n",
       "\\item 0.0135196148629246\n",
       "\\item 1.04428429191365\n",
       "\\item -0.485143735393213\n",
       "\\item -2.23926423245065\n",
       "\\item 0.255490571517335\n",
       "\\item 0.979976533832993\n",
       "\\item 0.200459759433167\n",
       "\\item -1.3863084617705\n",
       "\\end{enumerate*}\n"
      ],
      "text/markdown": [
       "1. -0.499949265518474\n",
       "2. -0.528012040084107\n",
       "3. -0.0158350767726993\n",
       "4. 0.579063392036984\n",
       "5. 0.210936661317897\n",
       "6. 1.59778499732465\n",
       "7. 1.92460010977489\n",
       "8. -2.15207560391438\n",
       "9. -0.0912146010283662\n",
       "10. 1.1410391830029\n",
       "11. -0.854439845223219\n",
       "12. 0.0305586792994197\n",
       "13. 1.06732976350831\n",
       "14. 0.578134674409814\n",
       "15. 0.176753596585109\n",
       "16. -0.630707332134892\n",
       "17. -0.806994535090687\n",
       "18. 1.48774676248807\n",
       "19. 0.791743254231284\n",
       "20. -0.160138888000497\n",
       "21. 0.61282384060934\n",
       "22. -0.745170638060977\n",
       "23. -1.33094445037336\n",
       "24. -0.960910106197323\n",
       "25. 0.271732142381515\n",
       "26. -0.357117380734008\n",
       "27. 1.261624749817\n",
       "28. -0.943547473555515\n",
       "29. -0.423582341976442\n",
       "30. -0.561164816861263\n",
       "31. -1.03123956325543\n",
       "32. 0.675492599948877\n",
       "33. 0.265231664335381\n",
       "34. 1.63677522291601\n",
       "35. 0.163021105323888\n",
       "36. -0.43554443717195\n",
       "37. 1.08107819192882\n",
       "38. 0.477392268506413\n",
       "39. 0.137067319968358\n",
       "40. -2.40051889700505\n",
       "41. 1.02643977357141\n",
       "42. 1.49946046600731\n",
       "43. 0.17972799265176\n",
       "44. -0.0269426064282877\n",
       "45. 0.28894307434509\n",
       "46. -0.942585479025663\n",
       "47. 0.499070656386326\n",
       "48. 1.01278903384929\n",
       "49. -0.610859173847691\n",
       "50. 1.83802120768565\n",
       "51. -1.14509772241282\n",
       "52. 0.778842677808416\n",
       "53. 1.8086436960902\n",
       "54. 0.273849864301975\n",
       "55. 1.94437621660202\n",
       "56. -0.51909270471785\n",
       "57. 0.405831971522829\n",
       "58. -0.836949549251828\n",
       "59. -1.12955244687014\n",
       "60. 0.117051020428867\n",
       "61. 0.275749610435867\n",
       "62. -1.68176528637729\n",
       "63. 1.24473597910016\n",
       "64. 1.22981085789944\n",
       "65. -0.576370045879777\n",
       "66. 0.630793965947286\n",
       "67. -0.53053169889236\n",
       "68. -1.06183739960598\n",
       "69. 0.530515412282029\n",
       "70. -1.62705230605953\n",
       "71. -0.336234793228036\n",
       "72. 0.3128734009317\n",
       "73. 0.198701287008969\n",
       "74. -1.46717385827448\n",
       "75. -1.88155937753148\n",
       "76. -1.17377218558043\n",
       "77. 0.88137435030047\n",
       "78. -0.271102824512816\n",
       "79. 1.29384848188801\n",
       "80. 0.265824857024749\n",
       "81. 0.122852282753617\n",
       "82. -1.19040009399629\n",
       "83. -0.378597874915782\n",
       "84. 0.639455770951322\n",
       "85. 1.12238345304416\n",
       "86. -0.415776044182715\n",
       "87. -1.57013276260569\n",
       "88. 0.510562397272841\n",
       "89. 0.689198585867852\n",
       "90. 0.0129314054225793\n",
       "91. -1.00354024084628\n",
       "92. -1.09193754994084\n",
       "93. 0.0135196148629246\n",
       "94. 1.04428429191365\n",
       "95. -0.485143735393213\n",
       "96. -2.23926423245065\n",
       "97. 0.255490571517335\n",
       "98. 0.979976533832993\n",
       "99. 0.200459759433167\n",
       "100. -1.3863084617705\n",
       "\n",
       "\n"
      ],
      "text/plain": [
       "  [1] -0.49994927 -0.52801204 -0.01583508  0.57906339  0.21093666  1.59778500\n",
       "  [7]  1.92460011 -2.15207560 -0.09121460  1.14103918 -0.85443985  0.03055868\n",
       " [13]  1.06732976  0.57813467  0.17675360 -0.63070733 -0.80699454  1.48774676\n",
       " [19]  0.79174325 -0.16013889  0.61282384 -0.74517064 -1.33094445 -0.96091011\n",
       " [25]  0.27173214 -0.35711738  1.26162475 -0.94354747 -0.42358234 -0.56116482\n",
       " [31] -1.03123956  0.67549260  0.26523166  1.63677522  0.16302111 -0.43554444\n",
       " [37]  1.08107819  0.47739227  0.13706732 -2.40051890  1.02643977  1.49946047\n",
       " [43]  0.17972799 -0.02694261  0.28894307 -0.94258548  0.49907066  1.01278903\n",
       " [49] -0.61085917  1.83802121 -1.14509772  0.77884268  1.80864370  0.27384986\n",
       " [55]  1.94437622 -0.51909270  0.40583197 -0.83694955 -1.12955245  0.11705102\n",
       " [61]  0.27574961 -1.68176529  1.24473598  1.22981086 -0.57637005  0.63079397\n",
       " [67] -0.53053170 -1.06183740  0.53051541 -1.62705231 -0.33623479  0.31287340\n",
       " [73]  0.19870129 -1.46717386 -1.88155938 -1.17377219  0.88137435 -0.27110282\n",
       " [79]  1.29384848  0.26582486  0.12285228 -1.19040009 -0.37859787  0.63945577\n",
       " [85]  1.12238345 -0.41577604 -1.57013276  0.51056240  0.68919859  0.01293141\n",
       " [91] -1.00354024 -1.09193755  0.01351961  1.04428429 -0.48514374 -2.23926423\n",
       " [97]  0.25549057  0.97997653  0.20045976 -1.38630846"
      ]
     },
     "metadata": {},
     "output_type": "display_data"
    }
   ],
   "source": [
    "## rnorm - generates random deviates.\n",
    "\n",
    "x=rnorm(100)\n",
    "x"
   ]
  },
  {
   "cell_type": "code",
   "execution_count": 18,
   "id": "df8e4534",
   "metadata": {},
   "outputs": [
    {
     "data": {
      "image/png": "[encoded data removed]",
      "text/plain": [
       "Plot with title \"normal dist with mu=0, sigma=1\""
      ]
     },
     "metadata": {
      "image/png": {
       "height": 420,
       "width": 420
      }
     },
     "output_type": "display_data"
    }
   ],
   "source": [
    "hist(x, probability=TRUE, main='normal dist with mu=0, sigma=1')"
   ]
  },
  {
   "cell_type": "code",
   "execution_count": 19,
   "id": "362a04bd",
   "metadata": {},
   "outputs": [
    {
     "data": {
      "image/png": "[encoded data removed]",
      "text/plain": [
       "Plot with title \"normal dist with mu=100, sigma=16\""
      ]
     },
     "metadata": {
      "image/png": {
       "height": 420,
       "width": 420
      }
     },
     "output_type": "display_data"
    }
   ],
   "source": [
    "xiq = rnorm(100, mean=100, sd=16)\n",
    "hist(xiq, probability=TRUE, main=\"normal dist with mu=100, sigma=16\")"
   ]
  },
  {
   "cell_type": "markdown",
   "id": "4c677aa1",
   "metadata": {},
   "source": [
    "### Standardizing"
   ]
  },
  {
   "cell_type": "code",
   "execution_count": 22,
   "id": "f3c8c59f",
   "metadata": {
    "scrolled": false
   },
   "outputs": [
    {
     "data": {
      "text/html": [
       "<style>\n",
       ".list-inline {list-style: none; margin:0; padding: 0}\n",
       ".list-inline>li {display: inline-block}\n",
       ".list-inline>li:not(:last-child)::after {content: \"\\00b7\"; padding: 0 .5ex}\n",
       "</style>\n",
       "<ol class=list-inline><li>-2.41117277673938</li><li>-2.37302575363539</li><li>-0.138453664154389</li><li>0.274667071685155</li><li>-0.0530183569555254</li><li>0.873488026051019</li><li>-0.913307025432776</li><li>1.06043895979639</li><li>0.313979606000672</li><li>1.42811493119532</li><li>-0.480950928788382</li><li>0.284503279613601</li><li>-0.799092229426079</li><li>-0.350885740403037</li><li>-0.323716158011834</li><li>1.22618842447059</li><li>-0.240910873904629</li><li>0.103916236816307</li><li>-0.235184422167177</li><li>-0.238709777833781</li><li>0.488231715263859</li><li>-0.867677101419586</li><li>-0.573132160617853</li><li>-0.135996649340714</li><li>0.533628793645524</li><li>-0.434063038116788</li><li>-0.451861019675976</li><li>-0.585269377591572</li><li>0.0647502985074606</li><li>0.405434806173496</li><li>0.360715662723393</li><li>-0.299252294931561</li><li>-0.419443172017574</li><li>-0.580336872970734</li><li>-0.760435635450696</li><li>0.267285356768613</li><li>1.27613755436077</li><li>-2.04472345675334</li><li>-1.60213213269311</li><li>0.809519756545381</li><li>0.0761989945171093</li><li>-0.593071432576838</li><li>-1.14762192854679</li><li>-0.358258166508199</li><li>1.42496817426926</li><li>-0.698468183727783</li><li>1.11486027586682</li><li>0.442388814080032</li><li>-0.072443515699784</li><li>-0.339086359775491</li><li>0.723874465661622</li><li>1.0740796464317</li><li>-0.283387547574531</li><li>2.06628018057097</li><li>-0.0521895828358154</li><li>0.53322853521394</li><li>-1.26462126046099</li><li>-0.939796215401286</li><li>0.855521858826751</li><li>-1.02614445048588</li><li>0.62359975333837</li><li>-0.688530388109154</li><li>-2.00004934676401</li><li>0.646044316953489</li><li>1.52031971648521</li><li>-1.20563554159114</li><li>-0.134502708433495</li><li>0.306550216707411</li><li>0.955243756975882</li><li>-0.114308006006863</li><li>-0.66804123200358</li><li>-0.485973143686458</li><li>1.45916916775342</li><li>1.52595420867349</li><li>-0.815496780266494</li><li>-0.300264171986398</li><li>0.0789568650971111</li><li>1.7914927347439</li><li>-0.0162448608678023</li><li>-0.852744998404997</li><li>0.351976069508154</li><li>-0.964085605844025</li><li>-1.73014561769475</li><li>-0.765830103039674</li><li>-0.349637294746493</li><li>-0.531411378309194</li><li>0.14438684434484</li><li>-0.0494983568869918</li><li>-0.042811018714124</li><li>0.168981632061159</li><li>0.0265854397914849</li><li>-1.19286354049063</li><li>-0.414203556509956</li><li>0.267043924672511</li><li>-0.603838978600216</li><li>-1.05021281719157</li><li>0.149280906739589</li><li>0.363228465240954</li><li>0.0744366433852761</li><li>1.27339392233844</li></ol>\n"
      ],
      "text/latex": [
       "\\begin{enumerate*}\n",
       "\\item -2.41117277673938\n",
       "\\item -2.37302575363539\n",
       "\\item -0.138453664154389\n",
       "\\item 0.274667071685155\n",
       "\\item -0.0530183569555254\n",
       "\\item 0.873488026051019\n",
       "\\item -0.913307025432776\n",
       "\\item 1.06043895979639\n",
       "\\item 0.313979606000672\n",
       "\\item 1.42811493119532\n",
       "\\item -0.480950928788382\n",
       "\\item 0.284503279613601\n",
       "\\item -0.799092229426079\n",
       "\\item -0.350885740403037\n",
       "\\item -0.323716158011834\n",
       "\\item 1.22618842447059\n",
       "\\item -0.240910873904629\n",
       "\\item 0.103916236816307\n",
       "\\item -0.235184422167177\n",
       "\\item -0.238709777833781\n",
       "\\item 0.488231715263859\n",
       "\\item -0.867677101419586\n",
       "\\item -0.573132160617853\n",
       "\\item -0.135996649340714\n",
       "\\item 0.533628793645524\n",
       "\\item -0.434063038116788\n",
       "\\item -0.451861019675976\n",
       "\\item -0.585269377591572\n",
       "\\item 0.0647502985074606\n",
       "\\item 0.405434806173496\n",
       "\\item 0.360715662723393\n",
       "\\item -0.299252294931561\n",
       "\\item -0.419443172017574\n",
       "\\item -0.580336872970734\n",
       "\\item -0.760435635450696\n",
       "\\item 0.267285356768613\n",
       "\\item 1.27613755436077\n",
       "\\item -2.04472345675334\n",
       "\\item -1.60213213269311\n",
       "\\item 0.809519756545381\n",
       "\\item 0.0761989945171093\n",
       "\\item -0.593071432576838\n",
       "\\item -1.14762192854679\n",
       "\\item -0.358258166508199\n",
       "\\item 1.42496817426926\n",
       "\\item -0.698468183727783\n",
       "\\item 1.11486027586682\n",
       "\\item 0.442388814080032\n",
       "\\item -0.072443515699784\n",
       "\\item -0.339086359775491\n",
       "\\item 0.723874465661622\n",
       "\\item 1.0740796464317\n",
       "\\item -0.283387547574531\n",
       "\\item 2.06628018057097\n",
       "\\item -0.0521895828358154\n",
       "\\item 0.53322853521394\n",
       "\\item -1.26462126046099\n",
       "\\item -0.939796215401286\n",
       "\\item 0.855521858826751\n",
       "\\item -1.02614445048588\n",
       "\\item 0.62359975333837\n",
       "\\item -0.688530388109154\n",
       "\\item -2.00004934676401\n",
       "\\item 0.646044316953489\n",
       "\\item 1.52031971648521\n",
       "\\item -1.20563554159114\n",
       "\\item -0.134502708433495\n",
       "\\item 0.306550216707411\n",
       "\\item 0.955243756975882\n",
       "\\item -0.114308006006863\n",
       "\\item -0.66804123200358\n",
       "\\item -0.485973143686458\n",
       "\\item 1.45916916775342\n",
       "\\item 1.52595420867349\n",
       "\\item -0.815496780266494\n",
       "\\item -0.300264171986398\n",
       "\\item 0.0789568650971111\n",
       "\\item 1.7914927347439\n",
       "\\item -0.0162448608678023\n",
       "\\item -0.852744998404997\n",
       "\\item 0.351976069508154\n",
       "\\item -0.964085605844025\n",
       "\\item -1.73014561769475\n",
       "\\item -0.765830103039674\n",
       "\\item -0.349637294746493\n",
       "\\item -0.531411378309194\n",
       "\\item 0.14438684434484\n",
       "\\item -0.0494983568869918\n",
       "\\item -0.042811018714124\n",
       "\\item 0.168981632061159\n",
       "\\item 0.0265854397914849\n",
       "\\item -1.19286354049063\n",
       "\\item -0.414203556509956\n",
       "\\item 0.267043924672511\n",
       "\\item -0.603838978600216\n",
       "\\item -1.05021281719157\n",
       "\\item 0.149280906739589\n",
       "\\item 0.363228465240954\n",
       "\\item 0.0744366433852761\n",
       "\\item 1.27339392233844\n",
       "\\end{enumerate*}\n"
      ],
      "text/markdown": [
       "1. -2.41117277673938\n",
       "2. -2.37302575363539\n",
       "3. -0.138453664154389\n",
       "4. 0.274667071685155\n",
       "5. -0.0530183569555254\n",
       "6. 0.873488026051019\n",
       "7. -0.913307025432776\n",
       "8. 1.06043895979639\n",
       "9. 0.313979606000672\n",
       "10. 1.42811493119532\n",
       "11. -0.480950928788382\n",
       "12. 0.284503279613601\n",
       "13. -0.799092229426079\n",
       "14. -0.350885740403037\n",
       "15. -0.323716158011834\n",
       "16. 1.22618842447059\n",
       "17. -0.240910873904629\n",
       "18. 0.103916236816307\n",
       "19. -0.235184422167177\n",
       "20. -0.238709777833781\n",
       "21. 0.488231715263859\n",
       "22. -0.867677101419586\n",
       "23. -0.573132160617853\n",
       "24. -0.135996649340714\n",
       "25. 0.533628793645524\n",
       "26. -0.434063038116788\n",
       "27. -0.451861019675976\n",
       "28. -0.585269377591572\n",
       "29. 0.0647502985074606\n",
       "30. 0.405434806173496\n",
       "31. 0.360715662723393\n",
       "32. -0.299252294931561\n",
       "33. -0.419443172017574\n",
       "34. -0.580336872970734\n",
       "35. -0.760435635450696\n",
       "36. 0.267285356768613\n",
       "37. 1.27613755436077\n",
       "38. -2.04472345675334\n",
       "39. -1.60213213269311\n",
       "40. 0.809519756545381\n",
       "41. 0.0761989945171093\n",
       "42. -0.593071432576838\n",
       "43. -1.14762192854679\n",
       "44. -0.358258166508199\n",
       "45. 1.42496817426926\n",
       "46. -0.698468183727783\n",
       "47. 1.11486027586682\n",
       "48. 0.442388814080032\n",
       "49. -0.072443515699784\n",
       "50. -0.339086359775491\n",
       "51. 0.723874465661622\n",
       "52. 1.0740796464317\n",
       "53. -0.283387547574531\n",
       "54. 2.06628018057097\n",
       "55. -0.0521895828358154\n",
       "56. 0.53322853521394\n",
       "57. -1.26462126046099\n",
       "58. -0.939796215401286\n",
       "59. 0.855521858826751\n",
       "60. -1.02614445048588\n",
       "61. 0.62359975333837\n",
       "62. -0.688530388109154\n",
       "63. -2.00004934676401\n",
       "64. 0.646044316953489\n",
       "65. 1.52031971648521\n",
       "66. -1.20563554159114\n",
       "67. -0.134502708433495\n",
       "68. 0.306550216707411\n",
       "69. 0.955243756975882\n",
       "70. -0.114308006006863\n",
       "71. -0.66804123200358\n",
       "72. -0.485973143686458\n",
       "73. 1.45916916775342\n",
       "74. 1.52595420867349\n",
       "75. -0.815496780266494\n",
       "76. -0.300264171986398\n",
       "77. 0.0789568650971111\n",
       "78. 1.7914927347439\n",
       "79. -0.0162448608678023\n",
       "80. -0.852744998404997\n",
       "81. 0.351976069508154\n",
       "82. -0.964085605844025\n",
       "83. -1.73014561769475\n",
       "84. -0.765830103039674\n",
       "85. -0.349637294746493\n",
       "86. -0.531411378309194\n",
       "87. 0.14438684434484\n",
       "88. -0.0494983568869918\n",
       "89. -0.042811018714124\n",
       "90. 0.168981632061159\n",
       "91. 0.0265854397914849\n",
       "92. -1.19286354049063\n",
       "93. -0.414203556509956\n",
       "94. 0.267043924672511\n",
       "95. -0.603838978600216\n",
       "96. -1.05021281719157\n",
       "97. 0.149280906739589\n",
       "98. 0.363228465240954\n",
       "99. 0.0744366433852761\n",
       "100. 1.27339392233844\n",
       "\n",
       "\n"
      ],
      "text/plain": [
       "  [1] -2.41117278 -2.37302575 -0.13845366  0.27466707 -0.05301836  0.87348803\n",
       "  [7] -0.91330703  1.06043896  0.31397961  1.42811493 -0.48095093  0.28450328\n",
       " [13] -0.79909223 -0.35088574 -0.32371616  1.22618842 -0.24091087  0.10391624\n",
       " [19] -0.23518442 -0.23870978  0.48823172 -0.86767710 -0.57313216 -0.13599665\n",
       " [25]  0.53362879 -0.43406304 -0.45186102 -0.58526938  0.06475030  0.40543481\n",
       " [31]  0.36071566 -0.29925229 -0.41944317 -0.58033687 -0.76043564  0.26728536\n",
       " [37]  1.27613755 -2.04472346 -1.60213213  0.80951976  0.07619899 -0.59307143\n",
       " [43] -1.14762193 -0.35825817  1.42496817 -0.69846818  1.11486028  0.44238881\n",
       " [49] -0.07244352 -0.33908636  0.72387447  1.07407965 -0.28338755  2.06628018\n",
       " [55] -0.05218958  0.53322854 -1.26462126 -0.93979622  0.85552186 -1.02614445\n",
       " [61]  0.62359975 -0.68853039 -2.00004935  0.64604432  1.52031972 -1.20563554\n",
       " [67] -0.13450271  0.30655022  0.95524376 -0.11430801 -0.66804123 -0.48597314\n",
       " [73]  1.45916917  1.52595421 -0.81549678 -0.30026417  0.07895687  1.79149273\n",
       " [79] -0.01624486 -0.85274500  0.35197607 -0.96408561 -1.73014562 -0.76583010\n",
       " [85] -0.34963729 -0.53141138  0.14438684 -0.04949836 -0.04281102  0.16898163\n",
       " [91]  0.02658544 -1.19286354 -0.41420356  0.26704392 -0.60383898 -1.05021282\n",
       " [97]  0.14928091  0.36322847  0.07443664  1.27339392"
      ]
     },
     "metadata": {},
     "output_type": "display_data"
    },
    {
     "data": {
      "image/png": "[encoded data removed]",
      "text/plain": [
       "Plot with title \"Histogram of z\""
      ]
     },
     "metadata": {
      "image/png": {
       "height": 420,
       "width": 420
      }
     },
     "output_type": "display_data"
    }
   ],
   "source": [
    "## z-score\n",
    "z = (xiq-100)/16\n",
    "z\n",
    "hist(z)"
   ]
  },
  {
   "cell_type": "markdown",
   "id": "93293e2d",
   "metadata": {},
   "source": [
    "**pnorm**   \n",
    "-gives the distribution function  \n",
    "-The function pnorm returns the integral from -$\\infty$ to q of the pdf of the normal distribution, where q is a Z-score"
   ]
  },
  {
   "cell_type": "code",
   "execution_count": 44,
   "id": "6cf685dd",
   "metadata": {},
   "outputs": [
    {
     "data": {
      "text/html": [
       "0.211855398583397"
      ],
      "text/latex": [
       "0.211855398583397"
      ],
      "text/markdown": [
       "0.211855398583397"
      ],
      "text/plain": [
       "[1] 0.2118554"
      ]
     },
     "metadata": {},
     "output_type": "display_data"
    },
    {
     "data": {
      "text/html": [
       "0.725746882249926"
      ],
      "text/latex": [
       "0.725746882249926"
      ],
      "text/markdown": [
       "0.725746882249926"
      ],
      "text/plain": [
       "[1] 0.7257469"
      ]
     },
     "metadata": {},
     "output_type": "display_data"
    }
   ],
   "source": [
    "z1 = (420-500)/100\n",
    "z2 = (560-500)/100\n",
    "pnorm(z1)\n",
    "pnorm(z2)"
   ]
  },
  {
   "cell_type": "code",
   "execution_count": 45,
   "id": "e1e389ba",
   "metadata": {},
   "outputs": [
    {
     "data": {
      "text/html": [
       "<style>\n",
       ".list-inline {list-style: none; margin:0; padding: 0}\n",
       ".list-inline>li {display: inline-block}\n",
       ".list-inline>li:not(:last-child)::after {content: \"\\00b7\"; padding: 0 .5ex}\n",
       "</style>\n",
       "<ol class=list-inline><li>0.00795065679116995</li><li>0.00882151685334626</li><li>0.444940943747181</li><li>0.608213984272304</li><li>0.478858640773842</li><li>0.808801435017331</li><li>0.180540544230953</li><li>0.85552752713006</li><li>0.623231735927888</li><li>0.92337060973646</li><li>0.315275687597855</li><li>0.611987639465688</li><li>0.21211846752532</li><li>0.362837034844569</li><li>0.373076468352922</li><li>0.889936111844407</li><li>0.404812097080744</li><li>0.541382089123712</li><li>0.407032798126475</li><li>0.405665317150841</li><li>0.68730713877005</li><li>0.192785562423687</li><li>0.283277606580645</li><li>0.445911964897301</li><li>0.703200808530558</li><li>0.332121332604069</li><li>0.325684553771274</li><li>0.279183300951149</li><li>0.525813592801037</li><li>0.657421034653368</li><li>0.640843992609006</li><li>0.382373775372489</li><li>0.337446139099646</li><li>0.280843733187297</li><li>0.22349711457755</li><li>0.605375269814762</li><li>0.899046550868379</li><li>0.0204410648561167</li><li>0.0545631968779818</li><li>0.790891878256207</li><li>0.530369608687751</li><li>0.276566673944257</li><li>0.125562336601333</li><li>0.360075060709564</li><li>0.922916799491884</li><li>0.242442224225839</li><li>0.867544849092528</li><li>0.670896063952895</li><li>0.471124477612495</li><li>0.367272336851415</li><li>0.765428596256754</li><li>0.858606506983366</li><li>0.388439886457643</li><li>0.980598984140103</li><li>0.479188816657821</li><li>0.703062304585493</li><li>0.103003564016578</li><li>0.173661050244266</li><li>0.803868845723752</li><li>0.152411750335943</li><li>0.733554763672772</li><li>0.245559420377426</li><li>0.0227474678001661</li><li>0.740874672387907</li><li>0.935784679475548</li><li>0.113979024399728</li><li>0.446502534765588</li><li>0.620407124263011</li><li>0.830272778778978</li><li>0.454496818112436</li><li>0.252053636659859</li><li>0.313493103695209</li><li>0.927740723682175</li><li>0.936489365546652</li><li>0.207394003411622</li><li>0.381987829827693</li><li>0.531466533716796</li><li>0.963392870279739</li><li>0.493519523189965</li><li>0.19690036553207</li><li>0.637571895340103</li><li>0.167501504330526</li><li>0.0418021308413354</li><li>0.221888699966546</li><li>0.363305459105754</li><li>0.297566869207135</li><li>0.557402497676637</li><li>0.48026107330536</li><li>0.482926090189977</li><li>0.56709445544208</li><li>0.510604806740379</li><li>0.116461410103959</li><li>0.339362518702258</li><li>0.605282329152446</li><li>0.272975350931668</li><li>0.14681013897039</li><li>0.559334009667164</li><li>0.641782887279335</li><li>0.529668523769729</li><li>0.898560853516968</li></ol>\n"
      ],
      "text/latex": [
       "\\begin{enumerate*}\n",
       "\\item 0.00795065679116995\n",
       "\\item 0.00882151685334626\n",
       "\\item 0.444940943747181\n",
       "\\item 0.608213984272304\n",
       "\\item 0.478858640773842\n",
       "\\item 0.808801435017331\n",
       "\\item 0.180540544230953\n",
       "\\item 0.85552752713006\n",
       "\\item 0.623231735927888\n",
       "\\item 0.92337060973646\n",
       "\\item 0.315275687597855\n",
       "\\item 0.611987639465688\n",
       "\\item 0.21211846752532\n",
       "\\item 0.362837034844569\n",
       "\\item 0.373076468352922\n",
       "\\item 0.889936111844407\n",
       "\\item 0.404812097080744\n",
       "\\item 0.541382089123712\n",
       "\\item 0.407032798126475\n",
       "\\item 0.405665317150841\n",
       "\\item 0.68730713877005\n",
       "\\item 0.192785562423687\n",
       "\\item 0.283277606580645\n",
       "\\item 0.445911964897301\n",
       "\\item 0.703200808530558\n",
       "\\item 0.332121332604069\n",
       "\\item 0.325684553771274\n",
       "\\item 0.279183300951149\n",
       "\\item 0.525813592801037\n",
       "\\item 0.657421034653368\n",
       "\\item 0.640843992609006\n",
       "\\item 0.382373775372489\n",
       "\\item 0.337446139099646\n",
       "\\item 0.280843733187297\n",
       "\\item 0.22349711457755\n",
       "\\item 0.605375269814762\n",
       "\\item 0.899046550868379\n",
       "\\item 0.0204410648561167\n",
       "\\item 0.0545631968779818\n",
       "\\item 0.790891878256207\n",
       "\\item 0.530369608687751\n",
       "\\item 0.276566673944257\n",
       "\\item 0.125562336601333\n",
       "\\item 0.360075060709564\n",
       "\\item 0.922916799491884\n",
       "\\item 0.242442224225839\n",
       "\\item 0.867544849092528\n",
       "\\item 0.670896063952895\n",
       "\\item 0.471124477612495\n",
       "\\item 0.367272336851415\n",
       "\\item 0.765428596256754\n",
       "\\item 0.858606506983366\n",
       "\\item 0.388439886457643\n",
       "\\item 0.980598984140103\n",
       "\\item 0.479188816657821\n",
       "\\item 0.703062304585493\n",
       "\\item 0.103003564016578\n",
       "\\item 0.173661050244266\n",
       "\\item 0.803868845723752\n",
       "\\item 0.152411750335943\n",
       "\\item 0.733554763672772\n",
       "\\item 0.245559420377426\n",
       "\\item 0.0227474678001661\n",
       "\\item 0.740874672387907\n",
       "\\item 0.935784679475548\n",
       "\\item 0.113979024399728\n",
       "\\item 0.446502534765588\n",
       "\\item 0.620407124263011\n",
       "\\item 0.830272778778978\n",
       "\\item 0.454496818112436\n",
       "\\item 0.252053636659859\n",
       "\\item 0.313493103695209\n",
       "\\item 0.927740723682175\n",
       "\\item 0.936489365546652\n",
       "\\item 0.207394003411622\n",
       "\\item 0.381987829827693\n",
       "\\item 0.531466533716796\n",
       "\\item 0.963392870279739\n",
       "\\item 0.493519523189965\n",
       "\\item 0.19690036553207\n",
       "\\item 0.637571895340103\n",
       "\\item 0.167501504330526\n",
       "\\item 0.0418021308413354\n",
       "\\item 0.221888699966546\n",
       "\\item 0.363305459105754\n",
       "\\item 0.297566869207135\n",
       "\\item 0.557402497676637\n",
       "\\item 0.48026107330536\n",
       "\\item 0.482926090189977\n",
       "\\item 0.56709445544208\n",
       "\\item 0.510604806740379\n",
       "\\item 0.116461410103959\n",
       "\\item 0.339362518702258\n",
       "\\item 0.605282329152446\n",
       "\\item 0.272975350931668\n",
       "\\item 0.14681013897039\n",
       "\\item 0.559334009667164\n",
       "\\item 0.641782887279335\n",
       "\\item 0.529668523769729\n",
       "\\item 0.898560853516968\n",
       "\\end{enumerate*}\n"
      ],
      "text/markdown": [
       "1. 0.00795065679116995\n",
       "2. 0.00882151685334626\n",
       "3. 0.444940943747181\n",
       "4. 0.608213984272304\n",
       "5. 0.478858640773842\n",
       "6. 0.808801435017331\n",
       "7. 0.180540544230953\n",
       "8. 0.85552752713006\n",
       "9. 0.623231735927888\n",
       "10. 0.92337060973646\n",
       "11. 0.315275687597855\n",
       "12. 0.611987639465688\n",
       "13. 0.21211846752532\n",
       "14. 0.362837034844569\n",
       "15. 0.373076468352922\n",
       "16. 0.889936111844407\n",
       "17. 0.404812097080744\n",
       "18. 0.541382089123712\n",
       "19. 0.407032798126475\n",
       "20. 0.405665317150841\n",
       "21. 0.68730713877005\n",
       "22. 0.192785562423687\n",
       "23. 0.283277606580645\n",
       "24. 0.445911964897301\n",
       "25. 0.703200808530558\n",
       "26. 0.332121332604069\n",
       "27. 0.325684553771274\n",
       "28. 0.279183300951149\n",
       "29. 0.525813592801037\n",
       "30. 0.657421034653368\n",
       "31. 0.640843992609006\n",
       "32. 0.382373775372489\n",
       "33. 0.337446139099646\n",
       "34. 0.280843733187297\n",
       "35. 0.22349711457755\n",
       "36. 0.605375269814762\n",
       "37. 0.899046550868379\n",
       "38. 0.0204410648561167\n",
       "39. 0.0545631968779818\n",
       "40. 0.790891878256207\n",
       "41. 0.530369608687751\n",
       "42. 0.276566673944257\n",
       "43. 0.125562336601333\n",
       "44. 0.360075060709564\n",
       "45. 0.922916799491884\n",
       "46. 0.242442224225839\n",
       "47. 0.867544849092528\n",
       "48. 0.670896063952895\n",
       "49. 0.471124477612495\n",
       "50. 0.367272336851415\n",
       "51. 0.765428596256754\n",
       "52. 0.858606506983366\n",
       "53. 0.388439886457643\n",
       "54. 0.980598984140103\n",
       "55. 0.479188816657821\n",
       "56. 0.703062304585493\n",
       "57. 0.103003564016578\n",
       "58. 0.173661050244266\n",
       "59. 0.803868845723752\n",
       "60. 0.152411750335943\n",
       "61. 0.733554763672772\n",
       "62. 0.245559420377426\n",
       "63. 0.0227474678001661\n",
       "64. 0.740874672387907\n",
       "65. 0.935784679475548\n",
       "66. 0.113979024399728\n",
       "67. 0.446502534765588\n",
       "68. 0.620407124263011\n",
       "69. 0.830272778778978\n",
       "70. 0.454496818112436\n",
       "71. 0.252053636659859\n",
       "72. 0.313493103695209\n",
       "73. 0.927740723682175\n",
       "74. 0.936489365546652\n",
       "75. 0.207394003411622\n",
       "76. 0.381987829827693\n",
       "77. 0.531466533716796\n",
       "78. 0.963392870279739\n",
       "79. 0.493519523189965\n",
       "80. 0.19690036553207\n",
       "81. 0.637571895340103\n",
       "82. 0.167501504330526\n",
       "83. 0.0418021308413354\n",
       "84. 0.221888699966546\n",
       "85. 0.363305459105754\n",
       "86. 0.297566869207135\n",
       "87. 0.557402497676637\n",
       "88. 0.48026107330536\n",
       "89. 0.482926090189977\n",
       "90. 0.56709445544208\n",
       "91. 0.510604806740379\n",
       "92. 0.116461410103959\n",
       "93. 0.339362518702258\n",
       "94. 0.605282329152446\n",
       "95. 0.272975350931668\n",
       "96. 0.14681013897039\n",
       "97. 0.559334009667164\n",
       "98. 0.641782887279335\n",
       "99. 0.529668523769729\n",
       "100. 0.898560853516968\n",
       "\n",
       "\n"
      ],
      "text/plain": [
       "  [1] 0.007950657 0.008821517 0.444940944 0.608213984 0.478858641 0.808801435\n",
       "  [7] 0.180540544 0.855527527 0.623231736 0.923370610 0.315275688 0.611987639\n",
       " [13] 0.212118468 0.362837035 0.373076468 0.889936112 0.404812097 0.541382089\n",
       " [19] 0.407032798 0.405665317 0.687307139 0.192785562 0.283277607 0.445911965\n",
       " [25] 0.703200809 0.332121333 0.325684554 0.279183301 0.525813593 0.657421035\n",
       " [31] 0.640843993 0.382373775 0.337446139 0.280843733 0.223497115 0.605375270\n",
       " [37] 0.899046551 0.020441065 0.054563197 0.790891878 0.530369609 0.276566674\n",
       " [43] 0.125562337 0.360075061 0.922916799 0.242442224 0.867544849 0.670896064\n",
       " [49] 0.471124478 0.367272337 0.765428596 0.858606507 0.388439886 0.980598984\n",
       " [55] 0.479188817 0.703062305 0.103003564 0.173661050 0.803868846 0.152411750\n",
       " [61] 0.733554764 0.245559420 0.022747468 0.740874672 0.935784679 0.113979024\n",
       " [67] 0.446502535 0.620407124 0.830272779 0.454496818 0.252053637 0.313493104\n",
       " [73] 0.927740724 0.936489366 0.207394003 0.381987830 0.531466534 0.963392870\n",
       " [79] 0.493519523 0.196900366 0.637571895 0.167501504 0.041802131 0.221888700\n",
       " [85] 0.363305459 0.297566869 0.557402498 0.480261073 0.482926090 0.567094455\n",
       " [91] 0.510604807 0.116461410 0.339362519 0.605282329 0.272975351 0.146810139\n",
       " [97] 0.559334010 0.641782887 0.529668524 0.898560854"
      ]
     },
     "metadata": {},
     "output_type": "display_data"
    }
   ],
   "source": [
    "p_zscore <- pnorm(z)\n",
    "p_zscore"
   ]
  },
  {
   "cell_type": "code",
   "execution_count": 46,
   "id": "ca294331",
   "metadata": {
    "scrolled": false
   },
   "outputs": [
    {
     "data": {
      "text/html": [
       "<style>\n",
       ".list-inline {list-style: none; margin:0; padding: 0}\n",
       ".list-inline>li {display: inline-block}\n",
       ".list-inline>li:not(:last-child)::after {content: \"\\00b7\"; padding: 0 .5ex}\n",
       "</style>\n",
       "<ol class=list-inline><li>0.00795065679116995</li><li>0.00882151685334626</li><li>0.444940943747181</li><li>0.608213984272304</li><li>0.478858640773842</li><li>0.808801435017331</li><li>0.180540544230953</li><li>0.85552752713006</li><li>0.623231735927888</li><li>0.92337060973646</li><li>0.315275687597855</li><li>0.611987639465688</li><li>0.21211846752532</li><li>0.362837034844569</li><li>0.373076468352922</li><li>0.889936111844407</li><li>0.404812097080744</li><li>0.541382089123712</li><li>0.407032798126475</li><li>0.405665317150841</li><li>0.68730713877005</li><li>0.192785562423687</li><li>0.283277606580645</li><li>0.445911964897301</li><li>0.703200808530558</li><li>0.332121332604069</li><li>0.325684553771274</li><li>0.279183300951149</li><li>0.525813592801037</li><li>0.657421034653368</li><li>0.640843992609006</li><li>0.382373775372489</li><li>0.337446139099646</li><li>0.280843733187297</li><li>0.22349711457755</li><li>0.605375269814762</li><li>0.899046550868379</li><li>0.0204410648561167</li><li>0.0545631968779818</li><li>0.790891878256207</li><li>0.530369608687751</li><li>0.276566673944257</li><li>0.125562336601333</li><li>0.360075060709564</li><li>0.922916799491884</li><li>0.242442224225839</li><li>0.867544849092528</li><li>0.670896063952895</li><li>0.471124477612495</li><li>0.367272336851415</li><li>0.765428596256754</li><li>0.858606506983366</li><li>0.388439886457643</li><li>0.980598984140103</li><li>0.479188816657821</li><li>0.703062304585493</li><li>0.103003564016578</li><li>0.173661050244266</li><li>0.803868845723752</li><li>0.152411750335943</li><li>0.733554763672772</li><li>0.245559420377426</li><li>0.0227474678001661</li><li>0.740874672387907</li><li>0.935784679475548</li><li>0.113979024399728</li><li>0.446502534765588</li><li>0.620407124263011</li><li>0.830272778778978</li><li>0.454496818112436</li><li>0.252053636659859</li><li>0.313493103695209</li><li>0.927740723682175</li><li>0.936489365546652</li><li>0.207394003411622</li><li>0.381987829827693</li><li>0.531466533716796</li><li>0.963392870279739</li><li>0.493519523189965</li><li>0.19690036553207</li><li>0.637571895340103</li><li>0.167501504330526</li><li>0.0418021308413354</li><li>0.221888699966546</li><li>0.363305459105754</li><li>0.297566869207135</li><li>0.557402497676637</li><li>0.48026107330536</li><li>0.482926090189977</li><li>0.56709445544208</li><li>0.510604806740379</li><li>0.116461410103959</li><li>0.339362518702258</li><li>0.605282329152446</li><li>0.272975350931668</li><li>0.14681013897039</li><li>0.559334009667164</li><li>0.641782887279335</li><li>0.529668523769729</li><li>0.898560853516968</li></ol>\n"
      ],
      "text/latex": [
       "\\begin{enumerate*}\n",
       "\\item 0.00795065679116995\n",
       "\\item 0.00882151685334626\n",
       "\\item 0.444940943747181\n",
       "\\item 0.608213984272304\n",
       "\\item 0.478858640773842\n",
       "\\item 0.808801435017331\n",
       "\\item 0.180540544230953\n",
       "\\item 0.85552752713006\n",
       "\\item 0.623231735927888\n",
       "\\item 0.92337060973646\n",
       "\\item 0.315275687597855\n",
       "\\item 0.611987639465688\n",
       "\\item 0.21211846752532\n",
       "\\item 0.362837034844569\n",
       "\\item 0.373076468352922\n",
       "\\item 0.889936111844407\n",
       "\\item 0.404812097080744\n",
       "\\item 0.541382089123712\n",
       "\\item 0.407032798126475\n",
       "\\item 0.405665317150841\n",
       "\\item 0.68730713877005\n",
       "\\item 0.192785562423687\n",
       "\\item 0.283277606580645\n",
       "\\item 0.445911964897301\n",
       "\\item 0.703200808530558\n",
       "\\item 0.332121332604069\n",
       "\\item 0.325684553771274\n",
       "\\item 0.279183300951149\n",
       "\\item 0.525813592801037\n",
       "\\item 0.657421034653368\n",
       "\\item 0.640843992609006\n",
       "\\item 0.382373775372489\n",
       "\\item 0.337446139099646\n",
       "\\item 0.280843733187297\n",
       "\\item 0.22349711457755\n",
       "\\item 0.605375269814762\n",
       "\\item 0.899046550868379\n",
       "\\item 0.0204410648561167\n",
       "\\item 0.0545631968779818\n",
       "\\item 0.790891878256207\n",
       "\\item 0.530369608687751\n",
       "\\item 0.276566673944257\n",
       "\\item 0.125562336601333\n",
       "\\item 0.360075060709564\n",
       "\\item 0.922916799491884\n",
       "\\item 0.242442224225839\n",
       "\\item 0.867544849092528\n",
       "\\item 0.670896063952895\n",
       "\\item 0.471124477612495\n",
       "\\item 0.367272336851415\n",
       "\\item 0.765428596256754\n",
       "\\item 0.858606506983366\n",
       "\\item 0.388439886457643\n",
       "\\item 0.980598984140103\n",
       "\\item 0.479188816657821\n",
       "\\item 0.703062304585493\n",
       "\\item 0.103003564016578\n",
       "\\item 0.173661050244266\n",
       "\\item 0.803868845723752\n",
       "\\item 0.152411750335943\n",
       "\\item 0.733554763672772\n",
       "\\item 0.245559420377426\n",
       "\\item 0.0227474678001661\n",
       "\\item 0.740874672387907\n",
       "\\item 0.935784679475548\n",
       "\\item 0.113979024399728\n",
       "\\item 0.446502534765588\n",
       "\\item 0.620407124263011\n",
       "\\item 0.830272778778978\n",
       "\\item 0.454496818112436\n",
       "\\item 0.252053636659859\n",
       "\\item 0.313493103695209\n",
       "\\item 0.927740723682175\n",
       "\\item 0.936489365546652\n",
       "\\item 0.207394003411622\n",
       "\\item 0.381987829827693\n",
       "\\item 0.531466533716796\n",
       "\\item 0.963392870279739\n",
       "\\item 0.493519523189965\n",
       "\\item 0.19690036553207\n",
       "\\item 0.637571895340103\n",
       "\\item 0.167501504330526\n",
       "\\item 0.0418021308413354\n",
       "\\item 0.221888699966546\n",
       "\\item 0.363305459105754\n",
       "\\item 0.297566869207135\n",
       "\\item 0.557402497676637\n",
       "\\item 0.48026107330536\n",
       "\\item 0.482926090189977\n",
       "\\item 0.56709445544208\n",
       "\\item 0.510604806740379\n",
       "\\item 0.116461410103959\n",
       "\\item 0.339362518702258\n",
       "\\item 0.605282329152446\n",
       "\\item 0.272975350931668\n",
       "\\item 0.14681013897039\n",
       "\\item 0.559334009667164\n",
       "\\item 0.641782887279335\n",
       "\\item 0.529668523769729\n",
       "\\item 0.898560853516968\n",
       "\\end{enumerate*}\n"
      ],
      "text/markdown": [
       "1. 0.00795065679116995\n",
       "2. 0.00882151685334626\n",
       "3. 0.444940943747181\n",
       "4. 0.608213984272304\n",
       "5. 0.478858640773842\n",
       "6. 0.808801435017331\n",
       "7. 0.180540544230953\n",
       "8. 0.85552752713006\n",
       "9. 0.623231735927888\n",
       "10. 0.92337060973646\n",
       "11. 0.315275687597855\n",
       "12. 0.611987639465688\n",
       "13. 0.21211846752532\n",
       "14. 0.362837034844569\n",
       "15. 0.373076468352922\n",
       "16. 0.889936111844407\n",
       "17. 0.404812097080744\n",
       "18. 0.541382089123712\n",
       "19. 0.407032798126475\n",
       "20. 0.405665317150841\n",
       "21. 0.68730713877005\n",
       "22. 0.192785562423687\n",
       "23. 0.283277606580645\n",
       "24. 0.445911964897301\n",
       "25. 0.703200808530558\n",
       "26. 0.332121332604069\n",
       "27. 0.325684553771274\n",
       "28. 0.279183300951149\n",
       "29. 0.525813592801037\n",
       "30. 0.657421034653368\n",
       "31. 0.640843992609006\n",
       "32. 0.382373775372489\n",
       "33. 0.337446139099646\n",
       "34. 0.280843733187297\n",
       "35. 0.22349711457755\n",
       "36. 0.605375269814762\n",
       "37. 0.899046550868379\n",
       "38. 0.0204410648561167\n",
       "39. 0.0545631968779818\n",
       "40. 0.790891878256207\n",
       "41. 0.530369608687751\n",
       "42. 0.276566673944257\n",
       "43. 0.125562336601333\n",
       "44. 0.360075060709564\n",
       "45. 0.922916799491884\n",
       "46. 0.242442224225839\n",
       "47. 0.867544849092528\n",
       "48. 0.670896063952895\n",
       "49. 0.471124477612495\n",
       "50. 0.367272336851415\n",
       "51. 0.765428596256754\n",
       "52. 0.858606506983366\n",
       "53. 0.388439886457643\n",
       "54. 0.980598984140103\n",
       "55. 0.479188816657821\n",
       "56. 0.703062304585493\n",
       "57. 0.103003564016578\n",
       "58. 0.173661050244266\n",
       "59. 0.803868845723752\n",
       "60. 0.152411750335943\n",
       "61. 0.733554763672772\n",
       "62. 0.245559420377426\n",
       "63. 0.0227474678001661\n",
       "64. 0.740874672387907\n",
       "65. 0.935784679475548\n",
       "66. 0.113979024399728\n",
       "67. 0.446502534765588\n",
       "68. 0.620407124263011\n",
       "69. 0.830272778778978\n",
       "70. 0.454496818112436\n",
       "71. 0.252053636659859\n",
       "72. 0.313493103695209\n",
       "73. 0.927740723682175\n",
       "74. 0.936489365546652\n",
       "75. 0.207394003411622\n",
       "76. 0.381987829827693\n",
       "77. 0.531466533716796\n",
       "78. 0.963392870279739\n",
       "79. 0.493519523189965\n",
       "80. 0.19690036553207\n",
       "81. 0.637571895340103\n",
       "82. 0.167501504330526\n",
       "83. 0.0418021308413354\n",
       "84. 0.221888699966546\n",
       "85. 0.363305459105754\n",
       "86. 0.297566869207135\n",
       "87. 0.557402497676637\n",
       "88. 0.48026107330536\n",
       "89. 0.482926090189977\n",
       "90. 0.56709445544208\n",
       "91. 0.510604806740379\n",
       "92. 0.116461410103959\n",
       "93. 0.339362518702258\n",
       "94. 0.605282329152446\n",
       "95. 0.272975350931668\n",
       "96. 0.14681013897039\n",
       "97. 0.559334009667164\n",
       "98. 0.641782887279335\n",
       "99. 0.529668523769729\n",
       "100. 0.898560853516968\n",
       "\n",
       "\n"
      ],
      "text/plain": [
       "  [1] 0.007950657 0.008821517 0.444940944 0.608213984 0.478858641 0.808801435\n",
       "  [7] 0.180540544 0.855527527 0.623231736 0.923370610 0.315275688 0.611987639\n",
       " [13] 0.212118468 0.362837035 0.373076468 0.889936112 0.404812097 0.541382089\n",
       " [19] 0.407032798 0.405665317 0.687307139 0.192785562 0.283277607 0.445911965\n",
       " [25] 0.703200809 0.332121333 0.325684554 0.279183301 0.525813593 0.657421035\n",
       " [31] 0.640843993 0.382373775 0.337446139 0.280843733 0.223497115 0.605375270\n",
       " [37] 0.899046551 0.020441065 0.054563197 0.790891878 0.530369609 0.276566674\n",
       " [43] 0.125562337 0.360075061 0.922916799 0.242442224 0.867544849 0.670896064\n",
       " [49] 0.471124478 0.367272337 0.765428596 0.858606507 0.388439886 0.980598984\n",
       " [55] 0.479188817 0.703062305 0.103003564 0.173661050 0.803868846 0.152411750\n",
       " [61] 0.733554764 0.245559420 0.022747468 0.740874672 0.935784679 0.113979024\n",
       " [67] 0.446502535 0.620407124 0.830272779 0.454496818 0.252053637 0.313493104\n",
       " [73] 0.927740724 0.936489366 0.207394003 0.381987830 0.531466534 0.963392870\n",
       " [79] 0.493519523 0.196900366 0.637571895 0.167501504 0.041802131 0.221888700\n",
       " [85] 0.363305459 0.297566869 0.557402498 0.480261073 0.482926090 0.567094455\n",
       " [91] 0.510604807 0.116461410 0.339362519 0.605282329 0.272975351 0.146810139\n",
       " [97] 0.559334010 0.641782887 0.529668524 0.898560854"
      ]
     },
     "metadata": {},
     "output_type": "display_data"
    }
   ],
   "source": [
    "## Cumulative Probability Distribution function\n",
    "p_xiq <- pnorm(xiq,100,16)\n",
    "p_xiq"
   ]
  },
  {
   "cell_type": "code",
   "execution_count": 49,
   "id": "9bbc3a13",
   "metadata": {},
   "outputs": [
    {
     "data": {
      "image/png": "[encoded data removed]",
      "text/plain": [
       "plot without title"
      ]
     },
     "metadata": {
      "image/png": {
       "height": 420,
       "width": 420
      }
     },
     "output_type": "display_data"
    }
   ],
   "source": [
    "require(ggplot2)\n",
    "df_data <-  data.frame(xiq,p_xiq)\n",
    "ggplot(df_data, aes(x=xiq,y=p_xiq)) +\n",
    "    geom_point(colour = \"blue\") +\n",
    "    geom_line(colour = \"blue\")"
   ]
  },
  {
   "cell_type": "markdown",
   "id": "b395a8cf",
   "metadata": {},
   "source": [
    "**dnorm**  \n",
    "-gives the density of the quantiles"
   ]
  },
  {
   "cell_type": "code",
   "execution_count": 52,
   "id": "cf6ee7c4",
   "metadata": {
    "scrolled": false
   },
   "outputs": [
    {
     "data": {
      "text/html": [
       "0.51389148366653"
      ],
      "text/latex": [
       "0.51389148366653"
      ],
      "text/markdown": [
       "0.51389148366653"
      ],
      "text/plain": [
       "[1] 0.5138915"
      ]
     },
     "metadata": {},
     "output_type": "display_data"
    },
    {
     "data": {
      "text/html": [
       "0.324506101776588"
      ],
      "text/latex": [
       "0.324506101776588"
      ],
      "text/markdown": [
       "0.324506101776588"
      ],
      "text/plain": [
       "[1] 0.3245061"
      ]
     },
     "metadata": {},
     "output_type": "display_data"
    },
    {
     "data": {
      "text/html": [
       "<style>\n",
       ".list-inline {list-style: none; margin:0; padding: 0}\n",
       ".list-inline>li {display: inline-block}\n",
       ".list-inline>li:not(:last-child)::after {content: \"\\00b7\"; padding: 0 .5ex}\n",
       "</style>\n",
       "<ol class=list-inline><li>0.00136254046186112</li><li>0.00149272365824686</li><li>0.0246960500780794</li><li>0.0240108790983162</li><li>0.0248988732252944</li><li>0.0170259279844044</li><li>0.0164308910252957</li><li>0.014210237134219</li><li>0.0237346599995627</li><li>0.00899322840939705</li><li>0.0222106327203883</li><li>0.0239449385018401</li><li>0.0181188680310909</li><li>0.0234452431162286</li><li>0.0236610905029006</li><li>0.011757119798553</li><li>0.0242207329283918</li><li>0.0247996299428579</li><li>0.0242537723794131</li><li>0.0242335211096693</li><li>0.0221324071131881</li><li>0.0171122785102247</li><li>0.0211573589689825</li><li>0.0247043781069854</li><li>0.0216249594751329</li><li>0.0226922319938412</li><li>0.0225140336596656</li><li>0.0210091467278512</li><li>0.0248816783392026</li><li>0.0229665620114272</li><li>0.0233633867659586</li><li>0.0238420792564465</li><li>0.0228342530707949</li><li>0.0210696281737609</li><li>0.0186733401405522</li><li>0.0240589553860714</li><li>0.0110448526368332</li><li>0.00308262348798649</li><li>0.00690892696346186</li><li>0.0179675419552139</li><li>0.0248616108328257</li><li>0.0209127947670141</li><li>0.0129062279036885</li><li>0.0233840359831826</li><li>0.00903368957419354</li><li>0.0195367854475671</li><li>0.0133935239950328</li><li>0.0226095886336995</li><li>0.0248685509727361</li><li>0.0235408743392152</li><li>0.0191869604008218</li><li>0.0140048609504538</li><li>0.0239525256276231</li><li>0.00294901474914882</li><li>0.0248999587603736</li><li>0.0216295770984734</li><li>0.0112076273211202</li><li>0.0160325264256783</li><li>0.0172924363045751</li><li>0.0147278727944513</li><li>0.0205279977312982</li><li>0.0196718951671865</li><li>0.00337410238446434</li><li>0.0202375824639326</li><li>0.00785022350505749</li><li>0.0120546381424273</li><li>0.0247093702551223</li><li>0.0237894333656118</li><li>0.0157995697068275</li><li>0.0247715263723905</li><li>0.0199471939580076</li><li>0.022156769605894</li><li>0.00859895507935254</li><li>0.00778314034491491</li><li>0.0178804962569856</li><li>0.0238348486098935</li><li>0.0248562922628901</li><li>0.00501034569752158</li><li>0.0249306027710572</li><li>0.0173334993436429</li><li>0.0234362611980645</li><li>0.0156660742083699</li><li>0.00558188255154235</li><li>0.0185966256980222</li><li>0.0234554975519337</li><li>0.0216505097030938</li><li>0.0246753370087189</li><li>0.024903366119859</li><li>0.0249110537801026</li><li>0.0245804307292598</li><li>0.0249250826236537</li><li>0.0122406981079595</li><li>0.0228841774436508</li><li>0.0240605072897298</li><li>0.0207784681928502</li><li>0.0143644232627133</li><li>0.0246576113321476</li><li>0.0233421459245301</li><li>0.0248649110936544</li><li>0.011083549508983</li></ol>\n"
      ],
      "text/latex": [
       "\\begin{enumerate*}\n",
       "\\item 0.00136254046186112\n",
       "\\item 0.00149272365824686\n",
       "\\item 0.0246960500780794\n",
       "\\item 0.0240108790983162\n",
       "\\item 0.0248988732252944\n",
       "\\item 0.0170259279844044\n",
       "\\item 0.0164308910252957\n",
       "\\item 0.014210237134219\n",
       "\\item 0.0237346599995627\n",
       "\\item 0.00899322840939705\n",
       "\\item 0.0222106327203883\n",
       "\\item 0.0239449385018401\n",
       "\\item 0.0181188680310909\n",
       "\\item 0.0234452431162286\n",
       "\\item 0.0236610905029006\n",
       "\\item 0.011757119798553\n",
       "\\item 0.0242207329283918\n",
       "\\item 0.0247996299428579\n",
       "\\item 0.0242537723794131\n",
       "\\item 0.0242335211096693\n",
       "\\item 0.0221324071131881\n",
       "\\item 0.0171122785102247\n",
       "\\item 0.0211573589689825\n",
       "\\item 0.0247043781069854\n",
       "\\item 0.0216249594751329\n",
       "\\item 0.0226922319938412\n",
       "\\item 0.0225140336596656\n",
       "\\item 0.0210091467278512\n",
       "\\item 0.0248816783392026\n",
       "\\item 0.0229665620114272\n",
       "\\item 0.0233633867659586\n",
       "\\item 0.0238420792564465\n",
       "\\item 0.0228342530707949\n",
       "\\item 0.0210696281737609\n",
       "\\item 0.0186733401405522\n",
       "\\item 0.0240589553860714\n",
       "\\item 0.0110448526368332\n",
       "\\item 0.00308262348798649\n",
       "\\item 0.00690892696346186\n",
       "\\item 0.0179675419552139\n",
       "\\item 0.0248616108328257\n",
       "\\item 0.0209127947670141\n",
       "\\item 0.0129062279036885\n",
       "\\item 0.0233840359831826\n",
       "\\item 0.00903368957419354\n",
       "\\item 0.0195367854475671\n",
       "\\item 0.0133935239950328\n",
       "\\item 0.0226095886336995\n",
       "\\item 0.0248685509727361\n",
       "\\item 0.0235408743392152\n",
       "\\item 0.0191869604008218\n",
       "\\item 0.0140048609504538\n",
       "\\item 0.0239525256276231\n",
       "\\item 0.00294901474914882\n",
       "\\item 0.0248999587603736\n",
       "\\item 0.0216295770984734\n",
       "\\item 0.0112076273211202\n",
       "\\item 0.0160325264256783\n",
       "\\item 0.0172924363045751\n",
       "\\item 0.0147278727944513\n",
       "\\item 0.0205279977312982\n",
       "\\item 0.0196718951671865\n",
       "\\item 0.00337410238446434\n",
       "\\item 0.0202375824639326\n",
       "\\item 0.00785022350505749\n",
       "\\item 0.0120546381424273\n",
       "\\item 0.0247093702551223\n",
       "\\item 0.0237894333656118\n",
       "\\item 0.0157995697068275\n",
       "\\item 0.0247715263723905\n",
       "\\item 0.0199471939580076\n",
       "\\item 0.022156769605894\n",
       "\\item 0.00859895507935254\n",
       "\\item 0.00778314034491491\n",
       "\\item 0.0178804962569856\n",
       "\\item 0.0238348486098935\n",
       "\\item 0.0248562922628901\n",
       "\\item 0.00501034569752158\n",
       "\\item 0.0249306027710572\n",
       "\\item 0.0173334993436429\n",
       "\\item 0.0234362611980645\n",
       "\\item 0.0156660742083699\n",
       "\\item 0.00558188255154235\n",
       "\\item 0.0185966256980222\n",
       "\\item 0.0234554975519337\n",
       "\\item 0.0216505097030938\n",
       "\\item 0.0246753370087189\n",
       "\\item 0.024903366119859\n",
       "\\item 0.0249110537801026\n",
       "\\item 0.0245804307292598\n",
       "\\item 0.0249250826236537\n",
       "\\item 0.0122406981079595\n",
       "\\item 0.0228841774436508\n",
       "\\item 0.0240605072897298\n",
       "\\item 0.0207784681928502\n",
       "\\item 0.0143644232627133\n",
       "\\item 0.0246576113321476\n",
       "\\item 0.0233421459245301\n",
       "\\item 0.0248649110936544\n",
       "\\item 0.011083549508983\n",
       "\\end{enumerate*}\n"
      ],
      "text/markdown": [
       "1. 0.00136254046186112\n",
       "2. 0.00149272365824686\n",
       "3. 0.0246960500780794\n",
       "4. 0.0240108790983162\n",
       "5. 0.0248988732252944\n",
       "6. 0.0170259279844044\n",
       "7. 0.0164308910252957\n",
       "8. 0.014210237134219\n",
       "9. 0.0237346599995627\n",
       "10. 0.00899322840939705\n",
       "11. 0.0222106327203883\n",
       "12. 0.0239449385018401\n",
       "13. 0.0181188680310909\n",
       "14. 0.0234452431162286\n",
       "15. 0.0236610905029006\n",
       "16. 0.011757119798553\n",
       "17. 0.0242207329283918\n",
       "18. 0.0247996299428579\n",
       "19. 0.0242537723794131\n",
       "20. 0.0242335211096693\n",
       "21. 0.0221324071131881\n",
       "22. 0.0171122785102247\n",
       "23. 0.0211573589689825\n",
       "24. 0.0247043781069854\n",
       "25. 0.0216249594751329\n",
       "26. 0.0226922319938412\n",
       "27. 0.0225140336596656\n",
       "28. 0.0210091467278512\n",
       "29. 0.0248816783392026\n",
       "30. 0.0229665620114272\n",
       "31. 0.0233633867659586\n",
       "32. 0.0238420792564465\n",
       "33. 0.0228342530707949\n",
       "34. 0.0210696281737609\n",
       "35. 0.0186733401405522\n",
       "36. 0.0240589553860714\n",
       "37. 0.0110448526368332\n",
       "38. 0.00308262348798649\n",
       "39. 0.00690892696346186\n",
       "40. 0.0179675419552139\n",
       "41. 0.0248616108328257\n",
       "42. 0.0209127947670141\n",
       "43. 0.0129062279036885\n",
       "44. 0.0233840359831826\n",
       "45. 0.00903368957419354\n",
       "46. 0.0195367854475671\n",
       "47. 0.0133935239950328\n",
       "48. 0.0226095886336995\n",
       "49. 0.0248685509727361\n",
       "50. 0.0235408743392152\n",
       "51. 0.0191869604008218\n",
       "52. 0.0140048609504538\n",
       "53. 0.0239525256276231\n",
       "54. 0.00294901474914882\n",
       "55. 0.0248999587603736\n",
       "56. 0.0216295770984734\n",
       "57. 0.0112076273211202\n",
       "58. 0.0160325264256783\n",
       "59. 0.0172924363045751\n",
       "60. 0.0147278727944513\n",
       "61. 0.0205279977312982\n",
       "62. 0.0196718951671865\n",
       "63. 0.00337410238446434\n",
       "64. 0.0202375824639326\n",
       "65. 0.00785022350505749\n",
       "66. 0.0120546381424273\n",
       "67. 0.0247093702551223\n",
       "68. 0.0237894333656118\n",
       "69. 0.0157995697068275\n",
       "70. 0.0247715263723905\n",
       "71. 0.0199471939580076\n",
       "72. 0.022156769605894\n",
       "73. 0.00859895507935254\n",
       "74. 0.00778314034491491\n",
       "75. 0.0178804962569856\n",
       "76. 0.0238348486098935\n",
       "77. 0.0248562922628901\n",
       "78. 0.00501034569752158\n",
       "79. 0.0249306027710572\n",
       "80. 0.0173334993436429\n",
       "81. 0.0234362611980645\n",
       "82. 0.0156660742083699\n",
       "83. 0.00558188255154235\n",
       "84. 0.0185966256980222\n",
       "85. 0.0234554975519337\n",
       "86. 0.0216505097030938\n",
       "87. 0.0246753370087189\n",
       "88. 0.024903366119859\n",
       "89. 0.0249110537801026\n",
       "90. 0.0245804307292598\n",
       "91. 0.0249250826236537\n",
       "92. 0.0122406981079595\n",
       "93. 0.0228841774436508\n",
       "94. 0.0240605072897298\n",
       "95. 0.0207784681928502\n",
       "96. 0.0143644232627133\n",
       "97. 0.0246576113321476\n",
       "98. 0.0233421459245301\n",
       "99. 0.0248649110936544\n",
       "100. 0.011083549508983\n",
       "\n",
       "\n"
      ],
      "text/plain": [
       "  [1] 0.001362540 0.001492724 0.024696050 0.024010879 0.024898873 0.017025928\n",
       "  [7] 0.016430891 0.014210237 0.023734660 0.008993228 0.022210633 0.023944939\n",
       " [13] 0.018118868 0.023445243 0.023661091 0.011757120 0.024220733 0.024799630\n",
       " [19] 0.024253772 0.024233521 0.022132407 0.017112279 0.021157359 0.024704378\n",
       " [25] 0.021624959 0.022692232 0.022514034 0.021009147 0.024881678 0.022966562\n",
       " [31] 0.023363387 0.023842079 0.022834253 0.021069628 0.018673340 0.024058955\n",
       " [37] 0.011044853 0.003082623 0.006908927 0.017967542 0.024861611 0.020912795\n",
       " [43] 0.012906228 0.023384036 0.009033690 0.019536785 0.013393524 0.022609589\n",
       " [49] 0.024868551 0.023540874 0.019186960 0.014004861 0.023952526 0.002949015\n",
       " [55] 0.024899959 0.021629577 0.011207627 0.016032526 0.017292436 0.014727873\n",
       " [61] 0.020527998 0.019671895 0.003374102 0.020237582 0.007850224 0.012054638\n",
       " [67] 0.024709370 0.023789433 0.015799570 0.024771526 0.019947194 0.022156770\n",
       " [73] 0.008598955 0.007783140 0.017880496 0.023834849 0.024856292 0.005010346\n",
       " [79] 0.024930603 0.017333499 0.023436261 0.015666074 0.005581883 0.018596626\n",
       " [85] 0.023455498 0.021650510 0.024675337 0.024903366 0.024911054 0.024580431\n",
       " [91] 0.024925083 0.012240698 0.022884177 0.024060507 0.020778468 0.014364423\n",
       " [97] 0.024657611 0.023342146 0.024864911 0.011083550"
      ]
     },
     "metadata": {},
     "output_type": "display_data"
    }
   ],
   "source": [
    "## Probabilty Density Function\n",
    "\n",
    "pnorm(z2)-pnorm(z1)  \n",
    "pnorm(z2+0.5)-pnorm(z2-.5) # dnorm\n",
    "\n",
    "d_xiq <- dnorm(xiq,100,16)\n",
    "d_xiq"
   ]
  },
  {
   "cell_type": "code",
   "execution_count": 42,
   "id": "b541edaa",
   "metadata": {
    "scrolled": false
   },
   "outputs": [
    {
     "name": "stderr",
     "output_type": "stream",
     "text": [
      "Loading required package: ggplot2\n",
      "\n"
     ]
    },
    {
     "data": {
      "image/png": "[encoded data removed]",
      "text/plain": [
       "plot without title"
      ]
     },
     "metadata": {
      "image/png": {
       "height": 420,
       "width": 420
      }
     },
     "output_type": "display_data"
    }
   ],
   "source": [
    "require(ggplot2)\n",
    "df_data <-  data.frame(xiq,d_xiq)\n",
    "ggplot(df_data, aes(x=xiq,y=d_xdiq)) +\n",
    "    geom_point(colour = \"blue\") +\n",
    "    geom_line(colour = \"blue\")"
   ]
  },
  {
   "cell_type": "markdown",
   "id": "a156ff2c",
   "metadata": {},
   "source": [
    "**qnorm**   \n",
    "-the quantile function    \n",
    "-derives quantiles from the cummulative probabilities"
   ]
  },
  {
   "cell_type": "code",
   "execution_count": 65,
   "id": "5aee5a94",
   "metadata": {},
   "outputs": [
    {
     "data": {
      "text/html": [
       "<style>\n",
       ".list-inline {list-style: none; margin:0; padding: 0}\n",
       ".list-inline>li {display: inline-block}\n",
       ".list-inline>li:not(:last-child)::after {content: \"\\00b7\"; padding: 0 .5ex}\n",
       "</style>\n",
       "<ol class=list-inline><li>FALSE</li><li>TRUE</li><li>TRUE</li><li>TRUE</li><li>TRUE</li><li>TRUE</li><li>TRUE</li><li>TRUE</li><li>TRUE</li><li>TRUE</li><li>TRUE</li><li>TRUE</li><li>TRUE</li><li>TRUE</li><li>TRUE</li><li>TRUE</li><li>TRUE</li><li>TRUE</li><li>TRUE</li><li>TRUE</li><li>TRUE</li><li>TRUE</li><li>TRUE</li><li>TRUE</li><li>TRUE</li><li>TRUE</li><li>TRUE</li><li>TRUE</li><li>TRUE</li><li>TRUE</li><li>TRUE</li><li>TRUE</li><li>TRUE</li><li>TRUE</li><li>TRUE</li><li>TRUE</li><li>TRUE</li><li>FALSE</li><li>TRUE</li><li>TRUE</li><li>TRUE</li><li>TRUE</li><li>TRUE</li><li>TRUE</li><li>TRUE</li><li>TRUE</li><li>TRUE</li><li>TRUE</li><li>TRUE</li><li>TRUE</li><li>TRUE</li><li>TRUE</li><li>TRUE</li><li>TRUE</li><li>TRUE</li><li>TRUE</li><li>TRUE</li><li>TRUE</li><li>TRUE</li><li>TRUE</li><li>TRUE</li><li>TRUE</li><li>TRUE</li><li>TRUE</li><li>FALSE</li><li>TRUE</li><li>TRUE</li><li>TRUE</li><li>TRUE</li><li>TRUE</li><li>TRUE</li><li>TRUE</li><li>TRUE</li><li>TRUE</li><li>TRUE</li><li>TRUE</li><li>TRUE</li><li>TRUE</li><li>TRUE</li><li>TRUE</li><li>TRUE</li><li>TRUE</li><li>TRUE</li><li>TRUE</li><li>TRUE</li><li>TRUE</li><li>TRUE</li><li>TRUE</li><li>TRUE</li><li>TRUE</li><li>TRUE</li><li>TRUE</li><li>TRUE</li><li>TRUE</li><li>TRUE</li><li>TRUE</li><li>TRUE</li><li>TRUE</li><li>TRUE</li><li>TRUE</li></ol>\n"
      ],
      "text/latex": [
       "\\begin{enumerate*}\n",
       "\\item FALSE\n",
       "\\item TRUE\n",
       "\\item TRUE\n",
       "\\item TRUE\n",
       "\\item TRUE\n",
       "\\item TRUE\n",
       "\\item TRUE\n",
       "\\item TRUE\n",
       "\\item TRUE\n",
       "\\item TRUE\n",
       "\\item TRUE\n",
       "\\item TRUE\n",
       "\\item TRUE\n",
       "\\item TRUE\n",
       "\\item TRUE\n",
       "\\item TRUE\n",
       "\\item TRUE\n",
       "\\item TRUE\n",
       "\\item TRUE\n",
       "\\item TRUE\n",
       "\\item TRUE\n",
       "\\item TRUE\n",
       "\\item TRUE\n",
       "\\item TRUE\n",
       "\\item TRUE\n",
       "\\item TRUE\n",
       "\\item TRUE\n",
       "\\item TRUE\n",
       "\\item TRUE\n",
       "\\item TRUE\n",
       "\\item TRUE\n",
       "\\item TRUE\n",
       "\\item TRUE\n",
       "\\item TRUE\n",
       "\\item TRUE\n",
       "\\item TRUE\n",
       "\\item TRUE\n",
       "\\item FALSE\n",
       "\\item TRUE\n",
       "\\item TRUE\n",
       "\\item TRUE\n",
       "\\item TRUE\n",
       "\\item TRUE\n",
       "\\item TRUE\n",
       "\\item TRUE\n",
       "\\item TRUE\n",
       "\\item TRUE\n",
       "\\item TRUE\n",
       "\\item TRUE\n",
       "\\item TRUE\n",
       "\\item TRUE\n",
       "\\item TRUE\n",
       "\\item TRUE\n",
       "\\item TRUE\n",
       "\\item TRUE\n",
       "\\item TRUE\n",
       "\\item TRUE\n",
       "\\item TRUE\n",
       "\\item TRUE\n",
       "\\item TRUE\n",
       "\\item TRUE\n",
       "\\item TRUE\n",
       "\\item TRUE\n",
       "\\item TRUE\n",
       "\\item FALSE\n",
       "\\item TRUE\n",
       "\\item TRUE\n",
       "\\item TRUE\n",
       "\\item TRUE\n",
       "\\item TRUE\n",
       "\\item TRUE\n",
       "\\item TRUE\n",
       "\\item TRUE\n",
       "\\item TRUE\n",
       "\\item TRUE\n",
       "\\item TRUE\n",
       "\\item TRUE\n",
       "\\item TRUE\n",
       "\\item TRUE\n",
       "\\item TRUE\n",
       "\\item TRUE\n",
       "\\item TRUE\n",
       "\\item TRUE\n",
       "\\item TRUE\n",
       "\\item TRUE\n",
       "\\item TRUE\n",
       "\\item TRUE\n",
       "\\item TRUE\n",
       "\\item TRUE\n",
       "\\item TRUE\n",
       "\\item TRUE\n",
       "\\item TRUE\n",
       "\\item TRUE\n",
       "\\item TRUE\n",
       "\\item TRUE\n",
       "\\item TRUE\n",
       "\\item TRUE\n",
       "\\item TRUE\n",
       "\\item TRUE\n",
       "\\item TRUE\n",
       "\\end{enumerate*}\n"
      ],
      "text/markdown": [
       "1. FALSE\n",
       "2. TRUE\n",
       "3. TRUE\n",
       "4. TRUE\n",
       "5. TRUE\n",
       "6. TRUE\n",
       "7. TRUE\n",
       "8. TRUE\n",
       "9. TRUE\n",
       "10. TRUE\n",
       "11. TRUE\n",
       "12. TRUE\n",
       "13. TRUE\n",
       "14. TRUE\n",
       "15. TRUE\n",
       "16. TRUE\n",
       "17. TRUE\n",
       "18. TRUE\n",
       "19. TRUE\n",
       "20. TRUE\n",
       "21. TRUE\n",
       "22. TRUE\n",
       "23. TRUE\n",
       "24. TRUE\n",
       "25. TRUE\n",
       "26. TRUE\n",
       "27. TRUE\n",
       "28. TRUE\n",
       "29. TRUE\n",
       "30. TRUE\n",
       "31. TRUE\n",
       "32. TRUE\n",
       "33. TRUE\n",
       "34. TRUE\n",
       "35. TRUE\n",
       "36. TRUE\n",
       "37. TRUE\n",
       "38. FALSE\n",
       "39. TRUE\n",
       "40. TRUE\n",
       "41. TRUE\n",
       "42. TRUE\n",
       "43. TRUE\n",
       "44. TRUE\n",
       "45. TRUE\n",
       "46. TRUE\n",
       "47. TRUE\n",
       "48. TRUE\n",
       "49. TRUE\n",
       "50. TRUE\n",
       "51. TRUE\n",
       "52. TRUE\n",
       "53. TRUE\n",
       "54. TRUE\n",
       "55. TRUE\n",
       "56. TRUE\n",
       "57. TRUE\n",
       "58. TRUE\n",
       "59. TRUE\n",
       "60. TRUE\n",
       "61. TRUE\n",
       "62. TRUE\n",
       "63. TRUE\n",
       "64. TRUE\n",
       "65. FALSE\n",
       "66. TRUE\n",
       "67. TRUE\n",
       "68. TRUE\n",
       "69. TRUE\n",
       "70. TRUE\n",
       "71. TRUE\n",
       "72. TRUE\n",
       "73. TRUE\n",
       "74. TRUE\n",
       "75. TRUE\n",
       "76. TRUE\n",
       "77. TRUE\n",
       "78. TRUE\n",
       "79. TRUE\n",
       "80. TRUE\n",
       "81. TRUE\n",
       "82. TRUE\n",
       "83. TRUE\n",
       "84. TRUE\n",
       "85. TRUE\n",
       "86. TRUE\n",
       "87. TRUE\n",
       "88. TRUE\n",
       "89. TRUE\n",
       "90. TRUE\n",
       "91. TRUE\n",
       "92. TRUE\n",
       "93. TRUE\n",
       "94. TRUE\n",
       "95. TRUE\n",
       "96. TRUE\n",
       "97. TRUE\n",
       "98. TRUE\n",
       "99. TRUE\n",
       "100. TRUE\n",
       "\n",
       "\n"
      ],
      "text/plain": [
       "  [1] FALSE  TRUE  TRUE  TRUE  TRUE  TRUE  TRUE  TRUE  TRUE  TRUE  TRUE  TRUE\n",
       " [13]  TRUE  TRUE  TRUE  TRUE  TRUE  TRUE  TRUE  TRUE  TRUE  TRUE  TRUE  TRUE\n",
       " [25]  TRUE  TRUE  TRUE  TRUE  TRUE  TRUE  TRUE  TRUE  TRUE  TRUE  TRUE  TRUE\n",
       " [37]  TRUE FALSE  TRUE  TRUE  TRUE  TRUE  TRUE  TRUE  TRUE  TRUE  TRUE  TRUE\n",
       " [49]  TRUE  TRUE  TRUE  TRUE  TRUE  TRUE  TRUE  TRUE  TRUE  TRUE  TRUE  TRUE\n",
       " [61]  TRUE  TRUE  TRUE  TRUE FALSE  TRUE  TRUE  TRUE  TRUE  TRUE  TRUE  TRUE\n",
       " [73]  TRUE  TRUE  TRUE  TRUE  TRUE  TRUE  TRUE  TRUE  TRUE  TRUE  TRUE  TRUE\n",
       " [85]  TRUE  TRUE  TRUE  TRUE  TRUE  TRUE  TRUE  TRUE  TRUE  TRUE  TRUE  TRUE\n",
       " [97]  TRUE  TRUE  TRUE  TRUE"
      ]
     },
     "metadata": {},
     "output_type": "display_data"
    }
   ],
   "source": [
    "qnorm(p_xiq,100,16)==xiq"
   ]
  },
  {
   "cell_type": "markdown",
   "id": "e6a6d967",
   "metadata": {},
   "source": [
    "## Statistical Tests"
   ]
  },
  {
   "cell_type": "markdown",
   "id": "e60c25a8",
   "metadata": {},
   "source": [
    "### T-test\n",
    "A t-test is a type of inferential statistic that can used to determine if there is a significant difference between the means of two groups, which may be related in certain features."
   ]
  },
  {
   "cell_type": "markdown",
   "id": "ebdea468",
   "metadata": {},
   "source": [
    "**PROBLEM**  \n",
    "A hotel manager looks to enhance the initial impressions that hotel guests have when they check in. Contributing to initial impressions is the time it takes to deliver a guest's luggage to the room after check-in. A random sample of 20 deliveries on a particular day were selected in Wing A of the hotel, and a random sample of 20 deliveries were selected in Wing B. The results are stored in Luggage.xls. \n",
    "Analyze the data and determine whether there is a difference in \n",
    "the mean delivery time in the two wings of the hotel."
   ]
  },
  {
   "cell_type": "code",
   "execution_count": 1,
   "id": "974148ee",
   "metadata": {},
   "outputs": [
    {
     "data": {
      "text/html": [
       "<table class=\"dataframe\">\n",
       "<caption>A data.frame: 6 × 2</caption>\n",
       "<thead>\n",
       "\t<tr><th></th><th scope=col>WingA</th><th scope=col>WingB</th></tr>\n",
       "\t<tr><th></th><th scope=col>&lt;dbl&gt;</th><th scope=col>&lt;dbl&gt;</th></tr>\n",
       "</thead>\n",
       "<tbody>\n",
       "\t<tr><th scope=row>1</th><td>10.70</td><td>7.20</td></tr>\n",
       "\t<tr><th scope=row>2</th><td> 9.89</td><td>6.68</td></tr>\n",
       "\t<tr><th scope=row>3</th><td>11.83</td><td>9.29</td></tr>\n",
       "\t<tr><th scope=row>4</th><td> 9.04</td><td>8.95</td></tr>\n",
       "\t<tr><th scope=row>5</th><td> 9.37</td><td>6.61</td></tr>\n",
       "\t<tr><th scope=row>6</th><td>11.68</td><td>8.53</td></tr>\n",
       "</tbody>\n",
       "</table>\n"
      ],
      "text/latex": [
       "A data.frame: 6 × 2\n",
       "\\begin{tabular}{r|ll}\n",
       "  & WingA & WingB\\\\\n",
       "  & <dbl> & <dbl>\\\\\n",
       "\\hline\n",
       "\t1 & 10.70 & 7.20\\\\\n",
       "\t2 &  9.89 & 6.68\\\\\n",
       "\t3 & 11.83 & 9.29\\\\\n",
       "\t4 &  9.04 & 8.95\\\\\n",
       "\t5 &  9.37 & 6.61\\\\\n",
       "\t6 & 11.68 & 8.53\\\\\n",
       "\\end{tabular}\n"
      ],
      "text/markdown": [
       "\n",
       "A data.frame: 6 × 2\n",
       "\n",
       "| <!--/--> | WingA &lt;dbl&gt; | WingB &lt;dbl&gt; |\n",
       "|---|---|---|\n",
       "| 1 | 10.70 | 7.20 |\n",
       "| 2 |  9.89 | 6.68 |\n",
       "| 3 | 11.83 | 9.29 |\n",
       "| 4 |  9.04 | 8.95 |\n",
       "| 5 |  9.37 | 6.61 |\n",
       "| 6 | 11.68 | 8.53 |\n",
       "\n"
      ],
      "text/plain": [
       "  WingA WingB\n",
       "1 10.70 7.20 \n",
       "2  9.89 6.68 \n",
       "3 11.83 9.29 \n",
       "4  9.04 8.95 \n",
       "5  9.37 6.61 \n",
       "6 11.68 8.53 "
      ]
     },
     "metadata": {},
     "output_type": "display_data"
    }
   ],
   "source": [
    "luggage = read.csv(\"Luggage.csv\", header=TRUE)\n",
    "head(luggage)"
   ]
  },
  {
   "cell_type": "code",
   "execution_count": 3,
   "id": "ec39f30f",
   "metadata": {},
   "outputs": [
    {
     "data": {
      "text/html": [
       "<style>\n",
       ".list-inline {list-style: none; margin:0; padding: 0}\n",
       ".list-inline>li {display: inline-block}\n",
       ".list-inline>li:not(:last-child)::after {content: \"\\00b7\"; padding: 0 .5ex}\n",
       "</style>\n",
       "<ol class=list-inline><li>20</li><li>2</li></ol>\n"
      ],
      "text/latex": [
       "\\begin{enumerate*}\n",
       "\\item 20\n",
       "\\item 2\n",
       "\\end{enumerate*}\n"
      ],
      "text/markdown": [
       "1. 20\n",
       "2. 2\n",
       "\n",
       "\n"
      ],
      "text/plain": [
       "[1] 20  2"
      ]
     },
     "metadata": {},
     "output_type": "display_data"
    },
    {
     "name": "stdout",
     "output_type": "stream",
     "text": [
      "'data.frame':\t20 obs. of  2 variables:\n",
      " $ WingA: num  10.7 9.89 11.83 9.04 9.37 ...\n",
      " $ WingB: num  7.2 6.68 9.29 8.95 6.61 8.53 8.92 7.95 7.57 6.38 ...\n"
     ]
    },
    {
     "data": {
      "text/html": [
       "10.3975"
      ],
      "text/latex": [
       "10.3975"
      ],
      "text/markdown": [
       "10.3975"
      ],
      "text/plain": [
       "[1] 10.3975"
      ]
     },
     "metadata": {},
     "output_type": "display_data"
    },
    {
     "data": {
      "text/html": [
       "8.1225"
      ],
      "text/latex": [
       "8.1225"
      ],
      "text/markdown": [
       "8.1225"
      ],
      "text/plain": [
       "[1] 8.1225"
      ]
     },
     "metadata": {},
     "output_type": "display_data"
    }
   ],
   "source": [
    "dim(luggage)\n",
    "str(luggage)\n",
    "mean(luggage$WingA)\n",
    "mean(luggage$WingB)"
   ]
  },
  {
   "cell_type": "markdown",
   "id": "899b41b5",
   "metadata": {},
   "source": [
    "**NULL HYPOTHESIS**:  The two mean values of WingA and WingB delivery times are equal.  \n",
    "**ALTERNATIVE HYPOTHESIS**:  The two means of WingA and WingB are NOT equal."
   ]
  },
  {
   "cell_type": "code",
   "execution_count": 9,
   "id": "ada4a35a",
   "metadata": {},
   "outputs": [],
   "source": [
    "?t.test"
   ]
  },
  {
   "cell_type": "code",
   "execution_count": 11,
   "id": "e092660e",
   "metadata": {},
   "outputs": [
    {
     "name": "stderr",
     "output_type": "stream",
     "text": [
      "The following objects are masked from luggage (pos = 3):\n",
      "\n",
      "    WingA, WingB\n",
      "\n",
      "\n",
      "The following objects are masked from luggage (pos = 4):\n",
      "\n",
      "    WingA, WingB\n",
      "\n",
      "\n"
     ]
    },
    {
     "data": {
      "text/plain": [
       "\n",
       "\tWelch Two Sample t-test\n",
       "\n",
       "data:  WingA and WingB\n",
       "t = 5.1615, df = 37.957, p-value = 8.031e-06\n",
       "alternative hypothesis: true difference in means is not equal to 0\n",
       "95 percent confidence interval:\n",
       " 1.38269 3.16731\n",
       "sample estimates:\n",
       "mean of x mean of y \n",
       "  10.3975    8.1225 \n"
      ]
     },
     "metadata": {},
     "output_type": "display_data"
    }
   ],
   "source": [
    "attach(luggage)\n",
    "t.test(WingA, WingB)"
   ]
  },
  {
   "cell_type": "code",
   "execution_count": 18,
   "id": "f4e5f1a9",
   "metadata": {},
   "outputs": [
    {
     "data": {
      "text/html": [
       "5.16151166403543"
      ],
      "text/latex": [
       "5.16151166403543"
      ],
      "text/markdown": [
       "5.16151166403543"
      ],
      "text/plain": [
       "[1] 5.161512"
      ]
     },
     "metadata": {},
     "output_type": "display_data"
    }
   ],
   "source": [
    "sp=(sum((WingA-mean(WingA))^2)+sum((WingB-mean(WingB))^2))/38\n",
    "t=(mean(WingA)-mean(WingB))/sqrt(sp/10)\n",
    "t"
   ]
  },
  {
   "cell_type": "markdown",
   "id": "2e1a924f",
   "metadata": {},
   "source": [
    "Tip  \n",
    "When p-value is HIGH NULL Flies ( i.e NULL hypothesis is TRUE)  \n",
    "When p-value is LOW NULL Blows ( i.e NULL hypothesis is FALSE)\n",
    "\n",
    "Therefore, Null Hypothesis is rejected.\n"
   ]
  },
  {
   "cell_type": "markdown",
   "id": "3ec20cb6",
   "metadata": {},
   "source": [
    "### $\\chi^2$ -test"
   ]
  },
  {
   "cell_type": "markdown",
   "id": "650a1c7e",
   "metadata": {},
   "source": [
    "**PROBLEM**  \n",
    "Supposse that in 4 regions, the National Health Care Company samples its hospital employees' attitude toward job-performances reviews. Respondents are given a choice between the present method and a proposed new method."
   ]
  },
  {
   "cell_type": "code",
   "execution_count": 20,
   "id": "c438af97",
   "metadata": {},
   "outputs": [
    {
     "data": {
      "text/html": [
       "<table class=\"dataframe\">\n",
       "<caption>A data.frame: 2 × 4</caption>\n",
       "<thead>\n",
       "\t<tr><th></th><th scope=col>NorthEast</th><th scope=col>SouthEast</th><th scope=col>Central</th><th scope=col>WestCoast</th></tr>\n",
       "\t<tr><th></th><th scope=col>&lt;dbl&gt;</th><th scope=col>&lt;dbl&gt;</th><th scope=col>&lt;dbl&gt;</th><th scope=col>&lt;dbl&gt;</th></tr>\n",
       "</thead>\n",
       "<tbody>\n",
       "\t<tr><th scope=row>presentMethod</th><td>68</td><td>75</td><td>57</td><td>79</td></tr>\n",
       "\t<tr><th scope=row>new Method</th><td>32</td><td>45</td><td>33</td><td>31</td></tr>\n",
       "</tbody>\n",
       "</table>\n"
      ],
      "text/latex": [
       "A data.frame: 2 × 4\n",
       "\\begin{tabular}{r|llll}\n",
       "  & NorthEast & SouthEast & Central & WestCoast\\\\\n",
       "  & <dbl> & <dbl> & <dbl> & <dbl>\\\\\n",
       "\\hline\n",
       "\tpresentMethod & 68 & 75 & 57 & 79\\\\\n",
       "\tnew Method & 32 & 45 & 33 & 31\\\\\n",
       "\\end{tabular}\n"
      ],
      "text/markdown": [
       "\n",
       "A data.frame: 2 × 4\n",
       "\n",
       "| <!--/--> | NorthEast &lt;dbl&gt; | SouthEast &lt;dbl&gt; | Central &lt;dbl&gt; | WestCoast &lt;dbl&gt; |\n",
       "|---|---|---|---|---|\n",
       "| presentMethod | 68 | 75 | 57 | 79 |\n",
       "| new Method | 32 | 45 | 33 | 31 |\n",
       "\n"
      ],
      "text/plain": [
       "              NorthEast SouthEast Central WestCoast\n",
       "presentMethod 68        75        57      79       \n",
       "new Method    32        45        33      31       "
      ]
     },
     "metadata": {},
     "output_type": "display_data"
    }
   ],
   "source": [
    "data <- data.frame(\"NorthEast\" = c(68,32), \"SouthEast\" = c(75,45),\n",
    "                      \"Central\" = c(57,33),   \"WestCoast\"  = c(79,31))\n",
    "row.names(data)= c(\"presentMethod\", \"new Method\")\n",
    "data"
   ]
  },
  {
   "cell_type": "markdown",
   "id": "9ff1a394",
   "metadata": {},
   "source": [
    "**Null Hypothesis**: H0- proportions of employees prefering present method are same in all regions.  \n",
    "**Alternative Hypothesis**: H0- proportions of employees prefering present method differs in regions.\n"
   ]
  },
  {
   "cell_type": "code",
   "execution_count": 21,
   "id": "0fc5bfb8",
   "metadata": {},
   "outputs": [
    {
     "data": {
      "text/plain": [
       "\n",
       "\tPearson's Chi-squared test\n",
       "\n",
       "data:  data\n",
       "X-squared = 2.7606, df = 3, p-value = 0.43\n"
      ]
     },
     "metadata": {},
     "output_type": "display_data"
    }
   ],
   "source": [
    "chisq.test(data)"
   ]
  },
  {
   "cell_type": "markdown",
   "id": "09421b67",
   "metadata": {},
   "source": [
    "Therefore, failed to eject the Null Hypothesis."
   ]
  }
 ],
 "metadata": {
  "kernelspec": {
   "display_name": "R",
   "language": "R",
   "name": "ir"
  },
  "language_info": {
   "codemirror_mode": "r",
   "file_extension": ".r",
   "mimetype": "text/x-r-source",
   "name": "R",
   "pygments_lexer": "r",
   "version": "4.1.2"
  }
 },
 "nbformat": 4,
 "nbformat_minor": 5
}
